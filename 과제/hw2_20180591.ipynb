{
  "nbformat": 4,
  "nbformat_minor": 0,
  "metadata": {
    "colab": {
      "provenance": [],
      "collapsed_sections": []
    },
    "kernelspec": {
      "name": "python3",
      "display_name": "Python 3"
    },
    "language_info": {
      "name": "python"
    }
  },
  "cells": [
    {
      "cell_type": "markdown",
      "source": [
        "# 1  표본 분포 확인"
      ],
      "metadata": {
        "id": "DVLbOuhE_q1o"
      }
    },
    {
      "cell_type": "code",
      "source": [
        "import urllib.request\n",
        "import matplotlib.pyplot as plt\n",
        "import numpy as np\n",
        "import pandas as pd\n",
        "import seaborn as sns"
      ],
      "metadata": {
        "id": "swj7dsFn_rfj"
      },
      "execution_count": 1,
      "outputs": []
    },
    {
      "cell_type": "code",
      "source": [
        "# 자료 내려받고 DataFrame으로 저장\n",
        "titanic_URL = \"https://raw.githubusercontent.com/k5yi/econ2005/master/datasets/titanic_processed.csv\"\n",
        "df_titanic = pd.read_csv(titanic_URL)"
      ],
      "metadata": {
        "id": "cRr6coUS_2qb"
      },
      "execution_count": 2,
      "outputs": []
    },
    {
      "cell_type": "code",
      "source": [
        "df_titanic"
      ],
      "metadata": {
        "colab": {
          "base_uri": "https://localhost:8080/",
          "height": 424
        },
        "id": "gccHJ2A0AI6m",
        "outputId": "ab428db5-8ee7-4548-bd6e-a80dd91ca6ef"
      },
      "execution_count": 3,
      "outputs": [
        {
          "output_type": "execute_result",
          "data": {
            "text/plain": [
              "      survived  pclass     sex      age  sibsp  parch      fare embarked\n",
              "0            1       1  female  29.0000      0      0  211.3375        S\n",
              "1            1       1    male   0.9167      1      2  151.5500        S\n",
              "2            0       1  female   2.0000      1      2  151.5500        S\n",
              "3            0       1    male  30.0000      1      2  151.5500        S\n",
              "4            0       1  female  25.0000      1      2  151.5500        S\n",
              "...        ...     ...     ...      ...    ...    ...       ...      ...\n",
              "1300         0       3  female  14.5000      1      0   14.4542        C\n",
              "1301         0       3  female  22.0000      1      0   14.4542        C\n",
              "1302         0       3    male  26.5000      0      0    7.2250        C\n",
              "1303         0       3    male  27.0000      0      0    7.2250        C\n",
              "1304         0       3    male  29.0000      0      0    7.8750        S\n",
              "\n",
              "[1305 rows x 8 columns]"
            ],
            "text/html": [
              "\n",
              "  <div id=\"df-7cc57328-677d-4822-8267-262aba43a740\">\n",
              "    <div class=\"colab-df-container\">\n",
              "      <div>\n",
              "<style scoped>\n",
              "    .dataframe tbody tr th:only-of-type {\n",
              "        vertical-align: middle;\n",
              "    }\n",
              "\n",
              "    .dataframe tbody tr th {\n",
              "        vertical-align: top;\n",
              "    }\n",
              "\n",
              "    .dataframe thead th {\n",
              "        text-align: right;\n",
              "    }\n",
              "</style>\n",
              "<table border=\"1\" class=\"dataframe\">\n",
              "  <thead>\n",
              "    <tr style=\"text-align: right;\">\n",
              "      <th></th>\n",
              "      <th>survived</th>\n",
              "      <th>pclass</th>\n",
              "      <th>sex</th>\n",
              "      <th>age</th>\n",
              "      <th>sibsp</th>\n",
              "      <th>parch</th>\n",
              "      <th>fare</th>\n",
              "      <th>embarked</th>\n",
              "    </tr>\n",
              "  </thead>\n",
              "  <tbody>\n",
              "    <tr>\n",
              "      <th>0</th>\n",
              "      <td>1</td>\n",
              "      <td>1</td>\n",
              "      <td>female</td>\n",
              "      <td>29.0000</td>\n",
              "      <td>0</td>\n",
              "      <td>0</td>\n",
              "      <td>211.3375</td>\n",
              "      <td>S</td>\n",
              "    </tr>\n",
              "    <tr>\n",
              "      <th>1</th>\n",
              "      <td>1</td>\n",
              "      <td>1</td>\n",
              "      <td>male</td>\n",
              "      <td>0.9167</td>\n",
              "      <td>1</td>\n",
              "      <td>2</td>\n",
              "      <td>151.5500</td>\n",
              "      <td>S</td>\n",
              "    </tr>\n",
              "    <tr>\n",
              "      <th>2</th>\n",
              "      <td>0</td>\n",
              "      <td>1</td>\n",
              "      <td>female</td>\n",
              "      <td>2.0000</td>\n",
              "      <td>1</td>\n",
              "      <td>2</td>\n",
              "      <td>151.5500</td>\n",
              "      <td>S</td>\n",
              "    </tr>\n",
              "    <tr>\n",
              "      <th>3</th>\n",
              "      <td>0</td>\n",
              "      <td>1</td>\n",
              "      <td>male</td>\n",
              "      <td>30.0000</td>\n",
              "      <td>1</td>\n",
              "      <td>2</td>\n",
              "      <td>151.5500</td>\n",
              "      <td>S</td>\n",
              "    </tr>\n",
              "    <tr>\n",
              "      <th>4</th>\n",
              "      <td>0</td>\n",
              "      <td>1</td>\n",
              "      <td>female</td>\n",
              "      <td>25.0000</td>\n",
              "      <td>1</td>\n",
              "      <td>2</td>\n",
              "      <td>151.5500</td>\n",
              "      <td>S</td>\n",
              "    </tr>\n",
              "    <tr>\n",
              "      <th>...</th>\n",
              "      <td>...</td>\n",
              "      <td>...</td>\n",
              "      <td>...</td>\n",
              "      <td>...</td>\n",
              "      <td>...</td>\n",
              "      <td>...</td>\n",
              "      <td>...</td>\n",
              "      <td>...</td>\n",
              "    </tr>\n",
              "    <tr>\n",
              "      <th>1300</th>\n",
              "      <td>0</td>\n",
              "      <td>3</td>\n",
              "      <td>female</td>\n",
              "      <td>14.5000</td>\n",
              "      <td>1</td>\n",
              "      <td>0</td>\n",
              "      <td>14.4542</td>\n",
              "      <td>C</td>\n",
              "    </tr>\n",
              "    <tr>\n",
              "      <th>1301</th>\n",
              "      <td>0</td>\n",
              "      <td>3</td>\n",
              "      <td>female</td>\n",
              "      <td>22.0000</td>\n",
              "      <td>1</td>\n",
              "      <td>0</td>\n",
              "      <td>14.4542</td>\n",
              "      <td>C</td>\n",
              "    </tr>\n",
              "    <tr>\n",
              "      <th>1302</th>\n",
              "      <td>0</td>\n",
              "      <td>3</td>\n",
              "      <td>male</td>\n",
              "      <td>26.5000</td>\n",
              "      <td>0</td>\n",
              "      <td>0</td>\n",
              "      <td>7.2250</td>\n",
              "      <td>C</td>\n",
              "    </tr>\n",
              "    <tr>\n",
              "      <th>1303</th>\n",
              "      <td>0</td>\n",
              "      <td>3</td>\n",
              "      <td>male</td>\n",
              "      <td>27.0000</td>\n",
              "      <td>0</td>\n",
              "      <td>0</td>\n",
              "      <td>7.2250</td>\n",
              "      <td>C</td>\n",
              "    </tr>\n",
              "    <tr>\n",
              "      <th>1304</th>\n",
              "      <td>0</td>\n",
              "      <td>3</td>\n",
              "      <td>male</td>\n",
              "      <td>29.0000</td>\n",
              "      <td>0</td>\n",
              "      <td>0</td>\n",
              "      <td>7.8750</td>\n",
              "      <td>S</td>\n",
              "    </tr>\n",
              "  </tbody>\n",
              "</table>\n",
              "<p>1305 rows × 8 columns</p>\n",
              "</div>\n",
              "      <button class=\"colab-df-convert\" onclick=\"convertToInteractive('df-7cc57328-677d-4822-8267-262aba43a740')\"\n",
              "              title=\"Convert this dataframe to an interactive table.\"\n",
              "              style=\"display:none;\">\n",
              "        \n",
              "  <svg xmlns=\"http://www.w3.org/2000/svg\" height=\"24px\"viewBox=\"0 0 24 24\"\n",
              "       width=\"24px\">\n",
              "    <path d=\"M0 0h24v24H0V0z\" fill=\"none\"/>\n",
              "    <path d=\"M18.56 5.44l.94 2.06.94-2.06 2.06-.94-2.06-.94-.94-2.06-.94 2.06-2.06.94zm-11 1L8.5 8.5l.94-2.06 2.06-.94-2.06-.94L8.5 2.5l-.94 2.06-2.06.94zm10 10l.94 2.06.94-2.06 2.06-.94-2.06-.94-.94-2.06-.94 2.06-2.06.94z\"/><path d=\"M17.41 7.96l-1.37-1.37c-.4-.4-.92-.59-1.43-.59-.52 0-1.04.2-1.43.59L10.3 9.45l-7.72 7.72c-.78.78-.78 2.05 0 2.83L4 21.41c.39.39.9.59 1.41.59.51 0 1.02-.2 1.41-.59l7.78-7.78 2.81-2.81c.8-.78.8-2.07 0-2.86zM5.41 20L4 18.59l7.72-7.72 1.47 1.35L5.41 20z\"/>\n",
              "  </svg>\n",
              "      </button>\n",
              "      \n",
              "  <style>\n",
              "    .colab-df-container {\n",
              "      display:flex;\n",
              "      flex-wrap:wrap;\n",
              "      gap: 12px;\n",
              "    }\n",
              "\n",
              "    .colab-df-convert {\n",
              "      background-color: #E8F0FE;\n",
              "      border: none;\n",
              "      border-radius: 50%;\n",
              "      cursor: pointer;\n",
              "      display: none;\n",
              "      fill: #1967D2;\n",
              "      height: 32px;\n",
              "      padding: 0 0 0 0;\n",
              "      width: 32px;\n",
              "    }\n",
              "\n",
              "    .colab-df-convert:hover {\n",
              "      background-color: #E2EBFA;\n",
              "      box-shadow: 0px 1px 2px rgba(60, 64, 67, 0.3), 0px 1px 3px 1px rgba(60, 64, 67, 0.15);\n",
              "      fill: #174EA6;\n",
              "    }\n",
              "\n",
              "    [theme=dark] .colab-df-convert {\n",
              "      background-color: #3B4455;\n",
              "      fill: #D2E3FC;\n",
              "    }\n",
              "\n",
              "    [theme=dark] .colab-df-convert:hover {\n",
              "      background-color: #434B5C;\n",
              "      box-shadow: 0px 1px 3px 1px rgba(0, 0, 0, 0.15);\n",
              "      filter: drop-shadow(0px 1px 2px rgba(0, 0, 0, 0.3));\n",
              "      fill: #FFFFFF;\n",
              "    }\n",
              "  </style>\n",
              "\n",
              "      <script>\n",
              "        const buttonEl =\n",
              "          document.querySelector('#df-7cc57328-677d-4822-8267-262aba43a740 button.colab-df-convert');\n",
              "        buttonEl.style.display =\n",
              "          google.colab.kernel.accessAllowed ? 'block' : 'none';\n",
              "\n",
              "        async function convertToInteractive(key) {\n",
              "          const element = document.querySelector('#df-7cc57328-677d-4822-8267-262aba43a740');\n",
              "          const dataTable =\n",
              "            await google.colab.kernel.invokeFunction('convertToInteractive',\n",
              "                                                     [key], {});\n",
              "          if (!dataTable) return;\n",
              "\n",
              "          const docLinkHtml = 'Like what you see? Visit the ' +\n",
              "            '<a target=\"_blank\" href=https://colab.research.google.com/notebooks/data_table.ipynb>data table notebook</a>'\n",
              "            + ' to learn more about interactive tables.';\n",
              "          element.innerHTML = '';\n",
              "          dataTable['output_type'] = 'display_data';\n",
              "          await google.colab.output.renderOutput(dataTable, element);\n",
              "          const docLink = document.createElement('div');\n",
              "          docLink.innerHTML = docLinkHtml;\n",
              "          element.appendChild(docLink);\n",
              "        }\n",
              "      </script>\n",
              "    </div>\n",
              "  </div>\n",
              "  "
            ]
          },
          "metadata": {},
          "execution_count": 3
        }
      ]
    },
    {
      "cell_type": "markdown",
      "source": [
        "## 1.1  자료 정리"
      ],
      "metadata": {
        "id": "wVPauklWAnKf"
      }
    },
    {
      "cell_type": "markdown",
      "source": [
        "### 1.1.1  Dummy variables"
      ],
      "metadata": {
        "id": "OUChZD96ApwZ"
      }
    },
    {
      "cell_type": "code",
      "source": [
        "df_titanic.dtypes"
      ],
      "metadata": {
        "colab": {
          "base_uri": "https://localhost:8080/"
        },
        "id": "LYTJeDbUAn0k",
        "outputId": "1199cf03-cefe-4bbd-ed9d-73c258de5f1e"
      },
      "execution_count": 4,
      "outputs": [
        {
          "output_type": "execute_result",
          "data": {
            "text/plain": [
              "survived      int64\n",
              "pclass        int64\n",
              "sex          object\n",
              "age         float64\n",
              "sibsp         int64\n",
              "parch         int64\n",
              "fare        float64\n",
              "embarked     object\n",
              "dtype: object"
            ]
          },
          "metadata": {},
          "execution_count": 4
        }
      ]
    },
    {
      "cell_type": "markdown",
      "source": [
        "dummy variables: pclass, sex, embarked\n",
        "\n",
        "더미변수는 범주형 변수를 연속형 변수\"스럽게\" 변환한 것\n",
        "\n",
        "정성변수이자 범주형 변수의 특성을 띄는 pclass, sex, embarked를 더미변수로 변환\n",
        "\n",
        "![image.png](data:image/png;base64,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)\n",
        "\n",
        "Pclass는 사회경제적 지위(1에 가까울 수록 높음, 1 = 1st, 2 = 2nd, 3 = 3rd)\n",
        "\n",
        "SipSp는 배우자나 형제 자매 명 수의 총 합\n",
        "\n",
        "Parch는 부모 자식 명 수의 총 합\n",
        "\n",
        "embarked: Port of Embarkation, C = Cherbourg, Q = Queenstown, S = Southampton"
      ],
      "metadata": {
        "id": "Or0zzqy3u2BP"
      }
    },
    {
      "cell_type": "code",
      "source": [
        "# dummy variables: pclass, sex, embarked\n",
        "df_titanic = df_titanic.astype({'pclass':'object'})\n",
        "df_titanic.dtypes"
      ],
      "metadata": {
        "colab": {
          "base_uri": "https://localhost:8080/"
        },
        "id": "bfJXOaf1L0wL",
        "outputId": "4595d474-f1ad-4721-df7f-8ac59e329561"
      },
      "execution_count": 5,
      "outputs": [
        {
          "output_type": "execute_result",
          "data": {
            "text/plain": [
              "survived      int64\n",
              "pclass       object\n",
              "sex          object\n",
              "age         float64\n",
              "sibsp         int64\n",
              "parch         int64\n",
              "fare        float64\n",
              "embarked     object\n",
              "dtype: object"
            ]
          },
          "metadata": {},
          "execution_count": 5
        }
      ]
    },
    {
      "cell_type": "code",
      "source": [
        "df_titanic_dum = pd.get_dummies(df_titanic, drop_first=True)"
      ],
      "metadata": {
        "id": "mBLhauz-dOEh"
      },
      "execution_count": 6,
      "outputs": []
    },
    {
      "cell_type": "code",
      "source": [
        "df_titanic_dum"
      ],
      "metadata": {
        "colab": {
          "base_uri": "https://localhost:8080/",
          "height": 424
        },
        "id": "RiC9ZYCPdQPJ",
        "outputId": "00423d92-0b16-4113-9a1e-fba1b5b0ef64"
      },
      "execution_count": 7,
      "outputs": [
        {
          "output_type": "execute_result",
          "data": {
            "text/plain": [
              "      survived      age  sibsp  parch      fare  pclass_2  pclass_3  sex_male  \\\n",
              "0            1  29.0000      0      0  211.3375         0         0         0   \n",
              "1            1   0.9167      1      2  151.5500         0         0         1   \n",
              "2            0   2.0000      1      2  151.5500         0         0         0   \n",
              "3            0  30.0000      1      2  151.5500         0         0         1   \n",
              "4            0  25.0000      1      2  151.5500         0         0         0   \n",
              "...        ...      ...    ...    ...       ...       ...       ...       ...   \n",
              "1300         0  14.5000      1      0   14.4542         0         1         0   \n",
              "1301         0  22.0000      1      0   14.4542         0         1         0   \n",
              "1302         0  26.5000      0      0    7.2250         0         1         1   \n",
              "1303         0  27.0000      0      0    7.2250         0         1         1   \n",
              "1304         0  29.0000      0      0    7.8750         0         1         1   \n",
              "\n",
              "      embarked_Q  embarked_S  \n",
              "0              0           1  \n",
              "1              0           1  \n",
              "2              0           1  \n",
              "3              0           1  \n",
              "4              0           1  \n",
              "...          ...         ...  \n",
              "1300           0           0  \n",
              "1301           0           0  \n",
              "1302           0           0  \n",
              "1303           0           0  \n",
              "1304           0           1  \n",
              "\n",
              "[1305 rows x 10 columns]"
            ],
            "text/html": [
              "\n",
              "  <div id=\"df-647e2e15-6952-438a-a54c-2ea7223727b4\">\n",
              "    <div class=\"colab-df-container\">\n",
              "      <div>\n",
              "<style scoped>\n",
              "    .dataframe tbody tr th:only-of-type {\n",
              "        vertical-align: middle;\n",
              "    }\n",
              "\n",
              "    .dataframe tbody tr th {\n",
              "        vertical-align: top;\n",
              "    }\n",
              "\n",
              "    .dataframe thead th {\n",
              "        text-align: right;\n",
              "    }\n",
              "</style>\n",
              "<table border=\"1\" class=\"dataframe\">\n",
              "  <thead>\n",
              "    <tr style=\"text-align: right;\">\n",
              "      <th></th>\n",
              "      <th>survived</th>\n",
              "      <th>age</th>\n",
              "      <th>sibsp</th>\n",
              "      <th>parch</th>\n",
              "      <th>fare</th>\n",
              "      <th>pclass_2</th>\n",
              "      <th>pclass_3</th>\n",
              "      <th>sex_male</th>\n",
              "      <th>embarked_Q</th>\n",
              "      <th>embarked_S</th>\n",
              "    </tr>\n",
              "  </thead>\n",
              "  <tbody>\n",
              "    <tr>\n",
              "      <th>0</th>\n",
              "      <td>1</td>\n",
              "      <td>29.0000</td>\n",
              "      <td>0</td>\n",
              "      <td>0</td>\n",
              "      <td>211.3375</td>\n",
              "      <td>0</td>\n",
              "      <td>0</td>\n",
              "      <td>0</td>\n",
              "      <td>0</td>\n",
              "      <td>1</td>\n",
              "    </tr>\n",
              "    <tr>\n",
              "      <th>1</th>\n",
              "      <td>1</td>\n",
              "      <td>0.9167</td>\n",
              "      <td>1</td>\n",
              "      <td>2</td>\n",
              "      <td>151.5500</td>\n",
              "      <td>0</td>\n",
              "      <td>0</td>\n",
              "      <td>1</td>\n",
              "      <td>0</td>\n",
              "      <td>1</td>\n",
              "    </tr>\n",
              "    <tr>\n",
              "      <th>2</th>\n",
              "      <td>0</td>\n",
              "      <td>2.0000</td>\n",
              "      <td>1</td>\n",
              "      <td>2</td>\n",
              "      <td>151.5500</td>\n",
              "      <td>0</td>\n",
              "      <td>0</td>\n",
              "      <td>0</td>\n",
              "      <td>0</td>\n",
              "      <td>1</td>\n",
              "    </tr>\n",
              "    <tr>\n",
              "      <th>3</th>\n",
              "      <td>0</td>\n",
              "      <td>30.0000</td>\n",
              "      <td>1</td>\n",
              "      <td>2</td>\n",
              "      <td>151.5500</td>\n",
              "      <td>0</td>\n",
              "      <td>0</td>\n",
              "      <td>1</td>\n",
              "      <td>0</td>\n",
              "      <td>1</td>\n",
              "    </tr>\n",
              "    <tr>\n",
              "      <th>4</th>\n",
              "      <td>0</td>\n",
              "      <td>25.0000</td>\n",
              "      <td>1</td>\n",
              "      <td>2</td>\n",
              "      <td>151.5500</td>\n",
              "      <td>0</td>\n",
              "      <td>0</td>\n",
              "      <td>0</td>\n",
              "      <td>0</td>\n",
              "      <td>1</td>\n",
              "    </tr>\n",
              "    <tr>\n",
              "      <th>...</th>\n",
              "      <td>...</td>\n",
              "      <td>...</td>\n",
              "      <td>...</td>\n",
              "      <td>...</td>\n",
              "      <td>...</td>\n",
              "      <td>...</td>\n",
              "      <td>...</td>\n",
              "      <td>...</td>\n",
              "      <td>...</td>\n",
              "      <td>...</td>\n",
              "    </tr>\n",
              "    <tr>\n",
              "      <th>1300</th>\n",
              "      <td>0</td>\n",
              "      <td>14.5000</td>\n",
              "      <td>1</td>\n",
              "      <td>0</td>\n",
              "      <td>14.4542</td>\n",
              "      <td>0</td>\n",
              "      <td>1</td>\n",
              "      <td>0</td>\n",
              "      <td>0</td>\n",
              "      <td>0</td>\n",
              "    </tr>\n",
              "    <tr>\n",
              "      <th>1301</th>\n",
              "      <td>0</td>\n",
              "      <td>22.0000</td>\n",
              "      <td>1</td>\n",
              "      <td>0</td>\n",
              "      <td>14.4542</td>\n",
              "      <td>0</td>\n",
              "      <td>1</td>\n",
              "      <td>0</td>\n",
              "      <td>0</td>\n",
              "      <td>0</td>\n",
              "    </tr>\n",
              "    <tr>\n",
              "      <th>1302</th>\n",
              "      <td>0</td>\n",
              "      <td>26.5000</td>\n",
              "      <td>0</td>\n",
              "      <td>0</td>\n",
              "      <td>7.2250</td>\n",
              "      <td>0</td>\n",
              "      <td>1</td>\n",
              "      <td>1</td>\n",
              "      <td>0</td>\n",
              "      <td>0</td>\n",
              "    </tr>\n",
              "    <tr>\n",
              "      <th>1303</th>\n",
              "      <td>0</td>\n",
              "      <td>27.0000</td>\n",
              "      <td>0</td>\n",
              "      <td>0</td>\n",
              "      <td>7.2250</td>\n",
              "      <td>0</td>\n",
              "      <td>1</td>\n",
              "      <td>1</td>\n",
              "      <td>0</td>\n",
              "      <td>0</td>\n",
              "    </tr>\n",
              "    <tr>\n",
              "      <th>1304</th>\n",
              "      <td>0</td>\n",
              "      <td>29.0000</td>\n",
              "      <td>0</td>\n",
              "      <td>0</td>\n",
              "      <td>7.8750</td>\n",
              "      <td>0</td>\n",
              "      <td>1</td>\n",
              "      <td>1</td>\n",
              "      <td>0</td>\n",
              "      <td>1</td>\n",
              "    </tr>\n",
              "  </tbody>\n",
              "</table>\n",
              "<p>1305 rows × 10 columns</p>\n",
              "</div>\n",
              "      <button class=\"colab-df-convert\" onclick=\"convertToInteractive('df-647e2e15-6952-438a-a54c-2ea7223727b4')\"\n",
              "              title=\"Convert this dataframe to an interactive table.\"\n",
              "              style=\"display:none;\">\n",
              "        \n",
              "  <svg xmlns=\"http://www.w3.org/2000/svg\" height=\"24px\"viewBox=\"0 0 24 24\"\n",
              "       width=\"24px\">\n",
              "    <path d=\"M0 0h24v24H0V0z\" fill=\"none\"/>\n",
              "    <path d=\"M18.56 5.44l.94 2.06.94-2.06 2.06-.94-2.06-.94-.94-2.06-.94 2.06-2.06.94zm-11 1L8.5 8.5l.94-2.06 2.06-.94-2.06-.94L8.5 2.5l-.94 2.06-2.06.94zm10 10l.94 2.06.94-2.06 2.06-.94-2.06-.94-.94-2.06-.94 2.06-2.06.94z\"/><path d=\"M17.41 7.96l-1.37-1.37c-.4-.4-.92-.59-1.43-.59-.52 0-1.04.2-1.43.59L10.3 9.45l-7.72 7.72c-.78.78-.78 2.05 0 2.83L4 21.41c.39.39.9.59 1.41.59.51 0 1.02-.2 1.41-.59l7.78-7.78 2.81-2.81c.8-.78.8-2.07 0-2.86zM5.41 20L4 18.59l7.72-7.72 1.47 1.35L5.41 20z\"/>\n",
              "  </svg>\n",
              "      </button>\n",
              "      \n",
              "  <style>\n",
              "    .colab-df-container {\n",
              "      display:flex;\n",
              "      flex-wrap:wrap;\n",
              "      gap: 12px;\n",
              "    }\n",
              "\n",
              "    .colab-df-convert {\n",
              "      background-color: #E8F0FE;\n",
              "      border: none;\n",
              "      border-radius: 50%;\n",
              "      cursor: pointer;\n",
              "      display: none;\n",
              "      fill: #1967D2;\n",
              "      height: 32px;\n",
              "      padding: 0 0 0 0;\n",
              "      width: 32px;\n",
              "    }\n",
              "\n",
              "    .colab-df-convert:hover {\n",
              "      background-color: #E2EBFA;\n",
              "      box-shadow: 0px 1px 2px rgba(60, 64, 67, 0.3), 0px 1px 3px 1px rgba(60, 64, 67, 0.15);\n",
              "      fill: #174EA6;\n",
              "    }\n",
              "\n",
              "    [theme=dark] .colab-df-convert {\n",
              "      background-color: #3B4455;\n",
              "      fill: #D2E3FC;\n",
              "    }\n",
              "\n",
              "    [theme=dark] .colab-df-convert:hover {\n",
              "      background-color: #434B5C;\n",
              "      box-shadow: 0px 1px 3px 1px rgba(0, 0, 0, 0.15);\n",
              "      filter: drop-shadow(0px 1px 2px rgba(0, 0, 0, 0.3));\n",
              "      fill: #FFFFFF;\n",
              "    }\n",
              "  </style>\n",
              "\n",
              "      <script>\n",
              "        const buttonEl =\n",
              "          document.querySelector('#df-647e2e15-6952-438a-a54c-2ea7223727b4 button.colab-df-convert');\n",
              "        buttonEl.style.display =\n",
              "          google.colab.kernel.accessAllowed ? 'block' : 'none';\n",
              "\n",
              "        async function convertToInteractive(key) {\n",
              "          const element = document.querySelector('#df-647e2e15-6952-438a-a54c-2ea7223727b4');\n",
              "          const dataTable =\n",
              "            await google.colab.kernel.invokeFunction('convertToInteractive',\n",
              "                                                     [key], {});\n",
              "          if (!dataTable) return;\n",
              "\n",
              "          const docLinkHtml = 'Like what you see? Visit the ' +\n",
              "            '<a target=\"_blank\" href=https://colab.research.google.com/notebooks/data_table.ipynb>data table notebook</a>'\n",
              "            + ' to learn more about interactive tables.';\n",
              "          element.innerHTML = '';\n",
              "          dataTable['output_type'] = 'display_data';\n",
              "          await google.colab.output.renderOutput(dataTable, element);\n",
              "          const docLink = document.createElement('div');\n",
              "          docLink.innerHTML = docLinkHtml;\n",
              "          element.appendChild(docLink);\n",
              "        }\n",
              "      </script>\n",
              "    </div>\n",
              "  </div>\n",
              "  "
            ]
          },
          "metadata": {},
          "execution_count": 7
        }
      ]
    },
    {
      "cell_type": "markdown",
      "source": [
        "feature로 사용할 변수: sex, age, pclass, fare\n",
        "\n",
        "일단 생존 여부에 중요한 영향을 미쳤을 것으로 예상하는 값들만 추린다. sex, age, pclass, fare를 생각해보았다. 이에 여성, 어린이, 1/2/3등석, 지불운임 순으로 살아남을 확률이 높다고 가설을 세웠다."
      ],
      "metadata": {
        "id": "Oz3cG1K-vq-2"
      }
    },
    {
      "cell_type": "markdown",
      "source": [
        "### 1.1.2  로그변환"
      ],
      "metadata": {
        "id": "laBGdICkeqAp"
      }
    },
    {
      "cell_type": "markdown",
      "source": [
        "feature로 사용할 변수: sex, age, pclass, fare 중 fare 변수는 skewed되어 있고 분산이 크다.\n",
        "\n",
        "또 fare의 경우 데이터 분포가 몰려 있기 때문에 분석 결과를 해칠 우려가 있다.\n",
        "\n",
        "따라서 분포를 좀 더 정규분포의 형태로 바꿔주기 위해 log 변환을 시행하기로 결정하였다."
      ],
      "metadata": {
        "id": "XnptEaMhfnwF"
      }
    },
    {
      "cell_type": "code",
      "source": [
        "df_titanic_dum['fare'] = np.log(df_titanic_dum['fare'])\n",
        "df_titanic_dum = df_titanic_dum.loc[:, ['survived', 'age', 'fare', 'pclass_2', 'pclass_3', 'sex_male']]\n",
        "df_titanic_dum"
      ],
      "metadata": {
        "colab": {
          "base_uri": "https://localhost:8080/",
          "height": 424
        },
        "id": "-s7mpN7LeiAG",
        "outputId": "6f4517fc-75cc-4a8a-efbc-5e88b7394916"
      },
      "execution_count": 8,
      "outputs": [
        {
          "output_type": "execute_result",
          "data": {
            "text/plain": [
              "      survived      age      fare  pclass_2  pclass_3  sex_male\n",
              "0            1  29.0000  5.353456         0         0         0\n",
              "1            1   0.9167  5.020916         0         0         1\n",
              "2            0   2.0000  5.020916         0         0         0\n",
              "3            0  30.0000  5.020916         0         0         1\n",
              "4            0  25.0000  5.020916         0         0         0\n",
              "...        ...      ...       ...       ...       ...       ...\n",
              "1300         0  14.5000  2.670985         0         1         0\n",
              "1301         0  22.0000  2.670985         0         1         0\n",
              "1302         0  26.5000  1.977547         0         1         1\n",
              "1303         0  27.0000  1.977547         0         1         1\n",
              "1304         0  29.0000  2.063693         0         1         1\n",
              "\n",
              "[1305 rows x 6 columns]"
            ],
            "text/html": [
              "\n",
              "  <div id=\"df-780eb789-5266-4b7d-90e6-46fb470e3a8b\">\n",
              "    <div class=\"colab-df-container\">\n",
              "      <div>\n",
              "<style scoped>\n",
              "    .dataframe tbody tr th:only-of-type {\n",
              "        vertical-align: middle;\n",
              "    }\n",
              "\n",
              "    .dataframe tbody tr th {\n",
              "        vertical-align: top;\n",
              "    }\n",
              "\n",
              "    .dataframe thead th {\n",
              "        text-align: right;\n",
              "    }\n",
              "</style>\n",
              "<table border=\"1\" class=\"dataframe\">\n",
              "  <thead>\n",
              "    <tr style=\"text-align: right;\">\n",
              "      <th></th>\n",
              "      <th>survived</th>\n",
              "      <th>age</th>\n",
              "      <th>fare</th>\n",
              "      <th>pclass_2</th>\n",
              "      <th>pclass_3</th>\n",
              "      <th>sex_male</th>\n",
              "    </tr>\n",
              "  </thead>\n",
              "  <tbody>\n",
              "    <tr>\n",
              "      <th>0</th>\n",
              "      <td>1</td>\n",
              "      <td>29.0000</td>\n",
              "      <td>5.353456</td>\n",
              "      <td>0</td>\n",
              "      <td>0</td>\n",
              "      <td>0</td>\n",
              "    </tr>\n",
              "    <tr>\n",
              "      <th>1</th>\n",
              "      <td>1</td>\n",
              "      <td>0.9167</td>\n",
              "      <td>5.020916</td>\n",
              "      <td>0</td>\n",
              "      <td>0</td>\n",
              "      <td>1</td>\n",
              "    </tr>\n",
              "    <tr>\n",
              "      <th>2</th>\n",
              "      <td>0</td>\n",
              "      <td>2.0000</td>\n",
              "      <td>5.020916</td>\n",
              "      <td>0</td>\n",
              "      <td>0</td>\n",
              "      <td>0</td>\n",
              "    </tr>\n",
              "    <tr>\n",
              "      <th>3</th>\n",
              "      <td>0</td>\n",
              "      <td>30.0000</td>\n",
              "      <td>5.020916</td>\n",
              "      <td>0</td>\n",
              "      <td>0</td>\n",
              "      <td>1</td>\n",
              "    </tr>\n",
              "    <tr>\n",
              "      <th>4</th>\n",
              "      <td>0</td>\n",
              "      <td>25.0000</td>\n",
              "      <td>5.020916</td>\n",
              "      <td>0</td>\n",
              "      <td>0</td>\n",
              "      <td>0</td>\n",
              "    </tr>\n",
              "    <tr>\n",
              "      <th>...</th>\n",
              "      <td>...</td>\n",
              "      <td>...</td>\n",
              "      <td>...</td>\n",
              "      <td>...</td>\n",
              "      <td>...</td>\n",
              "      <td>...</td>\n",
              "    </tr>\n",
              "    <tr>\n",
              "      <th>1300</th>\n",
              "      <td>0</td>\n",
              "      <td>14.5000</td>\n",
              "      <td>2.670985</td>\n",
              "      <td>0</td>\n",
              "      <td>1</td>\n",
              "      <td>0</td>\n",
              "    </tr>\n",
              "    <tr>\n",
              "      <th>1301</th>\n",
              "      <td>0</td>\n",
              "      <td>22.0000</td>\n",
              "      <td>2.670985</td>\n",
              "      <td>0</td>\n",
              "      <td>1</td>\n",
              "      <td>0</td>\n",
              "    </tr>\n",
              "    <tr>\n",
              "      <th>1302</th>\n",
              "      <td>0</td>\n",
              "      <td>26.5000</td>\n",
              "      <td>1.977547</td>\n",
              "      <td>0</td>\n",
              "      <td>1</td>\n",
              "      <td>1</td>\n",
              "    </tr>\n",
              "    <tr>\n",
              "      <th>1303</th>\n",
              "      <td>0</td>\n",
              "      <td>27.0000</td>\n",
              "      <td>1.977547</td>\n",
              "      <td>0</td>\n",
              "      <td>1</td>\n",
              "      <td>1</td>\n",
              "    </tr>\n",
              "    <tr>\n",
              "      <th>1304</th>\n",
              "      <td>0</td>\n",
              "      <td>29.0000</td>\n",
              "      <td>2.063693</td>\n",
              "      <td>0</td>\n",
              "      <td>1</td>\n",
              "      <td>1</td>\n",
              "    </tr>\n",
              "  </tbody>\n",
              "</table>\n",
              "<p>1305 rows × 6 columns</p>\n",
              "</div>\n",
              "      <button class=\"colab-df-convert\" onclick=\"convertToInteractive('df-780eb789-5266-4b7d-90e6-46fb470e3a8b')\"\n",
              "              title=\"Convert this dataframe to an interactive table.\"\n",
              "              style=\"display:none;\">\n",
              "        \n",
              "  <svg xmlns=\"http://www.w3.org/2000/svg\" height=\"24px\"viewBox=\"0 0 24 24\"\n",
              "       width=\"24px\">\n",
              "    <path d=\"M0 0h24v24H0V0z\" fill=\"none\"/>\n",
              "    <path d=\"M18.56 5.44l.94 2.06.94-2.06 2.06-.94-2.06-.94-.94-2.06-.94 2.06-2.06.94zm-11 1L8.5 8.5l.94-2.06 2.06-.94-2.06-.94L8.5 2.5l-.94 2.06-2.06.94zm10 10l.94 2.06.94-2.06 2.06-.94-2.06-.94-.94-2.06-.94 2.06-2.06.94z\"/><path d=\"M17.41 7.96l-1.37-1.37c-.4-.4-.92-.59-1.43-.59-.52 0-1.04.2-1.43.59L10.3 9.45l-7.72 7.72c-.78.78-.78 2.05 0 2.83L4 21.41c.39.39.9.59 1.41.59.51 0 1.02-.2 1.41-.59l7.78-7.78 2.81-2.81c.8-.78.8-2.07 0-2.86zM5.41 20L4 18.59l7.72-7.72 1.47 1.35L5.41 20z\"/>\n",
              "  </svg>\n",
              "      </button>\n",
              "      \n",
              "  <style>\n",
              "    .colab-df-container {\n",
              "      display:flex;\n",
              "      flex-wrap:wrap;\n",
              "      gap: 12px;\n",
              "    }\n",
              "\n",
              "    .colab-df-convert {\n",
              "      background-color: #E8F0FE;\n",
              "      border: none;\n",
              "      border-radius: 50%;\n",
              "      cursor: pointer;\n",
              "      display: none;\n",
              "      fill: #1967D2;\n",
              "      height: 32px;\n",
              "      padding: 0 0 0 0;\n",
              "      width: 32px;\n",
              "    }\n",
              "\n",
              "    .colab-df-convert:hover {\n",
              "      background-color: #E2EBFA;\n",
              "      box-shadow: 0px 1px 2px rgba(60, 64, 67, 0.3), 0px 1px 3px 1px rgba(60, 64, 67, 0.15);\n",
              "      fill: #174EA6;\n",
              "    }\n",
              "\n",
              "    [theme=dark] .colab-df-convert {\n",
              "      background-color: #3B4455;\n",
              "      fill: #D2E3FC;\n",
              "    }\n",
              "\n",
              "    [theme=dark] .colab-df-convert:hover {\n",
              "      background-color: #434B5C;\n",
              "      box-shadow: 0px 1px 3px 1px rgba(0, 0, 0, 0.15);\n",
              "      filter: drop-shadow(0px 1px 2px rgba(0, 0, 0, 0.3));\n",
              "      fill: #FFFFFF;\n",
              "    }\n",
              "  </style>\n",
              "\n",
              "      <script>\n",
              "        const buttonEl =\n",
              "          document.querySelector('#df-780eb789-5266-4b7d-90e6-46fb470e3a8b button.colab-df-convert');\n",
              "        buttonEl.style.display =\n",
              "          google.colab.kernel.accessAllowed ? 'block' : 'none';\n",
              "\n",
              "        async function convertToInteractive(key) {\n",
              "          const element = document.querySelector('#df-780eb789-5266-4b7d-90e6-46fb470e3a8b');\n",
              "          const dataTable =\n",
              "            await google.colab.kernel.invokeFunction('convertToInteractive',\n",
              "                                                     [key], {});\n",
              "          if (!dataTable) return;\n",
              "\n",
              "          const docLinkHtml = 'Like what you see? Visit the ' +\n",
              "            '<a target=\"_blank\" href=https://colab.research.google.com/notebooks/data_table.ipynb>data table notebook</a>'\n",
              "            + ' to learn more about interactive tables.';\n",
              "          element.innerHTML = '';\n",
              "          dataTable['output_type'] = 'display_data';\n",
              "          await google.colab.output.renderOutput(dataTable, element);\n",
              "          const docLink = document.createElement('div');\n",
              "          docLink.innerHTML = docLinkHtml;\n",
              "          element.appendChild(docLink);\n",
              "        }\n",
              "      </script>\n",
              "    </div>\n",
              "  </div>\n",
              "  "
            ]
          },
          "metadata": {},
          "execution_count": 8
        }
      ]
    },
    {
      "cell_type": "markdown",
      "source": [
        "## 1.2  다중공선성"
      ],
      "metadata": {
        "id": "bgZnWNHSgMxC"
      }
    },
    {
      "cell_type": "code",
      "source": [
        "from statsmodels.stats.outliers_influence import variance_inflation_factor"
      ],
      "metadata": {
        "id": "unDGY4tJfiRg"
      },
      "execution_count": 9,
      "outputs": []
    },
    {
      "cell_type": "code",
      "source": [
        "vif = pd.DataFrame()\n",
        "vif[\"VIF Factor\"] = [variance_inflation_factor(\n",
        "    df_titanic_dum.values, i) for i in range(df_titanic_dum.shape[1])]\n",
        "vif[\"features\"] = df_titanic_dum.columns\n",
        "vif"
      ],
      "metadata": {
        "colab": {
          "base_uri": "https://localhost:8080/",
          "height": 237
        },
        "id": "7pz8zSZOh35e",
        "outputId": "06edee21-5557-4e25-a591-65520b19c889"
      },
      "execution_count": 10,
      "outputs": [
        {
          "output_type": "execute_result",
          "data": {
            "text/plain": [
              "   VIF Factor  features\n",
              "0    2.242179  survived\n",
              "1    5.716168       age\n",
              "2    7.338102      fare\n",
              "3    1.505565  pclass_2\n",
              "4    2.139414  pclass_3\n",
              "5    3.451994  sex_male"
            ],
            "text/html": [
              "\n",
              "  <div id=\"df-52a83298-a2ec-4f94-91eb-c5feb119e5f2\">\n",
              "    <div class=\"colab-df-container\">\n",
              "      <div>\n",
              "<style scoped>\n",
              "    .dataframe tbody tr th:only-of-type {\n",
              "        vertical-align: middle;\n",
              "    }\n",
              "\n",
              "    .dataframe tbody tr th {\n",
              "        vertical-align: top;\n",
              "    }\n",
              "\n",
              "    .dataframe thead th {\n",
              "        text-align: right;\n",
              "    }\n",
              "</style>\n",
              "<table border=\"1\" class=\"dataframe\">\n",
              "  <thead>\n",
              "    <tr style=\"text-align: right;\">\n",
              "      <th></th>\n",
              "      <th>VIF Factor</th>\n",
              "      <th>features</th>\n",
              "    </tr>\n",
              "  </thead>\n",
              "  <tbody>\n",
              "    <tr>\n",
              "      <th>0</th>\n",
              "      <td>2.242179</td>\n",
              "      <td>survived</td>\n",
              "    </tr>\n",
              "    <tr>\n",
              "      <th>1</th>\n",
              "      <td>5.716168</td>\n",
              "      <td>age</td>\n",
              "    </tr>\n",
              "    <tr>\n",
              "      <th>2</th>\n",
              "      <td>7.338102</td>\n",
              "      <td>fare</td>\n",
              "    </tr>\n",
              "    <tr>\n",
              "      <th>3</th>\n",
              "      <td>1.505565</td>\n",
              "      <td>pclass_2</td>\n",
              "    </tr>\n",
              "    <tr>\n",
              "      <th>4</th>\n",
              "      <td>2.139414</td>\n",
              "      <td>pclass_3</td>\n",
              "    </tr>\n",
              "    <tr>\n",
              "      <th>5</th>\n",
              "      <td>3.451994</td>\n",
              "      <td>sex_male</td>\n",
              "    </tr>\n",
              "  </tbody>\n",
              "</table>\n",
              "</div>\n",
              "      <button class=\"colab-df-convert\" onclick=\"convertToInteractive('df-52a83298-a2ec-4f94-91eb-c5feb119e5f2')\"\n",
              "              title=\"Convert this dataframe to an interactive table.\"\n",
              "              style=\"display:none;\">\n",
              "        \n",
              "  <svg xmlns=\"http://www.w3.org/2000/svg\" height=\"24px\"viewBox=\"0 0 24 24\"\n",
              "       width=\"24px\">\n",
              "    <path d=\"M0 0h24v24H0V0z\" fill=\"none\"/>\n",
              "    <path d=\"M18.56 5.44l.94 2.06.94-2.06 2.06-.94-2.06-.94-.94-2.06-.94 2.06-2.06.94zm-11 1L8.5 8.5l.94-2.06 2.06-.94-2.06-.94L8.5 2.5l-.94 2.06-2.06.94zm10 10l.94 2.06.94-2.06 2.06-.94-2.06-.94-.94-2.06-.94 2.06-2.06.94z\"/><path d=\"M17.41 7.96l-1.37-1.37c-.4-.4-.92-.59-1.43-.59-.52 0-1.04.2-1.43.59L10.3 9.45l-7.72 7.72c-.78.78-.78 2.05 0 2.83L4 21.41c.39.39.9.59 1.41.59.51 0 1.02-.2 1.41-.59l7.78-7.78 2.81-2.81c.8-.78.8-2.07 0-2.86zM5.41 20L4 18.59l7.72-7.72 1.47 1.35L5.41 20z\"/>\n",
              "  </svg>\n",
              "      </button>\n",
              "      \n",
              "  <style>\n",
              "    .colab-df-container {\n",
              "      display:flex;\n",
              "      flex-wrap:wrap;\n",
              "      gap: 12px;\n",
              "    }\n",
              "\n",
              "    .colab-df-convert {\n",
              "      background-color: #E8F0FE;\n",
              "      border: none;\n",
              "      border-radius: 50%;\n",
              "      cursor: pointer;\n",
              "      display: none;\n",
              "      fill: #1967D2;\n",
              "      height: 32px;\n",
              "      padding: 0 0 0 0;\n",
              "      width: 32px;\n",
              "    }\n",
              "\n",
              "    .colab-df-convert:hover {\n",
              "      background-color: #E2EBFA;\n",
              "      box-shadow: 0px 1px 2px rgba(60, 64, 67, 0.3), 0px 1px 3px 1px rgba(60, 64, 67, 0.15);\n",
              "      fill: #174EA6;\n",
              "    }\n",
              "\n",
              "    [theme=dark] .colab-df-convert {\n",
              "      background-color: #3B4455;\n",
              "      fill: #D2E3FC;\n",
              "    }\n",
              "\n",
              "    [theme=dark] .colab-df-convert:hover {\n",
              "      background-color: #434B5C;\n",
              "      box-shadow: 0px 1px 3px 1px rgba(0, 0, 0, 0.15);\n",
              "      filter: drop-shadow(0px 1px 2px rgba(0, 0, 0, 0.3));\n",
              "      fill: #FFFFFF;\n",
              "    }\n",
              "  </style>\n",
              "\n",
              "      <script>\n",
              "        const buttonEl =\n",
              "          document.querySelector('#df-52a83298-a2ec-4f94-91eb-c5feb119e5f2 button.colab-df-convert');\n",
              "        buttonEl.style.display =\n",
              "          google.colab.kernel.accessAllowed ? 'block' : 'none';\n",
              "\n",
              "        async function convertToInteractive(key) {\n",
              "          const element = document.querySelector('#df-52a83298-a2ec-4f94-91eb-c5feb119e5f2');\n",
              "          const dataTable =\n",
              "            await google.colab.kernel.invokeFunction('convertToInteractive',\n",
              "                                                     [key], {});\n",
              "          if (!dataTable) return;\n",
              "\n",
              "          const docLinkHtml = 'Like what you see? Visit the ' +\n",
              "            '<a target=\"_blank\" href=https://colab.research.google.com/notebooks/data_table.ipynb>data table notebook</a>'\n",
              "            + ' to learn more about interactive tables.';\n",
              "          element.innerHTML = '';\n",
              "          dataTable['output_type'] = 'display_data';\n",
              "          await google.colab.output.renderOutput(dataTable, element);\n",
              "          const docLink = document.createElement('div');\n",
              "          docLink.innerHTML = docLinkHtml;\n",
              "          element.appendChild(docLink);\n",
              "        }\n",
              "      </script>\n",
              "    </div>\n",
              "  </div>\n",
              "  "
            ]
          },
          "metadata": {},
          "execution_count": 10
        }
      ]
    },
    {
      "cell_type": "code",
      "source": [
        "coef_list = []\n",
        "features = []\n",
        "col_len = df_titanic_dum.shape[1]\n",
        "for i in range(col_len):\n",
        "  for j in range(i+1, col_len):\n",
        "    coef_list.append(np.corrcoef(df_titanic_dum.iloc[:,i], df_titanic_dum.iloc[:,j])[1,0])\n",
        "    features.append('corrcoef between {} and {}'.format(df_titanic_dum.columns[i], df_titanic_dum.columns[j]))"
      ],
      "metadata": {
        "id": "hg6xU_icmA7_"
      },
      "execution_count": 11,
      "outputs": []
    },
    {
      "cell_type": "code",
      "source": [
        "coef = pd.DataFrame()\n",
        "coef[\"correlation coefficient\"] = coef_list\n",
        "coef[\"features\"] = features\n",
        "coef"
      ],
      "metadata": {
        "colab": {
          "base_uri": "https://localhost:8080/",
          "height": 520
        },
        "id": "zJiNZsV0h_uk",
        "outputId": "7744eca1-7f38-413d-bd1c-c7f129e3caaf"
      },
      "execution_count": 12,
      "outputs": [
        {
          "output_type": "execute_result",
          "data": {
            "text/plain": [
              "    correlation coefficient                                features\n",
              "0                 -0.053346       corrcoef between survived and age\n",
              "1                  0.301394      corrcoef between survived and fare\n",
              "2                  0.051285  corrcoef between survived and pclass_2\n",
              "3                 -0.282371  corrcoef between survived and pclass_3\n",
              "4                 -0.528551  corrcoef between survived and sex_male\n",
              "5                  0.203231           corrcoef between age and fare\n",
              "6                  0.002500       corrcoef between age and pclass_2\n",
              "7                 -0.327320       corrcoef between age and pclass_3\n",
              "8                  0.063059       corrcoef between age and sex_male\n",
              "9                 -0.008890      corrcoef between fare and pclass_2\n",
              "10                -0.636031      corrcoef between fare and pclass_3\n",
              "11                -0.237240      corrcoef between fare and sex_male\n",
              "12                -0.565292  corrcoef between pclass_2 and pclass_3\n",
              "13                -0.030251  corrcoef between pclass_2 and sex_male\n",
              "14                 0.116348  corrcoef between pclass_3 and sex_male"
            ],
            "text/html": [
              "\n",
              "  <div id=\"df-d625b206-5cfa-473a-b310-8fc9d14ecdcd\">\n",
              "    <div class=\"colab-df-container\">\n",
              "      <div>\n",
              "<style scoped>\n",
              "    .dataframe tbody tr th:only-of-type {\n",
              "        vertical-align: middle;\n",
              "    }\n",
              "\n",
              "    .dataframe tbody tr th {\n",
              "        vertical-align: top;\n",
              "    }\n",
              "\n",
              "    .dataframe thead th {\n",
              "        text-align: right;\n",
              "    }\n",
              "</style>\n",
              "<table border=\"1\" class=\"dataframe\">\n",
              "  <thead>\n",
              "    <tr style=\"text-align: right;\">\n",
              "      <th></th>\n",
              "      <th>correlation coefficient</th>\n",
              "      <th>features</th>\n",
              "    </tr>\n",
              "  </thead>\n",
              "  <tbody>\n",
              "    <tr>\n",
              "      <th>0</th>\n",
              "      <td>-0.053346</td>\n",
              "      <td>corrcoef between survived and age</td>\n",
              "    </tr>\n",
              "    <tr>\n",
              "      <th>1</th>\n",
              "      <td>0.301394</td>\n",
              "      <td>corrcoef between survived and fare</td>\n",
              "    </tr>\n",
              "    <tr>\n",
              "      <th>2</th>\n",
              "      <td>0.051285</td>\n",
              "      <td>corrcoef between survived and pclass_2</td>\n",
              "    </tr>\n",
              "    <tr>\n",
              "      <th>3</th>\n",
              "      <td>-0.282371</td>\n",
              "      <td>corrcoef between survived and pclass_3</td>\n",
              "    </tr>\n",
              "    <tr>\n",
              "      <th>4</th>\n",
              "      <td>-0.528551</td>\n",
              "      <td>corrcoef between survived and sex_male</td>\n",
              "    </tr>\n",
              "    <tr>\n",
              "      <th>5</th>\n",
              "      <td>0.203231</td>\n",
              "      <td>corrcoef between age and fare</td>\n",
              "    </tr>\n",
              "    <tr>\n",
              "      <th>6</th>\n",
              "      <td>0.002500</td>\n",
              "      <td>corrcoef between age and pclass_2</td>\n",
              "    </tr>\n",
              "    <tr>\n",
              "      <th>7</th>\n",
              "      <td>-0.327320</td>\n",
              "      <td>corrcoef between age and pclass_3</td>\n",
              "    </tr>\n",
              "    <tr>\n",
              "      <th>8</th>\n",
              "      <td>0.063059</td>\n",
              "      <td>corrcoef between age and sex_male</td>\n",
              "    </tr>\n",
              "    <tr>\n",
              "      <th>9</th>\n",
              "      <td>-0.008890</td>\n",
              "      <td>corrcoef between fare and pclass_2</td>\n",
              "    </tr>\n",
              "    <tr>\n",
              "      <th>10</th>\n",
              "      <td>-0.636031</td>\n",
              "      <td>corrcoef between fare and pclass_3</td>\n",
              "    </tr>\n",
              "    <tr>\n",
              "      <th>11</th>\n",
              "      <td>-0.237240</td>\n",
              "      <td>corrcoef between fare and sex_male</td>\n",
              "    </tr>\n",
              "    <tr>\n",
              "      <th>12</th>\n",
              "      <td>-0.565292</td>\n",
              "      <td>corrcoef between pclass_2 and pclass_3</td>\n",
              "    </tr>\n",
              "    <tr>\n",
              "      <th>13</th>\n",
              "      <td>-0.030251</td>\n",
              "      <td>corrcoef between pclass_2 and sex_male</td>\n",
              "    </tr>\n",
              "    <tr>\n",
              "      <th>14</th>\n",
              "      <td>0.116348</td>\n",
              "      <td>corrcoef between pclass_3 and sex_male</td>\n",
              "    </tr>\n",
              "  </tbody>\n",
              "</table>\n",
              "</div>\n",
              "      <button class=\"colab-df-convert\" onclick=\"convertToInteractive('df-d625b206-5cfa-473a-b310-8fc9d14ecdcd')\"\n",
              "              title=\"Convert this dataframe to an interactive table.\"\n",
              "              style=\"display:none;\">\n",
              "        \n",
              "  <svg xmlns=\"http://www.w3.org/2000/svg\" height=\"24px\"viewBox=\"0 0 24 24\"\n",
              "       width=\"24px\">\n",
              "    <path d=\"M0 0h24v24H0V0z\" fill=\"none\"/>\n",
              "    <path d=\"M18.56 5.44l.94 2.06.94-2.06 2.06-.94-2.06-.94-.94-2.06-.94 2.06-2.06.94zm-11 1L8.5 8.5l.94-2.06 2.06-.94-2.06-.94L8.5 2.5l-.94 2.06-2.06.94zm10 10l.94 2.06.94-2.06 2.06-.94-2.06-.94-.94-2.06-.94 2.06-2.06.94z\"/><path d=\"M17.41 7.96l-1.37-1.37c-.4-.4-.92-.59-1.43-.59-.52 0-1.04.2-1.43.59L10.3 9.45l-7.72 7.72c-.78.78-.78 2.05 0 2.83L4 21.41c.39.39.9.59 1.41.59.51 0 1.02-.2 1.41-.59l7.78-7.78 2.81-2.81c.8-.78.8-2.07 0-2.86zM5.41 20L4 18.59l7.72-7.72 1.47 1.35L5.41 20z\"/>\n",
              "  </svg>\n",
              "      </button>\n",
              "      \n",
              "  <style>\n",
              "    .colab-df-container {\n",
              "      display:flex;\n",
              "      flex-wrap:wrap;\n",
              "      gap: 12px;\n",
              "    }\n",
              "\n",
              "    .colab-df-convert {\n",
              "      background-color: #E8F0FE;\n",
              "      border: none;\n",
              "      border-radius: 50%;\n",
              "      cursor: pointer;\n",
              "      display: none;\n",
              "      fill: #1967D2;\n",
              "      height: 32px;\n",
              "      padding: 0 0 0 0;\n",
              "      width: 32px;\n",
              "    }\n",
              "\n",
              "    .colab-df-convert:hover {\n",
              "      background-color: #E2EBFA;\n",
              "      box-shadow: 0px 1px 2px rgba(60, 64, 67, 0.3), 0px 1px 3px 1px rgba(60, 64, 67, 0.15);\n",
              "      fill: #174EA6;\n",
              "    }\n",
              "\n",
              "    [theme=dark] .colab-df-convert {\n",
              "      background-color: #3B4455;\n",
              "      fill: #D2E3FC;\n",
              "    }\n",
              "\n",
              "    [theme=dark] .colab-df-convert:hover {\n",
              "      background-color: #434B5C;\n",
              "      box-shadow: 0px 1px 3px 1px rgba(0, 0, 0, 0.15);\n",
              "      filter: drop-shadow(0px 1px 2px rgba(0, 0, 0, 0.3));\n",
              "      fill: #FFFFFF;\n",
              "    }\n",
              "  </style>\n",
              "\n",
              "      <script>\n",
              "        const buttonEl =\n",
              "          document.querySelector('#df-d625b206-5cfa-473a-b310-8fc9d14ecdcd button.colab-df-convert');\n",
              "        buttonEl.style.display =\n",
              "          google.colab.kernel.accessAllowed ? 'block' : 'none';\n",
              "\n",
              "        async function convertToInteractive(key) {\n",
              "          const element = document.querySelector('#df-d625b206-5cfa-473a-b310-8fc9d14ecdcd');\n",
              "          const dataTable =\n",
              "            await google.colab.kernel.invokeFunction('convertToInteractive',\n",
              "                                                     [key], {});\n",
              "          if (!dataTable) return;\n",
              "\n",
              "          const docLinkHtml = 'Like what you see? Visit the ' +\n",
              "            '<a target=\"_blank\" href=https://colab.research.google.com/notebooks/data_table.ipynb>data table notebook</a>'\n",
              "            + ' to learn more about interactive tables.';\n",
              "          element.innerHTML = '';\n",
              "          dataTable['output_type'] = 'display_data';\n",
              "          await google.colab.output.renderOutput(dataTable, element);\n",
              "          const docLink = document.createElement('div');\n",
              "          docLink.innerHTML = docLinkHtml;\n",
              "          element.appendChild(docLink);\n",
              "        }\n",
              "      </script>\n",
              "    </div>\n",
              "  </div>\n",
              "  "
            ]
          },
          "metadata": {},
          "execution_count": 12
        }
      ]
    },
    {
      "cell_type": "markdown",
      "source": [
        "fare와 pclass_3의 correlation coefficient 값이 -0.636031 이다.\n",
        "\n",
        "절댓값이 0.6 이상일 경우 feature에서 뺄 것을 고려해야 한다. 그러나 전체적으로 큰 차이가 보이지 않으므로 함께 고려하기로 결정하였다."
      ],
      "metadata": {
        "id": "rR7fH9G_pj7h"
      }
    },
    {
      "cell_type": "markdown",
      "source": [
        "# 2  Classification"
      ],
      "metadata": {
        "id": "ZPF_Tj_zqCZc"
      }
    },
    {
      "cell_type": "markdown",
      "source": [
        "![image.png](data:image/png;base64,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)\n",
        "\n",
        "> 확률적 판별모형에 해당하는 로지스틱회귀, 의사결정나무 모형을 선택하고, 추가로 랜덤포레스트 모형을 선택하여 세 모형의 성과를 비교하고자 한다."
      ],
      "metadata": {
        "id": "XSTF_XSs-7Wn"
      }
    },
    {
      "cell_type": "markdown",
      "source": [
        "### (1) Logistic Regression"
      ],
      "metadata": {
        "id": "e7Kw0Pyt-HX_"
      }
    },
    {
      "cell_type": "code",
      "source": [
        "from sklearn.linear_model import LogisticRegression\n",
        "from sklearn.model_selection import train_test_split\n",
        "from sklearn.metrics import confusion_matrix\n",
        "from sklearn.metrics import accuracy_score, precision_score, recall_score, f1_score"
      ],
      "metadata": {
        "id": "9mTf3twPodUH"
      },
      "execution_count": 13,
      "outputs": []
    },
    {
      "cell_type": "code",
      "source": [
        "#타겟 데이터 따로 저장\n",
        "target = df_titanic_dum['survived']\n",
        "input = df_titanic_dum.drop(labels=['survived'], axis=1)"
      ],
      "metadata": {
        "id": "sr8vb3BKvNhR"
      },
      "execution_count": 14,
      "outputs": []
    },
    {
      "cell_type": "code",
      "source": [
        "target.head()"
      ],
      "metadata": {
        "colab": {
          "base_uri": "https://localhost:8080/"
        },
        "id": "z5h3SzDS7rNd",
        "outputId": "8ca52bbb-d166-4b65-f349-e9f1bda45703"
      },
      "execution_count": 15,
      "outputs": [
        {
          "output_type": "execute_result",
          "data": {
            "text/plain": [
              "0    1\n",
              "1    1\n",
              "2    0\n",
              "3    0\n",
              "4    0\n",
              "Name: survived, dtype: int64"
            ]
          },
          "metadata": {},
          "execution_count": 15
        }
      ]
    },
    {
      "cell_type": "code",
      "source": [
        "input.head()"
      ],
      "metadata": {
        "colab": {
          "base_uri": "https://localhost:8080/",
          "height": 206
        },
        "id": "GUPmTiEC7s66",
        "outputId": "105af643-80d4-4e4f-8183-875aedb583b8"
      },
      "execution_count": 16,
      "outputs": [
        {
          "output_type": "execute_result",
          "data": {
            "text/plain": [
              "       age      fare  pclass_2  pclass_3  sex_male\n",
              "0  29.0000  5.353456         0         0         0\n",
              "1   0.9167  5.020916         0         0         1\n",
              "2   2.0000  5.020916         0         0         0\n",
              "3  30.0000  5.020916         0         0         1\n",
              "4  25.0000  5.020916         0         0         0"
            ],
            "text/html": [
              "\n",
              "  <div id=\"df-81520019-8a6c-4930-ab02-c0aaaf434660\">\n",
              "    <div class=\"colab-df-container\">\n",
              "      <div>\n",
              "<style scoped>\n",
              "    .dataframe tbody tr th:only-of-type {\n",
              "        vertical-align: middle;\n",
              "    }\n",
              "\n",
              "    .dataframe tbody tr th {\n",
              "        vertical-align: top;\n",
              "    }\n",
              "\n",
              "    .dataframe thead th {\n",
              "        text-align: right;\n",
              "    }\n",
              "</style>\n",
              "<table border=\"1\" class=\"dataframe\">\n",
              "  <thead>\n",
              "    <tr style=\"text-align: right;\">\n",
              "      <th></th>\n",
              "      <th>age</th>\n",
              "      <th>fare</th>\n",
              "      <th>pclass_2</th>\n",
              "      <th>pclass_3</th>\n",
              "      <th>sex_male</th>\n",
              "    </tr>\n",
              "  </thead>\n",
              "  <tbody>\n",
              "    <tr>\n",
              "      <th>0</th>\n",
              "      <td>29.0000</td>\n",
              "      <td>5.353456</td>\n",
              "      <td>0</td>\n",
              "      <td>0</td>\n",
              "      <td>0</td>\n",
              "    </tr>\n",
              "    <tr>\n",
              "      <th>1</th>\n",
              "      <td>0.9167</td>\n",
              "      <td>5.020916</td>\n",
              "      <td>0</td>\n",
              "      <td>0</td>\n",
              "      <td>1</td>\n",
              "    </tr>\n",
              "    <tr>\n",
              "      <th>2</th>\n",
              "      <td>2.0000</td>\n",
              "      <td>5.020916</td>\n",
              "      <td>0</td>\n",
              "      <td>0</td>\n",
              "      <td>0</td>\n",
              "    </tr>\n",
              "    <tr>\n",
              "      <th>3</th>\n",
              "      <td>30.0000</td>\n",
              "      <td>5.020916</td>\n",
              "      <td>0</td>\n",
              "      <td>0</td>\n",
              "      <td>1</td>\n",
              "    </tr>\n",
              "    <tr>\n",
              "      <th>4</th>\n",
              "      <td>25.0000</td>\n",
              "      <td>5.020916</td>\n",
              "      <td>0</td>\n",
              "      <td>0</td>\n",
              "      <td>0</td>\n",
              "    </tr>\n",
              "  </tbody>\n",
              "</table>\n",
              "</div>\n",
              "      <button class=\"colab-df-convert\" onclick=\"convertToInteractive('df-81520019-8a6c-4930-ab02-c0aaaf434660')\"\n",
              "              title=\"Convert this dataframe to an interactive table.\"\n",
              "              style=\"display:none;\">\n",
              "        \n",
              "  <svg xmlns=\"http://www.w3.org/2000/svg\" height=\"24px\"viewBox=\"0 0 24 24\"\n",
              "       width=\"24px\">\n",
              "    <path d=\"M0 0h24v24H0V0z\" fill=\"none\"/>\n",
              "    <path d=\"M18.56 5.44l.94 2.06.94-2.06 2.06-.94-2.06-.94-.94-2.06-.94 2.06-2.06.94zm-11 1L8.5 8.5l.94-2.06 2.06-.94-2.06-.94L8.5 2.5l-.94 2.06-2.06.94zm10 10l.94 2.06.94-2.06 2.06-.94-2.06-.94-.94-2.06-.94 2.06-2.06.94z\"/><path d=\"M17.41 7.96l-1.37-1.37c-.4-.4-.92-.59-1.43-.59-.52 0-1.04.2-1.43.59L10.3 9.45l-7.72 7.72c-.78.78-.78 2.05 0 2.83L4 21.41c.39.39.9.59 1.41.59.51 0 1.02-.2 1.41-.59l7.78-7.78 2.81-2.81c.8-.78.8-2.07 0-2.86zM5.41 20L4 18.59l7.72-7.72 1.47 1.35L5.41 20z\"/>\n",
              "  </svg>\n",
              "      </button>\n",
              "      \n",
              "  <style>\n",
              "    .colab-df-container {\n",
              "      display:flex;\n",
              "      flex-wrap:wrap;\n",
              "      gap: 12px;\n",
              "    }\n",
              "\n",
              "    .colab-df-convert {\n",
              "      background-color: #E8F0FE;\n",
              "      border: none;\n",
              "      border-radius: 50%;\n",
              "      cursor: pointer;\n",
              "      display: none;\n",
              "      fill: #1967D2;\n",
              "      height: 32px;\n",
              "      padding: 0 0 0 0;\n",
              "      width: 32px;\n",
              "    }\n",
              "\n",
              "    .colab-df-convert:hover {\n",
              "      background-color: #E2EBFA;\n",
              "      box-shadow: 0px 1px 2px rgba(60, 64, 67, 0.3), 0px 1px 3px 1px rgba(60, 64, 67, 0.15);\n",
              "      fill: #174EA6;\n",
              "    }\n",
              "\n",
              "    [theme=dark] .colab-df-convert {\n",
              "      background-color: #3B4455;\n",
              "      fill: #D2E3FC;\n",
              "    }\n",
              "\n",
              "    [theme=dark] .colab-df-convert:hover {\n",
              "      background-color: #434B5C;\n",
              "      box-shadow: 0px 1px 3px 1px rgba(0, 0, 0, 0.15);\n",
              "      filter: drop-shadow(0px 1px 2px rgba(0, 0, 0, 0.3));\n",
              "      fill: #FFFFFF;\n",
              "    }\n",
              "  </style>\n",
              "\n",
              "      <script>\n",
              "        const buttonEl =\n",
              "          document.querySelector('#df-81520019-8a6c-4930-ab02-c0aaaf434660 button.colab-df-convert');\n",
              "        buttonEl.style.display =\n",
              "          google.colab.kernel.accessAllowed ? 'block' : 'none';\n",
              "\n",
              "        async function convertToInteractive(key) {\n",
              "          const element = document.querySelector('#df-81520019-8a6c-4930-ab02-c0aaaf434660');\n",
              "          const dataTable =\n",
              "            await google.colab.kernel.invokeFunction('convertToInteractive',\n",
              "                                                     [key], {});\n",
              "          if (!dataTable) return;\n",
              "\n",
              "          const docLinkHtml = 'Like what you see? Visit the ' +\n",
              "            '<a target=\"_blank\" href=https://colab.research.google.com/notebooks/data_table.ipynb>data table notebook</a>'\n",
              "            + ' to learn more about interactive tables.';\n",
              "          element.innerHTML = '';\n",
              "          dataTable['output_type'] = 'display_data';\n",
              "          await google.colab.output.renderOutput(dataTable, element);\n",
              "          const docLink = document.createElement('div');\n",
              "          docLink.innerHTML = docLinkHtml;\n",
              "          element.appendChild(docLink);\n",
              "        }\n",
              "      </script>\n",
              "    </div>\n",
              "  </div>\n",
              "  "
            ]
          },
          "metadata": {},
          "execution_count": 16
        }
      ]
    },
    {
      "cell_type": "code",
      "source": [
        "#훈련 데이터와 테스트 데이터 분리\n",
        "X_train, X_test, y_train, y_test = train_test_split(\n",
        "    input, target, test_size=0.2, random_state=42)"
      ],
      "metadata": {
        "id": "69N9OTs2Do4j"
      },
      "execution_count": 17,
      "outputs": []
    },
    {
      "cell_type": "code",
      "source": [
        "# 로지스틱 모델 학습\n",
        "lr = LogisticRegression(random_state = 0)\n",
        "lr.fit(X_train, y_train)\n",
        "\n",
        "# 학습한 모델의 테스트 데이터셋에 대한 예측 결과 반환\n",
        "pred = lr.predict(X_test)\n",
        "y_pred_probability = lr.predict_proba(X_test)[:, 1]"
      ],
      "metadata": {
        "id": "0jc3Ul-m6DJK"
      },
      "execution_count": 18,
      "outputs": []
    },
    {
      "cell_type": "code",
      "source": [
        "# 테스트 데이터셋에 대한 정확도, 정밀도, 특이도, f1 평가 지표 출력\n",
        "print('Accuracy : %.2f' % accuracy_score(y_test, pred))\n",
        "print('Precision : %.3f' % precision_score(y_test, pred))\n",
        "print('Recall : %.3f' % recall_score(y_test, pred))\n",
        "print('F1 : %.3f' % f1_score(y_test, pred))"
      ],
      "metadata": {
        "colab": {
          "base_uri": "https://localhost:8080/"
        },
        "id": "5lukfWjg9o4T",
        "outputId": "11efd8e0-4a0e-4fea-d3eb-f8aa33105f45"
      },
      "execution_count": 19,
      "outputs": [
        {
          "output_type": "stream",
          "name": "stdout",
          "text": [
            "Accuracy : 0.80\n",
            "Precision : 0.744\n",
            "Recall : 0.663\n",
            "F1 : 0.701\n"
          ]
        }
      ]
    },
    {
      "cell_type": "code",
      "source": [
        "# Confusion Matrix\n",
        "conf_mat_logistic = confusion_matrix(y_true = y_test, y_pred = pred)\n",
        "print(conf_mat_logistic)"
      ],
      "metadata": {
        "colab": {
          "base_uri": "https://localhost:8080/"
        },
        "id": "0zU6-IOk9o7Y",
        "outputId": "4c09a0ca-0cbf-4bdf-9d3e-967c2654b047"
      },
      "execution_count": 20,
      "outputs": [
        {
          "output_type": "stream",
          "name": "stdout",
          "text": [
            "[[148  21]\n",
            " [ 31  61]]\n"
          ]
        }
      ]
    },
    {
      "cell_type": "markdown",
      "source": [
        "### (2) Decision Tree"
      ],
      "metadata": {
        "id": "xBNkaXVQ-cAB"
      }
    },
    {
      "cell_type": "code",
      "source": [
        "from sklearn.tree import DecisionTreeClassifier\n",
        "from sklearn.ensemble import RandomForestClassifier\n",
        "from sklearn.metrics import accuracy_score\n",
        "from sklearn import metrics"
      ],
      "metadata": {
        "id": "cUldzNErBika"
      },
      "execution_count": 21,
      "outputs": []
    },
    {
      "cell_type": "code",
      "source": [
        "X_train, X_test, y_train, y_test = train_test_split(input,target,test_size=0.2,random_state=42)"
      ],
      "metadata": {
        "id": "abdKH0hoB6nU"
      },
      "execution_count": 22,
      "outputs": []
    },
    {
      "cell_type": "code",
      "source": [
        "DT = DecisionTreeClassifier(max_depth=100)\n",
        "model = DT.fit(X_train, y_train)\n",
        "pred = model.predict(X_test)"
      ],
      "metadata": {
        "id": "r8cWsK099o-P"
      },
      "execution_count": 23,
      "outputs": []
    },
    {
      "cell_type": "code",
      "source": [
        "print('Accuracy : %.2f' % accuracy_score(pred, y_test))\n",
        "print('Precision : %.3f' % precision_score(pred, y_test))\n",
        "print('Recall : %.3f' % recall_score(pred, y_test))\n",
        "print('F1 : %.3f' % f1_score(pred, y_test))"
      ],
      "metadata": {
        "colab": {
          "base_uri": "https://localhost:8080/"
        },
        "id": "MOQCiHqn9pCk",
        "outputId": "782989d6-7c93-4b1e-b5e7-62ad63c98a94"
      },
      "execution_count": 24,
      "outputs": [
        {
          "output_type": "stream",
          "name": "stdout",
          "text": [
            "Accuracy : 0.82\n",
            "Precision : 0.707\n",
            "Recall : 0.756\n",
            "F1 : 0.730\n"
          ]
        }
      ]
    },
    {
      "cell_type": "code",
      "source": [
        "# Confusion Matrix\n",
        "conf_mat_tree = confusion_matrix(y_true = y_test, y_pred = pred)\n",
        "print(conf_mat_tree)"
      ],
      "metadata": {
        "colab": {
          "base_uri": "https://localhost:8080/"
        },
        "id": "3rIozqGu4gGf",
        "outputId": "43a1ecaa-cd31-482e-ffc2-80d6b6da5363"
      },
      "execution_count": 25,
      "outputs": [
        {
          "output_type": "stream",
          "name": "stdout",
          "text": [
            "[[148  21]\n",
            " [ 27  65]]\n"
          ]
        }
      ]
    },
    {
      "cell_type": "markdown",
      "source": [
        "### (3) Random Forest"
      ],
      "metadata": {
        "id": "pRFzEdRuDMZv"
      }
    },
    {
      "cell_type": "code",
      "source": [
        "rf_clf = RandomForestClassifier()\n",
        "model = rf_clf.fit(X_train, y_train)\n",
        "pred = model.predict(X_test)"
      ],
      "metadata": {
        "id": "saUMCV5rDEDv"
      },
      "execution_count": 26,
      "outputs": []
    },
    {
      "cell_type": "code",
      "source": [
        "print('Accuracy : %.2f' % accuracy_score(pred, y_test))\n",
        "print('Precision : %.3f' % precision_score(pred, y_test))\n",
        "print('Recall : %.3f' % recall_score(pred, y_test))\n",
        "print('F1 : %.3f' % f1_score(pred, y_test))"
      ],
      "metadata": {
        "colab": {
          "base_uri": "https://localhost:8080/"
        },
        "id": "63NDKhNxDRrW",
        "outputId": "3bbc328f-ce74-4a08-af65-2f0722b3d892"
      },
      "execution_count": 27,
      "outputs": [
        {
          "output_type": "stream",
          "name": "stdout",
          "text": [
            "Accuracy : 0.83\n",
            "Precision : 0.717\n",
            "Recall : 0.786\n",
            "F1 : 0.750\n"
          ]
        }
      ]
    },
    {
      "cell_type": "code",
      "source": [
        "# Confusion Matrix\n",
        "conf_mat_forest = confusion_matrix(y_true = y_test, y_pred = pred)\n",
        "print(conf_mat_forest)"
      ],
      "metadata": {
        "colab": {
          "base_uri": "https://localhost:8080/"
        },
        "id": "zvsGRo0JDSZY",
        "outputId": "6af154a5-e889-4723-a5b0-05e18d9ae9b1"
      },
      "execution_count": 28,
      "outputs": [
        {
          "output_type": "stream",
          "name": "stdout",
          "text": [
            "[[151  18]\n",
            " [ 26  66]]\n"
          ]
        }
      ]
    },
    {
      "cell_type": "markdown",
      "source": [
        "# 3  모형 선택"
      ],
      "metadata": {
        "id": "bxHprT0fFn1m"
      }
    },
    {
      "cell_type": "markdown",
      "source": [
        "Random Forest 모형을 선택하기로 결정하였다.\n",
        "\n",
        "위 모형들에서 나타난 이진 분류결과표(Binary Confusion Matrix)를 해석한 것은 다음과 같다.\n",
        "\n",
        "![image.png](data:image/png;base64,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)\n",
        "\n",
        "분류 모형의 예측 결과가 맞은 경우, 즉 양성을 양성이라고 예측하거나 음성을 음성이라고 예측한 경우에는 참(True)라고 하고 예측 결과가 틀린 경우, 즉 양성을 음성이라고 예측하거나 음성을 양성이라고 예측한 경우에는 거짓(False)이라고 한다.\n",
        "\n",
        "즉 Confusion Matrix에 근거하였을 때 True Positive, True Negative의 값 모두 Random Forest 모형에서 가장 우수한 결과값이 도출되었다.\n",
        "\n",
        "Confusion Matrix 뿐만 아니라 각종 Accuracy, Precision, Recall, F1 등 성능 평가 수치에서도 (차이가 크지는 않지만) 가장 우수한 결과를 보여주었다.\n",
        "\n"
      ],
      "metadata": {
        "id": "1Nz1d327HGwt"
      }
    },
    {
      "cell_type": "markdown",
      "source": [
        "보험사에서 개인의 특성에 기초한 여행자보험상품을 제작하려 한다.\n",
        "\n",
        "Titanic 분석 결과에 의거하였을 때, 보험사는 가장 예측 성능이 뛰어난 모형을 선택해야 한다.\n",
        "\n",
        "여행자보험시장이 경쟁적이라면, \n",
        "위험을 가장 잘 예측하는 모형이라야 보험사의 손해율을 최소화할 수 있기 때문이다.\n",
        "\n",
        "일반 상품은 제조 공정에서 사전에 제조 원가가 확정된다. 그러나 보험 상품의 원가인 지급 보험금은 사후에 확정되므로, 사전에 수리 통계적 방법을 이용하여 보험료를 책정해야 한다. 이 때 가격 변동 및 손해율 변동에 대해 정확하게 예측하는 것이 중요하다.\n",
        "\n",
        "예측되는 손해율과 손해율의 변동성이 높을수록 최악의 상황을 가정하여 높은 보험금을 쌓아두어야 하므로, 보험사의 유동성이 감소하고 재무 부담이 증가한다.\n",
        "\n",
        "따라서 보험사는 자신들이 설계할 여행자보험이 미래에 어떠한 손해율을 나타낼지 잘 예측해야만 한다.\n",
        "\n",
        "다시 말해 우리가 Titanic 데이터를 기반으로 수행한 머신러닝 모형들 중에서 가장 성능이 뛰어난 모형을 선택해야 한다. 개인의 특성에 기초한 생존확률 예측 결과가 가장 뛰어난 모형을 선택하는 것이 보험의 손해율과 직결되는 일이기 때문이다."
      ],
      "metadata": {
        "id": "VsCS7D7mISqH"
      }
    },
    {
      "cell_type": "markdown",
      "source": [
        "따라서 보험사에서는 우리가 수행한 분류모형 중 가장 성능이 뛰어난 Random Forest 모형을 선택하는 것이 바람직하다고 볼 수 있다."
      ],
      "metadata": {
        "id": "OkWQdnSqI0AQ"
      }
    },
    {
      "cell_type": "markdown",
      "source": [
        "(To. 교수님, 조교님께)\n",
        "\n",
        "'한 번에 한해 감점없이 지각 제출을 허용'한다는 조항에 의거하여,\n",
        "이번 지각제출을 감점 없이 채점해주실 수 있으실까요? 앞으로는 늦지 않게 제출하도록 하겠습니다. 감사합니다"
      ],
      "metadata": {
        "id": "KzO7NJfuJA6j"
      }
    }
  ]
}