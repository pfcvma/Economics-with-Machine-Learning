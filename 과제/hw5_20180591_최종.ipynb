{
  "cells": [
    {
      "cell_type": "markdown",
      "metadata": {
        "id": "rE-7RTxi2pob"
      },
      "source": [
        "# 0 자료 정리"
      ]
    },
    {
      "cell_type": "code",
      "execution_count": 1,
      "metadata": {
        "id": "NbKQFgcH2JO8"
      },
      "outputs": [],
      "source": [
        "import urllib.request\n",
        "import matplotlib.pyplot as plt\n",
        "import numpy as np\n",
        "import pandas as pd\n",
        "import seaborn as sns"
      ]
    },
    {
      "cell_type": "code",
      "execution_count": 2,
      "metadata": {
        "id": "U6liEGhI2TH4"
      },
      "outputs": [],
      "source": [
        "url = \"https://raw.githubusercontent.com/pfcvma/econ-python/main/to_pickle.csv\"\n",
        "df_raw = pd.read_csv(url)"
      ]
    },
    {
      "cell_type": "markdown",
      "metadata": {
        "id": "qKWATGP2GQuD"
      },
      "source": [
        "> 이전 과제4에서 `MinMaxScaler`를 사용하여 Scaling을 완료함. 따라서 이번 과제에서는 scaling 생략"
      ]
    },
    {
      "cell_type": "code",
      "execution_count": 3,
      "metadata": {
        "colab": {
          "base_uri": "https://localhost:8080/",
          "height": 505
        },
        "id": "YHYQru402jCj",
        "outputId": "dd28d670-fa6e-4f1d-a967-8317a08b2e0c"
      },
      "outputs": [
        {
          "output_type": "execute_result",
          "data": {
            "text/plain": [
              "      Unnamed: 0  SeniorCitizen    tenure  MonthlyCharges  TotalCharges  \\\n",
              "0              0            0.0  0.090909        0.477737      0.110550   \n",
              "1              1            0.0  1.000000        0.725417      0.857550   \n",
              "2              2            1.0  0.363636        0.766234      0.358395   \n",
              "3              3            1.0  0.000000        0.648423      0.043442   \n",
              "4              4            1.0  0.000000        0.554731      0.041065   \n",
              "...          ...            ...       ...             ...           ...   \n",
              "3916        3916            0.0  1.000000        0.112349      0.569258   \n",
              "3917        3917            0.0  0.181818        0.087279      0.116396   \n",
              "3918        3918            1.0  1.000000        0.951718      0.967515   \n",
              "3919        3919            1.0  0.545455        0.368617      0.403056   \n",
              "3920        3920            0.0  0.727273        0.615599      0.562817   \n",
              "\n",
              "      gender_Male  Partner_Yes  Dependents_Yes  \\\n",
              "0             1.0          1.0             1.0   \n",
              "1             0.0          1.0             1.0   \n",
              "2             0.0          0.0             0.0   \n",
              "3             0.0          0.0             0.0   \n",
              "4             1.0          0.0             0.0   \n",
              "...           ...          ...             ...   \n",
              "3916          1.0          1.0             1.0   \n",
              "3917          1.0          1.0             1.0   \n",
              "3918          1.0          1.0             0.0   \n",
              "3919          0.0          0.0             0.0   \n",
              "3920          1.0          1.0             1.0   \n",
              "\n",
              "      MultipleLines_No phone service  MultipleLines_Yes  ...  TechSupport_Yes  \\\n",
              "0                                0.0                0.0  ...              0.0   \n",
              "1                                0.0                1.0  ...              0.0   \n",
              "2                                0.0                1.0  ...              0.0   \n",
              "3                                0.0                0.0  ...              0.0   \n",
              "4                                0.0                0.0  ...              0.0   \n",
              "...                              ...                ...  ...              ...   \n",
              "3916                             0.0                0.0  ...              1.0   \n",
              "3917                             0.0                0.0  ...              1.0   \n",
              "3918                             0.0                1.0  ...              1.0   \n",
              "3919                             0.0                1.0  ...              0.0   \n",
              "3920                             0.0                1.0  ...              1.0   \n",
              "\n",
              "      StreamingTV_Yes  StreamingMovies_Yes  Contract_One year  \\\n",
              "0                 1.0                  1.0                0.0   \n",
              "1                 1.0                  1.0                0.0   \n",
              "2                 1.0                  1.0                0.0   \n",
              "3                 1.0                  1.0                0.0   \n",
              "4                 1.0                  1.0                0.0   \n",
              "...               ...                  ...                ...   \n",
              "3916              0.0                  1.0                0.0   \n",
              "3917              0.0                  1.0                0.0   \n",
              "3918              1.0                  1.0                0.0   \n",
              "3919              1.0                  0.0                0.0   \n",
              "3920              1.0                  1.0                1.0   \n",
              "\n",
              "      Contract_Two year  PaperlessBilling_Yes  \\\n",
              "0                   0.0                   0.0   \n",
              "1                   0.0                   1.0   \n",
              "2                   0.0                   1.0   \n",
              "3                   0.0                   1.0   \n",
              "4                   0.0                   1.0   \n",
              "...                 ...                   ...   \n",
              "3916                1.0                   1.0   \n",
              "3917                0.0                   1.0   \n",
              "3918                1.0                   1.0   \n",
              "3919                0.0                   1.0   \n",
              "3920                0.0                   1.0   \n",
              "\n",
              "      PaymentMethod_Credit card (automatic)  PaymentMethod_Electronic check  \\\n",
              "0                                       0.0                             1.0   \n",
              "1                                       0.0                             1.0   \n",
              "2                                       0.0                             1.0   \n",
              "3                                       1.0                             0.0   \n",
              "4                                       0.0                             1.0   \n",
              "...                                     ...                             ...   \n",
              "3916                                    1.0                             0.0   \n",
              "3917                                    0.0                             0.0   \n",
              "3918                                    0.0                             0.0   \n",
              "3919                                    0.0                             1.0   \n",
              "3920                                    0.0                             1.0   \n",
              "\n",
              "      PaymentMethod_Mailed check  Churn  \n",
              "0                            0.0      0  \n",
              "1                            0.0      1  \n",
              "2                            0.0      1  \n",
              "3                            0.0      1  \n",
              "4                            0.0      0  \n",
              "...                          ...    ...  \n",
              "3916                         0.0      0  \n",
              "3917                         1.0      0  \n",
              "3918                         0.0      0  \n",
              "3919                         0.0      1  \n",
              "3920                         0.0      0  \n",
              "\n",
              "[3921 rows x 23 columns]"
            ],
            "text/html": [
              "\n",
              "  <div id=\"df-21374ae1-73c4-4fdb-a8fc-886ceb7313aa\">\n",
              "    <div class=\"colab-df-container\">\n",
              "      <div>\n",
              "<style scoped>\n",
              "    .dataframe tbody tr th:only-of-type {\n",
              "        vertical-align: middle;\n",
              "    }\n",
              "\n",
              "    .dataframe tbody tr th {\n",
              "        vertical-align: top;\n",
              "    }\n",
              "\n",
              "    .dataframe thead th {\n",
              "        text-align: right;\n",
              "    }\n",
              "</style>\n",
              "<table border=\"1\" class=\"dataframe\">\n",
              "  <thead>\n",
              "    <tr style=\"text-align: right;\">\n",
              "      <th></th>\n",
              "      <th>Unnamed: 0</th>\n",
              "      <th>SeniorCitizen</th>\n",
              "      <th>tenure</th>\n",
              "      <th>MonthlyCharges</th>\n",
              "      <th>TotalCharges</th>\n",
              "      <th>gender_Male</th>\n",
              "      <th>Partner_Yes</th>\n",
              "      <th>Dependents_Yes</th>\n",
              "      <th>MultipleLines_No phone service</th>\n",
              "      <th>MultipleLines_Yes</th>\n",
              "      <th>...</th>\n",
              "      <th>TechSupport_Yes</th>\n",
              "      <th>StreamingTV_Yes</th>\n",
              "      <th>StreamingMovies_Yes</th>\n",
              "      <th>Contract_One year</th>\n",
              "      <th>Contract_Two year</th>\n",
              "      <th>PaperlessBilling_Yes</th>\n",
              "      <th>PaymentMethod_Credit card (automatic)</th>\n",
              "      <th>PaymentMethod_Electronic check</th>\n",
              "      <th>PaymentMethod_Mailed check</th>\n",
              "      <th>Churn</th>\n",
              "    </tr>\n",
              "  </thead>\n",
              "  <tbody>\n",
              "    <tr>\n",
              "      <th>0</th>\n",
              "      <td>0</td>\n",
              "      <td>0.0</td>\n",
              "      <td>0.090909</td>\n",
              "      <td>0.477737</td>\n",
              "      <td>0.110550</td>\n",
              "      <td>1.0</td>\n",
              "      <td>1.0</td>\n",
              "      <td>1.0</td>\n",
              "      <td>0.0</td>\n",
              "      <td>0.0</td>\n",
              "      <td>...</td>\n",
              "      <td>0.0</td>\n",
              "      <td>1.0</td>\n",
              "      <td>1.0</td>\n",
              "      <td>0.0</td>\n",
              "      <td>0.0</td>\n",
              "      <td>0.0</td>\n",
              "      <td>0.0</td>\n",
              "      <td>1.0</td>\n",
              "      <td>0.0</td>\n",
              "      <td>0</td>\n",
              "    </tr>\n",
              "    <tr>\n",
              "      <th>1</th>\n",
              "      <td>1</td>\n",
              "      <td>0.0</td>\n",
              "      <td>1.000000</td>\n",
              "      <td>0.725417</td>\n",
              "      <td>0.857550</td>\n",
              "      <td>0.0</td>\n",
              "      <td>1.0</td>\n",
              "      <td>1.0</td>\n",
              "      <td>0.0</td>\n",
              "      <td>1.0</td>\n",
              "      <td>...</td>\n",
              "      <td>0.0</td>\n",
              "      <td>1.0</td>\n",
              "      <td>1.0</td>\n",
              "      <td>0.0</td>\n",
              "      <td>0.0</td>\n",
              "      <td>1.0</td>\n",
              "      <td>0.0</td>\n",
              "      <td>1.0</td>\n",
              "      <td>0.0</td>\n",
              "      <td>1</td>\n",
              "    </tr>\n",
              "    <tr>\n",
              "      <th>2</th>\n",
              "      <td>2</td>\n",
              "      <td>1.0</td>\n",
              "      <td>0.363636</td>\n",
              "      <td>0.766234</td>\n",
              "      <td>0.358395</td>\n",
              "      <td>0.0</td>\n",
              "      <td>0.0</td>\n",
              "      <td>0.0</td>\n",
              "      <td>0.0</td>\n",
              "      <td>1.0</td>\n",
              "      <td>...</td>\n",
              "      <td>0.0</td>\n",
              "      <td>1.0</td>\n",
              "      <td>1.0</td>\n",
              "      <td>0.0</td>\n",
              "      <td>0.0</td>\n",
              "      <td>1.0</td>\n",
              "      <td>0.0</td>\n",
              "      <td>1.0</td>\n",
              "      <td>0.0</td>\n",
              "      <td>1</td>\n",
              "    </tr>\n",
              "    <tr>\n",
              "      <th>3</th>\n",
              "      <td>3</td>\n",
              "      <td>1.0</td>\n",
              "      <td>0.000000</td>\n",
              "      <td>0.648423</td>\n",
              "      <td>0.043442</td>\n",
              "      <td>0.0</td>\n",
              "      <td>0.0</td>\n",
              "      <td>0.0</td>\n",
              "      <td>0.0</td>\n",
              "      <td>0.0</td>\n",
              "      <td>...</td>\n",
              "      <td>0.0</td>\n",
              "      <td>1.0</td>\n",
              "      <td>1.0</td>\n",
              "      <td>0.0</td>\n",
              "      <td>0.0</td>\n",
              "      <td>1.0</td>\n",
              "      <td>1.0</td>\n",
              "      <td>0.0</td>\n",
              "      <td>0.0</td>\n",
              "      <td>1</td>\n",
              "    </tr>\n",
              "    <tr>\n",
              "      <th>4</th>\n",
              "      <td>4</td>\n",
              "      <td>1.0</td>\n",
              "      <td>0.000000</td>\n",
              "      <td>0.554731</td>\n",
              "      <td>0.041065</td>\n",
              "      <td>1.0</td>\n",
              "      <td>0.0</td>\n",
              "      <td>0.0</td>\n",
              "      <td>0.0</td>\n",
              "      <td>0.0</td>\n",
              "      <td>...</td>\n",
              "      <td>0.0</td>\n",
              "      <td>1.0</td>\n",
              "      <td>1.0</td>\n",
              "      <td>0.0</td>\n",
              "      <td>0.0</td>\n",
              "      <td>1.0</td>\n",
              "      <td>0.0</td>\n",
              "      <td>1.0</td>\n",
              "      <td>0.0</td>\n",
              "      <td>0</td>\n",
              "    </tr>\n",
              "    <tr>\n",
              "      <th>...</th>\n",
              "      <td>...</td>\n",
              "      <td>...</td>\n",
              "      <td>...</td>\n",
              "      <td>...</td>\n",
              "      <td>...</td>\n",
              "      <td>...</td>\n",
              "      <td>...</td>\n",
              "      <td>...</td>\n",
              "      <td>...</td>\n",
              "      <td>...</td>\n",
              "      <td>...</td>\n",
              "      <td>...</td>\n",
              "      <td>...</td>\n",
              "      <td>...</td>\n",
              "      <td>...</td>\n",
              "      <td>...</td>\n",
              "      <td>...</td>\n",
              "      <td>...</td>\n",
              "      <td>...</td>\n",
              "      <td>...</td>\n",
              "      <td>...</td>\n",
              "    </tr>\n",
              "    <tr>\n",
              "      <th>3916</th>\n",
              "      <td>3916</td>\n",
              "      <td>0.0</td>\n",
              "      <td>1.000000</td>\n",
              "      <td>0.112349</td>\n",
              "      <td>0.569258</td>\n",
              "      <td>1.0</td>\n",
              "      <td>1.0</td>\n",
              "      <td>1.0</td>\n",
              "      <td>0.0</td>\n",
              "      <td>0.0</td>\n",
              "      <td>...</td>\n",
              "      <td>1.0</td>\n",
              "      <td>0.0</td>\n",
              "      <td>1.0</td>\n",
              "      <td>0.0</td>\n",
              "      <td>1.0</td>\n",
              "      <td>1.0</td>\n",
              "      <td>1.0</td>\n",
              "      <td>0.0</td>\n",
              "      <td>0.0</td>\n",
              "      <td>0</td>\n",
              "    </tr>\n",
              "    <tr>\n",
              "      <th>3917</th>\n",
              "      <td>3917</td>\n",
              "      <td>0.0</td>\n",
              "      <td>0.181818</td>\n",
              "      <td>0.087279</td>\n",
              "      <td>0.116396</td>\n",
              "      <td>1.0</td>\n",
              "      <td>1.0</td>\n",
              "      <td>1.0</td>\n",
              "      <td>0.0</td>\n",
              "      <td>0.0</td>\n",
              "      <td>...</td>\n",
              "      <td>1.0</td>\n",
              "      <td>0.0</td>\n",
              "      <td>1.0</td>\n",
              "      <td>0.0</td>\n",
              "      <td>0.0</td>\n",
              "      <td>1.0</td>\n",
              "      <td>0.0</td>\n",
              "      <td>0.0</td>\n",
              "      <td>1.0</td>\n",
              "      <td>0</td>\n",
              "    </tr>\n",
              "    <tr>\n",
              "      <th>3918</th>\n",
              "      <td>3918</td>\n",
              "      <td>1.0</td>\n",
              "      <td>1.000000</td>\n",
              "      <td>0.951718</td>\n",
              "      <td>0.967515</td>\n",
              "      <td>1.0</td>\n",
              "      <td>1.0</td>\n",
              "      <td>0.0</td>\n",
              "      <td>0.0</td>\n",
              "      <td>1.0</td>\n",
              "      <td>...</td>\n",
              "      <td>1.0</td>\n",
              "      <td>1.0</td>\n",
              "      <td>1.0</td>\n",
              "      <td>0.0</td>\n",
              "      <td>1.0</td>\n",
              "      <td>1.0</td>\n",
              "      <td>0.0</td>\n",
              "      <td>0.0</td>\n",
              "      <td>0.0</td>\n",
              "      <td>0</td>\n",
              "    </tr>\n",
              "    <tr>\n",
              "      <th>3919</th>\n",
              "      <td>3919</td>\n",
              "      <td>1.0</td>\n",
              "      <td>0.545455</td>\n",
              "      <td>0.368617</td>\n",
              "      <td>0.403056</td>\n",
              "      <td>0.0</td>\n",
              "      <td>0.0</td>\n",
              "      <td>0.0</td>\n",
              "      <td>0.0</td>\n",
              "      <td>1.0</td>\n",
              "      <td>...</td>\n",
              "      <td>0.0</td>\n",
              "      <td>1.0</td>\n",
              "      <td>0.0</td>\n",
              "      <td>0.0</td>\n",
              "      <td>0.0</td>\n",
              "      <td>1.0</td>\n",
              "      <td>0.0</td>\n",
              "      <td>1.0</td>\n",
              "      <td>0.0</td>\n",
              "      <td>1</td>\n",
              "    </tr>\n",
              "    <tr>\n",
              "      <th>3920</th>\n",
              "      <td>3920</td>\n",
              "      <td>0.0</td>\n",
              "      <td>0.727273</td>\n",
              "      <td>0.615599</td>\n",
              "      <td>0.562817</td>\n",
              "      <td>1.0</td>\n",
              "      <td>1.0</td>\n",
              "      <td>1.0</td>\n",
              "      <td>0.0</td>\n",
              "      <td>1.0</td>\n",
              "      <td>...</td>\n",
              "      <td>1.0</td>\n",
              "      <td>1.0</td>\n",
              "      <td>1.0</td>\n",
              "      <td>1.0</td>\n",
              "      <td>0.0</td>\n",
              "      <td>1.0</td>\n",
              "      <td>0.0</td>\n",
              "      <td>1.0</td>\n",
              "      <td>0.0</td>\n",
              "      <td>0</td>\n",
              "    </tr>\n",
              "  </tbody>\n",
              "</table>\n",
              "<p>3921 rows × 23 columns</p>\n",
              "</div>\n",
              "      <button class=\"colab-df-convert\" onclick=\"convertToInteractive('df-21374ae1-73c4-4fdb-a8fc-886ceb7313aa')\"\n",
              "              title=\"Convert this dataframe to an interactive table.\"\n",
              "              style=\"display:none;\">\n",
              "        \n",
              "  <svg xmlns=\"http://www.w3.org/2000/svg\" height=\"24px\"viewBox=\"0 0 24 24\"\n",
              "       width=\"24px\">\n",
              "    <path d=\"M0 0h24v24H0V0z\" fill=\"none\"/>\n",
              "    <path d=\"M18.56 5.44l.94 2.06.94-2.06 2.06-.94-2.06-.94-.94-2.06-.94 2.06-2.06.94zm-11 1L8.5 8.5l.94-2.06 2.06-.94-2.06-.94L8.5 2.5l-.94 2.06-2.06.94zm10 10l.94 2.06.94-2.06 2.06-.94-2.06-.94-.94-2.06-.94 2.06-2.06.94z\"/><path d=\"M17.41 7.96l-1.37-1.37c-.4-.4-.92-.59-1.43-.59-.52 0-1.04.2-1.43.59L10.3 9.45l-7.72 7.72c-.78.78-.78 2.05 0 2.83L4 21.41c.39.39.9.59 1.41.59.51 0 1.02-.2 1.41-.59l7.78-7.78 2.81-2.81c.8-.78.8-2.07 0-2.86zM5.41 20L4 18.59l7.72-7.72 1.47 1.35L5.41 20z\"/>\n",
              "  </svg>\n",
              "      </button>\n",
              "      \n",
              "  <style>\n",
              "    .colab-df-container {\n",
              "      display:flex;\n",
              "      flex-wrap:wrap;\n",
              "      gap: 12px;\n",
              "    }\n",
              "\n",
              "    .colab-df-convert {\n",
              "      background-color: #E8F0FE;\n",
              "      border: none;\n",
              "      border-radius: 50%;\n",
              "      cursor: pointer;\n",
              "      display: none;\n",
              "      fill: #1967D2;\n",
              "      height: 32px;\n",
              "      padding: 0 0 0 0;\n",
              "      width: 32px;\n",
              "    }\n",
              "\n",
              "    .colab-df-convert:hover {\n",
              "      background-color: #E2EBFA;\n",
              "      box-shadow: 0px 1px 2px rgba(60, 64, 67, 0.3), 0px 1px 3px 1px rgba(60, 64, 67, 0.15);\n",
              "      fill: #174EA6;\n",
              "    }\n",
              "\n",
              "    [theme=dark] .colab-df-convert {\n",
              "      background-color: #3B4455;\n",
              "      fill: #D2E3FC;\n",
              "    }\n",
              "\n",
              "    [theme=dark] .colab-df-convert:hover {\n",
              "      background-color: #434B5C;\n",
              "      box-shadow: 0px 1px 3px 1px rgba(0, 0, 0, 0.15);\n",
              "      filter: drop-shadow(0px 1px 2px rgba(0, 0, 0, 0.3));\n",
              "      fill: #FFFFFF;\n",
              "    }\n",
              "  </style>\n",
              "\n",
              "      <script>\n",
              "        const buttonEl =\n",
              "          document.querySelector('#df-21374ae1-73c4-4fdb-a8fc-886ceb7313aa button.colab-df-convert');\n",
              "        buttonEl.style.display =\n",
              "          google.colab.kernel.accessAllowed ? 'block' : 'none';\n",
              "\n",
              "        async function convertToInteractive(key) {\n",
              "          const element = document.querySelector('#df-21374ae1-73c4-4fdb-a8fc-886ceb7313aa');\n",
              "          const dataTable =\n",
              "            await google.colab.kernel.invokeFunction('convertToInteractive',\n",
              "                                                     [key], {});\n",
              "          if (!dataTable) return;\n",
              "\n",
              "          const docLinkHtml = 'Like what you see? Visit the ' +\n",
              "            '<a target=\"_blank\" href=https://colab.research.google.com/notebooks/data_table.ipynb>data table notebook</a>'\n",
              "            + ' to learn more about interactive tables.';\n",
              "          element.innerHTML = '';\n",
              "          dataTable['output_type'] = 'display_data';\n",
              "          await google.colab.output.renderOutput(dataTable, element);\n",
              "          const docLink = document.createElement('div');\n",
              "          docLink.innerHTML = docLinkHtml;\n",
              "          element.appendChild(docLink);\n",
              "        }\n",
              "      </script>\n",
              "    </div>\n",
              "  </div>\n",
              "  "
            ]
          },
          "metadata": {},
          "execution_count": 3
        }
      ],
      "source": [
        "df_raw"
      ]
    },
    {
      "cell_type": "markdown",
      "metadata": {
        "id": "lfYsCRYg2r2D"
      },
      "source": [
        "# 1  Decision tree"
      ]
    },
    {
      "cell_type": "code",
      "execution_count": 4,
      "metadata": {
        "id": "4ZPaLgn_dSV0"
      },
      "outputs": [],
      "source": [
        "from sklearn.tree import DecisionTreeClassifier\n",
        "from sklearn import tree\n",
        "\n",
        "from sklearn.model_selection import train_test_split\n",
        "from sklearn.metrics import confusion_matrix\n",
        "\n",
        "from sklearn.model_selection import GridSearchCV\n",
        "\n",
        "from sklearn.metrics import accuracy_score, precision_score, recall_score, f1_score"
      ]
    },
    {
      "cell_type": "code",
      "execution_count": 5,
      "metadata": {
        "id": "HjFwkddLh7qF"
      },
      "outputs": [],
      "source": [
        "# K-Fold cross validation\n",
        "from sklearn.model_selection import cross_val_score\n",
        "from sklearn.model_selection import KFold"
      ]
    },
    {
      "cell_type": "code",
      "execution_count": 6,
      "metadata": {
        "id": "F4GXFaEX21ag"
      },
      "outputs": [],
      "source": [
        "import warnings\n",
        "warnings.filterwarnings('ignore')"
      ]
    },
    {
      "cell_type": "code",
      "execution_count": 7,
      "metadata": {
        "id": "olfZlbmXS3_g"
      },
      "outputs": [],
      "source": [
        "data = df_raw.drop('Churn',axis=1)\n",
        "target = df_raw.Churn"
      ]
    },
    {
      "cell_type": "code",
      "execution_count": 8,
      "metadata": {
        "id": "yWDs4FgfTgiC"
      },
      "outputs": [],
      "source": [
        "# train / test 분류\n",
        "seed = 42\n",
        "X_train, X_test, y_train, y_test = train_test_split(data, target, test_size=0.2, stratify=target, random_state = seed)"
      ]
    },
    {
      "cell_type": "code",
      "execution_count": 9,
      "metadata": {
        "colab": {
          "base_uri": "https://localhost:8080/"
        },
        "id": "in5VUU7d4tYm",
        "outputId": "f9be25ce-924a-483e-bfc1-144fe1e4ff06"
      },
      "outputs": [
        {
          "output_type": "execute_result",
          "data": {
            "text/plain": [
              "array([0.15305792, 0.01679047, 0.1879642 , 0.20058107, 0.17543388,\n",
              "       0.01770192, 0.02215524, 0.01353656, 0.        , 0.01531443,\n",
              "       0.00950435, 0.01707182, 0.00797152, 0.02231338, 0.00802156,\n",
              "       0.01188362, 0.01750494, 0.03486435, 0.01768136, 0.01272454,\n",
              "       0.02965653, 0.00826637])"
            ]
          },
          "metadata": {},
          "execution_count": 9
        }
      ],
      "source": [
        "# fit the tree\n",
        "dtree = DecisionTreeClassifier(random_state=42)\n",
        "dtree.fit(X_train, y_train)\n",
        "\n",
        "# feature importances\n",
        "dtree.feature_importances_"
      ]
    },
    {
      "cell_type": "code",
      "execution_count": null,
      "metadata": {
        "colab": {
          "base_uri": "https://localhost:8080/",
          "height": 466
        },
        "id": "Uw73cYWHldcn",
        "outputId": "63e3e298-7dae-4c72-9d23-d5cbdc18b6f9"
      },
      "outputs": [
        {
          "data": {
            "image/png": "[encoded data removed]",
            "text/plain": [
              "<Figure size 1080x576 with 1 Axes>"
            ]
          },
          "metadata": {},
          "output_type": "display_data"
        }
      ],
      "source": [
        "# Plot Tree with plot_tree\n",
        "fig = plt.figure(figsize=(15, 8))\n",
        "_ = tree.plot_tree(dtree, feature_names=X_train.columns)"
      ]
    },
    {
      "cell_type": "code",
      "execution_count": 10,
      "metadata": {
        "id": "OB96Pt6mfVjd"
      },
      "outputs": [],
      "source": [
        "# parameters: path, ccp_alpha, max_depth\n",
        "criterions = ['gini', 'entropy']\n",
        "path = dtree.cost_complexity_pruning_path(X_train, y_train)\n",
        "ccp_alphas = path.ccp_alphas\n",
        "max_depths = [2,4,6,8]"
      ]
    },
    {
      "cell_type": "code",
      "execution_count": 11,
      "metadata": {
        "id": "G1n7RyQDhrll"
      },
      "outputs": [],
      "source": [
        "# Base model은 k-fold cross-validation으로 훈련\n",
        "# 5개의 fold를 구성합니다.\n",
        "cv = KFold(n_splits=5)"
      ]
    },
    {
      "cell_type": "code",
      "execution_count": 12,
      "metadata": {
        "id": "7avz3gS152gX"
      },
      "outputs": [],
      "source": [
        "# 테스트하고자 하는 파라미터 값들을 사전타입으로 정의\n",
        "parameters = {'criterion':criterions,\n",
        "              'max_depth':max_depths, \n",
        "              'ccp_alpha':ccp_alphas }"
      ]
    },
    {
      "cell_type": "code",
      "execution_count": 14,
      "metadata": {
        "colab": {
          "base_uri": "https://localhost:8080/"
        },
        "id": "n4OYVQx2fwPZ",
        "outputId": "0fd7193f-f0c3-4c5f-9e5c-8f1854599d68"
      },
      "outputs": [
        {
          "output_type": "execute_result",
          "data": {
            "text/plain": [
              "GridSearchCV(cv=KFold(n_splits=5, random_state=None, shuffle=False),\n",
              "             estimator=DecisionTreeClassifier(random_state=42), n_jobs=-1,\n",
              "             param_grid={'ccp_alpha': array([0.        , 0.00019841, 0.00022825, 0.00024202, 0.00024529,\n",
              "       0.0002551 , 0.0002551 , 0.00026573, 0.00026573, 0.00026573,\n",
              "       0.0002726 , 0.00027332, 0.00027332, 0.00027332, 0.00027332,\n",
              "       0.00027332, 0.00027332, 0.00027332, 0.0002...\n",
              "       0.00093414, 0.0009849 , 0.00102102, 0.00103847, 0.00104644,\n",
              "       0.00105933, 0.00106777, 0.00115292, 0.00119655, 0.00131263,\n",
              "       0.00135401, 0.00136552, 0.00136986, 0.00140303, 0.00145677,\n",
              "       0.00167483, 0.00231531, 0.00232847, 0.00243992, 0.00282623,\n",
              "       0.00341608, 0.00391523, 0.00739196, 0.00910813, 0.00985306,\n",
              "       0.01577125, 0.07317665]),\n",
              "                         'criterion': ['gini', 'entropy'],\n",
              "                         'max_depth': [2, 4, 6, 8]})"
            ]
          },
          "metadata": {},
          "execution_count": 14
        }
      ],
      "source": [
        "grid_tree = GridSearchCV(dtree,\n",
        "                      param_grid = parameters, cv = cv, n_jobs= -1)\n",
        "\n",
        "grid_tree.fit(X_train, y_train)"
      ]
    },
    {
      "cell_type": "code",
      "execution_count": 15,
      "metadata": {
        "id": "LTZd86KO8Fob",
        "colab": {
          "base_uri": "https://localhost:8080/"
        },
        "outputId": "38d762f7-1df8-453d-c31b-88475d14d348"
      },
      "outputs": [
        {
          "output_type": "execute_result",
          "data": {
            "text/plain": [
              "{'ccp_alpha': 0.0010677683265110185, 'criterion': 'gini', 'max_depth': 6}"
            ]
          },
          "metadata": {},
          "execution_count": 15
        }
      ],
      "source": [
        "# 가장 성능이 좋았던 파라미터를 출력합니다.\n",
        "grid_tree.best_params_"
      ]
    },
    {
      "cell_type": "markdown",
      "metadata": {
        "id": "_brQMYnj8R9w"
      },
      "source": [
        "> criterion = 'gini', max_depth = 6, ccp_alpha = 0.00107 가 Best parameters"
      ]
    },
    {
      "cell_type": "code",
      "execution_count": 16,
      "metadata": {
        "id": "ELUrG9Mq8HJv",
        "colab": {
          "base_uri": "https://localhost:8080/"
        },
        "outputId": "8e949f80-138b-405b-dfd3-eb0416c23469"
      },
      "outputs": [
        {
          "output_type": "execute_result",
          "data": {
            "text/plain": [
              "0.74"
            ]
          },
          "metadata": {},
          "execution_count": 16
        }
      ],
      "source": [
        "# 가장 성능이 좋았던 파라미터로 수행한 모델을 저장합니다.\n",
        "best_dtree = grid_tree.best_estimator_\n",
        "\n",
        "# 가장 좋은 성능을 보여준 모델의 결과를 출력합니다.\n",
        "best_dtree.score(X_test, y_test).round(2)"
      ]
    },
    {
      "cell_type": "code",
      "execution_count": 17,
      "metadata": {
        "id": "ByA83_pB8cLZ"
      },
      "outputs": [],
      "source": [
        "pred = best_dtree.predict(X_test)"
      ]
    },
    {
      "cell_type": "code",
      "execution_count": 18,
      "metadata": {
        "id": "44rBpO9D8cLa",
        "colab": {
          "base_uri": "https://localhost:8080/"
        },
        "outputId": "b60fc22a-dc14-4cc8-93af-2055c1328922"
      },
      "outputs": [
        {
          "output_type": "stream",
          "name": "stdout",
          "text": [
            "[[412 102]\n",
            " [104 167]]\n"
          ]
        }
      ],
      "source": [
        "cfm = confusion_matrix(y_test, pred)\n",
        "print(cfm)"
      ]
    },
    {
      "cell_type": "code",
      "execution_count": 19,
      "metadata": {
        "id": "6yD9FRP_8cLb",
        "colab": {
          "base_uri": "https://localhost:8080/"
        },
        "outputId": "3ea90d41-156a-41d5-9e45-d5f31014a586"
      },
      "outputs": [
        {
          "output_type": "stream",
          "name": "stdout",
          "text": [
            "Accuracy : 0.74\n",
            "Precision : 0.62\n",
            "Recall : 0.62\n",
            "F1 : 0.62\n"
          ]
        }
      ],
      "source": [
        "# 테스트 데이터셋에 대한 성과측정\n",
        "print('Accuracy : %.2f' % accuracy_score(y_test, pred))\n",
        "print('Precision : %.2f' % precision_score(y_test, pred))\n",
        "print('Recall : %.2f' % recall_score(y_test, pred))\n",
        "print('F1 : %.2f' % f1_score(y_test, pred))"
      ]
    },
    {
      "cell_type": "markdown",
      "metadata": {
        "id": "6fqRxxYA8cLc"
      },
      "source": [
        "> 성과가 뛰어난 편은 아니다."
      ]
    },
    {
      "cell_type": "code",
      "execution_count": 20,
      "metadata": {
        "id": "Jr568EFr26yg",
        "colab": {
          "base_uri": "https://localhost:8080/",
          "height": 424
        },
        "outputId": "a4b13576-d1fc-40d1-afe8-1bee9235487c"
      },
      "outputs": [
        {
          "output_type": "execute_result",
          "data": {
            "text/plain": [
              "      ccp_alpha criterion  max_depth  mean_test_score\n",
              "2130   0.001068      gini          6         0.748407\n",
              "2163   0.001354      gini          8         0.748407\n",
              "2122   0.001059      gini          6         0.748088\n",
              "2114   0.001046      gini          6         0.748088\n",
              "2138   0.001153      gini          6         0.748088\n",
              "...         ...       ...        ...              ...\n",
              "3      0.000000      gini          8         0.726402\n",
              "2288   0.073177      gini          2         0.697061\n",
              "2289   0.073177      gini          4         0.697061\n",
              "2290   0.073177      gini          6         0.697061\n",
              "2291   0.073177      gini          8         0.697061\n",
              "\n",
              "[2296 rows x 4 columns]"
            ],
            "text/html": [
              "\n",
              "  <div id=\"df-95294b43-5633-45f4-a94c-7ad20f61bc19\">\n",
              "    <div class=\"colab-df-container\">\n",
              "      <div>\n",
              "<style scoped>\n",
              "    .dataframe tbody tr th:only-of-type {\n",
              "        vertical-align: middle;\n",
              "    }\n",
              "\n",
              "    .dataframe tbody tr th {\n",
              "        vertical-align: top;\n",
              "    }\n",
              "\n",
              "    .dataframe thead th {\n",
              "        text-align: right;\n",
              "    }\n",
              "</style>\n",
              "<table border=\"1\" class=\"dataframe\">\n",
              "  <thead>\n",
              "    <tr style=\"text-align: right;\">\n",
              "      <th></th>\n",
              "      <th>ccp_alpha</th>\n",
              "      <th>criterion</th>\n",
              "      <th>max_depth</th>\n",
              "      <th>mean_test_score</th>\n",
              "    </tr>\n",
              "  </thead>\n",
              "  <tbody>\n",
              "    <tr>\n",
              "      <th>2130</th>\n",
              "      <td>0.001068</td>\n",
              "      <td>gini</td>\n",
              "      <td>6</td>\n",
              "      <td>0.748407</td>\n",
              "    </tr>\n",
              "    <tr>\n",
              "      <th>2163</th>\n",
              "      <td>0.001354</td>\n",
              "      <td>gini</td>\n",
              "      <td>8</td>\n",
              "      <td>0.748407</td>\n",
              "    </tr>\n",
              "    <tr>\n",
              "      <th>2122</th>\n",
              "      <td>0.001059</td>\n",
              "      <td>gini</td>\n",
              "      <td>6</td>\n",
              "      <td>0.748088</td>\n",
              "    </tr>\n",
              "    <tr>\n",
              "      <th>2114</th>\n",
              "      <td>0.001046</td>\n",
              "      <td>gini</td>\n",
              "      <td>6</td>\n",
              "      <td>0.748088</td>\n",
              "    </tr>\n",
              "    <tr>\n",
              "      <th>2138</th>\n",
              "      <td>0.001153</td>\n",
              "      <td>gini</td>\n",
              "      <td>6</td>\n",
              "      <td>0.748088</td>\n",
              "    </tr>\n",
              "    <tr>\n",
              "      <th>...</th>\n",
              "      <td>...</td>\n",
              "      <td>...</td>\n",
              "      <td>...</td>\n",
              "      <td>...</td>\n",
              "    </tr>\n",
              "    <tr>\n",
              "      <th>3</th>\n",
              "      <td>0.000000</td>\n",
              "      <td>gini</td>\n",
              "      <td>8</td>\n",
              "      <td>0.726402</td>\n",
              "    </tr>\n",
              "    <tr>\n",
              "      <th>2288</th>\n",
              "      <td>0.073177</td>\n",
              "      <td>gini</td>\n",
              "      <td>2</td>\n",
              "      <td>0.697061</td>\n",
              "    </tr>\n",
              "    <tr>\n",
              "      <th>2289</th>\n",
              "      <td>0.073177</td>\n",
              "      <td>gini</td>\n",
              "      <td>4</td>\n",
              "      <td>0.697061</td>\n",
              "    </tr>\n",
              "    <tr>\n",
              "      <th>2290</th>\n",
              "      <td>0.073177</td>\n",
              "      <td>gini</td>\n",
              "      <td>6</td>\n",
              "      <td>0.697061</td>\n",
              "    </tr>\n",
              "    <tr>\n",
              "      <th>2291</th>\n",
              "      <td>0.073177</td>\n",
              "      <td>gini</td>\n",
              "      <td>8</td>\n",
              "      <td>0.697061</td>\n",
              "    </tr>\n",
              "  </tbody>\n",
              "</table>\n",
              "<p>2296 rows × 4 columns</p>\n",
              "</div>\n",
              "      <button class=\"colab-df-convert\" onclick=\"convertToInteractive('df-95294b43-5633-45f4-a94c-7ad20f61bc19')\"\n",
              "              title=\"Convert this dataframe to an interactive table.\"\n",
              "              style=\"display:none;\">\n",
              "        \n",
              "  <svg xmlns=\"http://www.w3.org/2000/svg\" height=\"24px\"viewBox=\"0 0 24 24\"\n",
              "       width=\"24px\">\n",
              "    <path d=\"M0 0h24v24H0V0z\" fill=\"none\"/>\n",
              "    <path d=\"M18.56 5.44l.94 2.06.94-2.06 2.06-.94-2.06-.94-.94-2.06-.94 2.06-2.06.94zm-11 1L8.5 8.5l.94-2.06 2.06-.94-2.06-.94L8.5 2.5l-.94 2.06-2.06.94zm10 10l.94 2.06.94-2.06 2.06-.94-2.06-.94-.94-2.06-.94 2.06-2.06.94z\"/><path d=\"M17.41 7.96l-1.37-1.37c-.4-.4-.92-.59-1.43-.59-.52 0-1.04.2-1.43.59L10.3 9.45l-7.72 7.72c-.78.78-.78 2.05 0 2.83L4 21.41c.39.39.9.59 1.41.59.51 0 1.02-.2 1.41-.59l7.78-7.78 2.81-2.81c.8-.78.8-2.07 0-2.86zM5.41 20L4 18.59l7.72-7.72 1.47 1.35L5.41 20z\"/>\n",
              "  </svg>\n",
              "      </button>\n",
              "      \n",
              "  <style>\n",
              "    .colab-df-container {\n",
              "      display:flex;\n",
              "      flex-wrap:wrap;\n",
              "      gap: 12px;\n",
              "    }\n",
              "\n",
              "    .colab-df-convert {\n",
              "      background-color: #E8F0FE;\n",
              "      border: none;\n",
              "      border-radius: 50%;\n",
              "      cursor: pointer;\n",
              "      display: none;\n",
              "      fill: #1967D2;\n",
              "      height: 32px;\n",
              "      padding: 0 0 0 0;\n",
              "      width: 32px;\n",
              "    }\n",
              "\n",
              "    .colab-df-convert:hover {\n",
              "      background-color: #E2EBFA;\n",
              "      box-shadow: 0px 1px 2px rgba(60, 64, 67, 0.3), 0px 1px 3px 1px rgba(60, 64, 67, 0.15);\n",
              "      fill: #174EA6;\n",
              "    }\n",
              "\n",
              "    [theme=dark] .colab-df-convert {\n",
              "      background-color: #3B4455;\n",
              "      fill: #D2E3FC;\n",
              "    }\n",
              "\n",
              "    [theme=dark] .colab-df-convert:hover {\n",
              "      background-color: #434B5C;\n",
              "      box-shadow: 0px 1px 3px 1px rgba(0, 0, 0, 0.15);\n",
              "      filter: drop-shadow(0px 1px 2px rgba(0, 0, 0, 0.3));\n",
              "      fill: #FFFFFF;\n",
              "    }\n",
              "  </style>\n",
              "\n",
              "      <script>\n",
              "        const buttonEl =\n",
              "          document.querySelector('#df-95294b43-5633-45f4-a94c-7ad20f61bc19 button.colab-df-convert');\n",
              "        buttonEl.style.display =\n",
              "          google.colab.kernel.accessAllowed ? 'block' : 'none';\n",
              "\n",
              "        async function convertToInteractive(key) {\n",
              "          const element = document.querySelector('#df-95294b43-5633-45f4-a94c-7ad20f61bc19');\n",
              "          const dataTable =\n",
              "            await google.colab.kernel.invokeFunction('convertToInteractive',\n",
              "                                                     [key], {});\n",
              "          if (!dataTable) return;\n",
              "\n",
              "          const docLinkHtml = 'Like what you see? Visit the ' +\n",
              "            '<a target=\"_blank\" href=https://colab.research.google.com/notebooks/data_table.ipynb>data table notebook</a>'\n",
              "            + ' to learn more about interactive tables.';\n",
              "          element.innerHTML = '';\n",
              "          dataTable['output_type'] = 'display_data';\n",
              "          await google.colab.output.renderOutput(dataTable, element);\n",
              "          const docLink = document.createElement('div');\n",
              "          docLink.innerHTML = docLinkHtml;\n",
              "          element.appendChild(docLink);\n",
              "        }\n",
              "      </script>\n",
              "    </div>\n",
              "  </div>\n",
              "  "
            ]
          },
          "metadata": {},
          "execution_count": 20
        }
      ],
      "source": [
        "result = pd.DataFrame(grid_tree.cv_results_['params'])\n",
        "result['mean_test_score'] = grid_tree.cv_results_['mean_test_score']\n",
        "\n",
        "# 결과값을 내림차순으로 정의. 즉 맨 위의 행이 가장 mean test score가 뛰어난 결과값\n",
        "result.sort_values(by='mean_test_score', ascending=False)"
      ]
    },
    {
      "cell_type": "markdown",
      "metadata": {
        "id": "YRIW7ZuD7vwW"
      },
      "source": [
        "# 2  Ensemble"
      ]
    },
    {
      "cell_type": "markdown",
      "metadata": {
        "id": "lBGzQVpnWnxY"
      },
      "source": [
        "* Ensemble모형에서 사용하는 기본 단위모형을 base model 혹은 weak learner라고 부르며, 성능이 우수한 모형이나 ensemble model 자체를 strong learner이라고 부르기도 한다.\n",
        "\n",
        "  * weak learner은 overfitting의 우려가 없는, random guess보다 (살짝) 나은 모형을 의미한다.\n",
        "    * Stump, k-Nearest Neighbors, Naive Bayes\n",
        "  * strong learner는 weak learner에 비해 월등한 성과를 보이는 모형을 의미한다.\n",
        "    * logistic regression, SVM\n",
        "  * ensemble method는 weak learner들을 strong learner로 바꾸는 것이다.\n",
        "  \n",
        "* 훈련과정과 최종결과를 얻는 과정에 따라 bagging, boosting, stacking으로 구분한다."
      ]
    },
    {
      "cell_type": "markdown",
      "metadata": {
        "id": "ATaRvIAh7yIv"
      },
      "source": [
        "## 2.1  Bagging"
      ]
    },
    {
      "cell_type": "markdown",
      "metadata": {
        "id": "4vrGXoHPPPQv"
      },
      "source": [
        "#### 랜덤 포레스트의 하이퍼 파라미터\n",
        "\n",
        "* n_estimators: 결정 트리의 개수를 의미합니다. 디폴트값은 10개입니다. 계속 증가시킨다고 해서 성능이 무조건 향상되는 것은 아닙니다.(개수의 수가 늘어날수록 수행 시간이 오래 걸린다는 것을 감안하여야 합니다.)\n",
        "\n",
        "* max_features: 결정 트리의 max_features 파라미터와 동일합니다. 랜덤 포레스트에서는 디폴트 값이 'auto'입니다.  auto: sqrt(전체 피처 개수)\n",
        "\n",
        "* 결정 트리와 동일하게 과적합 개선을 위해서 max_depth와 min_samples_leaf가 사용이 됩니다.\n",
        " "
      ]
    },
    {
      "cell_type": "code",
      "execution_count": 21,
      "metadata": {
        "id": "p_wJ2lab7xk0"
      },
      "outputs": [],
      "source": [
        "from sklearn.metrics import classification_report\n",
        "from sklearn.ensemble import RandomForestClassifier"
      ]
    },
    {
      "cell_type": "code",
      "execution_count": 22,
      "metadata": {
        "id": "WXFANEAf_9-l"
      },
      "outputs": [],
      "source": [
        "data = df_raw.drop('Churn',axis=1)\n",
        "target = df_raw.Churn"
      ]
    },
    {
      "cell_type": "code",
      "execution_count": 23,
      "metadata": {
        "id": "Nq2tLrHRm8B4"
      },
      "outputs": [],
      "source": [
        "# train / test 분류\n",
        "seed = 42\n",
        "X_train, X_test, y_train, y_test = train_test_split(data, target, test_size=0.3, stratify=target, random_state = seed)"
      ]
    },
    {
      "cell_type": "code",
      "execution_count": 24,
      "metadata": {
        "id": "dnEOvutC4eJ4"
      },
      "outputs": [],
      "source": [
        "# instantiate the classifier \n",
        "rfc = RandomForestClassifier(\n",
        "    criterion='entropy',\n",
        "    n_estimators=100,\n",
        "    n_jobs=-1,\n",
        "    max_depth=100,\n",
        "    random_state=42\n",
        "    )\n",
        "rfc.fit(X_train, y_train)\n",
        "y_pred = rfc.predict(X_test)"
      ]
    },
    {
      "cell_type": "markdown",
      "metadata": {
        "id": "cXLO7qAeW_Tx"
      },
      "source": [
        "> The number of estimators is equivalent to the parameter described for Random Forest. Base estimators is the model type of the underlying models. In sklearn learn, the default base estimator is decision stumps (decision trees with max_depth = 1).\n",
        "\n",
        "> n_estimators로 base estimator(decision stump)의 수 지정."
      ]
    },
    {
      "cell_type": "code",
      "execution_count": 25,
      "metadata": {
        "id": "-_L-G2eR4j5B",
        "colab": {
          "base_uri": "https://localhost:8080/"
        },
        "outputId": "70217e88-b1da-4ca8-9367-59919a23e48b"
      },
      "outputs": [
        {
          "output_type": "stream",
          "name": "stdout",
          "text": [
            "              precision    recall  f1-score   support\n",
            "\n",
            "           0       0.78      0.85      0.81       770\n",
            "           1       0.66      0.55      0.60       407\n",
            "\n",
            "    accuracy                           0.75      1177\n",
            "   macro avg       0.72      0.70      0.71      1177\n",
            "weighted avg       0.74      0.75      0.74      1177\n",
            "\n"
          ]
        }
      ],
      "source": [
        "print(classification_report(y_test, y_pred))"
      ]
    },
    {
      "cell_type": "code",
      "execution_count": 26,
      "metadata": {
        "id": "j6tgmrDw4j5D",
        "colab": {
          "base_uri": "https://localhost:8080/"
        },
        "outputId": "0232a6e9-4cef-470b-bafc-4e20623c5129"
      },
      "outputs": [
        {
          "output_type": "execute_result",
          "data": {
            "text/plain": [
              "TotalCharges                      0.196353\n",
              "MonthlyCharges                    0.152299\n",
              "Unnamed: 0                        0.136194\n",
              "tenure                            0.116742\n",
              "TechSupport_Yes                   0.034413\n",
              "Contract_Two year                 0.032507\n",
              "OnlineSecurity_Yes                0.029662\n",
              "PaymentMethod_Electronic check    0.029337\n",
              "gender_Male                       0.027016\n",
              "OnlineBackup_Yes                  0.026135\n",
              "dtype: float64"
            ]
          },
          "metadata": {},
          "execution_count": 26
        }
      ],
      "source": [
        "# create the classifier with n_estimators = 100\n",
        "feature_scores = pd.Series(rfc.feature_importances_, index=X_train.columns).sort_values(ascending=False)\n",
        "feature_scores[:10]"
      ]
    },
    {
      "cell_type": "code",
      "execution_count": 27,
      "metadata": {
        "id": "EmMP0EPf4j5F",
        "colab": {
          "base_uri": "https://localhost:8080/"
        },
        "outputId": "1efe4496-3f3c-4df1-8a50-d360a4b3da75"
      },
      "outputs": [
        {
          "output_type": "stream",
          "name": "stdout",
          "text": [
            "[[655 115]\n",
            " [183 224]]\n"
          ]
        }
      ],
      "source": [
        "# confusion matrix\n",
        "cfm = confusion_matrix(y_test, y_pred)\n",
        "print(cfm)"
      ]
    },
    {
      "cell_type": "code",
      "execution_count": 28,
      "metadata": {
        "id": "YXltoAlH4j5G",
        "colab": {
          "base_uri": "https://localhost:8080/"
        },
        "outputId": "9d3cbf41-01d6-4e68-cf69-db48aca4b903"
      },
      "outputs": [
        {
          "output_type": "stream",
          "name": "stdout",
          "text": [
            "총 테스트 개수: 1177, 오류 개수: 298\n"
          ]
        }
      ],
      "source": [
        "print('총 테스트 개수: %d, 오류 개수: %d' %(len(y_test), (y_test != y_pred).sum()))"
      ]
    },
    {
      "cell_type": "code",
      "execution_count": 29,
      "metadata": {
        "id": "06XJc3QAIB2V",
        "colab": {
          "base_uri": "https://localhost:8080/"
        },
        "outputId": "d10d32e1-c9a5-42db-9abd-9bb6bbb0c855"
      },
      "outputs": [
        {
          "output_type": "stream",
          "name": "stdout",
          "text": [
            "Accuracy : 0.75\n",
            "Precision : 0.66\n",
            "Recall : 0.55\n",
            "F1 : 0.60\n"
          ]
        }
      ],
      "source": [
        "# 테스트 데이터셋에 대한 성과측정\n",
        "print('Accuracy : %.2f' % accuracy_score(y_test, y_pred))\n",
        "print('Precision : %.2f' % precision_score(y_test, y_pred))\n",
        "print('Recall : %.2f' % recall_score(y_test, y_pred))\n",
        "print('F1 : %.2f' % f1_score(y_test, y_pred))"
      ]
    },
    {
      "cell_type": "markdown",
      "metadata": {
        "id": "nqXDrmi-5qvk"
      },
      "source": [
        "> Decision Tree에 비해 눈에 띄게 개선되지 않았다."
      ]
    },
    {
      "cell_type": "markdown",
      "metadata": {
        "id": "UCfT6nq-7BvQ"
      },
      "source": [
        "## 2.2  Adaboost"
      ]
    },
    {
      "cell_type": "markdown",
      "metadata": {
        "id": "pr8_am70JoaZ"
      },
      "source": [
        "#### AdaBoost의 하이퍼파라미터\n",
        "* base_estimators\n",
        "\n",
        "  * 학습에 사용하는 알고리즘\n",
        "  * default : None → DecisionTreeClassifier(max_depth = 1) 이 적용\n",
        "\n",
        "* n_estimators\n",
        "\n",
        "  * 생성할 약한 학습기의 개수를 지정\n",
        "\n",
        "  * default : 50\n",
        "\n",
        "* learning_rate\n",
        "\n",
        "  * 학습을 진행할 때마다 적용하는 학습률(0~1 사이의 값)\n",
        "  * 약한 학습기가 순차적으로 오류값을 보정해나갈 때 적용하는 계수\n",
        "  * default : 1\n",
        "  * 낮은만큼 최소 손실값을 찾아 예측 성능이 높아질 수 있음\n",
        "  * 하지만 그 만큼 많은 수의 트리가 필요하고 시간이 많이 소요\n",
        "\n",
        "> n_estimators 를 늘린다면 생성되는 약한 학습기의 수는 늘어납니다. 하지만 이 여러 학습기들의 decision boundary가 많아지면서 모델이 복잡해집니다.\n",
        "\n",
        "> learning_rate 을 줄인다면, 가중치의 갱신 변동폭이 감소해서, 여러 학습기들의 decision boundary의 차이가 줄어듭니다.\n",
        "\n",
        "> 이 두 파라미터를 잘 조정하는 것이 AdaBoost 하이퍼 파라미터 튜닝의 핵심입니다."
      ]
    },
    {
      "cell_type": "code",
      "execution_count": 30,
      "metadata": {
        "id": "kfvkNjcUWMpm"
      },
      "outputs": [],
      "source": [
        "from sklearn.ensemble import AdaBoostClassifier"
      ]
    },
    {
      "cell_type": "code",
      "execution_count": 31,
      "metadata": {
        "id": "MlG81-LqWtM0"
      },
      "outputs": [],
      "source": [
        "data = df_raw.drop('Churn',axis=1)\n",
        "target = df_raw.Churn"
      ]
    },
    {
      "cell_type": "code",
      "execution_count": 32,
      "metadata": {
        "id": "ZUY_C2AgWtM1"
      },
      "outputs": [],
      "source": [
        "# train / test 분류\n",
        "seed = 42\n",
        "X_train, X_test, y_train, y_test = train_test_split(data, target, test_size=0.2, stratify=target, random_state = seed)"
      ]
    },
    {
      "cell_type": "code",
      "execution_count": 33,
      "metadata": {
        "id": "1MXwAUVJK5UU"
      },
      "outputs": [],
      "source": [
        "# AdaBoost를 위한 base model(weak learner) 설정\n",
        "# decision stump: max_depth = 1\n",
        "base_model = DecisionTreeClassifier(max_depth = 1, random_state=42)"
      ]
    },
    {
      "cell_type": "markdown",
      "metadata": {
        "id": "7_EdIcelULKr"
      },
      "source": [
        "> Weak learner로는 depth가 1인 decision stump을 많이 사용한다. sklearn default는 max_depth=3"
      ]
    },
    {
      "cell_type": "code",
      "execution_count": 34,
      "metadata": {
        "id": "lxDRa4c3K5UV",
        "colab": {
          "base_uri": "https://localhost:8080/"
        },
        "outputId": "f8b39fe9-a957-4e30-c221-590fa26ef05c"
      },
      "outputs": [
        {
          "output_type": "execute_result",
          "data": {
            "text/plain": [
              "AdaBoostClassifier(base_estimator=DecisionTreeClassifier(max_depth=1,\n",
              "                                                         random_state=42),\n",
              "                   random_state=42)"
            ]
          },
          "metadata": {},
          "execution_count": 34
        }
      ],
      "source": [
        "# 모델 학습\n",
        "ada_model = AdaBoostClassifier(\n",
        "    base_estimator=base_model,\n",
        "    random_state=42)\n",
        "ada_model.fit(X_train, y_train)"
      ]
    },
    {
      "cell_type": "code",
      "execution_count": 35,
      "metadata": {
        "id": "ps1hB-yFKJax"
      },
      "outputs": [],
      "source": [
        "# gridsearch를 위한 parameter 후보 설정\n",
        "param = {\n",
        "    'n_estimators' : [100, 300, 500], # 트리의 개수 : 100개 , 300개, 500개\n",
        "    'learning_rate' : [0.01, 0.1, 1] # 학습률 : 0.01, 0.1, 1\n",
        "}"
      ]
    },
    {
      "cell_type": "code",
      "execution_count": 36,
      "metadata": {
        "id": "AnbTkWeCKQLV",
        "colab": {
          "base_uri": "https://localhost:8080/"
        },
        "outputId": "44668f3e-9fc4-4a74-bc46-6dfb02c1bed3"
      },
      "outputs": [
        {
          "output_type": "execute_result",
          "data": {
            "text/plain": [
              "GridSearchCV(cv=KFold(n_splits=5, random_state=None, shuffle=False),\n",
              "             estimator=AdaBoostClassifier(base_estimator=DecisionTreeClassifier(max_depth=1,\n",
              "                                                                                random_state=42),\n",
              "                                          random_state=42),\n",
              "             n_jobs=-1,\n",
              "             param_grid={'learning_rate': [0.01, 0.1, 1],\n",
              "                         'n_estimators': [100, 300, 500]})"
            ]
          },
          "metadata": {},
          "execution_count": 36
        }
      ],
      "source": [
        "# gridsearch : AdaBoost\n",
        "grid_ada = GridSearchCV(ada_model,\n",
        "                      param_grid = param, cv = cv, n_jobs= -1)\n",
        "\n",
        "grid_ada.fit(X_train, y_train)"
      ]
    },
    {
      "cell_type": "code",
      "execution_count": 37,
      "metadata": {
        "id": "VCCZX5Ro85xK",
        "colab": {
          "base_uri": "https://localhost:8080/"
        },
        "outputId": "c08f7f2c-a08e-4647-d702-2a484c5a66fa"
      },
      "outputs": [
        {
          "output_type": "execute_result",
          "data": {
            "text/plain": [
              "{'learning_rate': 0.1, 'n_estimators': 300}"
            ]
          },
          "metadata": {},
          "execution_count": 37
        }
      ],
      "source": [
        "# 가장 성능이 좋았던 파라미터를 출력합니다.\n",
        "grid_ada.best_params_"
      ]
    },
    {
      "cell_type": "markdown",
      "metadata": {
        "id": "OE2QirqsKQLZ"
      },
      "source": [
        "> n_estimators = 300, learning_rate = 0.1 가 Best parameters"
      ]
    },
    {
      "cell_type": "code",
      "execution_count": 38,
      "metadata": {
        "id": "hykbRSmV85xN",
        "colab": {
          "base_uri": "https://localhost:8080/"
        },
        "outputId": "cc079ce7-f17b-43ea-ce45-26e7a107360e"
      },
      "outputs": [
        {
          "output_type": "execute_result",
          "data": {
            "text/plain": [
              "0.74"
            ]
          },
          "metadata": {},
          "execution_count": 38
        }
      ],
      "source": [
        "# 가장 성능이 좋았던 파라미터로 수행한 모델을 저장합니다.\n",
        "best_ada = grid_ada.best_estimator_\n",
        "\n",
        "# 가장 좋은 성능을 보여준 모델의 결과를 출력합니다.\n",
        "best_ada.score(X_test, y_test).round(2)"
      ]
    },
    {
      "cell_type": "code",
      "execution_count": 39,
      "metadata": {
        "id": "7ej1nmce9FIc",
        "colab": {
          "base_uri": "https://localhost:8080/"
        },
        "outputId": "a189f28c-dbca-4930-c846-31798759bdaf"
      },
      "outputs": [
        {
          "output_type": "stream",
          "name": "stdout",
          "text": [
            "훈련 세트 평가(정확도) : 0.78\n",
            "테스트 세트 평가(정확도) : 0.74\n"
          ]
        }
      ],
      "source": [
        "# 평가\n",
        "print(\"훈련 세트 평가(정확도) : {:.2f}\".format(best_ada.score(X_train, y_train)))\n",
        "print(\"테스트 세트 평가(정확도) : {:.2f}\".format(best_ada.score(X_test, y_test)))"
      ]
    },
    {
      "cell_type": "code",
      "execution_count": 40,
      "metadata": {
        "id": "DDGsPkIK9FId",
        "colab": {
          "base_uri": "https://localhost:8080/"
        },
        "outputId": "435d3bb2-ed28-4952-e5ea-512f3eabcbf3"
      },
      "outputs": [
        {
          "output_type": "stream",
          "name": "stdout",
          "text": [
            "[[433  81]\n",
            " [124 147]]\n"
          ]
        }
      ],
      "source": [
        "y_pred = best_ada.predict(X_test)\n",
        "\n",
        "# confusion matrix\n",
        "cfm = confusion_matrix(y_test, y_pred)\n",
        "print(cfm)"
      ]
    },
    {
      "cell_type": "code",
      "execution_count": 41,
      "metadata": {
        "id": "Qy2WpOM49FIe",
        "colab": {
          "base_uri": "https://localhost:8080/"
        },
        "outputId": "12655f9b-6d43-4ca8-ee6d-1d79468f6c86"
      },
      "outputs": [
        {
          "output_type": "stream",
          "name": "stdout",
          "text": [
            "총 테스트 개수: 785, 오류 개수: 205\n"
          ]
        }
      ],
      "source": [
        "print('총 테스트 개수: %d, 오류 개수: %d' %(len(y_test), (y_test != y_pred).sum()))"
      ]
    },
    {
      "cell_type": "code",
      "execution_count": 42,
      "metadata": {
        "id": "VLz1EMAK9FIe",
        "colab": {
          "base_uri": "https://localhost:8080/"
        },
        "outputId": "911af0ed-85f2-45a9-d968-e80dcce4de1c"
      },
      "outputs": [
        {
          "output_type": "stream",
          "name": "stdout",
          "text": [
            "Accuracy : 0.74\n",
            "Precision : 0.64\n",
            "Recall : 0.54\n",
            "F1 : 0.59\n"
          ]
        }
      ],
      "source": [
        "# 테스트 데이터셋에 대한 성과측정\n",
        "print('Accuracy : %.2f' % accuracy_score(y_test, y_pred))\n",
        "print('Precision : %.2f' % precision_score(y_test, y_pred))\n",
        "print('Recall : %.2f' % recall_score(y_test, y_pred))\n",
        "print('F1 : %.2f' % f1_score(y_test, y_pred))"
      ]
    },
    {
      "cell_type": "markdown",
      "metadata": {
        "id": "A0vZSZ-K9FIf"
      },
      "source": [
        "> 성과가 좋은 편은 아니다."
      ]
    },
    {
      "cell_type": "markdown",
      "metadata": {
        "id": "xAIuOSjAZsBo"
      },
      "source": [
        "## 2.3  XGBoost"
      ]
    },
    {
      "cell_type": "markdown",
      "metadata": {
        "id": "9aMOEI-La_iC"
      },
      "source": [
        "#### 모델 파라미터\n",
        "* n_estimators[default=100] : 트리 모델의 갯수 라고 생각하면 된다.\n",
        "\n",
        "* early_stopping_rounds : 최대한 몇 개의 트리를 완성할 것인지 valid loss에 더이상 진전이 없다면 멈춘다. n_estimators가 높을 때 주로 사용하며 과적합을 방지해준다.\n",
        "\n",
        "* learning_rate[default=0.1] : 학습 단계별로 이전 결과를 얼마나 반영할지 설정한다.\n",
        "일반적으로는 0.01 ~ 0.2 사이의 값을 쓰며 너무 작게 하면 시간이 더 오래 걸리게 된다.\n",
        "\n",
        "* min_child_weight[default=1] :\n",
        "child 에서 필요한 모든 관측치에 대한 가중치의 최소합\n",
        "이 값보다 샘플 수가 작으면 leaf node가 된다. 너무 크게 설정하면 Under-fitting 될 수 있다.\n",
        "\n",
        "* max_depth[default=6] :\n",
        "트리의 최대 깊이를 뜻하며 일반적으로 3~10의 값으로 한다.\n",
        "\n",
        "* gamma[default=0] : 트리에서 추가적으로 가지를 나눌지 말지 결정하는 최소 손실 감소 값\n",
        "값을 크게 설정할 수록 과적합이 감소하는 효과가 있다.\n",
        "\n",
        "* subsample[default=1] : 각 트리마다 데이터 샘플링 비율 over-fitting방지\n",
        "일반적으로 0.5 ~ 1을 사용\n",
        "\n",
        "* colsample_bytree[default=1] : 각 트리마다 feature 샘플링 비율\n",
        "일반적으로 0.5 ~ 1을 사용한다.\n",
        "\n",
        "* reg_lambda [default=1] : L2 규제(Ridge)\n",
        "\n",
        "* reg_alpha [default=0] : L1 규제(Lasso)\n",
        "\n",
        "* scale_pos_weight[default = 1] : 데이터가 불균형 할때 사용\n",
        "보통은 음성 데이터 수 / 양성 데이터 수 값으로 한다."
      ]
    },
    {
      "cell_type": "code",
      "execution_count": 43,
      "metadata": {
        "id": "VWZ5xoXGZuHO",
        "colab": {
          "base_uri": "https://localhost:8080/"
        },
        "outputId": "86e843a0-4332-4640-8c3b-12d718e800dc"
      },
      "outputs": [
        {
          "output_type": "stream",
          "name": "stdout",
          "text": [
            "Looking in indexes: https://pypi.org/simple, https://us-python.pkg.dev/colab-wheels/public/simple/\n",
            "Requirement already satisfied: xgboost in /usr/local/lib/python3.8/dist-packages (0.90)\n",
            "Requirement already satisfied: scipy in /usr/local/lib/python3.8/dist-packages (from xgboost) (1.7.3)\n",
            "Requirement already satisfied: numpy in /usr/local/lib/python3.8/dist-packages (from xgboost) (1.21.6)\n"
          ]
        }
      ],
      "source": [
        "!pip install xgboost"
      ]
    },
    {
      "cell_type": "code",
      "execution_count": 44,
      "metadata": {
        "id": "u2NwruOuZ6kY"
      },
      "outputs": [],
      "source": [
        "from xgboost import XGBClassifier"
      ]
    },
    {
      "cell_type": "code",
      "execution_count": 45,
      "metadata": {
        "id": "6UCmalvGPwA_"
      },
      "outputs": [],
      "source": [
        "data = df_raw.drop('Churn',axis=1)\n",
        "target = df_raw.Churn"
      ]
    },
    {
      "cell_type": "code",
      "execution_count": 46,
      "metadata": {
        "id": "lPUjkWhjPwBA"
      },
      "outputs": [],
      "source": [
        "# train / test 분류\n",
        "seed = 42\n",
        "X_train, X_test, y_train, y_test = train_test_split(data, target, test_size=0.2, stratify=target, random_state = seed)"
      ]
    },
    {
      "cell_type": "code",
      "execution_count": 47,
      "metadata": {
        "id": "QFhHh6q7P_YT"
      },
      "outputs": [],
      "source": [
        "xgb= XGBClassifier(cover=0, random_state = 42).fit(X_train, y_train)"
      ]
    },
    {
      "cell_type": "markdown",
      "metadata": {
        "id": "b8q-oqkmebE5"
      },
      "source": [
        "> Regression과 classification 모두에서 weak learner는 leaf의 수를 제한한 restricted tree을 사용한다.\n",
        "\n",
        "> XGBoost for Regression에서는 Number of residuals이 크기 때문에 `Cover`\n",
        " 값이 커도 어느 정도 괜찮지만, Classification에서는 확률의 곱이다보니 `Cover` 에 따라 많은 leaf가 가지치기당하게 된다. 따라서 Classification에서는 `Cover`= 0 으로 셋팅하는 것이 좋다."
      ]
    },
    {
      "cell_type": "code",
      "execution_count": 48,
      "metadata": {
        "id": "bUI4HAqDwWuJ"
      },
      "outputs": [],
      "source": [
        "xgb_param_grid={\n",
        "    'gamma' : [0,1,2],\n",
        "    'max_depth':[3,4,5],\n",
        "    'min_child_weight':[1,3],\n",
        "    'colsample_bytree' : [0.8,0.9,1]\n",
        "}"
      ]
    },
    {
      "cell_type": "code",
      "execution_count": 49,
      "metadata": {
        "id": "obJTuC_DapvH",
        "colab": {
          "base_uri": "https://localhost:8080/"
        },
        "outputId": "7d4eebe0-5258-4a3b-ee89-3e0a1d64a7e7"
      },
      "outputs": [
        {
          "output_type": "execute_result",
          "data": {
            "text/plain": [
              "GridSearchCV(cv=KFold(n_splits=5, random_state=None, shuffle=False),\n",
              "             estimator=XGBClassifier(cover=0, random_state=42), n_jobs=-1,\n",
              "             param_grid={'colsample_bytree': [0.8, 0.9, 1], 'gamma': [0, 1, 2],\n",
              "                         'max_depth': [3, 4, 5], 'min_child_weight': [1, 3]},\n",
              "             scoring='accuracy')"
            ]
          },
          "metadata": {},
          "execution_count": 49
        }
      ],
      "source": [
        "# score 종류는 acc, recall, f1_micro, f1_macro 등\n",
        "grid_xgb=GridSearchCV(xgb, param_grid = xgb_param_grid, scoring=\"accuracy\", cv = cv, n_jobs=-1)\n",
        "grid_xgb.fit(X_train, y_train)"
      ]
    },
    {
      "cell_type": "code",
      "execution_count": 50,
      "metadata": {
        "id": "eKyRJzjZDNG5",
        "colab": {
          "base_uri": "https://localhost:8080/"
        },
        "outputId": "300ec6ce-04a8-4944-e8a2-245573ab1c6a"
      },
      "outputs": [
        {
          "output_type": "execute_result",
          "data": {
            "text/plain": [
              "{'colsample_bytree': 0.8, 'gamma': 2, 'max_depth': 4, 'min_child_weight': 1}"
            ]
          },
          "metadata": {},
          "execution_count": 50
        }
      ],
      "source": [
        "# 가장 성능이 좋았던 파라미터를 출력합니다.\n",
        "grid_xgb.best_params_"
      ]
    },
    {
      "cell_type": "markdown",
      "metadata": {
        "id": "bMvH4zHhDNG7"
      },
      "source": [
        "> 'colsample_bytree': 0.8, 'gamma': 2, 'max_depth': 4, 'min_child_weight': 1 가 Best parameters"
      ]
    },
    {
      "cell_type": "code",
      "execution_count": 51,
      "metadata": {
        "id": "fEoZS6fwDNG7",
        "colab": {
          "base_uri": "https://localhost:8080/"
        },
        "outputId": "7420c0ea-14ce-4228-c1ae-2bec6eede1ac"
      },
      "outputs": [
        {
          "output_type": "execute_result",
          "data": {
            "text/plain": [
              "0.76"
            ]
          },
          "metadata": {},
          "execution_count": 51
        }
      ],
      "source": [
        "# 가장 성능이 좋았던 파라미터로 수행한 모델을 저장합니다.\n",
        "best_xgb = grid_xgb.best_estimator_\n",
        "\n",
        "# 가장 좋은 성능을 보여준 모델의 결과를 출력합니다.\n",
        "best_xgb.score(X_test, y_test).round(2)"
      ]
    },
    {
      "cell_type": "code",
      "execution_count": 52,
      "metadata": {
        "id": "ZXXAph-hRAOA",
        "colab": {
          "base_uri": "https://localhost:8080/"
        },
        "outputId": "03cc2132-3566-4b3c-c46e-85a92dab3852"
      },
      "outputs": [
        {
          "output_type": "stream",
          "name": "stdout",
          "text": [
            "훈련 세트 평가(정확도) : 0.81\n",
            "테스트 세트 평가(정확도) : 0.76\n"
          ]
        }
      ],
      "source": [
        "# 평가\n",
        "print(\"훈련 세트 평가(정확도) : {:.2f}\".format(best_xgb.score(X_train, y_train)))\n",
        "print(\"테스트 세트 평가(정확도) : {:.2f}\".format(best_xgb.score(X_test, y_test)))"
      ]
    },
    {
      "cell_type": "code",
      "execution_count": 53,
      "metadata": {
        "id": "GFTj51HqDNG8"
      },
      "outputs": [],
      "source": [
        "pred = best_xgb.predict(X_test)"
      ]
    },
    {
      "cell_type": "code",
      "execution_count": 54,
      "metadata": {
        "id": "Y892pJLLDNG8",
        "colab": {
          "base_uri": "https://localhost:8080/"
        },
        "outputId": "d17d4767-cd03-4c47-c633-1192079d7e70"
      },
      "outputs": [
        {
          "output_type": "stream",
          "name": "stdout",
          "text": [
            "[[436  78]\n",
            " [111 160]]\n"
          ]
        }
      ],
      "source": [
        "cfm_xgb = confusion_matrix(y_test, pred)\n",
        "print(cfm_xgb)"
      ]
    },
    {
      "cell_type": "code",
      "execution_count": 55,
      "metadata": {
        "id": "8KQ1nPj-RAOB",
        "colab": {
          "base_uri": "https://localhost:8080/"
        },
        "outputId": "f942f92b-a07c-46a0-b3ae-659fccfb7e4f"
      },
      "outputs": [
        {
          "output_type": "stream",
          "name": "stdout",
          "text": [
            "총 테스트 개수: 785, 오류 개수: 205\n"
          ]
        }
      ],
      "source": [
        "print('총 테스트 개수: %d, 오류 개수: %d' %(len(y_test), (y_test != y_pred).sum()))"
      ]
    },
    {
      "cell_type": "code",
      "execution_count": 56,
      "metadata": {
        "id": "dV0w26C_DNG9",
        "colab": {
          "base_uri": "https://localhost:8080/"
        },
        "outputId": "7d72e27e-064a-4b3e-b7f8-bb400d68c46f"
      },
      "outputs": [
        {
          "output_type": "stream",
          "name": "stdout",
          "text": [
            "Accuracy : 0.76\n",
            "Precision : 0.67\n",
            "Recall : 0.59\n",
            "F1 : 0.63\n"
          ]
        }
      ],
      "source": [
        "# 테스트 데이터셋에 대한 성과측정\n",
        "print('Accuracy : %.2f' % accuracy_score(y_test, pred))\n",
        "print('Precision : %.2f' % precision_score(y_test, pred))\n",
        "print('Recall : %.2f' % recall_score(y_test, pred))\n",
        "print('F1 : %.2f' % f1_score(y_test, pred))"
      ]
    },
    {
      "cell_type": "markdown",
      "metadata": {
        "id": "Fhy_ZHTSazWL"
      },
      "source": [
        "## 2.4  Stacking"
      ]
    },
    {
      "cell_type": "markdown",
      "metadata": {
        "id": "pGIWKMjjqFsC"
      },
      "source": [
        "#### base model 과 meta model의 선택\n",
        "* Base model로는 보통 서로 다른 strong learner들을 사용\n",
        "* 자료를 여러 측면으로 분석하기 위해 기본 가정들이 다른 모형을 사용하는 경우가 많다.\n",
        "  * linear models, logistic regression, Naive Bayes, (decision trees), support vector machines, neural network\n",
        "* meta model은 해석이 용이한 모형을 주로 사용한다.\n",
        "  * regression meta model: Linear regression\n",
        "  * classification meta model: Logistic regression"
      ]
    },
    {
      "cell_type": "markdown",
      "metadata": {
        "id": "T8W9QmKXgySf"
      },
      "source": [
        "#### 훈련과정\n",
        "\n",
        "1. 표본을 둘로 나누어 base model들과 meta model 훈련에 사용한다.\n",
        "2. Base model은 k-fold cross-validation으로 훈련\n",
        "3. Meta-model은 overfitting 문제를 완화시키기 위해 훈련을 마친 base model의 `sklearn.model_selection.cross_val_predict`로 예측한 값을 이용해 훈련시킨다.\n",
        "\n",
        "> 위에서 DecisionTree, adaboost, xgboost를 Kfold로 학습시켰다. 학습시킨 모델을 그대로 Stacking의 base model로 활용한다. 추가로 MultinomialNB를 base model로 선정하였다.\n",
        "\n",
        "> Meta model의 경우 Logistic Regression을 선정하였다."
      ]
    },
    {
      "cell_type": "code",
      "source": [
        "from sklearn.naive_bayes import MultinomialNB"
      ],
      "metadata": {
        "id": "MXzY1W58sZJc"
      },
      "execution_count": 57,
      "outputs": []
    },
    {
      "cell_type": "code",
      "source": [
        "mn = MultinomialNB().fit(X_train, y_train)"
      ],
      "metadata": {
        "id": "7Gb_3Z6-seAA"
      },
      "execution_count": 58,
      "outputs": []
    },
    {
      "cell_type": "code",
      "source": [
        "parameters = {\n",
        "    'alpha': [0.25, 0.5, 0.75, 1],\n",
        "    'fit_prior': [True, False]\n",
        "}"
      ],
      "metadata": {
        "id": "J9-iuVk5sd8j"
      },
      "execution_count": 59,
      "outputs": []
    },
    {
      "cell_type": "code",
      "source": [
        "grid_mn = GridSearchCV(mn,\n",
        "                      param_grid = parameters, cv = cv, n_jobs = -1)\n",
        "\n",
        "grid_mn.fit(X_train, y_train)"
      ],
      "metadata": {
        "colab": {
          "base_uri": "https://localhost:8080/"
        },
        "id": "40zU0FKRsd6G",
        "outputId": "dfc042d9-b5d7-4c85-c0cb-8090e8c3e59a"
      },
      "execution_count": 60,
      "outputs": [
        {
          "output_type": "execute_result",
          "data": {
            "text/plain": [
              "GridSearchCV(cv=KFold(n_splits=5, random_state=None, shuffle=False),\n",
              "             estimator=MultinomialNB(), n_jobs=-1,\n",
              "             param_grid={'alpha': [0.25, 0.5, 0.75, 1],\n",
              "                         'fit_prior': [True, False]})"
            ]
          },
          "metadata": {},
          "execution_count": 60
        }
      ]
    },
    {
      "cell_type": "code",
      "execution_count": 61,
      "metadata": {
        "id": "8pI2mI2UusIG",
        "colab": {
          "base_uri": "https://localhost:8080/"
        },
        "outputId": "fb9e8445-c41b-4b08-99ef-5c382d552da8"
      },
      "outputs": [
        {
          "output_type": "execute_result",
          "data": {
            "text/plain": [
              "{'alpha': 1, 'fit_prior': True}"
            ]
          },
          "metadata": {},
          "execution_count": 61
        }
      ],
      "source": [
        "# 가장 성능이 좋았던 파라미터를 출력합니다.\n",
        "grid_mn.best_params_"
      ]
    },
    {
      "cell_type": "markdown",
      "metadata": {
        "id": "J2MLOyT6usII"
      },
      "source": [
        "> 'alpha': 1, 'fit_prior': True 가 Best parameters"
      ]
    },
    {
      "cell_type": "code",
      "execution_count": 62,
      "metadata": {
        "id": "Z0GhHrImusII",
        "colab": {
          "base_uri": "https://localhost:8080/"
        },
        "outputId": "6d71a11a-58e1-4f7d-fd74-b280637febc4"
      },
      "outputs": [
        {
          "output_type": "execute_result",
          "data": {
            "text/plain": [
              "0.7019108280254777"
            ]
          },
          "metadata": {},
          "execution_count": 62
        }
      ],
      "source": [
        "# 가장 성능이 좋았던 파라미터로 수행한 모델을 저장합니다.\n",
        "best_mn = grid_mn.best_estimator_\n",
        "\n",
        "# 가장 좋은 성능을 보여준 모델의 결과를 출력합니다.\n",
        "best_mn.score(X_test, y_test)"
      ]
    },
    {
      "cell_type": "code",
      "execution_count": 81,
      "metadata": {
        "id": "dVYy5IqBjXFu"
      },
      "outputs": [],
      "source": [
        "# Classifiers\n",
        "from sklearn.linear_model import LogisticRegression\n",
        "from sklearn.ensemble import StackingClassifier"
      ]
    },
    {
      "cell_type": "code",
      "execution_count": 92,
      "metadata": {
        "id": "KtXEhw3YlNv3"
      },
      "outputs": [],
      "source": [
        "# 최종 Stacking 모델을 위한 Classifier 생성\n",
        "# classification meta-model: Logistic regression\n",
        "lr_final = LogisticRegression(C=10, solver='liblinear').fit(X_train, y_train)"
      ]
    },
    {
      "cell_type": "code",
      "execution_count": 93,
      "metadata": {
        "id": "q9m83i80ky0I"
      },
      "outputs": [],
      "source": [
        "estimators = [\n",
        "     ('mn', best_mn),\n",
        "     ('dt', best_dtree),\n",
        "     ('ada', best_ada),\n",
        "     ('xgb', best_xgb)\n",
        "]"
      ]
    },
    {
      "cell_type": "code",
      "execution_count": 94,
      "metadata": {
        "id": "8cm9fP74kw9F"
      },
      "outputs": [],
      "source": [
        "sclf = StackingClassifier(estimators=estimators,\n",
        "                            final_estimator=lr_final,\n",
        "                            cv=KFold()).fit(X_train, y_train)"
      ]
    },
    {
      "cell_type": "markdown",
      "metadata": {
        "id": "rvsYCNJgp7h3"
      },
      "source": [
        "**cv: int, cross-validation generator, iterable, or “prefit”, default=None**\n",
        "\n",
        "Determines the cross-validation splitting strategy used in `cross_val_predict` to train `final_estimator`. Possible inputs for cv are:\n",
        "\n",
        "* None, to use the default 5-fold cross validation,\n",
        "\n",
        "* integer, to specify the number of folds in a (Stratified) KFold,\n",
        "\n",
        "* An object to be used as a cross-validation generator,\n",
        "\n",
        "* An iterable yielding train, test splits,\n",
        "\n",
        "* `\"prefit\"` to assume the `estimators` are prefit. In this case, the estimators will not be refitted.\n",
        "\n",
        "> cv를 조정해줌으로써 `final_estimator`인 Logistic Regression 모델에 `cross_val_predict`를 수행한다.\n",
        "\n",
        "검색어: stackingclassifier cv cross validation\n",
        "\n",
        "https://stackoverflow.com/questions/64546085/using-stackingclassifier-with-train-test-split-instead-of-cv"
      ]
    },
    {
      "cell_type": "code",
      "execution_count": 95,
      "metadata": {
        "id": "OrWpDPL4lSo9",
        "colab": {
          "base_uri": "https://localhost:8080/"
        },
        "outputId": "c3ccef9a-6437-4b36-b7bd-b748adeeac52"
      },
      "outputs": [
        {
          "output_type": "stream",
          "name": "stdout",
          "text": [
            "Multinomial Naive Bayes model training Accuracy: 0.72\n",
            "Multinomial Naive Bayes model test Accuracy: 0.70\n",
            "\n",
            "Decision Tree model training Accuracy: 0.77\n",
            "Decision Tree model test Accuracy: 0.74\n",
            "\n",
            "AdaBoost model training Accuracy: 0.78\n",
            "AdaBoost model test Accuracy: 0.74\n",
            "\n",
            "XGBoost model training Accuracy: 0.81\n",
            "XGBoost model test Accuracy: 0.76\n"
          ]
        }
      ],
      "source": [
        "# Print the scores\n",
        "print(f\"Multinomial Naive Bayes model training Accuracy: {best_mn.score(X_train, y_train):0.2f}\")\n",
        "print(f\"Multinomial Naive Bayes model test Accuracy: {best_mn.score(X_test, y_test):0.2f}\")\n",
        "\n",
        "print(f\"\\nDecision Tree model training Accuracy: {best_dtree.score(X_train, y_train):0.2f}\")\n",
        "print(f\"Decision Tree model test Accuracy: {best_dtree.score(X_test, y_test):0.2f}\")\n",
        "\n",
        "print(f\"\\nAdaBoost model training Accuracy: {best_ada.score(X_train, y_train):0.2f}\")\n",
        "print(f\"AdaBoost model test Accuracy: {best_ada.score(X_test, y_test):0.2f}\")\n",
        "\n",
        "print(f\"\\nXGBoost model training Accuracy: {best_xgb.score(X_train, y_train):0.2f}\")\n",
        "print(f\"XGBoost model test Accuracy: {best_xgb.score(X_test, y_test):0.2f}\")"
      ]
    },
    {
      "cell_type": "code",
      "execution_count": 96,
      "metadata": {
        "id": "9I7sFSxQlgBn",
        "colab": {
          "base_uri": "https://localhost:8080/"
        },
        "outputId": "094ee9fb-c40f-4f24-ee4b-170945cb1b46"
      },
      "outputs": [
        {
          "output_type": "stream",
          "name": "stdout",
          "text": [
            "Stacking classifier training Accuracy: 0.81\n",
            "Stacking classifier test Accuracy: 0.76\n"
          ]
        }
      ],
      "source": [
        "print(f\"Stacking classifier training Accuracy: {sclf.score(X_train, y_train):0.2f}\")\n",
        "print(f\"Stacking classifier test Accuracy: {sclf.score(X_test, y_test):0.2f}\")"
      ]
    },
    {
      "cell_type": "markdown",
      "metadata": {
        "id": "W2wXuZ5lndjJ"
      },
      "source": [
        "> 최종 메타 모델에서 학습하고 예측한 결과, 정확도가 76%로 개별 모델 정확도의 평균치보다 향상되었다."
      ]
    }
  ],
  "metadata": {
    "colab": {
      "collapsed_sections": [
        "pGIWKMjjqFsC"
      ],
      "provenance": []
    },
    "kernelspec": {
      "display_name": "Python 3",
      "name": "python3"
    },
    "language_info": {
      "name": "python"
    }
  },
  "nbformat": 4,
  "nbformat_minor": 0
}