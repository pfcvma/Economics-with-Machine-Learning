{
  "nbformat": 4,
  "nbformat_minor": 0,
  "metadata": {
    "colab": {
      "provenance": []
    },
    "kernelspec": {
      "name": "python3",
      "display_name": "Python 3"
    },
    "language_info": {
      "name": "python"
    }
  },
  "cells": [
    {
      "cell_type": "code",
      "execution_count": 1,
      "metadata": {
        "id": "YUTZVwWiDQEK"
      },
      "outputs": [],
      "source": [
        "import urllib.request\n",
        "import matplotlib.pyplot as plt\n",
        "import numpy as np\n",
        "import pandas as pd\n",
        "import seaborn as sns"
      ]
    },
    {
      "cell_type": "code",
      "source": [
        "penguins = sns.load_dataset(\"penguins\")"
      ],
      "metadata": {
        "id": "st3oRgh7DXjd"
      },
      "execution_count": 2,
      "outputs": []
    },
    {
      "cell_type": "code",
      "source": [
        "penguins"
      ],
      "metadata": {
        "colab": {
          "base_uri": "https://localhost:8080/",
          "height": 488
        },
        "id": "_jFsWTMIDZSj",
        "outputId": "68f21376-c58f-4c70-ca7b-dfc99c07d94a"
      },
      "execution_count": 3,
      "outputs": [
        {
          "output_type": "execute_result",
          "data": {
            "text/plain": [
              "    species     island  bill_length_mm  bill_depth_mm  flipper_length_mm  \\\n",
              "0    Adelie  Torgersen            39.1           18.7              181.0   \n",
              "1    Adelie  Torgersen            39.5           17.4              186.0   \n",
              "2    Adelie  Torgersen            40.3           18.0              195.0   \n",
              "3    Adelie  Torgersen             NaN            NaN                NaN   \n",
              "4    Adelie  Torgersen            36.7           19.3              193.0   \n",
              "..      ...        ...             ...            ...                ...   \n",
              "339  Gentoo     Biscoe             NaN            NaN                NaN   \n",
              "340  Gentoo     Biscoe            46.8           14.3              215.0   \n",
              "341  Gentoo     Biscoe            50.4           15.7              222.0   \n",
              "342  Gentoo     Biscoe            45.2           14.8              212.0   \n",
              "343  Gentoo     Biscoe            49.9           16.1              213.0   \n",
              "\n",
              "     body_mass_g     sex  \n",
              "0         3750.0    Male  \n",
              "1         3800.0  Female  \n",
              "2         3250.0  Female  \n",
              "3            NaN     NaN  \n",
              "4         3450.0  Female  \n",
              "..           ...     ...  \n",
              "339          NaN     NaN  \n",
              "340       4850.0  Female  \n",
              "341       5750.0    Male  \n",
              "342       5200.0  Female  \n",
              "343       5400.0    Male  \n",
              "\n",
              "[344 rows x 7 columns]"
            ],
            "text/html": [
              "\n",
              "  <div id=\"df-9d9a4b60-06e0-4647-bac7-c71de8fa1332\">\n",
              "    <div class=\"colab-df-container\">\n",
              "      <div>\n",
              "<style scoped>\n",
              "    .dataframe tbody tr th:only-of-type {\n",
              "        vertical-align: middle;\n",
              "    }\n",
              "\n",
              "    .dataframe tbody tr th {\n",
              "        vertical-align: top;\n",
              "    }\n",
              "\n",
              "    .dataframe thead th {\n",
              "        text-align: right;\n",
              "    }\n",
              "</style>\n",
              "<table border=\"1\" class=\"dataframe\">\n",
              "  <thead>\n",
              "    <tr style=\"text-align: right;\">\n",
              "      <th></th>\n",
              "      <th>species</th>\n",
              "      <th>island</th>\n",
              "      <th>bill_length_mm</th>\n",
              "      <th>bill_depth_mm</th>\n",
              "      <th>flipper_length_mm</th>\n",
              "      <th>body_mass_g</th>\n",
              "      <th>sex</th>\n",
              "    </tr>\n",
              "  </thead>\n",
              "  <tbody>\n",
              "    <tr>\n",
              "      <th>0</th>\n",
              "      <td>Adelie</td>\n",
              "      <td>Torgersen</td>\n",
              "      <td>39.1</td>\n",
              "      <td>18.7</td>\n",
              "      <td>181.0</td>\n",
              "      <td>3750.0</td>\n",
              "      <td>Male</td>\n",
              "    </tr>\n",
              "    <tr>\n",
              "      <th>1</th>\n",
              "      <td>Adelie</td>\n",
              "      <td>Torgersen</td>\n",
              "      <td>39.5</td>\n",
              "      <td>17.4</td>\n",
              "      <td>186.0</td>\n",
              "      <td>3800.0</td>\n",
              "      <td>Female</td>\n",
              "    </tr>\n",
              "    <tr>\n",
              "      <th>2</th>\n",
              "      <td>Adelie</td>\n",
              "      <td>Torgersen</td>\n",
              "      <td>40.3</td>\n",
              "      <td>18.0</td>\n",
              "      <td>195.0</td>\n",
              "      <td>3250.0</td>\n",
              "      <td>Female</td>\n",
              "    </tr>\n",
              "    <tr>\n",
              "      <th>3</th>\n",
              "      <td>Adelie</td>\n",
              "      <td>Torgersen</td>\n",
              "      <td>NaN</td>\n",
              "      <td>NaN</td>\n",
              "      <td>NaN</td>\n",
              "      <td>NaN</td>\n",
              "      <td>NaN</td>\n",
              "    </tr>\n",
              "    <tr>\n",
              "      <th>4</th>\n",
              "      <td>Adelie</td>\n",
              "      <td>Torgersen</td>\n",
              "      <td>36.7</td>\n",
              "      <td>19.3</td>\n",
              "      <td>193.0</td>\n",
              "      <td>3450.0</td>\n",
              "      <td>Female</td>\n",
              "    </tr>\n",
              "    <tr>\n",
              "      <th>...</th>\n",
              "      <td>...</td>\n",
              "      <td>...</td>\n",
              "      <td>...</td>\n",
              "      <td>...</td>\n",
              "      <td>...</td>\n",
              "      <td>...</td>\n",
              "      <td>...</td>\n",
              "    </tr>\n",
              "    <tr>\n",
              "      <th>339</th>\n",
              "      <td>Gentoo</td>\n",
              "      <td>Biscoe</td>\n",
              "      <td>NaN</td>\n",
              "      <td>NaN</td>\n",
              "      <td>NaN</td>\n",
              "      <td>NaN</td>\n",
              "      <td>NaN</td>\n",
              "    </tr>\n",
              "    <tr>\n",
              "      <th>340</th>\n",
              "      <td>Gentoo</td>\n",
              "      <td>Biscoe</td>\n",
              "      <td>46.8</td>\n",
              "      <td>14.3</td>\n",
              "      <td>215.0</td>\n",
              "      <td>4850.0</td>\n",
              "      <td>Female</td>\n",
              "    </tr>\n",
              "    <tr>\n",
              "      <th>341</th>\n",
              "      <td>Gentoo</td>\n",
              "      <td>Biscoe</td>\n",
              "      <td>50.4</td>\n",
              "      <td>15.7</td>\n",
              "      <td>222.0</td>\n",
              "      <td>5750.0</td>\n",
              "      <td>Male</td>\n",
              "    </tr>\n",
              "    <tr>\n",
              "      <th>342</th>\n",
              "      <td>Gentoo</td>\n",
              "      <td>Biscoe</td>\n",
              "      <td>45.2</td>\n",
              "      <td>14.8</td>\n",
              "      <td>212.0</td>\n",
              "      <td>5200.0</td>\n",
              "      <td>Female</td>\n",
              "    </tr>\n",
              "    <tr>\n",
              "      <th>343</th>\n",
              "      <td>Gentoo</td>\n",
              "      <td>Biscoe</td>\n",
              "      <td>49.9</td>\n",
              "      <td>16.1</td>\n",
              "      <td>213.0</td>\n",
              "      <td>5400.0</td>\n",
              "      <td>Male</td>\n",
              "    </tr>\n",
              "  </tbody>\n",
              "</table>\n",
              "<p>344 rows × 7 columns</p>\n",
              "</div>\n",
              "      <button class=\"colab-df-convert\" onclick=\"convertToInteractive('df-9d9a4b60-06e0-4647-bac7-c71de8fa1332')\"\n",
              "              title=\"Convert this dataframe to an interactive table.\"\n",
              "              style=\"display:none;\">\n",
              "        \n",
              "  <svg xmlns=\"http://www.w3.org/2000/svg\" height=\"24px\"viewBox=\"0 0 24 24\"\n",
              "       width=\"24px\">\n",
              "    <path d=\"M0 0h24v24H0V0z\" fill=\"none\"/>\n",
              "    <path d=\"M18.56 5.44l.94 2.06.94-2.06 2.06-.94-2.06-.94-.94-2.06-.94 2.06-2.06.94zm-11 1L8.5 8.5l.94-2.06 2.06-.94-2.06-.94L8.5 2.5l-.94 2.06-2.06.94zm10 10l.94 2.06.94-2.06 2.06-.94-2.06-.94-.94-2.06-.94 2.06-2.06.94z\"/><path d=\"M17.41 7.96l-1.37-1.37c-.4-.4-.92-.59-1.43-.59-.52 0-1.04.2-1.43.59L10.3 9.45l-7.72 7.72c-.78.78-.78 2.05 0 2.83L4 21.41c.39.39.9.59 1.41.59.51 0 1.02-.2 1.41-.59l7.78-7.78 2.81-2.81c.8-.78.8-2.07 0-2.86zM5.41 20L4 18.59l7.72-7.72 1.47 1.35L5.41 20z\"/>\n",
              "  </svg>\n",
              "      </button>\n",
              "      \n",
              "  <style>\n",
              "    .colab-df-container {\n",
              "      display:flex;\n",
              "      flex-wrap:wrap;\n",
              "      gap: 12px;\n",
              "    }\n",
              "\n",
              "    .colab-df-convert {\n",
              "      background-color: #E8F0FE;\n",
              "      border: none;\n",
              "      border-radius: 50%;\n",
              "      cursor: pointer;\n",
              "      display: none;\n",
              "      fill: #1967D2;\n",
              "      height: 32px;\n",
              "      padding: 0 0 0 0;\n",
              "      width: 32px;\n",
              "    }\n",
              "\n",
              "    .colab-df-convert:hover {\n",
              "      background-color: #E2EBFA;\n",
              "      box-shadow: 0px 1px 2px rgba(60, 64, 67, 0.3), 0px 1px 3px 1px rgba(60, 64, 67, 0.15);\n",
              "      fill: #174EA6;\n",
              "    }\n",
              "\n",
              "    [theme=dark] .colab-df-convert {\n",
              "      background-color: #3B4455;\n",
              "      fill: #D2E3FC;\n",
              "    }\n",
              "\n",
              "    [theme=dark] .colab-df-convert:hover {\n",
              "      background-color: #434B5C;\n",
              "      box-shadow: 0px 1px 3px 1px rgba(0, 0, 0, 0.15);\n",
              "      filter: drop-shadow(0px 1px 2px rgba(0, 0, 0, 0.3));\n",
              "      fill: #FFFFFF;\n",
              "    }\n",
              "  </style>\n",
              "\n",
              "      <script>\n",
              "        const buttonEl =\n",
              "          document.querySelector('#df-9d9a4b60-06e0-4647-bac7-c71de8fa1332 button.colab-df-convert');\n",
              "        buttonEl.style.display =\n",
              "          google.colab.kernel.accessAllowed ? 'block' : 'none';\n",
              "\n",
              "        async function convertToInteractive(key) {\n",
              "          const element = document.querySelector('#df-9d9a4b60-06e0-4647-bac7-c71de8fa1332');\n",
              "          const dataTable =\n",
              "            await google.colab.kernel.invokeFunction('convertToInteractive',\n",
              "                                                     [key], {});\n",
              "          if (!dataTable) return;\n",
              "\n",
              "          const docLinkHtml = 'Like what you see? Visit the ' +\n",
              "            '<a target=\"_blank\" href=https://colab.research.google.com/notebooks/data_table.ipynb>data table notebook</a>'\n",
              "            + ' to learn more about interactive tables.';\n",
              "          element.innerHTML = '';\n",
              "          dataTable['output_type'] = 'display_data';\n",
              "          await google.colab.output.renderOutput(dataTable, element);\n",
              "          const docLink = document.createElement('div');\n",
              "          docLink.innerHTML = docLinkHtml;\n",
              "          element.appendChild(docLink);\n",
              "        }\n",
              "      </script>\n",
              "    </div>\n",
              "  </div>\n",
              "  "
            ]
          },
          "metadata": {},
          "execution_count": 3
        }
      ]
    },
    {
      "cell_type": "markdown",
      "source": [
        "# 1  Sample distribution\n",
        "## 1.1  missing values"
      ],
      "metadata": {
        "id": "1tSAQ4DnDhFW"
      }
    },
    {
      "cell_type": "code",
      "source": [
        "penguins.info()"
      ],
      "metadata": {
        "colab": {
          "base_uri": "https://localhost:8080/"
        },
        "id": "0yBmaH-GOegz",
        "outputId": "808e1c73-b24a-4d0c-ea8e-11f2007c4371"
      },
      "execution_count": 4,
      "outputs": [
        {
          "output_type": "stream",
          "name": "stdout",
          "text": [
            "<class 'pandas.core.frame.DataFrame'>\n",
            "RangeIndex: 344 entries, 0 to 343\n",
            "Data columns (total 7 columns):\n",
            " #   Column             Non-Null Count  Dtype  \n",
            "---  ------             --------------  -----  \n",
            " 0   species            344 non-null    object \n",
            " 1   island             344 non-null    object \n",
            " 2   bill_length_mm     342 non-null    float64\n",
            " 3   bill_depth_mm      342 non-null    float64\n",
            " 4   flipper_length_mm  342 non-null    float64\n",
            " 5   body_mass_g        342 non-null    float64\n",
            " 6   sex                333 non-null    object \n",
            "dtypes: float64(4), object(3)\n",
            "memory usage: 18.9+ KB\n"
          ]
        }
      ]
    },
    {
      "cell_type": "code",
      "source": [
        "penguins.isnull().sum()"
      ],
      "metadata": {
        "colab": {
          "base_uri": "https://localhost:8080/"
        },
        "id": "auTZ5ioSvUuU",
        "outputId": "56e1c3e9-b99f-41ea-998c-de0043c8b040"
      },
      "execution_count": 5,
      "outputs": [
        {
          "output_type": "execute_result",
          "data": {
            "text/plain": [
              "species               0\n",
              "island                0\n",
              "bill_length_mm        2\n",
              "bill_depth_mm         2\n",
              "flipper_length_mm     2\n",
              "body_mass_g           2\n",
              "sex                  11\n",
              "dtype: int64"
            ]
          },
          "metadata": {},
          "execution_count": 5
        }
      ]
    },
    {
      "cell_type": "code",
      "source": [
        "# 종, 섬 외에 모두 결측치인 값 2개 존재\n",
        "penguins.loc[penguins['sex'].isna()]"
      ],
      "metadata": {
        "colab": {
          "base_uri": "https://localhost:8080/",
          "height": 458
        },
        "id": "Ne1QKGhEu1y4",
        "outputId": "abb46c94-ce29-465c-d8ec-3dc9bdbd7da3"
      },
      "execution_count": 6,
      "outputs": [
        {
          "output_type": "execute_result",
          "data": {
            "text/plain": [
              "    species     island  bill_length_mm  bill_depth_mm  flipper_length_mm  \\\n",
              "3    Adelie  Torgersen             NaN            NaN                NaN   \n",
              "8    Adelie  Torgersen            34.1           18.1              193.0   \n",
              "9    Adelie  Torgersen            42.0           20.2              190.0   \n",
              "10   Adelie  Torgersen            37.8           17.1              186.0   \n",
              "11   Adelie  Torgersen            37.8           17.3              180.0   \n",
              "47   Adelie      Dream            37.5           18.9              179.0   \n",
              "246  Gentoo     Biscoe            44.5           14.3              216.0   \n",
              "286  Gentoo     Biscoe            46.2           14.4              214.0   \n",
              "324  Gentoo     Biscoe            47.3           13.8              216.0   \n",
              "336  Gentoo     Biscoe            44.5           15.7              217.0   \n",
              "339  Gentoo     Biscoe             NaN            NaN                NaN   \n",
              "\n",
              "     body_mass_g  sex  \n",
              "3            NaN  NaN  \n",
              "8         3475.0  NaN  \n",
              "9         4250.0  NaN  \n",
              "10        3300.0  NaN  \n",
              "11        3700.0  NaN  \n",
              "47        2975.0  NaN  \n",
              "246       4100.0  NaN  \n",
              "286       4650.0  NaN  \n",
              "324       4725.0  NaN  \n",
              "336       4875.0  NaN  \n",
              "339          NaN  NaN  "
            ],
            "text/html": [
              "\n",
              "  <div id=\"df-9e5e6ecc-53ac-47a0-bd33-8c66af3b192b\">\n",
              "    <div class=\"colab-df-container\">\n",
              "      <div>\n",
              "<style scoped>\n",
              "    .dataframe tbody tr th:only-of-type {\n",
              "        vertical-align: middle;\n",
              "    }\n",
              "\n",
              "    .dataframe tbody tr th {\n",
              "        vertical-align: top;\n",
              "    }\n",
              "\n",
              "    .dataframe thead th {\n",
              "        text-align: right;\n",
              "    }\n",
              "</style>\n",
              "<table border=\"1\" class=\"dataframe\">\n",
              "  <thead>\n",
              "    <tr style=\"text-align: right;\">\n",
              "      <th></th>\n",
              "      <th>species</th>\n",
              "      <th>island</th>\n",
              "      <th>bill_length_mm</th>\n",
              "      <th>bill_depth_mm</th>\n",
              "      <th>flipper_length_mm</th>\n",
              "      <th>body_mass_g</th>\n",
              "      <th>sex</th>\n",
              "    </tr>\n",
              "  </thead>\n",
              "  <tbody>\n",
              "    <tr>\n",
              "      <th>3</th>\n",
              "      <td>Adelie</td>\n",
              "      <td>Torgersen</td>\n",
              "      <td>NaN</td>\n",
              "      <td>NaN</td>\n",
              "      <td>NaN</td>\n",
              "      <td>NaN</td>\n",
              "      <td>NaN</td>\n",
              "    </tr>\n",
              "    <tr>\n",
              "      <th>8</th>\n",
              "      <td>Adelie</td>\n",
              "      <td>Torgersen</td>\n",
              "      <td>34.1</td>\n",
              "      <td>18.1</td>\n",
              "      <td>193.0</td>\n",
              "      <td>3475.0</td>\n",
              "      <td>NaN</td>\n",
              "    </tr>\n",
              "    <tr>\n",
              "      <th>9</th>\n",
              "      <td>Adelie</td>\n",
              "      <td>Torgersen</td>\n",
              "      <td>42.0</td>\n",
              "      <td>20.2</td>\n",
              "      <td>190.0</td>\n",
              "      <td>4250.0</td>\n",
              "      <td>NaN</td>\n",
              "    </tr>\n",
              "    <tr>\n",
              "      <th>10</th>\n",
              "      <td>Adelie</td>\n",
              "      <td>Torgersen</td>\n",
              "      <td>37.8</td>\n",
              "      <td>17.1</td>\n",
              "      <td>186.0</td>\n",
              "      <td>3300.0</td>\n",
              "      <td>NaN</td>\n",
              "    </tr>\n",
              "    <tr>\n",
              "      <th>11</th>\n",
              "      <td>Adelie</td>\n",
              "      <td>Torgersen</td>\n",
              "      <td>37.8</td>\n",
              "      <td>17.3</td>\n",
              "      <td>180.0</td>\n",
              "      <td>3700.0</td>\n",
              "      <td>NaN</td>\n",
              "    </tr>\n",
              "    <tr>\n",
              "      <th>47</th>\n",
              "      <td>Adelie</td>\n",
              "      <td>Dream</td>\n",
              "      <td>37.5</td>\n",
              "      <td>18.9</td>\n",
              "      <td>179.0</td>\n",
              "      <td>2975.0</td>\n",
              "      <td>NaN</td>\n",
              "    </tr>\n",
              "    <tr>\n",
              "      <th>246</th>\n",
              "      <td>Gentoo</td>\n",
              "      <td>Biscoe</td>\n",
              "      <td>44.5</td>\n",
              "      <td>14.3</td>\n",
              "      <td>216.0</td>\n",
              "      <td>4100.0</td>\n",
              "      <td>NaN</td>\n",
              "    </tr>\n",
              "    <tr>\n",
              "      <th>286</th>\n",
              "      <td>Gentoo</td>\n",
              "      <td>Biscoe</td>\n",
              "      <td>46.2</td>\n",
              "      <td>14.4</td>\n",
              "      <td>214.0</td>\n",
              "      <td>4650.0</td>\n",
              "      <td>NaN</td>\n",
              "    </tr>\n",
              "    <tr>\n",
              "      <th>324</th>\n",
              "      <td>Gentoo</td>\n",
              "      <td>Biscoe</td>\n",
              "      <td>47.3</td>\n",
              "      <td>13.8</td>\n",
              "      <td>216.0</td>\n",
              "      <td>4725.0</td>\n",
              "      <td>NaN</td>\n",
              "    </tr>\n",
              "    <tr>\n",
              "      <th>336</th>\n",
              "      <td>Gentoo</td>\n",
              "      <td>Biscoe</td>\n",
              "      <td>44.5</td>\n",
              "      <td>15.7</td>\n",
              "      <td>217.0</td>\n",
              "      <td>4875.0</td>\n",
              "      <td>NaN</td>\n",
              "    </tr>\n",
              "    <tr>\n",
              "      <th>339</th>\n",
              "      <td>Gentoo</td>\n",
              "      <td>Biscoe</td>\n",
              "      <td>NaN</td>\n",
              "      <td>NaN</td>\n",
              "      <td>NaN</td>\n",
              "      <td>NaN</td>\n",
              "      <td>NaN</td>\n",
              "    </tr>\n",
              "  </tbody>\n",
              "</table>\n",
              "</div>\n",
              "      <button class=\"colab-df-convert\" onclick=\"convertToInteractive('df-9e5e6ecc-53ac-47a0-bd33-8c66af3b192b')\"\n",
              "              title=\"Convert this dataframe to an interactive table.\"\n",
              "              style=\"display:none;\">\n",
              "        \n",
              "  <svg xmlns=\"http://www.w3.org/2000/svg\" height=\"24px\"viewBox=\"0 0 24 24\"\n",
              "       width=\"24px\">\n",
              "    <path d=\"M0 0h24v24H0V0z\" fill=\"none\"/>\n",
              "    <path d=\"M18.56 5.44l.94 2.06.94-2.06 2.06-.94-2.06-.94-.94-2.06-.94 2.06-2.06.94zm-11 1L8.5 8.5l.94-2.06 2.06-.94-2.06-.94L8.5 2.5l-.94 2.06-2.06.94zm10 10l.94 2.06.94-2.06 2.06-.94-2.06-.94-.94-2.06-.94 2.06-2.06.94z\"/><path d=\"M17.41 7.96l-1.37-1.37c-.4-.4-.92-.59-1.43-.59-.52 0-1.04.2-1.43.59L10.3 9.45l-7.72 7.72c-.78.78-.78 2.05 0 2.83L4 21.41c.39.39.9.59 1.41.59.51 0 1.02-.2 1.41-.59l7.78-7.78 2.81-2.81c.8-.78.8-2.07 0-2.86zM5.41 20L4 18.59l7.72-7.72 1.47 1.35L5.41 20z\"/>\n",
              "  </svg>\n",
              "      </button>\n",
              "      \n",
              "  <style>\n",
              "    .colab-df-container {\n",
              "      display:flex;\n",
              "      flex-wrap:wrap;\n",
              "      gap: 12px;\n",
              "    }\n",
              "\n",
              "    .colab-df-convert {\n",
              "      background-color: #E8F0FE;\n",
              "      border: none;\n",
              "      border-radius: 50%;\n",
              "      cursor: pointer;\n",
              "      display: none;\n",
              "      fill: #1967D2;\n",
              "      height: 32px;\n",
              "      padding: 0 0 0 0;\n",
              "      width: 32px;\n",
              "    }\n",
              "\n",
              "    .colab-df-convert:hover {\n",
              "      background-color: #E2EBFA;\n",
              "      box-shadow: 0px 1px 2px rgba(60, 64, 67, 0.3), 0px 1px 3px 1px rgba(60, 64, 67, 0.15);\n",
              "      fill: #174EA6;\n",
              "    }\n",
              "\n",
              "    [theme=dark] .colab-df-convert {\n",
              "      background-color: #3B4455;\n",
              "      fill: #D2E3FC;\n",
              "    }\n",
              "\n",
              "    [theme=dark] .colab-df-convert:hover {\n",
              "      background-color: #434B5C;\n",
              "      box-shadow: 0px 1px 3px 1px rgba(0, 0, 0, 0.15);\n",
              "      filter: drop-shadow(0px 1px 2px rgba(0, 0, 0, 0.3));\n",
              "      fill: #FFFFFF;\n",
              "    }\n",
              "  </style>\n",
              "\n",
              "      <script>\n",
              "        const buttonEl =\n",
              "          document.querySelector('#df-9e5e6ecc-53ac-47a0-bd33-8c66af3b192b button.colab-df-convert');\n",
              "        buttonEl.style.display =\n",
              "          google.colab.kernel.accessAllowed ? 'block' : 'none';\n",
              "\n",
              "        async function convertToInteractive(key) {\n",
              "          const element = document.querySelector('#df-9e5e6ecc-53ac-47a0-bd33-8c66af3b192b');\n",
              "          const dataTable =\n",
              "            await google.colab.kernel.invokeFunction('convertToInteractive',\n",
              "                                                     [key], {});\n",
              "          if (!dataTable) return;\n",
              "\n",
              "          const docLinkHtml = 'Like what you see? Visit the ' +\n",
              "            '<a target=\"_blank\" href=https://colab.research.google.com/notebooks/data_table.ipynb>data table notebook</a>'\n",
              "            + ' to learn more about interactive tables.';\n",
              "          element.innerHTML = '';\n",
              "          dataTable['output_type'] = 'display_data';\n",
              "          await google.colab.output.renderOutput(dataTable, element);\n",
              "          const docLink = document.createElement('div');\n",
              "          docLink.innerHTML = docLinkHtml;\n",
              "          element.appendChild(docLink);\n",
              "        }\n",
              "      </script>\n",
              "    </div>\n",
              "  </div>\n",
              "  "
            ]
          },
          "metadata": {},
          "execution_count": 6
        }
      ]
    },
    {
      "cell_type": "code",
      "source": [
        "# 성별에서만 결측값 존재하는 데이터만 남겨두고, 3행 및 339행 삭제\n",
        "penguins.drop([3, 339], inplace=True)\n",
        "penguins"
      ],
      "metadata": {
        "colab": {
          "base_uri": "https://localhost:8080/",
          "height": 488
        },
        "id": "QR9qjnZADcVb",
        "outputId": "26c40d99-e2e1-484e-8991-44cfa9cdaa83"
      },
      "execution_count": 7,
      "outputs": [
        {
          "output_type": "execute_result",
          "data": {
            "text/plain": [
              "    species     island  bill_length_mm  bill_depth_mm  flipper_length_mm  \\\n",
              "0    Adelie  Torgersen            39.1           18.7              181.0   \n",
              "1    Adelie  Torgersen            39.5           17.4              186.0   \n",
              "2    Adelie  Torgersen            40.3           18.0              195.0   \n",
              "4    Adelie  Torgersen            36.7           19.3              193.0   \n",
              "5    Adelie  Torgersen            39.3           20.6              190.0   \n",
              "..      ...        ...             ...            ...                ...   \n",
              "338  Gentoo     Biscoe            47.2           13.7              214.0   \n",
              "340  Gentoo     Biscoe            46.8           14.3              215.0   \n",
              "341  Gentoo     Biscoe            50.4           15.7              222.0   \n",
              "342  Gentoo     Biscoe            45.2           14.8              212.0   \n",
              "343  Gentoo     Biscoe            49.9           16.1              213.0   \n",
              "\n",
              "     body_mass_g     sex  \n",
              "0         3750.0    Male  \n",
              "1         3800.0  Female  \n",
              "2         3250.0  Female  \n",
              "4         3450.0  Female  \n",
              "5         3650.0    Male  \n",
              "..           ...     ...  \n",
              "338       4925.0  Female  \n",
              "340       4850.0  Female  \n",
              "341       5750.0    Male  \n",
              "342       5200.0  Female  \n",
              "343       5400.0    Male  \n",
              "\n",
              "[342 rows x 7 columns]"
            ],
            "text/html": [
              "\n",
              "  <div id=\"df-349514ee-1eea-4be6-a9d5-d5a839a5d1df\">\n",
              "    <div class=\"colab-df-container\">\n",
              "      <div>\n",
              "<style scoped>\n",
              "    .dataframe tbody tr th:only-of-type {\n",
              "        vertical-align: middle;\n",
              "    }\n",
              "\n",
              "    .dataframe tbody tr th {\n",
              "        vertical-align: top;\n",
              "    }\n",
              "\n",
              "    .dataframe thead th {\n",
              "        text-align: right;\n",
              "    }\n",
              "</style>\n",
              "<table border=\"1\" class=\"dataframe\">\n",
              "  <thead>\n",
              "    <tr style=\"text-align: right;\">\n",
              "      <th></th>\n",
              "      <th>species</th>\n",
              "      <th>island</th>\n",
              "      <th>bill_length_mm</th>\n",
              "      <th>bill_depth_mm</th>\n",
              "      <th>flipper_length_mm</th>\n",
              "      <th>body_mass_g</th>\n",
              "      <th>sex</th>\n",
              "    </tr>\n",
              "  </thead>\n",
              "  <tbody>\n",
              "    <tr>\n",
              "      <th>0</th>\n",
              "      <td>Adelie</td>\n",
              "      <td>Torgersen</td>\n",
              "      <td>39.1</td>\n",
              "      <td>18.7</td>\n",
              "      <td>181.0</td>\n",
              "      <td>3750.0</td>\n",
              "      <td>Male</td>\n",
              "    </tr>\n",
              "    <tr>\n",
              "      <th>1</th>\n",
              "      <td>Adelie</td>\n",
              "      <td>Torgersen</td>\n",
              "      <td>39.5</td>\n",
              "      <td>17.4</td>\n",
              "      <td>186.0</td>\n",
              "      <td>3800.0</td>\n",
              "      <td>Female</td>\n",
              "    </tr>\n",
              "    <tr>\n",
              "      <th>2</th>\n",
              "      <td>Adelie</td>\n",
              "      <td>Torgersen</td>\n",
              "      <td>40.3</td>\n",
              "      <td>18.0</td>\n",
              "      <td>195.0</td>\n",
              "      <td>3250.0</td>\n",
              "      <td>Female</td>\n",
              "    </tr>\n",
              "    <tr>\n",
              "      <th>4</th>\n",
              "      <td>Adelie</td>\n",
              "      <td>Torgersen</td>\n",
              "      <td>36.7</td>\n",
              "      <td>19.3</td>\n",
              "      <td>193.0</td>\n",
              "      <td>3450.0</td>\n",
              "      <td>Female</td>\n",
              "    </tr>\n",
              "    <tr>\n",
              "      <th>5</th>\n",
              "      <td>Adelie</td>\n",
              "      <td>Torgersen</td>\n",
              "      <td>39.3</td>\n",
              "      <td>20.6</td>\n",
              "      <td>190.0</td>\n",
              "      <td>3650.0</td>\n",
              "      <td>Male</td>\n",
              "    </tr>\n",
              "    <tr>\n",
              "      <th>...</th>\n",
              "      <td>...</td>\n",
              "      <td>...</td>\n",
              "      <td>...</td>\n",
              "      <td>...</td>\n",
              "      <td>...</td>\n",
              "      <td>...</td>\n",
              "      <td>...</td>\n",
              "    </tr>\n",
              "    <tr>\n",
              "      <th>338</th>\n",
              "      <td>Gentoo</td>\n",
              "      <td>Biscoe</td>\n",
              "      <td>47.2</td>\n",
              "      <td>13.7</td>\n",
              "      <td>214.0</td>\n",
              "      <td>4925.0</td>\n",
              "      <td>Female</td>\n",
              "    </tr>\n",
              "    <tr>\n",
              "      <th>340</th>\n",
              "      <td>Gentoo</td>\n",
              "      <td>Biscoe</td>\n",
              "      <td>46.8</td>\n",
              "      <td>14.3</td>\n",
              "      <td>215.0</td>\n",
              "      <td>4850.0</td>\n",
              "      <td>Female</td>\n",
              "    </tr>\n",
              "    <tr>\n",
              "      <th>341</th>\n",
              "      <td>Gentoo</td>\n",
              "      <td>Biscoe</td>\n",
              "      <td>50.4</td>\n",
              "      <td>15.7</td>\n",
              "      <td>222.0</td>\n",
              "      <td>5750.0</td>\n",
              "      <td>Male</td>\n",
              "    </tr>\n",
              "    <tr>\n",
              "      <th>342</th>\n",
              "      <td>Gentoo</td>\n",
              "      <td>Biscoe</td>\n",
              "      <td>45.2</td>\n",
              "      <td>14.8</td>\n",
              "      <td>212.0</td>\n",
              "      <td>5200.0</td>\n",
              "      <td>Female</td>\n",
              "    </tr>\n",
              "    <tr>\n",
              "      <th>343</th>\n",
              "      <td>Gentoo</td>\n",
              "      <td>Biscoe</td>\n",
              "      <td>49.9</td>\n",
              "      <td>16.1</td>\n",
              "      <td>213.0</td>\n",
              "      <td>5400.0</td>\n",
              "      <td>Male</td>\n",
              "    </tr>\n",
              "  </tbody>\n",
              "</table>\n",
              "<p>342 rows × 7 columns</p>\n",
              "</div>\n",
              "      <button class=\"colab-df-convert\" onclick=\"convertToInteractive('df-349514ee-1eea-4be6-a9d5-d5a839a5d1df')\"\n",
              "              title=\"Convert this dataframe to an interactive table.\"\n",
              "              style=\"display:none;\">\n",
              "        \n",
              "  <svg xmlns=\"http://www.w3.org/2000/svg\" height=\"24px\"viewBox=\"0 0 24 24\"\n",
              "       width=\"24px\">\n",
              "    <path d=\"M0 0h24v24H0V0z\" fill=\"none\"/>\n",
              "    <path d=\"M18.56 5.44l.94 2.06.94-2.06 2.06-.94-2.06-.94-.94-2.06-.94 2.06-2.06.94zm-11 1L8.5 8.5l.94-2.06 2.06-.94-2.06-.94L8.5 2.5l-.94 2.06-2.06.94zm10 10l.94 2.06.94-2.06 2.06-.94-2.06-.94-.94-2.06-.94 2.06-2.06.94z\"/><path d=\"M17.41 7.96l-1.37-1.37c-.4-.4-.92-.59-1.43-.59-.52 0-1.04.2-1.43.59L10.3 9.45l-7.72 7.72c-.78.78-.78 2.05 0 2.83L4 21.41c.39.39.9.59 1.41.59.51 0 1.02-.2 1.41-.59l7.78-7.78 2.81-2.81c.8-.78.8-2.07 0-2.86zM5.41 20L4 18.59l7.72-7.72 1.47 1.35L5.41 20z\"/>\n",
              "  </svg>\n",
              "      </button>\n",
              "      \n",
              "  <style>\n",
              "    .colab-df-container {\n",
              "      display:flex;\n",
              "      flex-wrap:wrap;\n",
              "      gap: 12px;\n",
              "    }\n",
              "\n",
              "    .colab-df-convert {\n",
              "      background-color: #E8F0FE;\n",
              "      border: none;\n",
              "      border-radius: 50%;\n",
              "      cursor: pointer;\n",
              "      display: none;\n",
              "      fill: #1967D2;\n",
              "      height: 32px;\n",
              "      padding: 0 0 0 0;\n",
              "      width: 32px;\n",
              "    }\n",
              "\n",
              "    .colab-df-convert:hover {\n",
              "      background-color: #E2EBFA;\n",
              "      box-shadow: 0px 1px 2px rgba(60, 64, 67, 0.3), 0px 1px 3px 1px rgba(60, 64, 67, 0.15);\n",
              "      fill: #174EA6;\n",
              "    }\n",
              "\n",
              "    [theme=dark] .colab-df-convert {\n",
              "      background-color: #3B4455;\n",
              "      fill: #D2E3FC;\n",
              "    }\n",
              "\n",
              "    [theme=dark] .colab-df-convert:hover {\n",
              "      background-color: #434B5C;\n",
              "      box-shadow: 0px 1px 3px 1px rgba(0, 0, 0, 0.15);\n",
              "      filter: drop-shadow(0px 1px 2px rgba(0, 0, 0, 0.3));\n",
              "      fill: #FFFFFF;\n",
              "    }\n",
              "  </style>\n",
              "\n",
              "      <script>\n",
              "        const buttonEl =\n",
              "          document.querySelector('#df-349514ee-1eea-4be6-a9d5-d5a839a5d1df button.colab-df-convert');\n",
              "        buttonEl.style.display =\n",
              "          google.colab.kernel.accessAllowed ? 'block' : 'none';\n",
              "\n",
              "        async function convertToInteractive(key) {\n",
              "          const element = document.querySelector('#df-349514ee-1eea-4be6-a9d5-d5a839a5d1df');\n",
              "          const dataTable =\n",
              "            await google.colab.kernel.invokeFunction('convertToInteractive',\n",
              "                                                     [key], {});\n",
              "          if (!dataTable) return;\n",
              "\n",
              "          const docLinkHtml = 'Like what you see? Visit the ' +\n",
              "            '<a target=\"_blank\" href=https://colab.research.google.com/notebooks/data_table.ipynb>data table notebook</a>'\n",
              "            + ' to learn more about interactive tables.';\n",
              "          element.innerHTML = '';\n",
              "          dataTable['output_type'] = 'display_data';\n",
              "          await google.colab.output.renderOutput(dataTable, element);\n",
              "          const docLink = document.createElement('div');\n",
              "          docLink.innerHTML = docLinkHtml;\n",
              "          element.appendChild(docLink);\n",
              "        }\n",
              "      </script>\n",
              "    </div>\n",
              "  </div>\n",
              "  "
            ]
          },
          "metadata": {},
          "execution_count": 7
        }
      ]
    },
    {
      "cell_type": "markdown",
      "source": [
        "## 1.2  Categorical variables"
      ],
      "metadata": {
        "id": "H0dRxUXZTRSK"
      }
    },
    {
      "cell_type": "code",
      "source": [
        "# 범주형 변수 시각화 함수\n",
        "def categorical(val):\n",
        "  new = pd.DataFrame(penguins[val].value_counts()/penguins[val].count())\n",
        "  new.reset_index(inplace=True)\n",
        "  print(new)\n",
        "  print(\"------------------------------------------\")\n",
        "  plt.pie(x=list(new[val]), labels=list(new['index']), autopct='%.2f%%')\n",
        "  plt.show()"
      ],
      "metadata": {
        "id": "ZhYd7dOmMwde"
      },
      "execution_count": 8,
      "outputs": []
    },
    {
      "cell_type": "code",
      "source": [
        "# 범주형 변수 1: species\n",
        "categorical('species')"
      ],
      "metadata": {
        "colab": {
          "base_uri": "https://localhost:8080/",
          "height": 339
        },
        "id": "XtDiViBPRVLo",
        "outputId": "155e87aa-d0fe-48c8-991d-9faaba6cb418"
      },
      "execution_count": 9,
      "outputs": [
        {
          "output_type": "stream",
          "name": "stdout",
          "text": [
            "       index   species\n",
            "0     Adelie  0.441520\n",
            "1     Gentoo  0.359649\n",
            "2  Chinstrap  0.198830\n",
            "------------------------------------------\n"
          ]
        },
        {
          "output_type": "display_data",
          "data": {
            "text/plain": [
              "<Figure size 432x288 with 1 Axes>"
            ],
            "image/png": "[encoded data removed]"
          },
          "metadata": {}
        }
      ]
    },
    {
      "cell_type": "code",
      "source": [
        "# 범주형 변수 2: island\n",
        "categorical('island')"
      ],
      "metadata": {
        "colab": {
          "base_uri": "https://localhost:8080/",
          "height": 339
        },
        "id": "GqyX02RsS_BJ",
        "outputId": "6d6b7b9f-af96-40bb-ebae-46c11cd8ae3f"
      },
      "execution_count": 10,
      "outputs": [
        {
          "output_type": "stream",
          "name": "stdout",
          "text": [
            "       index    island\n",
            "0     Biscoe  0.488304\n",
            "1      Dream  0.362573\n",
            "2  Torgersen  0.149123\n",
            "------------------------------------------\n"
          ]
        },
        {
          "output_type": "display_data",
          "data": {
            "text/plain": [
              "<Figure size 432x288 with 1 Axes>"
            ],
            "image/png": "[encoded data removed]"
          },
          "metadata": {}
        }
      ]
    },
    {
      "cell_type": "code",
      "source": [
        "# 범주형 변수 3: sex\n",
        "categorical('sex')"
      ],
      "metadata": {
        "colab": {
          "base_uri": "https://localhost:8080/",
          "height": 321
        },
        "id": "NS4_1Jt-TDjx",
        "outputId": "06f0d433-8297-4b04-cb5b-c6abf8928ec9"
      },
      "execution_count": 11,
      "outputs": [
        {
          "output_type": "stream",
          "name": "stdout",
          "text": [
            "    index       sex\n",
            "0    Male  0.504505\n",
            "1  Female  0.495495\n",
            "------------------------------------------\n"
          ]
        },
        {
          "output_type": "display_data",
          "data": {
            "text/plain": [
              "<Figure size 432x288 with 1 Axes>"
            ],
            "image/png": "[encoded data removed]"
          },
          "metadata": {}
        }
      ]
    },
    {
      "cell_type": "markdown",
      "source": [
        "## 1.3  Numerical variables"
      ],
      "metadata": {
        "id": "QtJW-q7uTUSf"
      }
    },
    {
      "cell_type": "code",
      "source": [
        "# 한 연속변수의 분포\n",
        "sns.distplot(penguins['bill_length_mm'])"
      ],
      "metadata": {
        "colab": {
          "base_uri": "https://localhost:8080/",
          "height": 354
        },
        "id": "yJJE0KutUQX1",
        "outputId": "fce6b798-a8d3-41a9-e054-5fed6eb84b5c"
      },
      "execution_count": 12,
      "outputs": [
        {
          "output_type": "stream",
          "name": "stderr",
          "text": [
            "/usr/local/lib/python3.7/dist-packages/seaborn/distributions.py:2619: FutureWarning: `distplot` is a deprecated function and will be removed in a future version. Please adapt your code to use either `displot` (a figure-level function with similar flexibility) or `histplot` (an axes-level function for histograms).\n",
            "  warnings.warn(msg, FutureWarning)\n"
          ]
        },
        {
          "output_type": "execute_result",
          "data": {
            "text/plain": [
              "<matplotlib.axes._subplots.AxesSubplot at 0x7f6af002c790>"
            ]
          },
          "metadata": {},
          "execution_count": 12
        },
        {
          "output_type": "display_data",
          "data": {
            "text/plain": [
              "<Figure size 432x288 with 1 Axes>"
            ],
            "image/png": "[encoded data removed]"
          },
          "metadata": {
            "needs_background": "light"
          }
        }
      ]
    },
    {
      "cell_type": "code",
      "source": [
        "sns.distplot(penguins['bill_depth_mm'])"
      ],
      "metadata": {
        "colab": {
          "base_uri": "https://localhost:8080/",
          "height": 354
        },
        "id": "OvSP_SZ1UQUd",
        "outputId": "aff716e4-f4fe-4408-c7bd-bb0e1bebcd98"
      },
      "execution_count": 13,
      "outputs": [
        {
          "output_type": "stream",
          "name": "stderr",
          "text": [
            "/usr/local/lib/python3.7/dist-packages/seaborn/distributions.py:2619: FutureWarning: `distplot` is a deprecated function and will be removed in a future version. Please adapt your code to use either `displot` (a figure-level function with similar flexibility) or `histplot` (an axes-level function for histograms).\n",
            "  warnings.warn(msg, FutureWarning)\n"
          ]
        },
        {
          "output_type": "execute_result",
          "data": {
            "text/plain": [
              "<matplotlib.axes._subplots.AxesSubplot at 0x7f6aefefb290>"
            ]
          },
          "metadata": {},
          "execution_count": 13
        },
        {
          "output_type": "display_data",
          "data": {
            "text/plain": [
              "<Figure size 432x288 with 1 Axes>"
            ],
            "image/png": "[encoded data removed]"
          },
          "metadata": {
            "needs_background": "light"
          }
        }
      ]
    },
    {
      "cell_type": "code",
      "source": [
        "sns.distplot(penguins['flipper_length_mm'])"
      ],
      "metadata": {
        "colab": {
          "base_uri": "https://localhost:8080/",
          "height": 354
        },
        "id": "GnqfyeRvUQSV",
        "outputId": "8b80f0d7-7883-41af-903f-0190d88bc198"
      },
      "execution_count": 14,
      "outputs": [
        {
          "output_type": "stream",
          "name": "stderr",
          "text": [
            "/usr/local/lib/python3.7/dist-packages/seaborn/distributions.py:2619: FutureWarning: `distplot` is a deprecated function and will be removed in a future version. Please adapt your code to use either `displot` (a figure-level function with similar flexibility) or `histplot` (an axes-level function for histograms).\n",
            "  warnings.warn(msg, FutureWarning)\n"
          ]
        },
        {
          "output_type": "execute_result",
          "data": {
            "text/plain": [
              "<matplotlib.axes._subplots.AxesSubplot at 0x7f6aefe9a9d0>"
            ]
          },
          "metadata": {},
          "execution_count": 14
        },
        {
          "output_type": "display_data",
          "data": {
            "text/plain": [
              "<Figure size 432x288 with 1 Axes>"
            ],
            "image/png": "[encoded data removed]"
          },
          "metadata": {
            "needs_background": "light"
          }
        }
      ]
    },
    {
      "cell_type": "code",
      "source": [
        "sns.distplot(penguins['body_mass_g'])"
      ],
      "metadata": {
        "colab": {
          "base_uri": "https://localhost:8080/",
          "height": 358
        },
        "id": "wEJTLj24UQBK",
        "outputId": "9d519fdb-1428-4f17-9207-1a6b68208153"
      },
      "execution_count": 15,
      "outputs": [
        {
          "output_type": "stream",
          "name": "stderr",
          "text": [
            "/usr/local/lib/python3.7/dist-packages/seaborn/distributions.py:2619: FutureWarning: `distplot` is a deprecated function and will be removed in a future version. Please adapt your code to use either `displot` (a figure-level function with similar flexibility) or `histplot` (an axes-level function for histograms).\n",
            "  warnings.warn(msg, FutureWarning)\n"
          ]
        },
        {
          "output_type": "execute_result",
          "data": {
            "text/plain": [
              "<matplotlib.axes._subplots.AxesSubplot at 0x7f6aefe2a7d0>"
            ]
          },
          "metadata": {},
          "execution_count": 15
        },
        {
          "output_type": "display_data",
          "data": {
            "text/plain": [
              "<Figure size 432x288 with 1 Axes>"
            ],
            "image/png": "[encoded data removed]"
          },
          "metadata": {
            "needs_background": "light"
          }
        }
      ]
    },
    {
      "cell_type": "code",
      "source": [
        "# 두 연속변수간의 관계\n",
        "sns.scatterplot(x='bill_length_mm', y='bill_depth_mm', hue='sex', data=penguins) "
      ],
      "metadata": {
        "colab": {
          "base_uri": "https://localhost:8080/",
          "height": 298
        },
        "id": "GqSjRcPaTIn_",
        "outputId": "fca3bd35-6856-4b94-aa2a-24d926bfe313"
      },
      "execution_count": 16,
      "outputs": [
        {
          "output_type": "execute_result",
          "data": {
            "text/plain": [
              "<matplotlib.axes._subplots.AxesSubplot at 0x7f6aefd3cd90>"
            ]
          },
          "metadata": {},
          "execution_count": 16
        },
        {
          "output_type": "display_data",
          "data": {
            "text/plain": [
              "<Figure size 432x288 with 1 Axes>"
            ],
            "image/png": "[encoded data removed]"
          },
          "metadata": {
            "needs_background": "light"
          }
        }
      ]
    },
    {
      "cell_type": "code",
      "source": [
        "sns.scatterplot(x='flipper_length_mm', y='body_mass_g', hue='sex', data=penguins) "
      ],
      "metadata": {
        "colab": {
          "base_uri": "https://localhost:8080/",
          "height": 298
        },
        "id": "IyUih0lvTl8c",
        "outputId": "a24926a7-c40a-41e8-c8fc-9ecc3f348b44"
      },
      "execution_count": 17,
      "outputs": [
        {
          "output_type": "execute_result",
          "data": {
            "text/plain": [
              "<matplotlib.axes._subplots.AxesSubplot at 0x7f6aefccd550>"
            ]
          },
          "metadata": {},
          "execution_count": 17
        },
        {
          "output_type": "display_data",
          "data": {
            "text/plain": [
              "<Figure size 432x288 with 1 Axes>"
            ],
            "image/png": "[encoded data removed]"
          },
          "metadata": {
            "needs_background": "light"
          }
        }
      ]
    },
    {
      "cell_type": "markdown",
      "source": [
        "# 2  MICE (Multiple Imputation by Chained Equations)"
      ],
      "metadata": {
        "id": "EGdnuN2eU8Ca"
      }
    },
    {
      "cell_type": "code",
      "source": [
        "from sklearn.linear_model import LogisticRegression\n",
        "from sklearn.model_selection import train_test_split\n",
        "from sklearn.metrics import confusion_matrix\n",
        "from sklearn.metrics import accuracy_score, precision_score, recall_score, f1_score"
      ],
      "metadata": {
        "id": "LHKivltIU4KN"
      },
      "execution_count": 18,
      "outputs": []
    },
    {
      "cell_type": "code",
      "source": [
        "# 범주형 변수 더미변환: 성별부터\n",
        "penguins_test_y = penguins['sex']\n",
        "penguins_dum_y = pd.get_dummies(penguins_test_y, drop_first = True, dummy_na=True)"
      ],
      "metadata": {
        "id": "zGN5B--ux9zs"
      },
      "execution_count": 19,
      "outputs": []
    },
    {
      "cell_type": "code",
      "source": [
        "for i in range(len(penguins_dum_y)):\n",
        "  if penguins_dum_y.iloc[i, 1] == 1:\n",
        "    penguins_dum_y.iloc[i] = np.nan\n",
        "penguins_dum_y.drop(penguins_dum_y.columns[1], axis=1, inplace=True)"
      ],
      "metadata": {
        "id": "gt4Kcdo1x93z"
      },
      "execution_count": 20,
      "outputs": []
    },
    {
      "cell_type": "code",
      "source": [
        "penguins_dum = pd.concat([penguins, penguins_dum_y], axis=1)"
      ],
      "metadata": {
        "id": "IimLlXrR0HCD"
      },
      "execution_count": 21,
      "outputs": []
    },
    {
      "cell_type": "code",
      "source": [
        "penguins_dum.drop(['sex'], axis=1, inplace=True)"
      ],
      "metadata": {
        "id": "Ex5R9SO-0HCE"
      },
      "execution_count": 22,
      "outputs": []
    },
    {
      "cell_type": "code",
      "source": [
        "# 나머지 범주형 변수 더미변환\n",
        "penguins_dum = pd.get_dummies(penguins_dum, columns = ['species', 'island'], drop_first=True)"
      ],
      "metadata": {
        "id": "Kmcc0c3lWfYj"
      },
      "execution_count": 23,
      "outputs": []
    },
    {
      "cell_type": "code",
      "source": [
        "# 추후 추정의 편리함을 위해 자료 분리, 보존\n",
        "penguins_dum_X = penguins_dum.drop(['Male'], axis=1)\n",
        "penguins_test = penguins_dum"
      ],
      "metadata": {
        "id": "S6qWSqQM2ysE"
      },
      "execution_count": 24,
      "outputs": []
    },
    {
      "cell_type": "code",
      "source": [
        "# 결측값을 제외한 데이터로부터 로지스틱회귀모형 훈련\n",
        "# X and y after excluding missing values\n",
        "X = penguins_dum.dropna(axis=0).drop(['Male'], axis=1)\n",
        "y= penguins_dum.dropna(axis=0)['Male']"
      ],
      "metadata": {
        "id": "gTSWDEkg05LS"
      },
      "execution_count": 25,
      "outputs": []
    },
    {
      "cell_type": "code",
      "source": [
        "log_reg = LogisticRegression(random_state = 0)"
      ],
      "metadata": {
        "id": "zCPKUVJP05RP"
      },
      "execution_count": 26,
      "outputs": []
    },
    {
      "cell_type": "code",
      "source": [
        "log_reg_model = log_reg.fit(X, y)"
      ],
      "metadata": {
        "id": "KPLc3ydr05Vh"
      },
      "execution_count": 27,
      "outputs": []
    },
    {
      "cell_type": "code",
      "source": [
        "# Prediction\n",
        "y_pred = log_reg_model.predict(penguins_dum_X)"
      ],
      "metadata": {
        "id": "FBjblaRqzlCP"
      },
      "execution_count": 28,
      "outputs": []
    },
    {
      "cell_type": "code",
      "source": [
        "y_pred"
      ],
      "metadata": {
        "colab": {
          "base_uri": "https://localhost:8080/"
        },
        "id": "gTXbtpkzzlGF",
        "outputId": "58ef3358-8aa7-4d48-bbf0-e3ad245f56ea"
      },
      "execution_count": 29,
      "outputs": [
        {
          "output_type": "execute_result",
          "data": {
            "text/plain": [
              "array([1., 1., 0., 0., 1., 1., 1., 0., 1., 0., 1., 0., 1., 1., 1., 0., 1.,\n",
              "       0., 1., 1., 1., 1., 1., 1., 1., 1., 0., 1., 1., 0., 1., 0., 1., 0.,\n",
              "       1., 1., 1., 1., 1., 0., 1., 0., 1., 0., 1., 1., 0., 0., 1., 0., 1.,\n",
              "       0., 1., 0., 1., 0., 1., 0., 0., 0., 1., 0., 1., 0., 1., 0., 1., 0.,\n",
              "       1., 0., 1., 0., 1., 0., 1., 0., 1., 0., 1., 0., 1., 1., 1., 0., 1.,\n",
              "       1., 0., 1., 0., 0., 1., 0., 1., 0., 1., 1., 1., 0., 1., 0., 1., 0.,\n",
              "       1., 0., 1., 0., 1., 0., 1., 0., 1., 0., 1., 1., 1., 0., 0., 0., 0.,\n",
              "       0., 0., 1., 0., 0., 1., 0., 1., 0., 0., 0., 0., 0., 1., 0., 1., 0.,\n",
              "       1., 0., 1., 0., 0., 0., 0., 0., 1., 1., 0., 0., 0., 0., 0., 0., 1.,\n",
              "       1., 1., 1., 0., 1., 1., 1., 1., 1., 1., 1., 1., 0., 1., 0., 1., 0.,\n",
              "       1., 1., 0., 0., 1., 0., 1., 0., 1., 1., 1., 0., 1., 0., 1., 0., 0.,\n",
              "       1., 1., 0., 1., 0., 1., 0., 0., 0., 1., 0., 1., 0., 0., 0., 1., 0.,\n",
              "       1., 0., 0., 0., 1., 0., 0., 1., 0., 0., 1., 0., 1., 0., 1., 0., 1.,\n",
              "       0., 1., 1., 0., 0., 1., 0., 1., 0., 1., 0., 1., 0., 1., 0., 1., 0.,\n",
              "       1., 1., 0., 0., 1., 0., 1., 0., 1., 0., 1., 1., 0., 1., 1., 1., 1.,\n",
              "       0., 1., 0., 1., 0., 1., 0., 0., 1., 0., 0., 1., 0., 1., 0., 1., 0.,\n",
              "       0., 0., 0., 0., 0., 0., 1., 0., 1., 0., 1., 0., 1., 0., 1., 0., 1.,\n",
              "       0., 0., 1., 1., 0., 1., 0., 1., 0., 1., 0., 1., 0., 1., 0., 1., 0.,\n",
              "       1., 0., 1., 0., 1., 0., 1., 0., 0., 1., 0., 1., 1., 0., 1., 1., 1.,\n",
              "       0., 1., 0., 1., 0., 1., 1., 1., 0., 1., 0., 1., 0., 1., 0., 0., 1.,\n",
              "       1., 1.])"
            ]
          },
          "metadata": {},
          "execution_count": 29
        }
      ]
    },
    {
      "cell_type": "code",
      "source": [
        "# 'y_pred' 는  2D numpy array 형태\n",
        "# flatten() 메소드를 사용해서  1D array 로 전환\n",
        "penguins_dum['Male'].fillna(pd.Series(y_pred.flatten()), inplace=True)"
      ],
      "metadata": {
        "id": "Xhec62g7sYuZ"
      },
      "execution_count": 30,
      "outputs": []
    },
    {
      "cell_type": "code",
      "source": [
        "penguins_dum"
      ],
      "metadata": {
        "id": "08J6MeS8sYrB",
        "colab": {
          "base_uri": "https://localhost:8080/",
          "height": 488
        },
        "outputId": "890417b7-49a2-4891-cd91-8f1a280d24ff"
      },
      "execution_count": 31,
      "outputs": [
        {
          "output_type": "execute_result",
          "data": {
            "text/plain": [
              "     bill_length_mm  bill_depth_mm  flipper_length_mm  body_mass_g  Male  \\\n",
              "0              39.1           18.7              181.0       3750.0   1.0   \n",
              "1              39.5           17.4              186.0       3800.0   0.0   \n",
              "2              40.3           18.0              195.0       3250.0   0.0   \n",
              "4              36.7           19.3              193.0       3450.0   0.0   \n",
              "5              39.3           20.6              190.0       3650.0   1.0   \n",
              "..              ...            ...                ...          ...   ...   \n",
              "338            47.2           13.7              214.0       4925.0   0.0   \n",
              "340            46.8           14.3              215.0       4850.0   0.0   \n",
              "341            50.4           15.7              222.0       5750.0   1.0   \n",
              "342            45.2           14.8              212.0       5200.0   0.0   \n",
              "343            49.9           16.1              213.0       5400.0   1.0   \n",
              "\n",
              "     species_Chinstrap  species_Gentoo  island_Dream  island_Torgersen  \n",
              "0                    0               0             0                 1  \n",
              "1                    0               0             0                 1  \n",
              "2                    0               0             0                 1  \n",
              "4                    0               0             0                 1  \n",
              "5                    0               0             0                 1  \n",
              "..                 ...             ...           ...               ...  \n",
              "338                  0               1             0                 0  \n",
              "340                  0               1             0                 0  \n",
              "341                  0               1             0                 0  \n",
              "342                  0               1             0                 0  \n",
              "343                  0               1             0                 0  \n",
              "\n",
              "[342 rows x 9 columns]"
            ],
            "text/html": [
              "\n",
              "  <div id=\"df-616fe491-c00f-4906-8c6a-4d2513eef474\">\n",
              "    <div class=\"colab-df-container\">\n",
              "      <div>\n",
              "<style scoped>\n",
              "    .dataframe tbody tr th:only-of-type {\n",
              "        vertical-align: middle;\n",
              "    }\n",
              "\n",
              "    .dataframe tbody tr th {\n",
              "        vertical-align: top;\n",
              "    }\n",
              "\n",
              "    .dataframe thead th {\n",
              "        text-align: right;\n",
              "    }\n",
              "</style>\n",
              "<table border=\"1\" class=\"dataframe\">\n",
              "  <thead>\n",
              "    <tr style=\"text-align: right;\">\n",
              "      <th></th>\n",
              "      <th>bill_length_mm</th>\n",
              "      <th>bill_depth_mm</th>\n",
              "      <th>flipper_length_mm</th>\n",
              "      <th>body_mass_g</th>\n",
              "      <th>Male</th>\n",
              "      <th>species_Chinstrap</th>\n",
              "      <th>species_Gentoo</th>\n",
              "      <th>island_Dream</th>\n",
              "      <th>island_Torgersen</th>\n",
              "    </tr>\n",
              "  </thead>\n",
              "  <tbody>\n",
              "    <tr>\n",
              "      <th>0</th>\n",
              "      <td>39.1</td>\n",
              "      <td>18.7</td>\n",
              "      <td>181.0</td>\n",
              "      <td>3750.0</td>\n",
              "      <td>1.0</td>\n",
              "      <td>0</td>\n",
              "      <td>0</td>\n",
              "      <td>0</td>\n",
              "      <td>1</td>\n",
              "    </tr>\n",
              "    <tr>\n",
              "      <th>1</th>\n",
              "      <td>39.5</td>\n",
              "      <td>17.4</td>\n",
              "      <td>186.0</td>\n",
              "      <td>3800.0</td>\n",
              "      <td>0.0</td>\n",
              "      <td>0</td>\n",
              "      <td>0</td>\n",
              "      <td>0</td>\n",
              "      <td>1</td>\n",
              "    </tr>\n",
              "    <tr>\n",
              "      <th>2</th>\n",
              "      <td>40.3</td>\n",
              "      <td>18.0</td>\n",
              "      <td>195.0</td>\n",
              "      <td>3250.0</td>\n",
              "      <td>0.0</td>\n",
              "      <td>0</td>\n",
              "      <td>0</td>\n",
              "      <td>0</td>\n",
              "      <td>1</td>\n",
              "    </tr>\n",
              "    <tr>\n",
              "      <th>4</th>\n",
              "      <td>36.7</td>\n",
              "      <td>19.3</td>\n",
              "      <td>193.0</td>\n",
              "      <td>3450.0</td>\n",
              "      <td>0.0</td>\n",
              "      <td>0</td>\n",
              "      <td>0</td>\n",
              "      <td>0</td>\n",
              "      <td>1</td>\n",
              "    </tr>\n",
              "    <tr>\n",
              "      <th>5</th>\n",
              "      <td>39.3</td>\n",
              "      <td>20.6</td>\n",
              "      <td>190.0</td>\n",
              "      <td>3650.0</td>\n",
              "      <td>1.0</td>\n",
              "      <td>0</td>\n",
              "      <td>0</td>\n",
              "      <td>0</td>\n",
              "      <td>1</td>\n",
              "    </tr>\n",
              "    <tr>\n",
              "      <th>...</th>\n",
              "      <td>...</td>\n",
              "      <td>...</td>\n",
              "      <td>...</td>\n",
              "      <td>...</td>\n",
              "      <td>...</td>\n",
              "      <td>...</td>\n",
              "      <td>...</td>\n",
              "      <td>...</td>\n",
              "      <td>...</td>\n",
              "    </tr>\n",
              "    <tr>\n",
              "      <th>338</th>\n",
              "      <td>47.2</td>\n",
              "      <td>13.7</td>\n",
              "      <td>214.0</td>\n",
              "      <td>4925.0</td>\n",
              "      <td>0.0</td>\n",
              "      <td>0</td>\n",
              "      <td>1</td>\n",
              "      <td>0</td>\n",
              "      <td>0</td>\n",
              "    </tr>\n",
              "    <tr>\n",
              "      <th>340</th>\n",
              "      <td>46.8</td>\n",
              "      <td>14.3</td>\n",
              "      <td>215.0</td>\n",
              "      <td>4850.0</td>\n",
              "      <td>0.0</td>\n",
              "      <td>0</td>\n",
              "      <td>1</td>\n",
              "      <td>0</td>\n",
              "      <td>0</td>\n",
              "    </tr>\n",
              "    <tr>\n",
              "      <th>341</th>\n",
              "      <td>50.4</td>\n",
              "      <td>15.7</td>\n",
              "      <td>222.0</td>\n",
              "      <td>5750.0</td>\n",
              "      <td>1.0</td>\n",
              "      <td>0</td>\n",
              "      <td>1</td>\n",
              "      <td>0</td>\n",
              "      <td>0</td>\n",
              "    </tr>\n",
              "    <tr>\n",
              "      <th>342</th>\n",
              "      <td>45.2</td>\n",
              "      <td>14.8</td>\n",
              "      <td>212.0</td>\n",
              "      <td>5200.0</td>\n",
              "      <td>0.0</td>\n",
              "      <td>0</td>\n",
              "      <td>1</td>\n",
              "      <td>0</td>\n",
              "      <td>0</td>\n",
              "    </tr>\n",
              "    <tr>\n",
              "      <th>343</th>\n",
              "      <td>49.9</td>\n",
              "      <td>16.1</td>\n",
              "      <td>213.0</td>\n",
              "      <td>5400.0</td>\n",
              "      <td>1.0</td>\n",
              "      <td>0</td>\n",
              "      <td>1</td>\n",
              "      <td>0</td>\n",
              "      <td>0</td>\n",
              "    </tr>\n",
              "  </tbody>\n",
              "</table>\n",
              "<p>342 rows × 9 columns</p>\n",
              "</div>\n",
              "      <button class=\"colab-df-convert\" onclick=\"convertToInteractive('df-616fe491-c00f-4906-8c6a-4d2513eef474')\"\n",
              "              title=\"Convert this dataframe to an interactive table.\"\n",
              "              style=\"display:none;\">\n",
              "        \n",
              "  <svg xmlns=\"http://www.w3.org/2000/svg\" height=\"24px\"viewBox=\"0 0 24 24\"\n",
              "       width=\"24px\">\n",
              "    <path d=\"M0 0h24v24H0V0z\" fill=\"none\"/>\n",
              "    <path d=\"M18.56 5.44l.94 2.06.94-2.06 2.06-.94-2.06-.94-.94-2.06-.94 2.06-2.06.94zm-11 1L8.5 8.5l.94-2.06 2.06-.94-2.06-.94L8.5 2.5l-.94 2.06-2.06.94zm10 10l.94 2.06.94-2.06 2.06-.94-2.06-.94-.94-2.06-.94 2.06-2.06.94z\"/><path d=\"M17.41 7.96l-1.37-1.37c-.4-.4-.92-.59-1.43-.59-.52 0-1.04.2-1.43.59L10.3 9.45l-7.72 7.72c-.78.78-.78 2.05 0 2.83L4 21.41c.39.39.9.59 1.41.59.51 0 1.02-.2 1.41-.59l7.78-7.78 2.81-2.81c.8-.78.8-2.07 0-2.86zM5.41 20L4 18.59l7.72-7.72 1.47 1.35L5.41 20z\"/>\n",
              "  </svg>\n",
              "      </button>\n",
              "      \n",
              "  <style>\n",
              "    .colab-df-container {\n",
              "      display:flex;\n",
              "      flex-wrap:wrap;\n",
              "      gap: 12px;\n",
              "    }\n",
              "\n",
              "    .colab-df-convert {\n",
              "      background-color: #E8F0FE;\n",
              "      border: none;\n",
              "      border-radius: 50%;\n",
              "      cursor: pointer;\n",
              "      display: none;\n",
              "      fill: #1967D2;\n",
              "      height: 32px;\n",
              "      padding: 0 0 0 0;\n",
              "      width: 32px;\n",
              "    }\n",
              "\n",
              "    .colab-df-convert:hover {\n",
              "      background-color: #E2EBFA;\n",
              "      box-shadow: 0px 1px 2px rgba(60, 64, 67, 0.3), 0px 1px 3px 1px rgba(60, 64, 67, 0.15);\n",
              "      fill: #174EA6;\n",
              "    }\n",
              "\n",
              "    [theme=dark] .colab-df-convert {\n",
              "      background-color: #3B4455;\n",
              "      fill: #D2E3FC;\n",
              "    }\n",
              "\n",
              "    [theme=dark] .colab-df-convert:hover {\n",
              "      background-color: #434B5C;\n",
              "      box-shadow: 0px 1px 3px 1px rgba(0, 0, 0, 0.15);\n",
              "      filter: drop-shadow(0px 1px 2px rgba(0, 0, 0, 0.3));\n",
              "      fill: #FFFFFF;\n",
              "    }\n",
              "  </style>\n",
              "\n",
              "      <script>\n",
              "        const buttonEl =\n",
              "          document.querySelector('#df-616fe491-c00f-4906-8c6a-4d2513eef474 button.colab-df-convert');\n",
              "        buttonEl.style.display =\n",
              "          google.colab.kernel.accessAllowed ? 'block' : 'none';\n",
              "\n",
              "        async function convertToInteractive(key) {\n",
              "          const element = document.querySelector('#df-616fe491-c00f-4906-8c6a-4d2513eef474');\n",
              "          const dataTable =\n",
              "            await google.colab.kernel.invokeFunction('convertToInteractive',\n",
              "                                                     [key], {});\n",
              "          if (!dataTable) return;\n",
              "\n",
              "          const docLinkHtml = 'Like what you see? Visit the ' +\n",
              "            '<a target=\"_blank\" href=https://colab.research.google.com/notebooks/data_table.ipynb>data table notebook</a>'\n",
              "            + ' to learn more about interactive tables.';\n",
              "          element.innerHTML = '';\n",
              "          dataTable['output_type'] = 'display_data';\n",
              "          await google.colab.output.renderOutput(dataTable, element);\n",
              "          const docLink = document.createElement('div');\n",
              "          docLink.innerHTML = docLinkHtml;\n",
              "          element.appendChild(docLink);\n",
              "        }\n",
              "      </script>\n",
              "    </div>\n",
              "  </div>\n",
              "  "
            ]
          },
          "metadata": {},
          "execution_count": 31
        }
      ]
    },
    {
      "cell_type": "code",
      "source": [
        "# 로지스틱회귀 이용 결측값 추정 완료\n",
        "penguins_dum.isnull().sum()"
      ],
      "metadata": {
        "colab": {
          "base_uri": "https://localhost:8080/"
        },
        "id": "m0DeA7o73pfr",
        "outputId": "95272934-18d7-46fc-eaa4-2fe632626cb6"
      },
      "execution_count": 32,
      "outputs": [
        {
          "output_type": "execute_result",
          "data": {
            "text/plain": [
              "bill_length_mm       0\n",
              "bill_depth_mm        0\n",
              "flipper_length_mm    0\n",
              "body_mass_g          0\n",
              "Male                 0\n",
              "species_Chinstrap    0\n",
              "species_Gentoo       0\n",
              "island_Dream         0\n",
              "island_Torgersen     0\n",
              "dtype: int64"
            ]
          },
          "metadata": {},
          "execution_count": 32
        }
      ]
    },
    {
      "cell_type": "code",
      "source": [
        "#훈련 데이터와 테스트 데이터 분리\n",
        "X_train, X_test, y_train, y_test = train_test_split(\n",
        "    X, y, test_size=0.2, random_state=42)"
      ],
      "metadata": {
        "id": "fmiMpomQFN5g"
      },
      "execution_count": 33,
      "outputs": []
    },
    {
      "cell_type": "code",
      "source": [
        "# 로지스틱 모델 학습\n",
        "lr = LogisticRegression(random_state = 0)\n",
        "lr.fit(X_train, y_train)\n",
        "\n",
        "# 학습한 모델의 테스트 데이터셋에 대한 예측 결과 반환\n",
        "pred = lr.predict(X_test)\n",
        "y_pred_probability = lr.predict_proba(X_test)[:, 1]"
      ],
      "metadata": {
        "colab": {
          "base_uri": "https://localhost:8080/"
        },
        "id": "scKywooOFOAd",
        "outputId": "9cf12007-3fe0-47ba-e46d-be918c87a361"
      },
      "execution_count": 34,
      "outputs": [
        {
          "output_type": "stream",
          "name": "stderr",
          "text": [
            "/usr/local/lib/python3.7/dist-packages/sklearn/linear_model/_logistic.py:818: ConvergenceWarning: lbfgs failed to converge (status=1):\n",
            "STOP: TOTAL NO. of ITERATIONS REACHED LIMIT.\n",
            "\n",
            "Increase the number of iterations (max_iter) or scale the data as shown in:\n",
            "    https://scikit-learn.org/stable/modules/preprocessing.html\n",
            "Please also refer to the documentation for alternative solver options:\n",
            "    https://scikit-learn.org/stable/modules/linear_model.html#logistic-regression\n",
            "  extra_warning_msg=_LOGISTIC_SOLVER_CONVERGENCE_MSG,\n"
          ]
        }
      ]
    },
    {
      "cell_type": "code",
      "source": [
        "# 테스트 데이터셋에 대한 정확도, 정밀도, 특이도, f1 평가 지표 출력\n",
        "print('Accuracy : %.2f' % accuracy_score(y_test, pred))\n",
        "print('Precision : %.3f' % precision_score(y_test, pred))\n",
        "print('Recall : %.3f' % recall_score(y_test, pred))\n",
        "print('F1 : %.3f' % f1_score(y_test, pred))"
      ],
      "metadata": {
        "colab": {
          "base_uri": "https://localhost:8080/"
        },
        "id": "uTMJrvKhIEdh",
        "outputId": "1a21b1f5-db3a-47aa-934b-2ba98c1bd091"
      },
      "execution_count": 35,
      "outputs": [
        {
          "output_type": "stream",
          "name": "stdout",
          "text": [
            "Accuracy : 0.88\n",
            "Precision : 0.824\n",
            "Recall : 0.933\n",
            "F1 : 0.875\n"
          ]
        }
      ]
    },
    {
      "cell_type": "code",
      "source": [
        "# Confusion Matrix\n",
        "# 결과적으로 총 8개의 값이 실제값과 예측값이 일치하지 않음\n",
        "conf_mat_logistic = confusion_matrix(y_true = y_test, y_pred = pred)\n",
        "print(conf_mat_logistic)"
      ],
      "metadata": {
        "colab": {
          "base_uri": "https://localhost:8080/"
        },
        "id": "-2PnHGZ8IEqK",
        "outputId": "0c03311b-73eb-4cdd-a395-48dbbbf825dd"
      },
      "execution_count": 36,
      "outputs": [
        {
          "output_type": "stream",
          "name": "stdout",
          "text": [
            "[[31  6]\n",
            " [ 2 28]]\n"
          ]
        }
      ]
    },
    {
      "cell_type": "markdown",
      "source": [
        "### 변수 특성과 결측 값 유형에 따른 대체방법\n",
        "\n",
        "![image.png](data:image/png;base64,iVBORw0KGgoAAAANSUhEUgAAAtMAAAIpCAYAAABg/bROAAAgAElEQVR4nOzde1xUdf748VdLDV5G+EKRownZMrk12jp0mXAjL7gKbonVjloqqWmWeSdLSSt0VdQMNUXzrqnsqpMXzBUyUWv6SvPdDVx1bG1Y3cG1MQp+4qQyG/n7YwYdhgGGEcTL+/l48CjnfM7n8znnzOV9Pud9Pue2S5cuXUIIIYQQQghRZ79q7A4IIYQQQghxo5JgWgghhBBCCD9JMC2EEEIIIYSfJJgWQgghhBDCTxJMCyGEEEII4afbq1vwwLSj17IfQgghhBBCXLe+ebe919dlZFoIIYQQQgg/STAthBBCCCGEnySYFkIIIYQQwk8STAshhBBCCOEnCaaFEEIIIYTwkwTTQgghhBBC+EmCaSGEEEIIIfwkwbQQQgghhBB+kmBaCCGEEEIIP0kwLYQQQgghhJ8kmBZCCCGEEMJPEkwLIYQQQgjhJwmmhRBCCCGE8JME00IIIYQQQvjpFg+mW7E1WcNnL4T6VPrV/mp2DW3N0w3cq6vxYLtgntY0p01jd0Q0ihvhPVqvottierc9u/p4Xzzwhfs5lBzJ29e2V0KIa6YJXeQ3TzSy2xu7Aw1h6OAHmNQ2wPvCiz8xZ85J1gBwG4GK2whS3OZTvW3uCiRS+TNh9dVRl6d738fINj+zc2khH0a3xRTXnKL8ozy1o+51DezRBr3yJ+aYf3Jto2hYYSwaGUzYqSKe33mWgS/cz5ttf8GQWsCfPIv++k7e7tiUcydOsSD/ysuv9lfTu9l5lq45TdjgB5jU9mcM0yxMdVt1xqj26O+qrg9ll8v79B59KpJDv/0VuXu/5RVTzVv39ssa9M1+Yu7Cf7OxxpIKojVNuYufyTf/xKmaq728ztPdWjLot815UBlAYMW30S+XKLv4X45Zz7Jhz/d8UuxTZd5bUAQQqLhEoP9VCHHz+W1r/vJEM4qOWhjzeS2fc+3dzLsvgKOHvmPNvypeDGbG0DCizp/lqU1Fzu8npftva3OGPhVC+4s/MXFviVtlVV+vuq6TvnsboptcwLDrR3Jr3JhQ3uwbQti/vkO3/iq+LIS4CjdlML1m3TdeAsm7+UtyGNrzP7PHhzqqD16aM+nd9kxyf+li1S+CuggLDSTy7oDqz6z7qPlGW004cJVti6t1B7++O5Cw886PUo3B290t6P3b5hT9UjmY9vkkrb6O9e23EagIINDjupS3H9RAxW0ENrkNRa2VtuDV3iqi8fVETsHQwb9mUtsASr8vZc2eErJNdo4BD7YLJS4qlAHtwpgX0YywVSdZc/k3sjW73g0h0qO2IG17vtFW/KusysmIEMJNMwW/vjuQFqed/6zxc35vEE//9nbu+s49mL6dNncHEmm/o5oGmtClQzDR9l88gunqXq9K+0AwTytv52ilYNr5+Q87aUO37sfKK/zKt0ExIRrCTRlMe9W5OQ8qgNBgPns3uNKiUi/Fp6Yf9fgxdgXjnOfD1BMs8Llh7z/+l/1Qwhy7L/WUk5v9DUNqPkUX9a6643fzHQ/fA2cvQgMJawJwO5GhQG0DRNpWDGsbQOlJG8+t+7HSSPax48UcO16M4Xdt2dqjOcPiglnz57Oupad5atppf3ooxK3DdYUzqMoCOdEUoiHcIsG0knkdmxHIzxzY8U9euTwq6DrL9aGGLs8Go1UANOPp/sEYNp318VK288e/0qWsPmq+0d5+ORgbOrjqV564vpR6GwnxhZcfNfdR1IL8o+TVSw/rKoDouPZ8E+f5urcrL7XVpWBo7yDXCUcgPXvfyYceAXIV997BXZST+8/qy53633OYn2xOdGhz4Gzlha1Dmdfnbnrc5Rph/+USpcXnWL2tkA8f87yS83NtGyDETanAz3RBb1dDr3xflJObXeRbPXeF8M27IVVf92kACWji5fsI7wNgQjSmWyCYbsKrg9vwdCiU/usHt0DaR6HNGd+rNUPVCsp+OEuGXcnQB+7hL4ObMnun7aryOevGe/BTerIEsyqE6CZuL9Ya/IhrJvckuorR62ry4WeM8rGuan5Y/Bslr7qOt9xF52s1VBMazKQ+KoZGBFB68ntWcyfj26rYOuwOpm+r4fPx7//ygzYQzW/upE2u94C6ze9aoGkCP1h/8lgSwrIXWtGliYM9ewuZ87//pc3vWjKjWxDjB7al7D0LD7j2r/P+CZ92iBCiwo4rnyE8Bn+c7mRtFx/q+aGEB9LdryTdydpJKqI9y13+bvP4XqqS2ua6UthWxTfvqipVIQG2aEw3dTDdpsPdvN3tLrqEwg+W73m5oAWmd1VVLn1V+RC2VjLwwSA6RzQnqo2CoF9B6elipn/8HZ8UN+HswHBGqu9k3qhQJtt+Yv+/zrHnWDEHGvTqc00B05WGaw1+RONx5SgH/koBOOq0qnva0dBqblK8plorefWRMPQdmtFGcYlT5u8YsqWYU5zlXN97eVNzJ/NGBvOSpYSML77H4PnZyP+OVR1/zaS2KraObEbG373lTAcSdP4n5mR7jEr/Noj2Sjj1j38z5n+d+/HU/xYy9Z77WatpQhcdrKnlxkohhG/aVOQiN+TcX3W8H6TylULfrzAL0VBuvmA6NJjxT/wPndXN0QTdRpn9Ip/s/g8TTReBoiujhEC1H8ImQQyIDqHNzz9zynqWjEM/sCC/Yrj3Ih9u/JYPW4fydrdgurRuTu/fNSHsx6sNpgPRv9sevetfPl5EE9eJoEojJd7TCqLvuYMgIDD0fyC6WeX0jzpfTbiN4N8G8zQBqO9tRpsmtxNYfNozGaLuvI1+e/RN+5SadY8GEvjLJX6wlfLhwTMsOFJxcuBg45ZvOdDhbiZ1CqFzuzBmPBDG0PwTPLXjvFstDtas+xdFrtk8hvYI4tVerkUVs3kcL6pxNo+w/wmm6ielnHP3qvmml6R5CFGbSPcbd6v5DtKH3gHcRpt7mkOfVpXTP3xN1xDiJnfzBdPcTqTqDhzfl7BgVwkfHq8pSrnAnn/8ihZnPMr86zRPzawlMj5dzJ82Fled/sxvrhtDXKkAtWqt5Om7AmhzTwvUP59nwZ5iH3O4RUOoGCmpPq2gOXqV89a+wLubM37bicsndjVeTQhtza4xHjdA/nKJMsev6PzUPXTmF4r+38+U/fwzef+p7s56b6rJmb5Ye5pH/q5TjD0RQEENU+CdOvI9Y458j3PKPAVnzee9lHLwyb5CPtlXh24D/KOUoz2UdIm4k629f2bKzp8I/l1LZrRTUPZ9CRu3nGaMq6ikeQhRvYqc6uq/g8KIvts5Mt2mdShdFlakf1STruFJcqbFLeLmC6aLf2TMCuflnxmj2vPNC7WvUnryAn/6X1deZrV3QdfO75s9fFI1+ClzXAJ+ocj2C1qQYPp6Fh1G51A4dfInmrRtjj4uhAV/rnlqKACK6zZ7hb7pWZo0ucCxmgq550P65SIHzL6WdZBrrltKS+1KeOXPtzlvQNS2ZtvDwC/l/GA7y9yPT9cyJ60QwlfRfYLRKi6Rf7IMbdsWjItTcCDbl8/zjwyZ48cN226qzqhVnf/yr+/LOFcsV6BE47n5gmk3tX8YvaR5uN8w1kAedOWgNWkRyvjet9OithWuOvgR9enBdsFENlEQFXk7pw75sELonax9sjlBjvNk7DxNYF81Q9u1ZO3vfmLI//oeaNb84BY3Fz3nZq1GayVP3/UrfjhVSq6vN9L6fbJ5ifzPzTy/r5apImtQ6WT1dDETl9beaYejnDLHJcr8aE+Im4froUrKQKLvgfzvfFilXWve7hAI/6+UpevsDHi9NV0ejWDGCQtTj9dfz/K/qXkAoPYHR93OPf+jIOj/VfOgNiGugZs6mL4aPgcu1DJtWm813zxckWPmvGRV5rhEmQN+3SGUFhfLOObtCrg3Xp9EJa6FSjnRv1yi7GcoO1/G5/+5UPOKoaEsGtiS6GaXMOf+hwXFDthyhgeHqYju8Wu2Bp/C10FeX0Zq6nQD6mMq5mlvJze7lFxfTyBrONms7klmlXmMtFc3U8AkFdF2z5kAqmrT4W4mPRbM46o7Kj/J1O0pilOWfc8nvm2dEDeVSjnRP1+i7JdfOFd6gXO1DRq3U/GXPiFE3v4zBw4UcgA4sLMpu/qGoO/7G8L2/eBzH6r9jP58idLzDsyWYubsLK42mK59/vu6PclYiIZwUwfTvgbEvj20xRsf7iLeaeGBnTXXMnTwAzxda1tU8ySqymo7yxd1VVuaRWt29ap+aZuOwXQOhYJ//IexFZdHi39kyMZLLHr2TlqcbYiRaZ+rrJXvl1obQXRbtsY1J+hiGXtMNgxuM+pUeYrie/KUUHELqe0Ka3Rb/ljD4i4dW6Bt8jO5+/59ZTrZ46d5ZccvzOuupOgHqn9ir0c7W+OaE/j/zrPzi+/Z86+zVT+j2lb8pU0TXllaQ4pWtdOCXiF51KIx3dTBNHDLPW7bsPcUhsbuhLjs1L4TdPR2g93pYsakO9MUZkTVocJb7P1ck6G/aUIQl8g/aGHM55WXVTxF8eJQDeMjmtAlGtZIMrUQPjmw5Vse8PL6qSM2nj8CcCdrfajH+Rl18MmWE0z1GJOo/BltxtNQfTBd4/eeTI0nGl9DzhwphBANZs0/L1LKbWg7qVnUPZQura8se7BdKOP7q3mpzW1w/iIHJJAW4ppzfkYV9Oh7HzNigqv9jJZ9f15SscQN7eYfmfbh8tDlaenqXPklyhyXKHVc8rd3AOw5cJqivF8o8Kl0dY+BdufPE/GEf4qZu+0nFKW15E7X4NQPZRScd1AEtY+u+PR+rsvMMjfw+yn3JM/ZXfmYOhU9YlpdWeY5V3Xj9VKI68/xIqacL8Hhe+qzh5859X0ZBef/W3Mxt89ozyfvQd/dLTnkl0uU2h2Y87+rMWcakDQPcd277dKlS14jwQemHb3WfRHilhf9u1boW5aTu+37Gy5dp/a77r3oHM6u9reT9+UJpv6j4sVgZgwNI+r8WZ7aJI8vEuJ6p+/ehugmFzD4MouQEDewb95t7/V1CaaFEEIIIYSoRXXBtORMCyGEEEII4ScJpoUQQgghhPCTBNNCCCGEEEL4SYJpIYQQQggh/CTBtBBCCCGEEH6SYFoIIYQQQgg/STAthBBCCCGEnySYFkIIIYQQwk8STAshhBBCCOEnCaaFEEIIIYTwkwTTQgghhBBC+EmCaSGEEEIIIfwkwbQQQgghhBB+ur26BZue+RllixbXsi9CYD93jo4dOzZ2N4RoUIcOHZL3uRBC3EAOHTpU7TIZmRZCCCGEEMJPEkwLIYQQQgjhJwmmhRBCCCGE8JME00IIIYQQQvhJgmkhhBBCCCH8JMG0EEIIIYQQfpJgWgghhBBCCD9JMC2EEEIIIYSfJJgWQgghhBDCTxJMCyGEEEII4ScJpoUQQgghhPCTBNNCCCGEEEL4SYJpIYQQQggh/CTBtBBCCCGEEH6SYFoIIYQQQgg/STAthBDXtSI2vxRJZGRX0g9XU8ScTtfISCJf2kzRNe1bTQrJnp9G2qeFjd0RUZZHem8Nmt7p5JU1dmeEuPlIMC2EEDeEQtJ35XldYs7ZwvUXsv7A14vTSf/6h8buiBBCNCgJpoUQ4gYQ3iacso07OOg5slhuZt+WQsLbhDdKv8QNIDCKUTvNmHeOIiqwsTsjxM1HgmkhhLgBfB8VRdz5zWT/n0c0nbeD9FNxREV972WtMgr3pvNazygiIyOJfCga/TubMZdWLlVkGEZkZAr7S4s4uGIC+ic0REZqiO6fQvaputfprE/PSoAVeme5yGFsttWtX/wtlcjI3qw/Xop5Z+rl8lE9X2PlYS/5CraDpI+IRuNWp+V8DTvVrf68Fa8R92gkkQ+lkVeX+sqLOLjYtW6k51+qs66rbqcMi9v2Rz4UjX7iSvYXlPq4vCJVKJVK1zbOF7Lfre+aJ/SkGMyUllfexLq9P4S49UgwLYQQN4AyVTfi/1DG+k8PciWMLOPgrvWU/SGebirP4LKMvNkJdB2Rzve95pP9ZR7714zi/txkese+RmaVIGg/qfoupFgeZkpGLvvXDaeNeT2vvbQSSx3rDOs9n7ydKXQCeHEVeX/LI+9v8+kT5k+/zGwY3Rf9hkD6Lf2U3O2pxJNN6oAUst2D71ObGdZjECsDh7MxJ4/cjCTuz00mYXxmLXnkzvoHfqYmedN+sjf1ReNzfaVkv96FQcvKGLbJTMHxPHa+25VAAklcZ6agIJmoemin9NMUEsZnc/fETMzHCyj4fAMv3rWf/QW+LffqfB6pz3Rl2LLviZuTTe7f9rPxtfs5OKk3XcZnUljuuYIv7w8hbk0STAshxA0hnK4942DjZrJLXC+VHST7ozLienalSpLH4ZVMWGFB/fJGNk7oiloVRPijiaSuTqVrSTaT52VTeSC4kBYJBjLnJBJ1bxDhMUlMGRgIBfv5+lQd6wwMIig0kECAwGCCQoIICgkiMMCffkGZZhTZGUl0jQwj7KF+JI3oCuc387W5okQpmXOS2d8qiY0LhhN1bxBhD/Uj9f0k7t6bxmYzNbKUdWXVmiS6Roaj1oQT6Gt9/97Bip1ldH13Nv0iAyEgCM2Ls0np4nnSc3XtFHy9mTLi6NMz3LkPQ9QkTN5ASs8gn5Z7Y149gZUFaoav2UhSdzVhIeFEDUxl5cyulP51MmnZnkfBh/eHELcoCaaFEOIGEdSzH4lkk2V0Bjqle3ewngT6dKkaNJmNWyhEw6C+UVRKk23Th8SBULYzi4Me8dIj0ZpKZduoOwEHKbD5X2d99CsyphPhAVf+HdZWDYDllGvs1pbFjr9C3JhENG7leOh3JDQr5GtzzWPTmmF96dTM7QVf6ys6RR6gbhvmViiM+9sBp76vclLgbzuRv00gkPUs/qhqCoYvy6ty5tnz0CD6Plo5iTr82UQSKSPz04NV+l/b+0OIW5UE00IIcaMI7ETci4Fkb8uiiFIOfppJ4Iv96Folli7CklcI/I4OkVUqof1vuwLZHK0pDaCK+qizIfoFZf80sx8NnTSeO6INbR6D/Zaah07vbhbsX31tIukKWE66B+tFfHscAtvdT5jH2v62ExQ3jY2TH+brab2J0kYzbHYm5pIrpWtbXkWRxTmaHN0BteeywPZougB7j1LHwyDELev2xu6AEEIIXwXycPd+BA7OZp85mIM7A+m37mFu9QkaSosKATMpPSNJ8VagXQPVp+pD4sAUhk2bzHrNfBJ/A+aNk0k5oGbUxChva/rXTkAQUS9vIK+/hf07N7By/gR6r0in36KVpP4hvPblQogGJcG0EELcQAI79SGxmZ7N75wlr1kihk7eQukw1FHhsPco356CqDbuy8o4+o/9QALtq4wO16Q+6myIfkFgsyBAQ8qnO0ms47pXV18gkVFdCftrARtejCKlBIIi40gybGG4pgH6HaSm68AUuj4/jPUvdyVl0ioSuqdw+S1Q2/IKYWoebgP7D39LIVGV8+3LjmI+APRuTz3sSiFuCZLmIYQQN5KAKPq8Ek5eXh7hr/QhKsB7MU1MX8I5yKoNeZVvhDu1g/XbILB3PJ2qvz/t6utsFkwQQPnFBu9XUKduxGFmw6e13GlY3/WVHWTVO9nEv59J9t8KKCgoIO/TJQyP8m0DfG/H41bGgHC69uwE5wspLPFheRUauvUNh9xVbPhb5XULd65nM4Ek9OxEHQ+DELcsCaaFEOIGo+k5jE4PdWJQbA3Dnw8NZ/7LaiwrBjJw/n4stlIK/7ae5JeS2U9XUibG1T1YqkudQRoejgL+spL1h4soKsjDUtJA/QpJIHlOVwrnDeS1FXkUuuLDMpuZzBXZWHy6Kc+P+spKOXseDu7PxmIrpbTkyl+ZL2360k65hfUDNcRNWk/eKVeBkoNsWH0QusTRLayW5SrvTWtems/wSAsrhw4kba+FopJC8jYmM3zSfuieQlKchNJC+ErSPIQQ4kbTLpEN2xNrKRRI1ORM9j+2ktQ5E4hbXArNwoh6NgXDmESiPO+O80ld6gyn36xUCt5KJeWZaFJC1Ax/fwvJXYIaoF8Qrl/Fgcj1pC+YTMJsC6VAUGQnuvYd5ZzvuiHqC4ojaXpXus6eTMJHZR5T4QURN3ML859X15jTXms7AWoSFxsIXLuCd/qnYraVQYiaTn9IZefEfoQFUPPy6hpuFkXy9v10Wp1K6qQ40ksgUBVFv+kGNjwfRVg1VzyEEFXddunSpUveFhw6dAhlixbXuj/iFmc/d46OHTs2djeEaFCHDh2S9/lNoCwvjQT9UYYdWEU/9/zv8lL2z05g2OooluTNRwZ5hbjx1fS9LWkeQgghhB/M+1diiY6jUxuPBQFBtGnVwpk3fqtPtSLELUCCaSGEEMIPkb+JIzB3FUsMZooqcjzOO3OPR80soOu7w6rOpCGEuOlIzrQQQgjhh6A/zOdA0EpmrZhE72lmis7jzFfu2pfkT3PpGin5HULcCiSYFkIIIfwUFjOc+THDG7sbQohGJGkeQgghhBBC+EmCaSGEEEIIIfwkwbQQQgghhBB+kmBaCCGEEEIIP0kwLYQQQgghhJ8kmBZCCCGEEMJPEkwLIYQQQgjhJwmmhRBCCCGE8JME00IIIYQQQvhJgmkhhBBCCCH8JI8TF0KIRnDo0KHG7oIQQoh6IMG0EEI0AmWLFo3dBSGEED6ynztX7TJJ8xBCCCGEEMJPEkwLIYQQQgjhJwmmhRBCCCGE8JME00IIIYQQQvhJgmkhhBBCCCH8JMG0EEIIIYQQfpJgWgghhBBCCD9JMC2EEEIIIYSfJJgWQgghhBDCTxJMCyGEEEII4ScJpoUQQgghhPCTBNNCCCGEEEL4SYJpIYQQQggh/CTBtBDXjVIsxoPknSpruCb+lkpk5DA227wvzlvRm95TsilquB4IIdyVO7CftWN3NHZHquc4a8d+PXfwFiPH4/ojwbQQ140CtgwexOLcUp9KF36aRtrGPHwr7aMfzZi/O1tzmbyV9H4mmWwfIu46BefnSyktacATCSGuR8fW8Jz+WWbvK27snlTDzFr9szyXupeSxu6KQI7H9UmCaSEaWnkRB1dMYFDPKCIjI4mMjCJu8ARWGq9m/LeMAmM66X/9lhpDX9tmhkVGutqNJLL/SmA/yU+4vfbS5rqNRJcXYT78PWfLK7/sNXD2JTivWP+DKKIeTSOvLn25JRSTNaUHPXskknG8miIFGbzYowc9p+y+jn5gbRjXrWHtl9VcBhHVcGDeMJKnE0aScaxuo4+2L9ewdp0R2ePXObuZzHVryDxib8BG/H8fibq7vbE7IMTNrZTs17vwmrkPqe8fYMNDQVBWhHlnGhMGR5PqZY2uvlRbsp8d24Dzq9jwtz4kPxrovZyqH6sK+vnf/bqoQ+BcVRHfHgew8K0NolT12K+bho2MA2YGtNNUWWI5uPs6DKCKMW/IwNDvcYY8IQf0Wig2Z5CxWY9ucAyyx69jF/6NaUMGqPqQ0KGxOyPqgwTTQjQkWxabd0LiuhT6PeQKeAPD0OhTSDm6g0F5yWRvT0QNQB6pkXostdVZmkf6qxPI7pRC6q83kDz0Ndp8vITEdtUE1AClZjbPm8Wqvx7EUgJBkZ3oOvh1pj0fRdm2YURP2n+lbBdfNsw5up1c5fVkoiM9XvWhvrLclSw5EERQyH6WrDpInymdqGFrbkmqlipsO/eSP1iDVuG2oNyCKcvmXN5ovRP1R4Fm0FI+GdTY/RA3NnkfXUsSTAvRkE4VsJ9OpKo9Q8NA1O07wUenOOdrXWWF5BmW8M7szZzqmkLmnETUgfHcXf4Sr/WKJnvCfFIGdkUd4rFeuZl0fW/S26Zg2LMBTQiUHl7PhAF6+n5vIHPCKgr0zqJ5syPRV5dKUElXUr9cRT+34S/nuqnkru5HWKXXaq6paG8qL41fSeDLBj79fRaD+g8i4edVbJjalbAA33bNraBYoyFmXxbGw6+gfcQtmj62l4wzMcR0M2H7yXMtB7ZcA8uXb8FYaIemoWh+P4TRL/VCrbxSqiR7Cv3nqZixbSCKvy5j7XYj5iII7RDP6MljiGlZtzqd9Zmc/9g8jp6bAXQkZcwkPsz3fnFkGT0n5DN6xXtoTmwkY30WxkI7yvAYBkxORt/O/awCKMon44NUMnKLcbjqTHq5FxFNq9mpR5bRc4KRIR8sRHO48nYPGT2U+Mgrnbmyj/piX53K8s/MFHdMZtOfYgkB7AW7WbtwOZnH7BAcQcwzYxjzgpYQ9/dweTH5f17E4u1GrGcVznZi/lulWxX7Tz9/DyPcRi7tBTlkrN9I1pdW7CiJeKIvo0cNQMtupg5Iw7nHDYzvYQBAN3ETM+JC3dp+n9mbTRRfcLU97hXi21behyV/z2BRuvO4KMI0xA9+klqTBNyOk/rwIpavy8F8VknEEwOZPEmPutxCzp/XsHyniWJC0fV+ndEv6VBV2jd2LJ+tYfGKTMxnQRkeg37sGAZoQyuVsf5fFhnbd2P6uxU7CkKjBzJ5wgCuFCsma0p/0lrOZOsLCrJWr8HwpZliQtH8fgyTR8VUbreet6PkyG62GDLJ+dpC8QVQPpjAiKQr+9m8ogfjN7sKz+tPz3kAehbseYWKa04lfzewbMMWjEeuvI+rfDaAHwty2FLxfgiOIKZfMpP7qak4olXfR3XcN0X5ZKQvwvCllSoJKf0W8unLVa+S3aokZ1qIhhTWhigOUnDKc0EZlqMH4aE2tKitjrKDpPWORqPpykvbLtJnaS55ixK5+9RBDv7jIp2m7CR35zTa/2MyCY9GEtXzNTL/7bb+P/expaATKe8konEF2kEPJZL8hgbL6n2Y621j66C8jKKC/aSPiKbLiM2ET84mc3IUYY8mk7k7hcidw4h+fBCphjwK5Z5EABxhjxPT2UHml/luwY2D/AOZODo/iS7MM+RxYF4xkhff3khxl2RWZmzjo1kDichP47Uh08g549mCieVjE1lsbc+IeZv4aLYeVUEm05MNWOtYZ0i3ZLZ+OGwnez0AACAASURBVAYtwDMz2WrYxlZDMrGh/vTLQub0cYzPVBA/bRWb0pOIwcjyiYsxuv/Cn9nN1GFvYFD0Ze66bWyaN8RZ56ycWvLIbawd25/pX9/LgDnr2bT6XeLJIu3VcaytkmtqYvnYYWQ4uvPOh+tZMkxHCOA4sozxry7GrBnj3J7kGIo3v8EbG8xXjlW5jayURN5cZ0UzeCEfGVYxI0FJ1rrdNfbuci8/m8aLr6aSdbE7k1dvYtPqZGIvbmHxdjOO0O5MNixltBYggRmGbWw1bGNyt4pA2tX2dgX6WevZmrGQIffkkzZ2GjluNznYsqeQOHkNVs1QFqzbxsqUPiiz1pDlUw8trJ2YyNQv72XIB5tYMvFJ+HIZ42elkTb2DbKa9mHuqvXM/aOK/M1TmP1X9+soDsyrx/FauhnNqFVsMqznnS7FZLzxhtsxcGD+8ziGz/uK0G5jWJCxjY/mD0R9aA1vTszA4nEPB6ZljB+2CKvmFRasd7Zr2TmNqR9bqZn/21Gybxr938qkWNOXGR9ucx4jeyZpY9/H6MqA0wzaxtY/JQCgHbXU9dkY6gqkHZjXjXQeg4iBzF3n+myYl1e99+DwYsZP2IEi/l1WZSwlKRqMK8ax+Esf8rB92Tdnjcwe9gYZ5XoW7NrDp9uWMjpaAU0TmLtrjwTSHiSYFqIh3duHl3vDyreS2XzYNe9GWRFmQwopH5XB4RTiLt8gqGeltzoCH6bvnA0cOFxAnmE+w2Oc474FWwcxaNFBSoEgTQLJy3Mxm3PZ8n4ycfd6VvI15pNeotLIMM4ahl2+GVG/4iq390Ay0W43PHqtryiT19ppiH5mMl//OomNX+axZKD6clpHYLtElnyVi2FyeyzzB9JVE8kgQ+FVduxmoEIXEwM7d1/+YcaRj3G7g5gYXdUc2eMGZm+2EtHvPeYO1hERpkTVIYGk1CR0Z42krTJ6jDbZUMYuZMnEBDStlageGcqI3goo/ArzmTrWqVCiDLrDOUKmUKIMdv4pAvzpFzjUA1k5byi68FBC2vViaH8dXNiN+XJOlJ2c5WmY7hrK3Lf0aForCWnXi6TJQwnNXcPugpr3rHrQQv4ye4Cz/nAdQ1JeJwYrGYaq+8jaajQzJiSgaa1C3VYJ5RYMsw3YuiUz99VY5/Y8MpQZE2KwbtiByVWB/fNlpOU60E2YSVJvDapgFepuQ1kwXV9z5wDOGln7gRG7LoklM6/0c8Dsbax8WYMiQIEyOBSFc4df3t9KhXvbKobMeRd9BxXKMDXxE5IZEmRi7WeunXg2h+XzTDh0Sa7tU6JqF8uQeTPxoYcAKB8ew5KZA9C2DkUdNwS9Dhy5eTgSlzJ3kI6IMBXaQa+Q0BTMn+ddSUs6bmD2ZhuxE99jRLcIQoJVaAfPJKmzlYxtJtcxUKB5YSmfbHqPEXFa1/tmAK+P0kHhRoyeV8DOKImdt/Tyvq5o1/p/R2tNh/J3O0I6J/OJYSmT+8Wibq0kJDyW0Ul6FBdyyPo/12wtTZUoXQdG0TTUdaxcB6rAQNoGC6F/nMmCimPQIYGkD7cxI87jEx4UQ9KKhQyJjiAkTE38YD06HGQdrjVR0Kd9Y/t8CzkXdIwe24sIBaBUkzB2NLoLmRjz5YZGTxJMC9Gggoh7/wAb+l4k8/UuziBTE03vSTtQPL+E/ccLKCio+DMw3GsdgYRr1IQ186G5wDDUD4VXzjf+TTf6RpaxfnoKmQXOgLr08HpS3yug6+B4uupXXe6D4WVft8tjRpCKwLlLKrkFBTXXF5bA/DwzBYdzWTW5n/ebDQPCiNIns+pLMwWH81j1bLivHbupKZ/oRQJGjF87wwt77l4yiSX2MWWVspa/78aGmoR4DZUu5LfsTkJvcOz7gnyPqFWjVVcq2ypCC+RjLfK/zvroV8Qj2kqXn0PuiQDAesYVoBR9Qc7nEJOYgNr9MnU7LbFNbZgtNU87F6pSVe5LsJaYaODzb6uMeCb06V75UvixvWScUTFAH4P7UVB2fBIdOZhPAtjJP2gEEkj4vccb3odkS/uhL8i54KVtnxRj/MwInQeSEOn2coAabQ8FtiPfUgLYD32F0dv2BXik0tSg8nEKJaItQATaDm7bHKAi4iEg30rFUTEf2Iit5UD0T1Tag0R10sG+o1eujAQonCdkbpoHqwAHFqvnMdagdU8D8tJufW8HAQrXCc0VDmUrNIDpRO13NFhMu7GiRv+Ullr3+r1aotzTr8LuJQKg8DsfZvSpfd8U28xABBFhbqu52rCVNOQsJDcmyZkWoqEFhNHp5fl0cgWWZSWllAUGEeRLcOy6KdHriDXg9YY/l+GbCkh+FAjQMMqwk7B57zDrGQ0TzkNQZBz9ZmWS1DvM67o1ejSZggLvbfoqMKgOtxc2C5KbESsotMQ8o+DNz76gpNuTHDXmoHjmPXRKPG5cLcZqtgF61FXOQxTc/xsd7DRiKYSYB31tvD7qbIh+geOEBRNqRnsmlaJC9RBkWG1AqLdVqxGKKgLItWIrBtw+JopmlcMcqyUfBzrUbT2rUBEBWP9TDB1sWHIBnZr7fY9Nr7RxwgjoUN/nx8oOCxYTqEep8dw7rVRa2GDlO4CraeOqWLHkO0CnJsIjUA5RRQBWrEWgqTgGdiumfTvI2mXEdBoi7rrORknLizF/toPMfUZMfy8mNFLh443BNX02rr1WETqq7Puif2NFQcQ9dfks3RokmBbiGgsMqUtwGEVyQYGXWTPqKEhDv+kG+k2vpdydGjStgn2rs7yM0tIyAoOCCPR5tKy2k4PqJa42k9LlVg+rFWii41FMNvJVQQvy9ymIn62pfRTrJvdTiQ2wsPilHiz2VsAz0K0Dz5FQT/YiC2Bh6lOZXpfrXP91XPC/DziuImA8+yM2wJI+jJ7p3gpEXH0bV8WO7ThwfApP7/S2XHf5/xxH1jD+LQOKP7zO6Fmv8E6ownXToOFadbZmZ3KYPioVa4dXGD12KZNbK6DI/ebQmjl+afAe+iykcx8S0qew+INM1JMSUGMh84PFmMIHMqQOJ7q3CgmmhbhG8lb05p2To1k9M466jgcXGTymr6tB1zm5rNJX04Itj81//ojMA2aOHrZcfnpiUKSG9r/tRsLzq9n5so+9y0sjqr+lyqweNav+5MC5jWoMBclE+VrdLUih7U5C03FkLbRjbprAAq23UDqUCI0Kci1Yz4DGYzaOb/9pAmLrOAJWH3U2RL/gjqZKQM3o1UtJqJdRPSuWfKBleyJqGYRTKFWAjhm7xqCr9qzGQYQWOGzlu3Iqz/Dhg1b36QATlhMOCKvjqVPTFigB9ahVLHkmotpitntcKT1noM5fUFdFgbIloJvJJ2N11Z8YllswzM7A/of3WPmqD2kQ15ydnOWpGH+TxEdv9/IjHSeUiHYKMOVjKQRNY49OKyLQPBZKzokdvPnsItfsMUNZ8IG+ciqVACRnWohrp9aHmkTSd90GRkcHVVkS5pbXXP1fdTnXTmV5acQ9MZD1PzzM6wu3kOuWr51rWMLrUUWsHxpN3Pw86msCjajJBRS4TZUn6kGAhth+KszHzKj6dUdTzQ+b+pFeqMjHkGmuPLXZmb1kfgaKbk+irZpqXaM61ekK4ih3+F+Hj5QdHycGC5lGH26+8sLh0UdH/m4Mx0EVr3PNAV895/ZkkZNbUx6pCvXDKrhgxHi4clv2s1XmM6wi5LHuxACZO/Zi88jhvjKgrEDZ3PWaexmlFl1nsGQaq8544d7D30ShwoHRmF/5uNiLq06LVq/U6OJV8NleTDV9PRZ/i/kMqCIq57f7sv+uDSuWz4HwVpUD6dKfquZoN22BiqrvO02ngaiwYNjlcQzKHZWP6TXgyN9C2ucxTP5wFVv37OHTPdtYmaJHU8fP5q1CgmkhrhtBqGM6EdWmYVIZzNnpWOjHW9MTibq3cmpGYFA4UQNTeUsPlsVZjTNdnvCZOqYv2nZaEjrVEOq10zO5XwTWzW/w5joT1iI7tiOZpCWnYULH6GExVXJoa1WXOpVqNA8Cf91C5vFiSgrNWM82UL+CYxkxUYdt9RtM32zG5opEHEUWcjYbsdYSiOTPn8L0zSasRcVYc9fw5jsGbOF6Jv+xtlC6YntU5Mx7g+X7rNjLgXIH9tP5ZG43Xw5E1c+MIaGpDcM7b7A210pJkRXThjd4McWHqfFc26cwpTF1fibm03bsp81kzh/Jc69mYHYAKFE/pAEyMey0UFJkxXzSDiiJHZGE7oc1vDnLgPmMa+dcKMayz4CxYqKcSD2jeyuwfTzFdVyKseZm8OaQaT5Ojec/9R+T0d+Vw+xJy8gpdO0xhx3b3zOvPHI79H40LSHfsIWcwmLsFftvzt7rZJQ6AnVn4K9byDhiw37WhnlnGq9NWkOVyfjCNeiaOrfFdNqO7bjrPev6bFw5BnZKCk1kTOnPc7VO8Vi/HD/ZcZCP6UsrJWft2Cv+7NdZjvp1QtI8hLhFaOJGoV6xklnvRDJ9RB80ba4E1GWlhZh3LmGWAdSj45EZRK9zbROYm55QSyEFmpeX8tFDBpYvT2X4hoqHo4xhwaAENH7dQ1SXOlXEJyVhTVvO4lH9WRwcgf7NhYzQKRugX6CKm8n6iEw2rnuf11Y4HzKhDNeiix9Ya9qQdpAezYmNjF9hxt40FM3vk1jyUi/U1T3spbp9svYNnp9VjAMFoZE6YvsPhHIgAGiqY/Ta9wj9YBGGt4eR0TQUzRN9eSc9FsOoNN+27y4DyzZs5M3Bi3C4Htryzgw9Glc0qfr96ySdeJ/l6SPpn64k4o/JLHhVh7JlL2asvZfMDWtIG7XMeVITHIH2sV4MuPxQGAW6UeuZG7qIxdunMHyDgtAOMeinLiX245GkNWQ+b1MNI9LXo/14GWsn9Wd2kQOahqJ+OBZ9oqtMgBr9jCSK05Yz+6VM54Nx4gYy98NeGAanNvDouS+UxI56D9v8VDImJLLWdXxHLH0P84RxrHUvqtAycPpQbHM3MnVwJoowLSPmvEdCuALNSwtZot5Ixnr3z8ZQ5g5yPhzomm3NE0MZHZ3I8vkjybzgEUAHx5A0P5n48OvjNOZ6cNulS5cueVtw6NAhlC1qfZyEEPXKfu4cHTt2bOxuNIi82b7O4zzcz7xh1+PIrypnOpF+j/qYlPG3VCL7+3IrYdWnJXpzK+VMy/frdcJ181qlJwUKcctzPjxm/HE9H033yP8+a2L5qCkYNO+y9S0/riLdwGqKT2RkWohrJGpyAQWTG7QFkgtqeTqFKop+E6LoN6EemquHKfIqaXY3mocku1oIIRqXBdPHVrSvRlW9kVKpIjQYFMHK6yS95vogOdNCiOtC2B9S2bl9+E0/Ki2EENe3CNTRCvINGWQdL75886PjtJnM+dNYXqhjtP56nFGl8cjItBBCCCGEcFESM2k9cz9eRkbaSBYXFOOg4h6EV1iZoSPiVsrv8IHkTIvrys2cMy1EBfl+FUKIG0tN8YmkeQghhBBCCOEnCaaFEEIIIYTwkwTTQgghhBBC+EmCaSGEEEIIIfwkwbQQQgghhBB+kmBaCCGEEEIIP0kwLYQQQgghhJ8kmBZCCCGEEMJPEkwLIYQQQgjhJwmmhRBCCCGE8NPtjd0BIYS4FdnPnWvsLgghhKgHEkwLIUQjULZo0dhdEEII4aOaBkAaPc3DfjKf/GM2HI3dESGEEEIIIeqo0YNp6543eHNDHj81VP3b3+D5dBP2BqpfANgxpffnze3Wxu6IEEIIIcQ11UBpHsVkTelPmsn7Ut3ETcyIC625iiPL6DnB4HuTuiQ2zexFiPtrZ41krLYRO0uL0vWSeUUPxm+GmLe28U43ZdV67EZmPzuNHPQs2PMKGt970IBsGNftxqLuxZAnVA3clgPzhnG8uRkGzFnIgAcVPqyjRBsdw/RpGzF2SyYmuIG7KIQQQghxnWjYnOl+C/n0ZT/D0Q6v8OmeVzxeNLO8xzisvgTjgO3zLeS07ctHHaoGhMbPvqCkm0fwDdj/by85/vW4ARVj3pCBod/j1yCY9o/ikb6MaJuI4fOhxPS+PvsohBBCCFHfGj3No04KLeQD+RarDznWFnI2mdH00FEltGupQmXK4ovTngvsmIxGVC1v5WBQgWbQUj7JXOrjqHQFFboeGsybcrA0WN+EEEIIIa4v10cwbUqjf48e9Owxhayi6go5yN+1BUtTBWzfQs6ZWuosNGM8oyZW6yUwvleDpqWZnL/bKr9e9AU5n6vQaCK8VllyLJPFE/rzdI8e9OzxLMNTMsj37O+RZfTsMZLMk3Ys+5Yx/aVn6dmjB8+9NA3D8aqnALXVWZI9hZ49xmEA2DyOnl72U333y9lmD5YfqVyFvSCH5SnDeK6adlTa7qjPfIG50OvuE0IIIYS46VwfwbQuiU179vDpnpnEh3kr4MC6fRpTP1YwZP56JnfLJy15Eabi6qss+edXWNCiDve2VIsuXoU5y4T7LXO23CxMLXuh01Zdw5Y9hcSxi8i/ZyBz121j0+pkYs5u5M1hI1l7xDNItpA5fRzjMxXET1vFpvQkYjCyfOJijPa61RnSLZmtH45BC/DMTLYatrHVkExsaMP1yxvbZ9N48dVUsi52Z/LqTWxanUzsxS0s3m6+cpUgXI0WC6Z/1nBghBBCCCFuItc0mHbY7diLrJhzd2NYZ8RW+ypgt5A1byTDVxejf28hAyJDiZm0isn35TB1yDjW/t2Go7zqat+dMIEuglbVVKvR9UJ1fAvG4xWvWDFlmVHF69AEeBQ+m8PyeSaITmLGhAQ0rZWEhOsYMmsm+iALGWkGLB59cKgHsnLeUHThoYS068XQ/jq4sBuzpY51KpQog+5Agev/g51/ioAG6pc3Z42s/cCIXZfEkpkDnOuG6xgwexsrX9ZwJRlERYQOTCd8OrJCCCGEEDe8hg2mL6clOP+eG/EGb6aksjjLUutUdfbju1k7ZxzPPTuS5T90Z+6qpQzRumbfCFAR+9Z6loxSk5+ayHOJ45i9LgfL5UrtFBcB4a2q3GBYIbBdDPp2NrJMriiywIjhuIr4TmoCPfty6CuMQHzv7qjcA+2mWuL1aijcjelk5XUiHtFWKhtyjzN1xHqm2O86q+yjBuiX93a+IOcCJPTxaKeKUFThQFGxTEUohBBCiFtCA83mEUr8zD3E+1CyuhBO2bQF3BfPjA3voWlZMfZpxjBqEdb+M0nqHIo6bgwLfv8KtgIjpnwld16e6c6B/ScgrKYb6CLQxWtYvGIv5hfUKEy7sT3Yl9hI8LyDznrCCOhQ31e1vgi1FjBgPlEMkbXPMFKfdTZEv+rajidFAPDTOf57VS0KIYQQQtwYGvxx4o6zdhxNlSjrMjEEQHgMQ7zkOxcft1B8we2FAAWqdrEktKt731SPdEfzwTKMx7qj3GVD098580dJ3au6uTnk+ZRCCCGEEN40cM60mbX6Z5m971rfkKYktCVwwV7zFHqtY4jXOchcvgjjGR3x0d6nxIu4LwYwYf1P1WVWSz6gQnNf3UZ/66POhuiXN63u0wEmLCdqC6od2C8ALe+k+VW3KoQQQghx/Wv02Tw0L+/hU88nF141BcpgBRT+WG0aiVMoMb+PwXHMjKVzd2K8ziQCyo6PEwNkfrwbm/sNfRfMZGVaILwXurZ162Gd6mzawvkEx3KH/3VchZDHujvb2bG3cjt4DloXU1wIimAldb0QIYQQQghxI2rwNA9/lGRPof+8ap5FDjCvPz3neVtw5RHgEffFwAYrtnJqvGlO+VgvEtrZIFaHl4eLOwXHMmLiXkzz0pg6/78kDYilVbmZHWnTMBRGoJ+vR13jjXlXWadSjeZByPnrFjJjI3iyqY1zQRoiGqJfPvY1Ais5mxax/PCTzP1wABoFUG7Dmg8xvb3P0y2EEEIIcbO5LoPpkLiZfBp3dXUo1e3RsAXzyVfQRtZUUMfodF2t9aniZrI+IpONyzfy5uBFOFAS8cRAZqzTo2vt3zis73WqiE9Kwpq2nMWj+rM4OAL9mwsZoVM2SL+q7etdBpZtcG+nL+/M0DsDaYCTZozoGPBgtaclQgghhBA3ldsuXbp0yduCQ4cOoWzR4iqrN7O84ul9tdBN3MSMuKvP773CRubYRAydlvLRC+p6rFdUx/LnRF472JePPkio+gh3H9nPnaNjx4712i8hrjd1+34tJmtKf9JMKoakr2eAt5utCzJ48dU12HRJbKr3tDl/2TCu241F3YshT/j7jSCulZJ90xg2Kx/tW6t4p5vrt9huJvPjr+CRviR0kEEScWurKT5p4JFpDSP27GFEwzZSDRWxz8aweJUJSz91/aQ7iOqVWzDtshEzLNbvQFoIURMbGQfMDGinqbLEcnC3bw/BuqaKMW/IwNDvcQmmb1QX/o1pQwao+pDQobE7I8T1q9FvQGxIyif6omcjhi/lESINzf75RtaiR/+EjF4I0RBULVU4du4l33NSnXILpiwbqpYSsAr/hXR7l617tl0ZlRZC+OymDqZRaBgwMgHO2mqeIk9cJQc2uwL9yIFX8qeFEPWqWKMh5kIWxsMe32bH9pJxJgaNxtvcRQ5suRlMf+lZ55NoE/oz/oPdbk+LdSrJnkLPHosw2YvJ35zK+AFP0bPHUzw/YRHGM3Wv01mfK8Xv8pNwp5BVVLd+cWQZPXuMJPOkHcu+ZZfLP/fSNAzHvXyrF+WT8XZ/nnar03qharHK9SeScazqdmcVVO7MlX1kI+eDcTyf0IOeb+e4nktQl+3xrT0AyovJ3zDF2VZFuZPu221meY8evLbdir0gh+Upw3iuRw966ocxfbOl8u9ecT6GOa5+u/bh8mwzJRUzNB1ZRs8ePZia7XwfmVf0oOeANEyAaV5/1zFchvl4Bi+6lXNn3T7S4zi7uWAlZ8U0huud7T89YByzN5uwum92uft+cZZZnG3BXmm2KhumDZXrqVKGYrKm9KDnBybsp3NYPMH5npj6mavP5XYs2YsYr7+yLzLyr/UUvuJmcnMH04DyiVeY3FstU7U1KAXq3smMkFFpIRqMI+xxYjo7yPwy3y1IcpB/IBNH5yfRhXkGlw7MK0by4tsbKe6SzMqMbXw0ayAR+Wm8NmQaOVWCZBPLxyay2NqeEfM28dFsPaqCTKYnG7DWsc6Qbsls/XAMWoBnZrLVsI2thmRiQ/3pl4XM6eMYn6kgftoqNqUnEYOR5RMXY3QPxM7sZuqwNzAo+jJ33TY2zRvirHNWTi0P4rKxdmx/pn99LwPmrGfT6neJJ4u0V8ex9pjnPjWxfOwwMhzdeefD9SwZpiOkztvjY3vlNrJSEnlzuwL9rPVszVjIkHvySRs7jRyPYNWSOY3xE3agiH+XVRlLSYoG44pxLL58VdaKYeIbLC99khnr9/Bp1i6WJLWneJ+ZH6vZK5pB29j6pwQAtKOWuo7hUDTtYtC3A9Muo0dqkY38HAvoYni8yjSzdozpI5l9IJQh6bv4dM8e/jKnD6Fff4W1Igi+YGbtqETe3GAl4oX3+Miwnrkv3It5xRqMP1wps3xUIlM3FxMzcRWbXGXy543kxVk5VaZuxbSM8a9uxBH7LivXLWXEY6GAA/PqcbyWbkYzylnHO12KyXjjDS/HWwjf3PTBtBBC3BxU6GJiYOdujGddLznyMW53EBOjq3qvwnEDszdbiej3HnMH64gIU6LqkEBSahK6s0bSVhmpPBZqQxm7kCUTE9C0VqJ6ZCgjeiug8CvMZ+pYp0KJMugO5yCGQoky2PmnCPCnX+BQD2TlvKHowkMJadeLof11cGE3ZktFCTs5y9Mw3TWUuW/p0bRWEtKuF0mThxKau4bdBTXvWfWghfxl9gBn/eE6hqS8TgxWMgxV95G11WhmTEhA01qFuq3Sr+3xpT3758tIy1UxZM676DuoUIapiZ+QzJAgE2s/s1Su0KFmwIqFDImOICRMTfxgPTocZB12lSs6Sn4h6DrHog7G+eTgDnomz65h+tSmSpSuRxcrmoa6jqECiEAXr4FjezGddit/2kTOMdB1ftzLDbBWzNkO6NKdmJbOOpXhsYyYPYaYYGcJy/b3ySgIRT99IUm9NaiCVWh6J7HEMJP4lq4yH6c6p32d9Z5zW11lZkzQYf/8fdZ6pnSesaJ6daazvtZqIoJxHS8bsRPfY0Q3Zx3awTNJ6mwlY5upyrESwhcSTAshxA1C+UQvEjBi/Nr5k2/P3UsmscQ+VvWqkOXvu7GhJiFeU/nKXMvuJPQGx74vyPeIHDTaylfxWkVogXysRf7XWR/9inhEW+l5ASH3OOeyt55xXZov+oKczyEmMaFycNhOS2xTG2ZLLY/vUqkq9yVYS0w08Pm3WDxGOxP6dK/UF3+2p/b2ijF+ZoTOA0lwn9o1QI22hwLbkW8rj7bfqyWqpdu/w+4lAqDwO2e50PvRhINp00ZMZ65+9FXVuQ8xmMkyXblmUXL4K8zEEBvtLec6Ak03BezcSOZxb28QC6ZdVmjXl3htddeRnfcG0K4P8R0ql1H9vg8JOMgx5nsEwwkk/L7yaab5wEZsLQd63N+jJKqTDvYddbsKI4TvJJgWQogbhUJLzDMKjJ99QQl28o05KJ7pha5KLF2M1WwDtKjDq1TC/b/RAUYshXVpvD7qbIh+geOEBRNqtGrPHaFC9RCYrHWd6yQUVQSAFZtHHK5o5h7I1df2eLTnsGAxgfohdZWHibVSacFk5bu6bE6AmgEzkolXZDF10FM8NzYVw99tODzTInwVrCO2G1gMRpxj38V89bkJOj+JLtjbCkpixr7HCI2ZxaOe5ekBU1i+zy3PudjqvPqhVVPtI79qKqNQo9YBud96BMMKlJXibiuWfAfo1ER4jMiHqCIA6+UTRyHq4rp8aIsQQghvFGii41FMNvJVQQvy9ymIn6255e8J+anEBlhY/FIPFnsr0Nb/uhXXeFpVRQBw9kdsgCV9GD3TvZXy4ymzrWNJ+jCWoUd2C5MN8AAAIABJREFUsyMzk7WTE1nbYSgLZg1A3bSulSnRxSWg2Lcb0/EBqFvmYzJBzFs1PElYqUE/exvxhSZytm1h7ayRGNb34p3UJGJ+VVb37fGLHdtx4PgUnt7pbXntD3ATwhsJpoUQ4gai0HYnoek4shbaMTdNYIHXy+KhRGhUkGvBegY07ikAOPj2nyYg1stoak3qo86G6Bfc0VQJqBm9eikJdVzXOyuWfKBleyJqnCmuvrbHoz17C5SAetQqljzjR+Bcg5AOvRjSoRf6uGW8NnkNiz+LZUHvuk+rqND2YkDLTLJMFhIivsJIDJMfrv0mdGW4joSxOhL0mUwdvIjZhli2jroXdVMw5VuwovF+qhAagaYlmI7/GxuayvcIuEby6XZ/LacZCpQtAd1MPhmru+VPQkX9kTQPIYS4kQRoiO2nwnzMjKpfdzTVjJyqH+mFinwMmebKU6Sd2UvmZ6Do9iTaOk7AU6c6mzoDQsod/tfhI2XHx4nBQqbRUnthLxwefXTk78ZwHFTxOmp7fq4/21Nre0otus5gyTRWydn2l8MjVVqpfZwYwOyZx+KuaQtUXvoLQIAa3VMqbFl7yTDl1JDi4b19WuuI0YLj9Hf8hIaYfio4/v/Zu/+4KssE//+vfTh7fOgHLDVXVtKVgS3mTKGwA2sbq4ZzVCqRErFIkvw5imNK1mCUqZPClIGa6Crij0FpRFTEKURGUpc+udAoUhE1ODAYDY6h5WFrPZ/l2/ePgwqHX+ccQUDfz8eDxzTnvu/ruu4fwvtc93Vf9z6O2E6kfn1DLwImukFxJtmfNF2n5v1DHMFAUODI1nvGG5fxh2MUftvmiiIOUZjuLr6vo65O0/KISPu8Aqcy8r6RhDzURtS7L4zY8GFUZbzIS7sKqbpYR80n2SQuS6SQABbOCmwneNxkmS5eGH8CvLeP7C8ucfl8KVXfdlK77gpi7tIAara/yKqMUmoafpVaLpaTn1FwY/q1VhQnxbEqo5Cqi5eoOrWDl5ZnUjM0jNgp7UVp5/an/fpcCJobQ8DXO3hpTSal1x4a/P4S5e9nUuDomPLCt3ky7Hl2nqqyjlOut1CVu49s3Ahr6xoaaiSgDxRn7qPwqzpqvrhxbAG8xkzFeCGTzFwIDGxjiMf5bF56bBaJh29sX/fHQ2QW35j9w2vKMsKG1pC5/EV2nqri8reXqDqVzksRT7DqfWvgt65TRebL19apofRwIq+sLYRRC4myY3pWrynLCLsnn4RfbSH/fMPjipY6av6YTfYnmstDnKNhHjeh7pNsMv84gIkzAnG7mMMrEYkMS8pjrhOvXS3d/QSLK2PYuzq4hWmFREQaGR7CG8kh7axkwDhnM799MJOtW+OZvbsO+gzA+PNfsm56CEanXnTnSJluTIyJoSpxKxujp7HxrmGEvbSeuQEundAucJuwmrRh2ezZ9RYLUqqoA1yGjiRg4jP4trPtyOlhGCv2sDillLo+AzD+PIZNM4PtHEvs+HG2q77Bwby+85/I3r2DxOgt1i8idw1jpH8wEQ7+jTH8y3NsevkI6VkrefbVKuowMMAzgIiE9UQ80MZgB8NInln1HDVv7OGVGdkYBo1k7m/evDGUZkgQIaPfpvRkIIFtDfEYGsJrSX/Pvsy3WZxSzqXvrecmaOlmon7ecID6GJm7YTNe7+whfe0s0r8FwyAjE2e8yTOjG62TnMbI/VvY2nidRet55lEj/e0Z396ojJ2/mkbCRQv0GYCXXxBhkfYcTZHm/u6HH374oaUFZ8+excXV9Va3p0e5nBvHtLXDWJc3D2NLYfqTLYxfktnyxgFNg3NpiklhGqgzmxkxYkRXN0OkU+n3azfR8Ds6YOleXp9wC16jfavr63RVZEfPYqPbMg68GuT4HQWRHqStfKKe6VaVsvXa63BbEr6evXY9FxJATPpqJjZ7I5SIiEgP9kUBmV8YCJnpxNAckduIxky3ysjcvDzWhWPtRc7L42hSGNZwnMfROcaubqCIiMgtZqHmfA2Xv8ghMWEHl0YtJKzVF62I3BnUM93pCkmMMJFo82nA0vUEnnyexMLGH97KdomIiDjIUkp29Itkfu9ifd33nOAmb4QUuRMpTHe6NoZ5TMhjYsN/WsdM38p2iYjc4R6Yx9G8ebdvfZ3BMJK52XnM7ep2iHQjCtM3LZPFphsjqzt2en0RERER6c40ZvqmhbEuL4+j6TH2jdKot1D3bR01XxRTfK6NyfJFREREpNtTz3Snsx0z7cKw+9ww4IZx4lS8PAfoKWgRERGRHkph2hFXLYAFy5VLVF2oo933Fd4O4+NEREREpFUK0635bAePL0pvCMyJTDNtZdh9bnjdBwWZ+7jk9lOMbnaW9W0VxeV1uD1oxE0zCImIiIjcNhSmW/OT5/h93nNtrnI5N8e+ss7n8FJsVZsvbxlmepM3vnfj/zjYTBERERHpOgrT3YTL8JGM7OpGiIiIiIhDNJuHiIiIiIiT1DN9E/o/sowDowx2zsbR8psQm2rjBS8iIiIi0u383Q8//PBDSwvOnj2Li6vrrW6P3OHqzGZGjBjR1c0Q6VT6/Soi0rO0lU/UMy3dztmzZ7u6CSKdrs5s7uomiIhIB1CYlm5HPXZyu6szmxk+fHhXN0NEROxUWVnZ6jI9gCgiIiIi4iSFaRERERERJylMi4iIiIg4SWFaRERERMRJCtMiIiIiIk5SmBYRERERcZLCtIiIiIiIkxSmRUREREScpDAtIiIiIuIkhWkREREREScpTIuIiIiIOElhWkRERETESQrTIiIiIiJOUpgW6UHqKosp/qwGS1c3ROR2UG/B/I0Zcw/+B2UxmzF/04N3QOQ2oDAt0oNU5b3IS7vP8N+2C+rKyU+J46kQE+NNj/HUL1aSXnyp2falKSbGx+Vwua1KPstkQXQiBc03b15exnwWJBW0XV4DS10ddXX6oy/dyMfJjAkaQ9yR2q5uiZNqee/lMYwJSqakq5sicgdTmBbpVkrZajLxSq4dSfaa70vZumg+iVX/yutpeRw9spfXH4PMF19k52dOhNf6Wsq/qKWu3qZlLQXnb8sp/9psR6GXyI9/gifjj9kVvKWxWrJ+6Yef3yRSS1tZ5fNUJvn54ffLLLpPLKwmf3Myye9Xd3VDutaFHJYG+THmVznd6NzcjiyUpEQwKjCC1I/1pV1urR91dQNE5OaU748n0xLGGy+H4NUHwAWvSct4/dJ8Fi96jHTbDQKcrMju4NyC+hqqPgao4q/10L+Xk224o1WTklfCLKNPsyVlJ7PofpG1lrMpqaTN+HeiH3Hv6saIiHQahWmRHq2cwiM1eIUFM7JP488NGIMm47V7H4H/kUaEp/XT0hQTiyvtKbeQxAgTic0+T2SayeZTO8J5Te4eMnHBhUzScyfz+qNu9jRCGnEf4k71vvcomu+Dv6HRgvoyPjhUbV3eZa2TVg0OZm1+cFe34g5gwGdOOqfmdHU75E6kYR4i0oIAYtLzOJp342ddOBAQw17bz9pSX0f54ZUsSComIHozm6IDKE6axStZ5c2GkUjbLvr4EPRdFsdO29zC/jiHlK+C8PG52MJWFqpPprL0yTH4+fnhF2giKj6LMpsbDLXZi/DzS6DAXEvRrjiigkfh5zcK08wE8r9yvExreVGkAeyKsq7nt4isC461i+Ik/PwiyCg3U3Yk6fr6Y55cSlppC7fyLxSRutjEqEZlVnzX9nFtUW0JGfFRmAL9rteXeqqFQRr1ZsqyExqOl5/Nz7X9LSGppSE45jJy1i9lSlArddSbqTiZRtyCKYzx87Oej8WpFDk8VsRaf8TvKjB/nNZwDEeR/LHNPjRuh20lDuznzdRTW5RG3MyG8+c3hikvJJFVXGv/8uxF+Pn5kVTctPm1H2eQ0GS7VIouNF3H4WtNpBGFaZHu5MJfKAcKPy/HAlzOjWO8yXT9Z3GG7QZeBIYZKd/+Fjv/WIOlIaBavipmZ+IWyqlh5y/a2r6T1Fuo+SSbjUsiWZBSw8TVabw+wQ23CatJWx3Cpe3zeSo6nsxTVQrVdrIMDmScyULG+4WNZnOxUHR0LxbTOAIH2/7Bt1Cy/mkmLU7ha9Nq9uec4PDGOfy4aBURk5eS0ywkf0DSjMdIqBhBzNY8Dm+KxP2LDJYuTKPCwTIHTlzNiXdi8Qd4agMn8k9wIn81j97jTLvK2PtSFFEZBkITD5C3eznjyCdpbgL5jcP3V1ksmjKP3/Z+lq2HTpC3NZofF63i6ZcdHKv8VRaLJkeRUPRj5mw8zImc/aw2fU3KgseI2FzSZCadsl1RRKwoYsRreZw+fZq8deF4AD7LDnP69AZCB7dWRw5LJ0cQd8jMoyv2k5ezn9XBZn77xm8p+a7hGG2PYsqKAu6ZGMvOnBMc3j6Hn3yUzLw5qZQ58W+mLGMpUfOP4bF4J4cP7CT0/oZ6NkYR8UYJI17aT17+YdaaviZl3lySG407dmQ/na6nPI2585Iwj3ubvKLTnD6Vzms+X5Pz6UX7lreiOnsRj81IoGjYHOt1cWA1QZdTmDclguRi238zdl5rIjY0zEOkG7lcXEAxwB/+i9JfBDBywmqOTrixvKVhGsNC3+S3btns3BfHU7FV1F1bcFcgsbtfI2hw29s7pLD9YR6Wz9JZsGgHVXcZCQpfxrY1AQxzubG8f8A8NqUHU/jeHtLXzmLrty6EJe1l7gMGpC3uBD4SBC9ncWx+IMF3A5ZCjv3OQtCaQNw/t1m9NI24XRV4zNjJ1vk+GAAGh7N8o4GvH1/Fyo35BK4JwvX6BtW4BqezdY63dd2h0cRMTSNqVwFnv4rEY4gDZRpccb3bQG+A3v1wvdv1JtoFFu/Z7P91MO69AEKJjsona0UWZ8uWE+QPYCZn/SoK/iGa9DWReDest/z1WoqmbyLr82Bm3W/PMW4oh0CWb1xO6BDrp4Hzt/L2d1OYl7KStKD91rIsRWRtr8AwYydLRllbO3B0LK/NyCLq0AdUTLUGzpbqyN+4kvxvAln++w036pizhRPXhygY8Jn5DqdmGjBce75g8Cxee+ksphUpHCudhfeD9uxPI5UWArdsJbrxGKHSNOJ2VRP8mzyWmBr2Yf7bvFY5hrh3Cnj2wSBcHd1PJ+uxlBZRQSCRP/fGtRfQyx2fGavZ0lBEbTvLW/RNDkkrCmD0cja8Gtpw/QQSvfFtLOHzSF2Vxrh9sxquF6v2rzWR5tQzLdJd1JeTs7cQt/AIQsgm8317Z/Qw4DYqjNiEVA7k5XE0+yAHMg/y+71Ng7RjrGOmm/WK2zHMw/CTCDYdfJejmeuJDW8apK9zGUZA+DLWZebx+4MK0vZyDQolnHyOnbJ2k5lP5JBBMI8+7Nps3bJTWVTjzbTJDYH1miGPEj4VLEeOUWTT2zbC37vJuu4eAUARFX9zvsyOaJfHqICGcGM1cJg1vlX8taHP+cIxcvIgaG54k2CE0Z+Jfas5+7mdfdPmIgrygMfCeXRI4wUG/KdE4k0FWR+UWT+6XM1X30GAR9OHK909AqC0mlYPg7mIY0csMNW2Dhu9GgXpBq53DwEsfF7hxLwgxkhC/Zv+OyvJS6F6yBwigxpfP64EjA6EI2etdyQc3U8n6xl4/wg8KCBtVwHVLYyqaG95S8xFBeQDoVMfbXL90Nef0OneUJnFB+VNt2n3WhNpgcK0SDdRk7uDnecDiAh9jpCZRgqT3+KI7bg+e/RxweUul2Z/iAGMc/I4ujqY/m1t/8C8JmOlm/y0t20Dg4v94diRde94hgDGPWUg/91j1GKm6P0cDE+FEtgsS9dSUVIN+OM9vFkh/OSngcAxPnPoLkVHlNkZ7QJLeRkFeBPgbXsg3HH3hYIKOx/NrPyMY0DgT39Cs6tyuDf+QHVJhXXYyD0/xqMvFNqUXV1RCA970Or8JW3VYctcQcG+BJY+bWJUoImodTn27UdL+hvo1+SDCsqKLPDw/fzY5nfFQHcPoII/X8Dx/XS2nvtnsWFNKL2zFzFp1BiiXk2j6KtGqbm95S2oKD8GBOLt1fxIe3j7A9WcLVdIlpunYR4i3UBd8RZeSSrEGJ3KxEHApF8SlT2fxGVvM2DtLwkYYEchn2xh/JLM9tcLiGGvPaG43kJdnQWDS8vBvEUXc3glIpFCO1e/wYuF2zcTMtThDe8wBkaMDsWwIJ///LwfRUcMhG4a0X4ou82Za78Cykh40o+Ellbw6oRKe/kQutCHtDdWkuC7ldjRA6k9mcDKXRD8m3EMbG27eotdbzC1FCcTtTANwxOvEbsxhrUDDdaH5GamddAOmKkuBUoXMWpfS8sDrf/j7H46Wg/gPnE56aZoSt79HXvfSWbe48n4LNzJ1pnWOybtLRfpKgrTIl2pvo7yP2wlYW0OTHiN2EnDrJ/38iJiw5tYlsbxSlQpIa+sZmF7ifqBeRzNm9fmKg6Nmf5sB08uqSImfbU14NtjUDCv57U8DZi1bjuDvLTK4P8o0/pGkbXmCiV9p7HTv6UYMRAPH3c4WcafvwKfJsMJLHz2aQEQzE+a9Q63pSPK7Ix2gaGPK+BN7IF0wh3ctonhP2EckPOnP4NtTKwsowhw9/G4vsT9p/54982iKP4x/BZbMAz2IXTNfmJNzYfdXDfUm0Cg4NPPsIQEthwC68tIeyUV8xNb2P+CfycFRQP9hgAPb+DUslba0cCp/XSiHgB6DcQnJBqfx54ldF0E8zYmkGXaSfhQO5c34uE1DsihogqwGfJWUVYEuDPCq/2vAyLt0TAPka7UywWXXlcZNmc965YE4ta4B9hlJFHJabwR/Rxh/2JH1/QnW5qMcW7pp6Nn87Br2Ih0rF4+BM9wp+TjEtxnBOPTyl0D71GhuFNE2r6mM1Dw1XtkvAuGiePwtycLOVtm337Whwj/92qnt8vVP5AgytibX+bYhs0LItAEHEwjq8msIhZKDu2lDA9CH/Zu+KyarLWpsHAr+3NOcfr0aU7l7CR2YjsvqBkYSLAJ2JfBe7Yzl1gajsjXZZz9CoZ4DGkSPs2XO3JKCW8enuwO7+ZQ8E1b6zm5n47WU2+5PhsRAL1c8R8dBJRQXWvH8hZYrwvYuyeL6sbbfldCVkYZDA/l4c64ayF3HIVpkS7m9vNlLA834tJSKOo1gJETApqG7DY1nx/a2XHP0n15PxKJv9Gf8NHera9kjGT1DA8qds1l7uYCKi6YqS7OYNVC62wVsQubzphhF0fKdL2fEQ8CB9PIKK2ltrKEim86qV13B7NkRSDVG+exdFfJ9QfULBfKyNmVT0VrU8n16Yc78PXl6oag5krw88sJpIBVC1eRUVyN+UIFBZvnMndXBR4zXiPy+qwgZsy18OdT+ZScN2P+5saPpc2p6xrq6Nuojm+qKdm3ioigp62vwr7HmxFDoGh3GjmVtdY2pMzj8Vffs+nZNdDP1dqWr2sdnwvZ+5nVRP5DDi/PTyKnsiGoW8xUn8ogo/hacHd2Px2px0LBG6MZPSeZguvLK8jasxeGRDLO2N7yVipuuC44uYpFv86g5LyZ2soCkhfOJa3Sg8jlkU0fWBVxkoZ5iIj0NF7hbNnd3htzDPg8/w6HfdNIWhfHlBQz9B2Iz2Ox7Jwbjo9Td7cdKdOd0FeX8+dfJ5Ew3UTC3R5E/nonSx527YR2gXvIBt71yCBl80oi1ldgBlyH+xM4eXbrL+n0CiJy1G9JWB9F4v2niB1lgCGhbDj0YzK2JpKycBIJ34Hr8CDmrDtM5Gj3RmHWm8hXIvndghTmfpSMpcnLYQx4P/M2W17wb/mLwZBQNux3J21jcpM6nl2zgcgHDday1y3n4q+TiHsyA+72IGjybLa8E0ra5LhGM2i44v9YJN4n01ga483hXeGtP/jYkr4+LNl9GP89SWyabyLuggX6DsT7Xx8lcm4H7Kfd9RgIXPgOaw9sIy3mcRZVmhuWz2FL6ix8DEB7y1tx/bpISmHu5AQsuOLxyBw2HIokcKhGWkvH+Lsffvjhh5YWnD17FhdXh/sHRG5Kndms664NbY47tvcBRCBg6V5en9DO0BG7ywuwa1y1xkzfUGc2M3z4zQzulS53IYdFUzbhkbSfJY3HrddbqDiwlCnxFUS/c9jO+a27sTtlP0XaUVlZyYgRI1pcpp5pkR7EOP0gB+oNtDR1sz0PIDqko8u7ywuve/RFSW4PtR/lUPBdEJF+Nr2bvQy4D74HuIJr3y5pWoe6U/ZT5GZozLRIT9LHBZceOi+zMXwzm5YE3vG90nJ7GOg1Ag/2kry1iOprQx8stVScTGbuy1l4zIgh9DaY6vFO2U+Rm6GeaREREUfdP4ud7wxh29YkFj1eZn24smEccPjGPEJH3iZTrt0p+ylyEzRmWroVjZmWO4HGTIuI9CxtjZnWMA8REREREScpTIuIiIiIOElhWkRERETESQrTIiIiIiJOUpgWEREREXGSwrSIiIiIiJMUpkVEREREnKQwLSIiIiLiJIVpEREREREnKUyLiIiIiDjpR13dABFbdWZzVzdBpNNVVlZ2dRNERKQDKExLt+Pi6trVTRDpVHVmMyNGjOjqZoiIiJ3Onj3b6jIN8xARERERcZLCtIiIiIiIkxSmRUREREScpDAtIiIiIuIkhWkREREREScpTIuIiIiIOElhWkRERETESQrTIiIiIiJOUpgWEREREXGSwrSIiIiIiJMUpkVEREREnKQwLSIiIiLiJIVpEREREREnKUyL9CTf11FXZ+nqVojc3uqvcuXyFa5c7eqGSBM6L9JN/airGyAi9ivd/QSLK2PYuzqY/o0XfLKF8Usy7SojLCmPuQ+0scJnmSzYWEXEr2MIHNBOezLms7H6GVYvCWzanhZY6uqwYMDFxWBXO0W6zJlEfKdtY+xvTpEaNqirWyPA+YMLCFmayxUAQth0JokJ/bq4USIN1DMt0sUu58Yx3mRq+Scuh8t2lxRATHoeR/Na+UmPIcCeYuprKf+ilrr6ph+XZsxnQVJB0/Z8W07512Y7Cr1EfvwTPBl/zIH9EauLZMz0xNNzLMkft7JKaTJjPT3xnJnBxVvatracJzcpkcSj57u6IR3gKmc2TsL44CSSz9yabtGLhxfg6+nLgsMddUZv/T6058pHaSQmpXHmSnsr5pK4NJer4+I5/sU5zn2c0KVB+vzRRBKTcml6ZXe/4yu3jsK0SLcQxjqb8LsuHChMZFqjcL04owubaHdwbkF9DVUfAx9X8df6dteWFp0n+d0zLS4pzd9H94usX3N6YzLJp7/u6oZIN3W18jjJG4/zp+/aWfGL02QDD41/hKG9gL69b0HrWvf16WSSN55GV7Zco2EeIt1ZQNMhHaUpJhZX3oqKC0mMMJHY7PNEpplsPrWju7smdw+ZuOBCJum5k3n9UbcOauedY+i9Qzm/5xAfLvHlocZZor6U9/edty7vstbd7nrju/AwpQtvXY2DJm3izKSOLPHW78OdRcf3TqaeaRFpQfMhI+vCsYZ728/aUl9H+eGVLEgqJiB6M5uiAyhOmsUrWeXNhpFI2/7m68uE7zLILbK5hXzmEMlfTsDX928tbHWV88eSWTDeF09PTzwfHEXY8gxKbW6rX8ychafnCo5fuciHKUsIe9iIp6eRUdNWkPul42VaywtjG0BKmHU9z1lk1DjWLj6Kx9NzEmlfXKH0cPz19X3HL2Dbxy3cSq/5kOS5ozA2KrO8vV7P+ot8uHEBE37meX2fM0qajzuw7pMn8R81+uzUNpZMa6jP05cJ8+PJ+KjpsIwrpdnEz5+A7/V1kvnw+nFoGMKz/DhX/pLNioayZh282LDvnszKvGjThhUcv3Ke4wmzGPXgtf3M5Xy9df+3LQ2z1vWzMJbsKaXxUWq+D43qb9i2WZmNt/8og/j5k6zreHriG7aCjC9szoNd5+wM8Z6ejPrVceA4yx62lueZ0PzOy5kETzynbQPg+K9GNTom1jKaD21q4XMHr6NWz1lNBrM8PQlLAdhGmKdnk3PU0jUCcPFM2vVz2/wacK6N0r0oTIt0Zw4N87D2Jrc6/joikcJb1e56CzWfZLNxSSQLUmqYuDqN1ye44TZhNWmrQ7i0fT5PRceTeapKodpOV90eYeKjV0k7+mGjgHSVD99N4+qjE3nEzfYP7lXOJIQwdm4yfwtOIveDMxzfEc0/n1rGpKAFZDcLyceJDxvDinI/4tJPcXzXbO4tTWPBzG2UO1jmoElJnDm8gocAnk3lzEdnOPNREpMHOdOuUnYvnErY7t6Ebz7Kqax4JpJLfMQKchtn3i8zmGWazrbes9mTf4ZT6TH886llhCzObn0cef15MuaPYXrSOfyWZHL8o1y2T+9HRpId46m+2Mb0Z+K5MmE7p744x7nSbBL8/kZ2yY3azh9cwJhJS8j4LoSko6c4dTSJkO+2sWLnmSYhlxPxTH08mashm8nNP8yysW099JjBkqAQ3jJPYHvecXbPvJfSPQtY8vIywh5fwznfOLI/OEz8ODPZy8OIL7AjiJ2IZ6ppBed849h38kaZs7ffOPMXDy9g1HNp/M1vDtt/f4ZTR5OYfCWNZVNiyW32IER758yXmI/OkPoswEOsOHzGeo0s8m3WNN9FZzizNRKAh147zJmPzpA0yZmHQu27jto8Z4Mmk/TRYVaMAogk9aMz7bbnfOYsxoSt4MPh0dbr8mgSEy4lM900icSPbM+Nnde6dDsa5iHSndk7zOOBeRzNm9fkI+u6Lcz8cTMK2x/mYfksnQWLdlB1l5Gg8GVsWxPAMJcby/sHzGNTejCF7+0hfe0stn7rQljSXuY+oFk+2jaUseMnwOIMcpeMJaQ/cPVDcn97lQnrxjL0U5vVP97GkpRyvOZksmeJL70B3CKJ396bv41ZRuzaXMaum8CN57jO4xpymD0LjdZ1/ymGuGe2EZZynNNfzsbrXgfK7N2PfgN6W5f3vot+/fvdRLvgqjGa3LdCrONlCSdmbi4Zv8rgdGk8E0ZxqAiSAAAgAElEQVQBXCH7N8s4/o8xHF43G2PDevFvXeTD0EQySkOINjY/olfei2fZsauMXb2N+KeGWj+cFEPmoKt4PrOtzbNxseRDyhnLrEeN9OsF9BqK75wkdl9b4XIuictzuTImnuMp4Q1tH0v0rjNE2xb2ZTn3rj5+ow1tuopnVOaN87QojsjtYWzL/BMxWZlEP2gdAzR0ySxyM5eRduI0KwIfarvIL10JydpzY9trZR4/zfk5XgwFBj2aROn43vS+PsQohBVrPiVj2jYyjr/MhCeaBsr2zlnv/v24y3qB0HtAP/q19kuqbz/6WVekd99BTa8lB7V7Hdlxznr3H9RwDHpzV/9+tNmay9nE/+o4jItn25ob5cXsSOVq8HSSX97GxJzohuvVzjZKt6SeaZFuIZPFNj3JXfqwYQu93IszsGuYh+EnEWw6+C5HM9cTG940SF/nMoyA8GWsy8zj9wcVpO3Vb3w4keRypMDaTXXl2CHSCGHymOZ/0ksL9nEeI9OnNgTWa+6dTOQzcPXwET606e36l1HGJuve6/UQ8CHnapwvsyPa5Rn4UEO4sBo03AuA8i8beoFrjnDoPZjwy8gmwYQH/42Qvuc5XdpS3/QVPjyWC0QS+YRNiLWjm2mQ0Q8vjpO65TjnW+j8vfLhEbK/g8gZk5u0vWUttKENTc5Tr3vx9Af4F/7twUZH1O2f8QI4d96OGV5str1W5qlzNx6y69U4SFtd7XcvfsDxz5vdTmj/nHWB9trk2Dlr35UP3ycXCH/Gpry+DzF1lhHO7eP9zx1ro3RP6pkW6WL9J6zm6AQ7V77LC697XG/8/4s5vNLm8I0WepIB65jo1Uxs6e5kC73cjjI4MJe0I+ve8Xo/xIRnezP94BEuTprI6aPZ9H52N2P7QWmTFS9SfuY8MJsHPJsVwk99xsKeXD49BxOa31lvRUeU2Rntgqufl3IcIyuMtl8q7uVef0gu/xKwvdjP8ekxYIyRnzozOYQxmm3rvmTBy7MY+9t++D4RzQuLI3noXmth5z7PBcZivN+ewns39NJ2c/UXOXMwjd8ezuV4wd/4B2Pv2+qhV8fO2c2V52X8N2Abpz+/CEbNZd7TKUyLdCd1VRS+f4gjR4op/qKKOgAMDPAchtEYzMQn3mTT0EZdvYOCeT0vuHPaUm+hrs6CwcUFg729NO2G+9Z4sXD7ZkLs75y7Q/XGb1w4vWfk8n7pXXx4uDfhu/zoCTmsM125eB4oZcV4T1a0tMJ9LW93tb2HE9sxdFI8hx+NsQbMXYlMH5OI79JM9sw3wtXb7KGxL7NZELqEc/7LWLEqm6R/6m19IO/hZRzv6rZ1lNvtnMktozAt0l1czOeVWfGUGp8jNvZNYocMsIbYegt1l2oozX2bhJk7GPlyKssfafpqwsu5cUxba1+EDVi6l9cntPNqQ4DPdvDkkqrWe7Bb0ka475Qx3Heg3g9NJrJvGBnLv+VM30gyH2opSg/Cy3coHPuUP30Jvvc2XnaVT0uOAyH8tFnvcFs6oszOaBf07tsPMLLi6GEi7d72HjxHAUXn+LIeBjl7W7/XIHzDYvB9YjbhCSFMX7ucjEczmXj/WOA4pZ9fBbee/nXnCtm/WUKuTzzHN4Z3yBCI7ujeDj5nnvdPALI5VwnYzAZaXvp/gaH43a9e6duBxkyLdBPlf9hBYb/neGN1BAFDB9zoDe5lwGXQMAKmv8kbM1woSD3SaHYFq/4TVrf+5sPrP+sJ6+A2G+fkcVTh+Nbq5cvkeUM5c+YMQ+dNxreVYGMMnMpQPiR1t83MEV8eIu0g9J40kYccfJbLoTL73mV9OKv+fzq9Xf0eeoQJlLL7aGn7K183lAcCh8J3uRyxmW7wyiU7pk6ov8rVxjPR9OrHQ+MmAGf48iIMGjuZCUDarkPNppjreR2g5/j0PcBzaNMgfekKLU3IaK/edw0FrsL/OrN1w5ehcxe52Oj4Xv3oiNM95fads97c1XB9/k87MxFZr0tI257RtLzvzrBvdyl4TuWR+51srHQrCtMiIj2McfwsHnrwIaYHtTBFxTUPziZpjhflKc/wTNJxymuucP6jNJbNXMZxxrJi6YS2ZyK42TL7GfHzBX63jbSPL3Lx3BnKL3dSu/qHsOw3Yzm/9hkWpJy5/kDg1ZpSslNyKW8l9BhnrCCy73m2zXmGxGPlXKwp5/jG6YyZ397Tv1c5vtIX34hEjp9rCN5Xy8nYngb3zmbigzfa1PvEMma/nMaZv1zhyl/OkBY3Cd9JyfSsN0578tNHgd9tI/mj81y5fJ4ze5Yx6dlEzt1MqQ+OpTcfkpp6nPOXz1N65jz2H5ah+I31gi+TWb7hQ843tCnkueNwb/tbt8iuc9YPo78vkMa2PaVcrCnnzBetfPlqKI9jN8q7eO44ic89w7ZzXsxeM7vpA7PSYylMi3QTXj9/joArO3gpLp3C85ewXAsA9RbqLlZRuPtFXtpVR+Csidan9OXOdV8ku7N2M7uNLA298Y3N5vjWaP4hZwkTHvZl7HPJ/GnUCjLzUwl3KnA4UuZQwtfEE3n/aVaEjmLUtFj2lVzppHbB0LBUTmTG8A8FsYQYrS/TGPXsGt6nH3e1tlHfsazI301MoJm0uRMYZZrOxsqxbMqKZ2w7x2Hs0mw2/fw82+aPsb5w5GfTSesVze69y/Dt3ahNu5ZhrEzmmSBffINmsvvSRDalzL6+Ts/Qj5Dlu4l56FOSp43Fd/RUVp/x5OXf7yHa2eAK9H4omtQlY/k2cxZjfzaBmeuOO/RAo9fMbWx6xsiX26cz9mchrD7jyYr8fcQ48PCqLXvO2dAnEoh/xsjplZMY9fBUYvedprV7GdbrcgUPNZQ3avwScgdEk5qfzbKf9aiLQNrwdz/88MMPLS04e/YsLq6uLS0S6TR1ZvOdfd3VVVH43h4yT5RT3uIDiEEEDG1prjl7lJIZ/TZV01YTM9qOMdOfbGH8kkw7ym1jZpDGtWvM9HV1ZjMjRozo6maIiIidzp492+rvbT2AKNKdNMy/HNDea7qdYiQsebP9q3fAFHlN2E7rJyIichtQmBaRW8IYvplNXd0IERGRDqYx0yIiIiIiTlKYFhERERFxksK0iIiIiIiTFKZFRERERJykMC0iIiIi4iSFaRERERERJylMi4iIiIg4SWFaRERERMRJCtMiIiIiIk5SmBYRERERcZLCtIiIiIiIkxSmRURERESc9KO2FtaZzbeqHSLX6bqTO8HZs2e7ugkiItIB2gzTLq6ut6odIoA1SA8fPryrmyHSqSorK3Wdi4j0IJWVla0u0zAPEREREREnKUyLiIiIiDhJYVpERERExEkK0yIiIiIiTlKYFhERERFxksK0iIiIiIiTFKZFRERERJykMC0iIiIi4iSFaRERERERJylMi4iIiIg4SWFaRERERMRJCtMiIiIiIk5SmBYRERERcZLCtIiIdK3vzJi/MWOpd2wzi9mM+RtL08++MWM2W1rZws5yO6AMEblzKEyLiEjXqK8m51dj8Ascw5igMYx6NR+z3RvX8t7LYxgTlEzJ9c9KSA4aw5iX36PW6UZ1RBkicidRmBYR6dZqyfqlH35+k0gtbWWVz1OZ5OeH3y+zWgyAtacySHghgojgUfj5jWHKgjjSTjVe8+brMH+eQ/Kr84h4cgx+fqMwPb2UpCNlmNvobTbnbyIu7yqBKw5z+vRpTr0ShGvrq3d/5hIyNieTUWz/V4K21B5Zyhi/MSw90t1jfTX5m5NJfr/a+RLeTyZ5cz5NS7BQkhLBqMAIUj/WnQLpvhSmRUR6hGpS8kpaXFJ2MosWY0x9NfkrpmBakEhJ/1AWvLWfE4e2MNv3a7YtMBGxvYymEcWJOrBQtj0K09NxZNQGELl8J3k577DmyX4UvR6B6dX8Vnt4K0pzgACC/tUdAEPfVlbsKb77MwUpqRRU3WnBr5azKamkljgf+mtLUklNOau7AdIj/airGyAiIu1zH+JO9b73KJrvg7+h0YL6Mj44VG1dbrNN2a5FLM22ELxmP6snul//PHjOFsZNrMA8xIPGRTlThzlvJVEbS/Cen87WOd7Xyxs4dTnpQZFUGDwYeNN7f2caOHEtJyZ2dSu6kgGfOemcmtPV7RBpm3qmRUR6gIs+PgR9l8Wx0za9nh/nkPJVED4+F5t+/k0O2zZWgGkBsY2C9DWGoR4M7HWTddSXkbE+B8uQaGJnejcJ5gAM9MCjxXEbJST5+RG1C6CAVcF++PktIusC1GYvws/Pj6Tiplu09vnNqj2VytInx+Dn58eo4CgSss+2OG67tjiLpBciMAX64efnx5gZCWSV3zhOJev98AteRQFQsMKEn58ffn5JN8ZzXygha/3ShqE2fvgFRZGQXUGbfdjFSfj5+bEo+0Z/rfU4JFBgrqZg/SJrewJNRMXnU10PXCgi7dUoxjTUEbev6d0H6/Zx5JwvI2f9UqYE+VmH/ryQStGFxpVbz1HzYT1NP7eWF0UawK6ohv22nksAzBUU7IpjXsMx9gs0sSiliNprw38uZLHo+rWQRpSfX5N9bvV6+DiDhJkmRvm11v5rxy+CjHIzZUeSrp/nMU8uJa30Trt7IJ1JYVpEpAewDA5knMlCxvuFjcKRhaKje7GYxhE4uGk4MBcVkA+Eh4yzexyyo3VQ/gFZX4H39CC8bYJ523yIzj/BhqcA/Il95wQn8lfz6D2OlHHzqrMX8diCZCp8otl56AT735qGa1YyWTbr1R5ZimlhBl/7RPL2OyfIO7CaYHMGq6JWkv9Nwx7NOcGJdeEA+L+Uzon8E5zIj8YHoDaHpcFzybgwgsi39nMiZz+rJ5rJWPE0K/OcGV+dRdzkCDaZg3h7/2G2PONO2b6lxP16FVFPJ1HhE0N6TjrLR5vJiY8i8ZRtcMwhbnIUaeYAXtt1gsPboxlRkcy8KYvIsQ2k7Rg4cTUn3onFH+CpDQ373XAuLSWkzphC3H/dQ/BLO8nLP8zOmT+hcPM85u4qsxZwz6Oszk8n1h8gnA35JziRf4LVE1u/n1GdvYjHZiRQNGwOWw9Zz0fQ5RTmTYkgudh2X8vY+1IUURkGQhMPkLd7OePIJ2luAvkdM7RdRGFaRKRncCfwkSDYl8WxhgCHpZBjv7MQ9Eggtn3P1edLAH+8PZr1F3dYHeaqP1MN+Ht6OLw3hrtd6dcboDeGu11xvdsVg0OB/CZ9k0PSigIsDy9nw6vh+Ax1xd0YTHTK20TarDrQtIZT+emsnhGM91BXBg4PJnZ5JIbvcsj6oKHftq8rrtYdonffQbje7Yrr3Q3HfmAwawpOkr4mkmCjO66DPQh+4TUi+1rIebfAiXHCFjye3sLOV0LxHuyO/9wYpvWFkuw/8+8bd7J8qg/ug70JnR9JIBYyPjjbrISgNe+S/krDfo8MZ/nr0bh/V8Cm7DLHmmKw7qf1VPZr2O+Gc2nwYdbuU5zYtITQUR4MvNsdn5mvEfswVGw/Zu2172XA9e5BGAwAvenXsL1ra5dtw3lj9I3zNnB4INEb3yby7jJSV6VRZvPQq8V7NvtTogkcPpCBxlCiowLhuyzOOrirIq1RmBYR6SFcg0IJJ59jp6xdauYTOWQQzKMPN+97tpirgd7gYEB1qI7vG7r2/t6xOrqD6z33Tz2Ke+Nj1Kt385V7GRrC3g0WF3dGAAXl9s1gYehrU0C9K+4/BU6WtfJgZ9tG+DcaVtPLHQ9fgBH4GxvVM/jHeABUVjcL7O5uNj2/Rn8m9oXqj5xrT6ta2O97hgLffc6fHewFhxvnLXSqzXnr60/odG+ozOKD8qbbeIwKaLLuwGHWL38Vf9XjjtIx9ACiiEhPYQhg3FMG5r17jNqJ4zj7fg6Gp7YQ6Aq2nWwGV3fgKjj4IhSH6ujTELD/n3O705Uqyo8BgXh72dlzX19Lybu/Y++RfApOfc099xscDp21xVn8bn8O+R8U8fXd3hj+5mirO5M77r7ABxXUQrO7EDfDXFlAzjtZZJ0s4M/8GPerzpfV1nnz8PYH0jhbXgv367FXuXXUMy0i0mMYGDE6FMMH+fzn50UcO2IgdPSI5g/+Ae5DfYAiyiocfdDK/jpch/0Yd6DoXIXDe3JrXJs/u/FPw0OBFgeOy1c5LDWZWHmiH6HL3uHE6RPsXxdNgL3bN7ycxrSqgH6PLeedvNOcOPA20b6O71Gns+1JvikWSjZHYJq+jWrf2bx96BSnctJ5bXIHViHSDahnWkSkBzH4P8q0vlFkrblCSd9p7PRvOfy4+gcSRA4Z2ceIfjjYoZeh2FsHXg8TOiSZ5N35lE2d5eBDiLfCQELfPk1oC0uqh/oDhVT8FRjcVhlmctbHkf/T5Rx+I7Tp0AI7mfOSiMsbwfLfryV0iOPb3xKWzyj7AJj4ExwfAd+K0jTiUsxM27KfJa1dQw7y8BoH5FBRRbPzVlFWBLgzwku90nJrqWdaRKQn6eVD8Ax3Sj4uwX1GMD6thbu7x/HsHA/I20TyyeZjQy3lOWScbGWggr119PImdH4ghq+S2fS7FqZ5qy0iI9v2xTBtG/iP1ihXXdNoqoX6av4zv9CBUtrn/tMA3LGQf6yoafvMX9tMjVdBWR4w3L1pkP7GzNe2hfbphztw9X//p2kJn+cDHrg3Dn/1FzFfvsmduBk2Q3Oqf59BBhA02r/hi9dAPPyBilouNhoqZCk+RoFtWX37Wbf536bjN2rLz1LNEDzcGwXpejNfN9tvA/0avu1dbWdYkvVLIuzdk2WdCvCa70rIyiiD4aE87NV2GSIdTWFaRKSH8X4kEn+jP+GjvdtYy4DP3A2sNl0hY/GTzFufRVFlLebzZeSkzMMUHsfe/BKqW0m69tUBAx9by9Y53hS+9TRRL6eRU1qN+UIFRftWETF5HolZH1DmyBRk3iMI7Qv5W5PIKq2ltrKA5DlTSKuyHcV7LYCZ+brWcuOzIcBlM9XftVPP/ZH8aqqB6j2/ZO7mAiou1FJxMpV5k5faTI3ngbcJOJhGanE15m+qKdm3ioj5yfzZtkwPHx7uC0W70yg4b6a61Hp8Pe4PAvaStquE6m/MVBdnsGr6PJIrHTguHSxtSRRJ2SVUN+zPotcLMIxezhLTtXsY7oz4Nw/4KoWErUXX13t6YQHY9q673s+IB4GDaWSU1lJbWULFNzDQawTuFJG2O4eKC2ZqKwtI/eXjvPwH215qV+739QH2kravjNoLFZSUt3LR3B3MkhWBcHIVi36dQcl5a7nJC+eSVulB5PLIbniHRG53CtMiIj2NVzhbdm8h8v521uvlTvCaPA5vms09n1tfcjFmRhxpZ+5h9qY89q8Ixr21u+/21oEBn/np5O1+Df+rOaS9MIUxU+aSdOgK/q+kk5cyCx9Hxpi4BhG7dQlBHGPVdBOPzc/AEv4O78Q/avNQnCv+j0Xi3TeLpTHXXnXuTdAMf1xLk4jaWNROj7iBwJfeZcv8QMz7FjEl+DHm7vwzgb9JZ/nopvUEv7SF6J99RsrMSYx5PIrEEg+WvLOVObah0uDPnKRoAr/PYtHkMUx5IZkPvgJX0zK2zA/gs+1RTAoyEbXhLB7PH2DrzI58zM8xofOnQf4LTAmaRNTms3jM38K7bzUdxuIxfQNrp3pTvWcek4IiSCzxIPbQTqJ9bEtzJ/TV5YR7niVhugnTzJVkfWoGYyQbVoTjeiSOKcFjeDImiyshW9j/yrhm7XF/7DWWT/Xm7BsRmIKjWHmo5ZfnALiHbODdXbH4V6Uwd/IYTE/Gkd9/DhsOvcOSkR055lvEPn/3ww8//NDSgrNnz+Li6shvQJGbV2c2M3z48K5uhkinqqys1HUuXaI2exGmFQVEbj/NkpFd3RqRnqOyspIRI0a0uEw90yIiIiIiTlKYFhERERFxksK0iIiIiIiTNM+0iIjIHWJgyAZOh3R1K0RuL+qZFhERERFxksK0iIiIiIiTFKZFRERERJykMC0iIiIi4iSFaRERERERJylMi4iIiIg4SWFaRERERMRJCtMiIiIiIk5SmBYRERERcZLCtIiIiIiIk/Q6cRGRLlBZWdnVTRARkQ6gMC0i0gVcXF27ugkiImKnOrO51WUa5iEiIiIi4iSFaRERERERJylMi4iIiIg4SWFaRERERMRJCtMiIiIiIk5SmBYRERERcZLCtIiIiIiIkxSmRUREREScpDAtIiIiIuIkhWkREREREScpTIuIiIiIOElhWkRERETESQrTIiIiIiJOUpgWERG5Q1m+raOuztLVzRDp0RSmRURE7kil7Ax7gifjj3G5q5si0oMpTIuIdGuXOBJnYrwpkvQvWlnlXDrPmkyMj8tpMRRd/mM2G1fMZ0HEY4w3PcHs2Hgy/3ipQ+uoO5fPzt+8yIKZTzDe9BhP/WIlW98vp67eoZ3tUWo+2MHOXQXUdHVDukJdKdm7dpD9SV2HFHf5/ZU8aXqCVe9fan/lLlVDwa4d7PzA+bPe8nVjoXT3fB4PmU/6Z7pT0NMoTIuI9Ag1pJ8obXFJ+Yc5LQe6+hoK1s5iWuwWSu8KJmpFKgd2vUnEA5dIj53GgnfKafpn24k6sFD+zvM89Yt4si/7Ehaznr3pm4l9zJXipPk89ZuC27bX81JpOum7P6W7x79O8f1fKNydTmH1nRb8LlG6O530UufP+h193dymftTVDRARkfa5DXaj5vAximcYGWlotKC+nMIjNdblNtuUZ8SxKtdC0MupxD7idv3zoOlvEhhUxX8PHkbjopypo+7kWyzeXorXjM28Md3renn9J8Ww6eEwqgzD6H/Tey+3u/6PvMaBR7q6FV3JgHH6Zn4/vavbIc5Qz7SISA9wyWgk8PsjFHxs0xP42THSLwRiNNr0c32bT/r2Khj9HAsbBelrDEOG0b/XTdZRX0721nwsg59j4dNeTYI5AAOGMcyl1T2yDi3ZUEjdV4VsfXUaj5tMPB7xPBtPWiP75T9mkrDoCcabTDy5KJ7sL5r3gl7+LJuNS6zbjjc9wewV6RRftFnpky2MN80nu7KO8ve3sGpmQ5kzV5LpTJkXc3jFZGJxBkAmi00mxptMvJJ7yf4ynGgX9Zco3h3HUyEm61CaJW9zpNL+nuHLf0y/XsfjEc+zMbeUlgZpXP4kh60r5jfUY+LJRU3rKU0xMT4ikUKgcO00xptMjDdt4fo9jYulHElZ2TCsyMT4sOfZmFtFmy39ZEvzY5gbx3jT2xTW1VCY0rDfIdNYvKGAmnrgYjGZv3meJxvqSDjc9E6Ldft48r8qJz9lJbPDWjsXpWxtcQhT08+t5T1PJkDG8w37HceRa2XVVVGYEc9LDcd4fMg0XtldzOVrQ53auW6s5ZvY+onN+eiMa0k6lMK0iEgPYBn0rwSOtpD9QXGjwGCh+EQ2ltH/TsCgpn8w687+FwVAyIRAWs2zN1kHlYUcuQBeYYF42QRzu/0hnmcX7aAucDVpu94kbHA52b+OJzHpeWalVGGcu5m9yTEE1uWzcekWihs1oSY3jshFb1Ps/gxv7DrI3u3LCPx2Dy/Nms/OT2wDRDnZq55ncbaBiStTrWVSwNalGymoc7DMAeOIzdzMwpEAIbyeeZADmQeJfWRAp7WL+hqOrIjkpSwDYWvSOJC+nij3YhIXrSTfNli1oCY3jsjYHVQZn2PdroNsWzEZlyM7OGKz3uX3VzLt5WwuGafy+n9Y2x5Ul03iorco+Na6jnH6QQ78OgSAkdGbOZB5kAOZz2EEuJTPqogXyb74U8JWpHIgPZXYR+rIXjufxJPOjK8+QkLUfHbWBfJ6ahpvTHGj/PBKEpISWTx/C1XGeWxK30zMqDryNzzP1j/aHt98EmY8T2adLzEbDvLbpOcwVu3gpVlxdh23xvo/sowD//FLRgKErm7Y72UEDQAspaQvmkXC6QEERa9nb2Ya6572onjXi7yYUW4toJ3rpiWdci1Jh1OYFhHpEdwICAyEwznXQw2WYgqyLAQGBmDb91xTXQqMxOufmvUXd1gdddV/oQYYOXyYE/vT4PthhK1ZT8wEL/oPGUnUrBAMlHKk4l95IymGkAfc6H9fMM9NC4Dvsym81v35bT5b1xbCqBheXxKCcYgL/YcGELVmNWH9yklPzKTc5uFHi9czbFv7HAFDBzQqM4fScgfL7GXA5a4BGAwABlzucrH+GDqpXUDdyS0knnIj6jevEfaAGy6DvJi4ZBlR/QrZ+Ydy2tTQJkvAjTa53RdE1NrVhNms2n/0Mn6fuZnY8CC8hrjQf2gQC2PCMHyfz5Gihl7jPi64uFivK0OfAQ3733CdDQgiNvsgm14OI+g+N1wGDSPoFy8Q1sdCfl6hE+PnLQwLfZN1S4LxGuTGyOnzCOkDpbl/IWDNemImGXEb5MXEGWEEYCG7qPmY/8CX09h0bb8fCCEm9jncvi9kZ247x82WwQWXfn9vvQNjcLl+3g29AIORiOR3OZAwj4n/Moz+d7lhfPoFFgZA1Tv/ae21b+u6aUknXUvS8RSmRUR6CJeHgwmhgILT1m6mulPHyCaIIP/mfc+WuhrA4PBveUfq+H/fN3R33dTTN0ZG3tcoTQweZu35e3AkXn1ufNzf3RrYqy5YA921nveJk8bh1rhXvM9IJoZ5wfkcCiub1jTsX0Y2WbcjyrTVGe2CSxT8oQBGP0OIZ6MNe3kx0mSg5pM/tRlSr9+lmGzTpl4tpLhehoawd4PF5R8xAoUV9s1gYehjU0C9C273A6f+xF/tKqEp48hGQ4h6uTHsQWh23Qz6J4YBnP9rs2PhNsim5/e+kQT1gZqzf+rYmVha2O8BQ4Dvy6lysBccOutaks6gBxBFRHoKw0gCQw289If/5PIj/86nBfkYQt8kwAVsO54MLm6ABf6/zqvj7/s0BOz/dW53bkZVRQEQgJdH80A4zGskkElpxSXwbP0WemeU2RntwlJOeSF4RXs1G7Lzj24jYXcVf4VWH/Rsq00tqr9E6R8OkdOYRlIAACAASURBVP1+AYV/vMQAT4PDofPyJzkcejefgqJiLvXzwvC1gwV0KjfcHgQKq7gEze643Iy684XkH8zhyKlCqhiG200MV+6Ua0k6hcK0iEiPYcA4aiKG2AL+65wrxe8bmJhgbP7gH+DmbgTyKf+LBQY7MtTD/jpc3P8JN6C4sgpG3sRQD2nbt7XUAOXJsxif3NIKw7A+0DmNxMLGn4exLm8eWBxIdBfyWRUdT9UD81i4aDOxQwzWB+caHjhsV30N+Wvmk1AxkrnRL7BpqRuGXi21rRuw7Um+KRZKdz3PS/sNhCz5Jat/8Rr9DdaHNa0PHMrtTGFaRKQHMYwcR0if5zmyvo7SPiGsG9lyIHAZ8a8Ekk92bgFRAUF2P4ToSB0MD2Di4B3szCygfFKE8w8hOmGYRyCQT1U1MKjpsqryYsANo4djPXYdUWZntIs+rrgAXtGpbApt/UuLcXUeE1v4vMZ9JFBM1YXmbWqqjvyt8RTcH8NvXw1uOrTATnUnt5Bw0kjM7teYONjx7W+Jhp5+HvlnOuwr4BeZJOyuI+TNVOa29u/FQZ1yLUmn0JhpEZGepJeRoHA3Sj8rxS18HMbWAs9dgYRNHwYnd7DzVPPxkpbKfLJPtXLz3t46enkRHBWA4cIOdma1MPXZpWKyc21fDNMxrF8WIHt/jnWatGu+L+VIdjkMDSZgeGeWacDl/1j/y1LvbBn2NmwkAaOhPLug2QNn9nC73xc3LBQUFDc9F3WXbKbGq6L8JDD0H5sG6Sv/3fwFI31ccQMs9U3PblV5ATAMt3safVh/ibpvHG93h7EZhlTzh0NkA4EPjWz4kjmAYSOBv1ymttHxtXzyn8174xu+2GCz35crPqUGN4b9Y6MgXV/HpW+x0fJ105JOuZakUyhMi4j0MF6BUxl530hCHvJqYy0DxumriR1dR/ars3gpJYfi85eo+6qc/N0v8tSceLILSqlpJenaVwf0//lrvDHdi+L/mM/iNZnkf1FD3cUqig8nsiDqRbYeKaS8M6bluiuIuUsD/n/27j4u6jrf///j/Djf6WvfIRPzJ5vrrKxzymZNyY6z7k22TrQk1JGlQlxREjN1Ba8gczFcU1eE1CAv0AWvMJRWnNRwWzAKq8Xbutgqmt/J7UwLZzy2+DUxY06e5nz59ftjQLlmGC8Qfd5vN26un6v3+/P5zNpz3rw+7w8czmRRVhH2L1xcOF1B3ssvYTttIjo5uusj5V06phHzgxagCNt+BxfOObFXu65PvzASOj0Z65fbWLDChv1sw027VIvjoI3y053sPjiaWWMN1LyVyoLtFTjP1eI8XMCC+KUtpsYzYX4E+MNuCk7W4LpYg31/Jgm/2oaz5TEHWrD2gkrbbiq+cFHzmeezZDKHeK5JoZ2aiy5qThaRmfgSeZ318TqyLZ5L7gE7NQ3nsyirAsOoZKY/0vj7mkAsI01wdifrd1Re3i7h5QpoObpuNGN5APjDboo+q+XCaTvOi9An6EcEUonNVobznOeeF6TGkfFRy1Hqdj43bbkunyW5HlTmISLS0wyKZGV2ZOfb+QUS+vIuLE8Wkbe7iPVJmTgxYTabic3YRfTDHfyK2Ns2MGCZvJHf/aSMgoLd2JZsI8NlxDzQQnDSRlY+YsZ4nf6DHzgmjXxTETtzd7Jg8jrcGDGNnsjy7dFY7/XtV+1dOWbgz14kueo1crNnMj7biOnZhbz+S+t16Rf9I1ie9wOKdmwjMzEH50Wgt4ngkRHEDu1sZwPWxHxWBqxj/b5UXthhIGBoCNGLNhL61kwyLz+kaiQ0cRU1WekUJMWR1ysAy+hxTN+4CnvSXPKaHTKYicumULNyJ4smF2HoF8z0V1cR+chsVp55jYw35/Lc1oZ2pm1h5WdzmbfVt1O/WuGTfw7lS3lhdS3u3iZCJq9i1YTgZi8tMj2bxuKadNa/9RLP7TBi+dlEZuVNx/Xbp1n2n02PFkh4cjLOzFzWJ45nfW8T0QvWMN0azfL558nclM4L+8A4MITwuFVsHrOb51Y0D8vtfW7acl0+S3LN/cN33333XVsrjh8/jtHf/0b3R25zrro6Bg3S763k1lZdXa1/X0WuswsHUhm/uoLorFKmd/qFQ6Rjrro6hg8f3uY6lXmIiIiIiPhIYVpERERExEcK0yIiIiIiPtIDiCIiInLL6TMmjXfHdHcv5HagkWkRERERER8pTIuIiIiI+EhhWkRERETERwrTIjeNOqoOH+HEF9fj5csNKrMYMWIO+862vfrE9lhil5dx/vr1QERE5JaiMC1y06hiX8IMNn9c59XWZw5mk737BN5t7aWvTnHq7Ncdb/NJPrGTllHmReLuUjj/po66r67jFwkREZHrQGFa5HqrP8+R7anMeOZRRowYwYgRj/JsQir5h69m/NdN1eEtbHnvb3QYfc/uY86IEQ3tjmDE8/lAOcsimiybva9rI9H1X3LK/iVf/9/mi9sMzt6E88b9Nz3Ko6HZnOhKX0RERLqZpsYTua7qKPv1U8w/9SSLl/+eHIs/uM9zqiSb1IQwstrYI8Sbw35VTvE7wDf5FFY+SVKwoe3t+kex9miU793vii4E59bO8zcHQBV/OwvD+l/DfomIiFxHCtMi19PZ99lXAjEbUoiyNAReQ1+GRKaQcuoPzDiRzFs7YggC4ARZI+Kp6uyYdSfYkvwy7/9zCouDdrFs1nwG5K0mxtxOoAaoO8W+9Vnklx6h6ivwHzSSkAmJpDwzDPc7cwhbUn5l29HenJhndHtZq+XLCBvRYqkXx3MfeYMth/zxv7ucLTuO8OSLI+ngbERERG4aKvMQuZ7+XkU5VoYEtYyGBn44xAr2M97XPLvPcGL3MmIj4nmjXzJvroghalYua5/+ksyYMGZsKqfqqzb2qz/FlsmxZJx9nLQ9Rzl69Ci/X/44dWviic89gX/kWo4e9SzPm+xtZ0JYXHz08n6X9x29mNKWyzpx/qMs4pPyMUxex57MOAw7ZzBhZTnn673ti4iISPdRmBa5nvoOYBgVVP295Qo3fztVAZYB+Hd2DPcRsieEMWrUWGb//lsiVpfy4asx3PPFEY7Y/wvriwWUvpnCkP+9lAmhI3j0mfkUn26yv+MQ+6pHkrIghiF3exb5W2JImjWEqp1/5NQ1O9kuqHdzvrqcLfPCeGrePu6d+xZvzh1G3+Ak3ixMIahkDmFhM8gqOsEZPZMoIiI3MZV5iFxPAyN4LjyT+cuWEbQ8iagmNdMZv3MDGTw7IqPZLq1qpg3DiVqSyy8GBtH3ziuLq96ZwQzHYkrXDaDv/REkvR5Bkvs8VY7/YsDAlgc5zimnG+5tMUI+qB9fF81hRJfLPNpxyIsyj/PFzA9LpezOvoSMSyR3YVSzGmmDOYbVpY9z4p032LxxOmOXuBm5ZD85kQOuomM3H1fdNZ2HRUREuonCtMh15U/ob94hZ0cmmxf9K8uqGwOUgSHPrGb/wlAG+DVu217NtIEB9wd515yhL0GWFsvMo4kalE32ygyGZ6YQMchAnb2QrPV/I2Th44Q8FcPRyIYerBlBvMObhtqpmR69mNJ1UfRtPKO2jtc3ghUfPo7Bv4OqaL++DItMYm1kEnxTh/uOTsfvexyj/613TiIit6qOBkAUpkWuN7++jJycxsiG+mH3V3V8a/DH/86Od/PwBOz8dte3MRLcIG7rUZKCAb8hTN1eQN/1GWROGkXqN+A/KJSoRW+SGN63zX07FJzE0aNJXd+viQ6DdEt3+uthRBERuWkpTIvcYIa7uxIOh5F09ChXF10B/yFELcwjamEn2909hCH97/LumPVu6uq+5Q5/fwx+nW/u0dmXg/bFrDtMymjFahERubkoTIvcICe2x5Jx+gXWLQqlq+PB54taTF/XgZAlpayNbKeFsyfYt2cXxYdOccpedXkmEf9BQxjyo9FEPLuOgsle9u6TbB59vorFxWuJ8npe6Pa/HHjOMYi8o0kM8/ZwIiIi3UxhWuRG6fSlJkFEbcihztS6lrZv5NrLdc3t63ieavcn2UyYnM8dzySTkp7CkHuvjCi7685wqmQLGbPCyJ+Yx5szh12T0ophc49y9BocR0RE5GalqfFEbhr+BI0aybCWM25cI6fKtlBFFEkLYxg2sHlphsF/AMPGLSYpEqo2vd890+WJiIj0QArTIreJIaFTCWIfWemFnDhdh7vJS1HcdZ4XwmQVQdC0xxnSfd0UERHpUVTmIXIjtTUPcytx16Vu2PBgIm8V/5R9e3aRvXBXmzXTMetLiQruSkV3e68Vbyqki3XVIiIiPcc/fPfdd9+1teL48eOaB1VuOFddHYMGDerubkg3OF+6jNnbg0jZEXfLP4BYXV2tf19FRHoQV10dw4cPb3OdRqZF5KbQN2wxBWHd3QsREZGuUc20iIiIiIiPFKZFRERERHykMC0iIiIi4iOFaRERERERHylMi4iIiIj4SGFaRERERMRHmhpPROSmVktJ6ngyK9pZbU1mV1oEfRr/7nJQ9tZuSiocOD5z4u5nxvrYOGInhGI2NtnP5aDszZ3Y/lSJ47SbgMEWgn8SQXRUKObe1/eMbnpuOwVzXqKAiaxcG4vF0N0dEpGbmcK0iEiPEMly2xQsLRf7GWjMyO7PClgwfxt2QzDxiS8ya2ggOMuxbXqNhP1/ZnHeQkICgEt2cufMxUYI0+NWsXiEEdenFZQUrCPhrfdJ2ZRGqN5YKSLiFYVpEZEewYCxtxFje6svlpM5fxv2QVPY8Gos5l4Ny/tFkhwcQvQXBkwBnkU17+VgOx1IfPYrRN/XsN2oSGaNDCXyCzem2z1IGyzE/vYdYru7HyLSIyhMi4jcAhz7cyi7FEj8rCZBupFfAKaBV/5aW2MHggloWc7hZ2y2XSsnc3giqZJZm1ZhrniNzMJynO5YXi9qGDGvr6XyzdfIKKyg9pKBgKHhxM+dQfigJnUS9bVUvrmO9fvKcV5s2UA0r5fOwHLV7bhxHtxGXn4J5add0CsAy+hxxMaGYx3o+TpyodJGzvbdlJ+sxY0R0+hwoqPHET40gCulNQ39udw/NzWHbeTm7r5y3J/FM+v5iGYlNBcOpDJ+dSDL907E8Icc8vaVYz8HAUPDmZUym5Db/cuKyC1GDyCKiPR4DipKauC+cYTc1/nW5hGRGKikYEsZNfVdb6to2VwW/MnE9Kx8NmdFYAaor6FkSRwL9hmIXpHPnoI1xA+oJHPOUsrONe7rovzVOBYUuonOeod3S/ayIdGKAQORGe/wbrPg6ns7rkPrSVhRTsDUjfy+pJR381cRGfBnKpwNh6628dJLObhC0vhdSSnvvrORZEstZX+t7eC83dg3zeS5X++k9tGFbC7YyxsrJmKqzCQhfillZ1tuX0HunDjWO3/E9NW7eCMjmsDPi1i20IazrcOLSI+lMC0i0tO5anCeBR40YfJic8PDM3j9eQu1B9N5bvxcMgor2hglbp/TbWX5iilYBwZiGhyIAXB9lEPm4UDiX32F6KGBGPuZCU9aSPxdFeS95/Ds+EUZtoNurIkvEj7QAH5GzFEvMsvqpuhQJe5r1I7TXoybEEJHB2LwA3qbCJ22ilmjG0al/3oMJ1ZCHjFj9AMMgVhiFrLyWXP7J/2ZjYxCJ6aYVaycbMXUz0jg0EiS05OxXiwnc0s5rmY71GAMXcOG+ZFY7jUS+PAUpo81wOk/Y28VvEWkJ1OYFhHpEWzMCwvjiaY/qcVcALhU5wlyft5OO2HAPGENe3asYvpIqNiUygvRT5GQVYS9o8HZBuboCIKblZLUUv5eOTwykcjBTRb7mQkOM1Bz8t88/az9O3bANCCgyUYBmAYBZ8/zn9eoHdP9oRgoomCfA1cbI+99zD/CRAW2wgpqWib4djj+UkwNZiLDLTS7yv0fJ3IsuA/+kcrmaRpLsLnZtt8zBQOVOM8hIrcQhWkRkR4hkuW2vexp+rPwcc+UeL38PQ8m1nuZDBsY+gcT/as17LFtYflkCzV/WMe8+FRKOhk5DejV4jFItwNHBZgfNLd6QPJ7gcFQ4eTvAP1NWAHnmaaJvRZnNRgG/eDK9H5X2Y5x9GxWTrNgz57JM0+PZ9GmMhxNR94Hx7L85QgMB1J57qmnmfeqjcqzHV27Wpz2GiAYc6uacgP/dL8VKMdxuoNDiMgtSw8gioj0CB3M5mEM9MzA8YkTJ8FelXo009uEddIqfjc0hxdesrG+yE74tFaT8LXv4nlqAEf2VJ7IbmuDhh71e5zIsetZlP0aReaFRA4Cx/7XWF9hIvZ5L9rzth0/I5aYVex50knFwbexbU8noXAn4b9OI/mRQAACH0tmwyPx2N97m6K921gwaRuW59ewckLz0WQRkc4oTIuI9HhmrOGB5G3fTflnkcR68RBiWwzBPyUEG7bqf+cCllYjxe1qGBk3J25hQ1RHUd6AyWIl4CMnRb96mvUXwTgwhPi1a4ge3MFuXW6ngdGEdexsrE+Oo2hxHOtX7yZ01GyCG9OyXwCWMVOw/Gwc4ZtmsmDrOkoeXUPkvS0PFIDJEgiHHTjPgqXZbBxu/u2vFUBoG6PWInI7UJmHiMgtwDxmCtZeNeRtt+G81GJlfS2V+4txXAJwY9+Rju1TV+uDnHZgBwIf+CfvgzSAMRjrI+AoKsfR0ewg7kpsa8sJWbCRzbZS3i0tZc/WV4h+oN3Zs31sp0XJhl8g1tHBcKmGmotAvRt30/39jASPCgHs1LRTM25+OIJAKrEV2Zs/KHn2fYreA8NjPyXYy9MQkVuLwrSIyK2gXyiLV8Ri/iSHhKR0bAcd1FysxfmXIjIT41iwqYSKahdcqsFRVUHunPEkrLBRdtLJhYs1OA4WsCBpHfbeIcSP6WBWizYZCZ2ejPXLbSxYYcPeWH98qRbHQRvljbXEbheuS1B5pBznOReui1d+3F5N0edFO/VOiuY/xQuri66sv1hJka0SrCH8uJ+biuyneWb+NipON3yhcDspeasI+ke3P7XgfdGkxJhwFr7Egu0VOM+5qDlZRObCTCqwMmtqSPsv1BGRW5rKPEREbhGGoVPYkP9Tygp3YtuVSt4KF8bBJiwPv8iG1aENLxYxEvnrvfz0ZDFvv1NGwZIcMi4aCBhsITgmjc1PWjH5kgr7R7A87wcU7dhGZmKOZ6q93iaCR0YQO7RhG2MI8XOsPLfpNRL2uVtMhWckJGkNKU+aOq5Z7qwdPxORv16DYd9u1ifl4Djn9qx/JJkNz0fQB7A+v5HFf9iJ7ZU4FjW8fMU8YiIrs2KxtNu4Acu0jbzxoI3c3HRe2NH40pbZvD4pEktAe/uJyK3uH7777rvv2lpx/PhxjP7+N7o/cptz1dUxaNCg7u6GyHVVXV19W/776v50GwlzHETvSCO8ad1xvYuKTTNZ9JaFxXsXEqIhXhG5ybjq6hg+fHib61TmISIiN4SjwoYzOITglq/T9jMS2M8IvYwYNZWGiPQwCtMiInJDmIJCMFTaKDjg4EJjjcelGuz7M1n2WyfWxHFXZtoQEekhVDMtIiI3hPGRheRn2MjZ/Rozsx3UXuJyvfP0rbuwDlR9h4j0PArTIiJyw/R5OJqUh6O7uxsiIteMyjxERERERHykMC0iIiIi4iOFaRERERERH93iYbqG8u3bKDrZxmtzvWAvnElCVjkXrnGvutUlFy6Xu/PtRERERKRTPTZMX/iLjYyUqTwTFsYTYU/xi6R0bH+pbbFVLfYdBVScaRoeXdj3byPvUE2LbdtYftGB48u6q+qnfVMYT6QWX1Ugd50sIm97OTUA54pZFBZG7kkf+7PjaZ5Jf//W+oIgIiIi0k165GweNQdSeWF1DaHzF/JGmhkjbmqO5LAoJY7K+VtYPiawg73dOA8XUDDox8SPDvRieWv2TWHMK+xgA2syu9I8r629Fv77zJ8p2GHCOjmENnt2Mocnkmw3pC8iIiIickXPC9P1doqyKzAnbiF5jKlhoYHAUbNZnOjghey3sf9sBha/69cFy7RS3p3W8JdzxSyKzcSUVcr0ob4czU5u2FzaicIQs4ZdpvZWNmUluSCN8H6+9EFEREREfNHzwnTtv+O8BBZz64RpMlvgkhNnLVg6C5WFc3mirdHlQV3sz3/9N7VA4DduwJdXd1mYXlpKyKYw5lU3jCKfzOGJJOflcHzhgA+HFREREZHrrueF6YAfYOoFdocThjYP1E6HHXpZMAV4cZyYNbw7zdJkQS0lqePJbLldRSbjwzJpb+S3pvJ9HIDzvQrirSEY2xpptnp5blelgszYsFb9t85fQ8hHc8msuNH9EREREbn19bww7WchMtFK0eqlZPZayPSfXamZXpbtwDp/4bUt8eio5vhSBbZNdiyPhOA6mEPBk1amB3tGmqc3bGLfFMa86mvYn/Y72n6Zx5hSwm94f0RERERufT0vTAOBY9LIv8dGzo5UfrG6FjcGAgZbiczIJ/Zhb4alr4FLTopWLKXonlhe/9VECJzJvJdm4v7NKmaNuh59sDEv7Mp4t1dl1CJy03LVXd1MQSIicnPokWEaoM/D0aQ8HN3JVibCM1bh+r6x9Spfa6br3dRU2shM30blXREsTp+CxQBM28iG3qks+PV4yh6IZfGKKQS30azvonm9dAaWhgceO1XvxuVy4zrroMbPRPDgG/QlQ0S8YvT37+4uiIiIlzoaAOmxYRq8mKKugXX+LpaPaQyTAYSnXSl76DI/qDn6R4xRq9g1IZg+l0tKDJhjVrHnMTslnxuvcZD2RsuaaSOm+wIxEIglfBzmwQHc8C6JiIiI3OJ6dJhuNkVdmzwPAzrbWeu+6MLdy4ixS5NwGAietpHg9lb3szSrW7ZM2sueekPXguy3bsCN++tanGdddPq+wqEzeLd0RldaEBEREZFroEeH6atjJy96Ls5mo9Zd0TD7R0XnW3b4EOOn2/jXOQUNgTmT8WG5mO4LxHwflNt2Uxv4Iywdv0PmiotOKh0uAh+0EOjLLH0iIiIi0iU9Okx7Xebh4/Et00p5t9213pWLdDp7xgNT+H3plA6PceFAcSetNDhdzIIUZ4cvbzGFrWLlpUD+l3dHFBEREZEO9OgwDeh12V1kHBTcfomKiIiIiHTJ/9PdHRARERER6al6/sj05TcUdqRhWrm2dl89nidWd7y31ee66mujz2ML2TPK24cY234TYnMdvOBFRERERLz2D9999913ba04fvy45kG9BlzVlTguBWJ5IBA9E9g5V10dgwZ1Ntm3SM9WXV2tf19FRHoQV10dw4cPb3Ndzx+ZvsmpRllERETk1qWaaRERERERHylMi4iIiIj4SGFaRERERMRHCtMiIiIiIj5SmBYRkZ6j3o3roguXu7s70j63y4Xr4k3cwduM+6IL1838gZEeT2FaRER6jk+38Uz002QcrO3unrSjlrL0p3kmehv27u6KAHbyop/mmfT3udDdXZFblqbGExG5qdVSkjqezIp2VluT2ZUWQZ/Gv7sclL21m5IKB47PnLj7mbE+No7YCaGYm775yeWg7M2d2P5UieO0m4DBFoJ/EkF0VCjm3tf3jK4tN/Ydc1lQCLGvriH2Ae9n9HedLML2F7A+G4nFu7diSbeooXx7MQ5zBPGjA69TG75/jkQUpkVEeoRIltumtH6Tq9+Vt6O6Pytgwfxt2A3BxCe+yKyhgeAsx7bpNRL2/5nFeQsJCQAu2cmdMxcbIUyPW8XiEUZcn1ZQUrCOhLfeJ2VTGqH9b+zZdYf/PvNnCnZA4JMK0ze3Wuw7CrDF/Pg6hmkR3ylMi4j0CAaMvY20m/kulpM5fxv2QVPY8Gos5l4Ny/tFkhwcQvQXBkwBnkU17+VgOx1IfPYrRN/XsN2oSGaNDCXyCzemHhWkDVgmbeT3k7q7H9Kz6XMkvlOYFhG5BTj251B2KZD4WU2CdCO/AEwDr/y1tsYOBBPQspzDz9hsu1ZO5vBEUjnxa9dg+SSHvH3l2M9BwNBw4mdNIXzwlah/4UAq41cHsnzvOFxb08l9z07t8IXs+k2opyTlXCUFa9MpOFyLu1cAlp/FkzwtAlPTvtfXUvnmOtbvK8d50eBpJ+S/W3XL01YF0VmlTB96Zbnr8zIK8ndScsiJCyOm0eOYlRhLcD87uWFzsTVslxkbRiZAzBrenWZp0vZrZBRWUHupoe25Mwgf1PzX/67Pi8lbn0fJyVrcvU2EREVj6vRZN0/7lYlbWHl/Jes3bqPsUxfGgSHEpiwkerAbx0c7ydtURMU5CBgVSfKsGVhbfMlxfV5M3ppcij51QW8TIVGzmT0hmD5+jdfPhfNICQX7iqn4ixMXBgJGTSQlKZbggMajNJQR9U9jzwQDJVu3YTtkp5YALD+bTUpiCIF+tO1kDk8kVTJr0yrMn6wjd3sZ9otGTKMnkvKraMz1Dsre3Ebu/gpqCcA69kVmPW9tfrxzdkr27aboYAWOc27obSFy2otMH2PC0OTeAlA4lycKAawkF6QR3q+z+9y8u+c/L2N343a9TYTELCQlxkzjHW39OeritTlXSUH2OmyHnLhaXqumny255egBRBGRHs9BRUkN3DeOkPs639o8IhIDlRRsKaOmvqtt1ZA3ZzzLjv6A2Ffz2bX1FcIpIfOXc8n7tGWKrCB3zlQK3I+z+Lf5bJhq9QTps8UsmvoSNsM4Vm7fy67V8ZgqM0lYUXblIbH6GkqWxLFguxPL5DW8YdvC8kgjJduLvevle0t57pfplPzX46Rs3cWurQsJ/a/drN9nx42FeNtelkcBBDPrt3vZY9vLnkmNQbqh7X0Golfks6dgDfEDKsmcs5Syc1facJ/MYd4vMykhnMVbd7ErazbBNTYKKr27ko4dc3nu13/ENHkju7KTCaGc3PlLycyay4ID/kS+ms8bGdEEHrexKK2Imib7etpej90ym80Fe3ljYQi1hS/x0g47nrvgxv7mXF5Y/WcCHpvN6wV7eSNrIubj21gwvwBHy/te3sRPswAAIABJREFUkcO8qetwWmbwen4+K58NxLF/KYvecnZ2FuTNj2PRoR8Qv3YXG+b/FA7lMG9FJplzXqKk189ZucVzvMrCVDL+0OQsastYFvsSRed+RPSSLewp2ELKYy6KVs8k8yNPHO3z2EL2/HY2wQBRaZ77ZFtI6OXfsnR0n5v4ZD3zkt7GEP4KWwo2kjwKyjfNZf2hVrG3NW+uzcVyMqa+REF9NK+/U8q7ezcya5QBekWy8p1SBelbnMK0iEhP56rBeRZ40ITJi80ND8/g9ect1B5M57nxc8korMB50fvmzJPW8LuMWKwDA+gz0Er8khcJwUmBrbzFiFwNzu/NYnlSJJZ7AzEPMgIuynIzqbhnCitfjsZyr5E+90WQnDKFgMPbKP684ZQ+yiHzsBtrUhrJYy0E9g7E/NgUXl8W3XkHL5aTt7YclzWZDWlX+hmbsZfN0ywYAENvI0YDgAHDXUZPCU2vpm0HEv/qK0QPDcTYz0x40kLi76og7z2HZ6N6B7YMG87+0SxfMaWhjWAi56eRHOzlhfyfVmZlryL24UD63BfBlPFWuFRBpXvi5X4HPjyF6WMN8OkfqTxLs7ZrHlvIyl+GYupnJPDhKSxPCsG5420qXJ7zskzYyO93rWL6mGDPNkNjeTHRCqd3Uv5Zi76cNRK6euPlax08aQaRvcB55H83C/FtMY6YzYa0WILvDcA8Jp5oK7gPH8Mdt5GVk6yY+l05nv2jY1eOFxBKStFeNrwcTeh9gRj7mQj95YtE93JTVlrh+WJlMGK86394Ro8NDfeptxGDn3f3+bK7QkjetIb4USb69DMTPjkaK25KPnF0fp+8uDY1H+2m7JKVWXMiMBkAo5nIObOwXiqivFLT8t3qFKZFRHoEG/PCwnii6U9qsSdwXKrzhFg/b2cgMGCesIY9O1YxfSRUbErlheinSMgqwu7FjHMBgYHNg0rvYEJGAR/9W6sRz8ifP97iV+F/pOwjCImLxNx0+X3BhPaqwe6oBVxU/qkciCTyZy0eOPOiONF1/I+UXWqjba/UUv5eOTwykcjBTRb7mQkOM1Bz8t8817y6gpKzYI6OILhZWY0BvL0NPwjmoSalG30GeL4KmR4Obtbv75mCgUqcjaPin75PwdlAYqNDmtXQG4f/FCtl2Ksb+2zwhM4m/lfvQMCNw9nyRlsIvq9Jx/0CMT0IVDrp7CPRvL8BmAYBmAge2uTetXM8Q68WF6veSOD9wOF/4++dtNul+9ziWtPvB54vnqf/7sWUeZ1fG0/plAlT09KShjZqLngx+i09mmqmRUR6hDZm82icyaOXv+fP+q6NgBn6BxP9qzVE/9JJxf51ZGxfx7yDfyZ5UxrhXXoIMYBAE3DYSU0t0CRQGO5sHpbcVQ4qMDPL3PJRykACH4QCp2esz3EYsJr5Jx9mKHNWlQNWzEE+7Ox24KgAc6K51cOe3wsMhh1OT8ir8oxKRpu9+V3AteV0VOLGinlQixUBgZgA55laGNpQB+FyUnHwbUreKafiCzDdc/ONkl44Wczb75RRfqSS2rvMGL70br+rus/X2PdMVsCJ8xxYGj//5/4dJwZMAwI62lVuAQrTIiI9QgezeRgDPTNwfOLESbBXpR7N9DZhnbSK3w3N4YWXbKwvshPuY41ny5HQlv7zQg3gYP3zYaxva4OGgOi+5FPzDTtfRWC8eJ4awJE9lSey29qg4ep2udb82nGdcwAOFj1V1OZ6a8Of7pPbmPeyDcOTLzJrxQwWBxgaHhq0tbnfDVdfQ9mKmWRUBTM98UU2zA/E4NfJvOpNXc19vsb6PPJzIrNTWb+2CPOvIjHjoGjteioGTiT+ge7unVxvCtMiIj2eGWt4IHnbd1P+WSSxXjyE2BZD8E8JwYat+t+5gOXKi2A65cRRCfT/0eXp99rzP3oZATOztm4kst2ZQ2owBQOfOPl7PVdmp/DS94KsQAWOKjf06+KoZcMovzlxCxuiOvha0t8EVDQfBb5BDMZAwMryd2Zjbe/06h3YMgpwPbmKzb8M9rry5EZyfZRDxkcWkne80sXfhHhc1X2+1gwmLCMDKKt6mwVPr2uYVWQKr6+Nbl7OJLck1UyLiNwCzGOmYO1VQ952G86Wo7r1tVTuL8ZxCTxvekvH9mkbdZynHdiBwAf+qcMg7W5RTuKuLMb2GQSGWzF30k/j8B8TgoOi8o4e/ArEPCIQLpVT/knztlwX/7OTFqDPyMcJAYrefr/VbCVNBzM9odQN/1/TDgZjfQQcReWtZ7xoyvwjQoGKj/7cvI36WlxfddrFq2J+OIJASig73EEtbu2/YT8Lgabm9e3eXL8bxekoB0wE3tNkYVvXr50yJm/v843grtxN5kchpPx2C3tKS3m3dC+bl0TrZUC3CYVpEZFbQb9QFq+IxfxJDglJ6dgOOqi5WIvzL0VkJsaxYFMJFdUuuFSDo6qC3DnjSVhho+ykkwsXa3AcLGBB0jrsvUOIH9NxJK7MSmVZYQXOc7U4D29jwWIbNQOjSXm2sygN9A5l+nwrNVtfYlmhnZqG0OM+56CssBxnQygyR80mslcNtsUvkXfYyYVzTip2vMRzS7yYGq+hDUNFJouyirB/4cL1hZ2irJk888sC7A1tmu6zYqASm62Cmos1OD6twY2R0OnJWL/cxoIVNuxnGza+VIvjoI3y0w1tGEOITbRAkzZqThaRmTiX3JYzZVxr90WTEhNI2eqXyD3oxFUP1LtxfVFJ0T6752HUgH/C0h8qbbspO12Lq/H6vfr+TTNKbTKHAEXYCu3UXGy8fi+Rd7rFhkYzlgeAP+ym6LNaLpy2e2af8fI+3wju/3ThppKKQ04uXHThavxx3TylKHL9qMxDROQWYRg6hQ35P6WscCe2XankrXBhHGzC8vCLbFgdiueZPyORv97LTxse+ipYkkPGRQMBgy0Ex6Sx+Ukrpk5G04InRWOp2sm8TXZcvQKw/CyZDc9HtH5ZTDsCx6SRbypi5/bXSNjkecGFcWAw1vCJPNS4US8rs/JWEbB2HbZfT6WgVwCW0eNYnB2KLTHTuzbusZGzYycLJq/D3fAyj8XLo7E0pElD8ESWT64hozCV5/YZCHh4BiszIjH1j2B53g8o2rGNzMSchuBmInhkBLFNXgpjilrF5l45ZG7PYd6BdRgHhhAet5Hlzpks2uHdtfCNAcu0jbzxoI3cvJf4xYpa3BgIGGwldPxETz23n5no5cnUZuaS8XyR56UuYyay8rcR2Cant36pSDcwPjKblWdeI+PNuTy31UDA0BCip21h5Wdzmbe16ZaBhCcn48zMZX3ieNb3NhG9YA3TrUav7vMNOZfRU5g1Ko7crJkUXWoRoHuHkJy1kPCBN8vXGLnW/uG77777rq0Vx48fx+jvf6P7I7c5V10dgwa1fERd5NZSXV3dM/99bXh4zTp/F8vHaIYCEQ839u0zmfdZNG8si2g+Td/FCnITU7FZXmHPyyFtP0AsPYKrro7hw4e3uU5lHiIiIiI+c1DxlpPg0Q+1nu/aGEhAb89LgjQufetSmBYRERHxmQnzKAOVtgJKPqvF3VD37/7CTlHWUnJPW5kVfXPOqCLXhmqmRURERHxmJORX+ax8K4eCzJms/7wWN43PAcxgc0HnzyFIz6aaabmpqGZabgc9tmZaROQ2pZppEREREZHrQGFaRERERMRHCtMiIiIiIj5SmBYRERER8ZHCtIiIiIiIjxSmRURERER8pDAtIiIiIuIjhWkRERERER8pTIuIiIiI+EhhWkRERETER//Y3R0Qaam6urq7uyBy3bnq6rq7CyIicg0oTMtNx+jv391dELmuXHV1DBo0qLu7ISIiXupooE9lHiIiIiIiPlKYFhERERHxkcK0iIiIiIiPFKZFRERERHykMC0iIiIi4iOFaRERERERHylMi4iIiIj4SGFaRERERMRHCtMiIiIiIj5SmBYRERER8ZHCtIiIiIiIjxSmRURERER8pDAtIiIiIuIjhWmRHsRVXUnlpzW4u7sjcnuqd1P3VR11+gCKiFymMC3SgzhLX2LBjmP8Z8sVLgdlm1L5RWQYT4Q9xS9+uZSCytpW+9s3hfFEajEXOmrkUxsJiZmUt9699fEKZ5KQVd7x8Rq4XS5cLqWwHu2TbB4NfZTUkvPd3RMRkZuGwrTITcVOblgYiw54kWQbXbKTO2cmmc4fszy/lHdLdrH8KbC99BJ5n/oQXuvP4/jsPK76Fj1rKzhfdOD4ss6Lg9ZSlv40z6S/71XwlqbOs2/2CEaMaOdn9j6aRdu6UxRvTGXGpGd5dMQIRkXEMn9NMada3qa6UxSvmU/sM48yYsQowibMIHVjMae+uoGn1pazxcwPHcGjvyrG+8h+hrKN2WQfPNN8sfsEWyaMYtSELZzQ97jO6XqJ+OQfu7sDInJ1HG+lY3NHs/LlSMy9AIyYxy5kee1M5s15ioKWO1h9bMjr4NyG+hqcnwA4+Xs99PHzsQ+3tRjWliUyvOVivzvwb/ifbvsWpk/P5oRhJIkLXiHloQFQ9T75a5YSu7uc1W+nEdoX+OYEWZPjySeUpOk5rBrlT92JQ+zbkkHszmLSCtcSce+NPburc57jm7aQP/mnJD42oLs7IyK3GYVpkR7NQUVJDeboCIJ7NV1uwBL6c8w7dhPy23xiB3uW2jeFMa/am+NWkBkbRmar5ZmMD2ux1ItwXnNgJzaMGLFRcODnLH8y0JtOSDN3cNfd/peDcytflbF0ejYnBidSsHEqQ+5sWN4/hsUjHyfutIGgvp5FZ97JJL96AIk7VhNnadjukRhSRkcw/rSboO4M0v0jWF0WcW2OZRjG1DcPM/XaHO3Wp+sl4hOVeYhIG6wkF5TybumVn9djAGsyu1ou60i9C8f+pSRkVWJN3MiGRCuVWVNZtM/RqoxErs6p3VkUfzOAxF81CdKN/PoSNOhKDD//xQngXvre3XI7f4IG9e1649+coXzTfJ4N9ZSejIqIJ6PoFHUt73F9HaeKMoiPGNVGycoc9p0FOEFWy/KVb6ooXtP8+Knby6mqg/NFcxgxIp58gO3xLY7VWCKTxYkWXTl/OJ/U58MYNWIEI0LCiE/f17oUplFlFiNGxFLoqOPE9oZ+hGRfOebZI2yZ1/xYVd+0PPfzHGlyjZr/NPTvqttxU1WSxfxnHvUcNySM+F/nU15d5+X6dq6Xl/fXcy8yKK87z5HtqQ33eRRhz2dQ9kU711bkFqAwLXIzOfvvOICKvzpwAxcOpPJEWNjln3mFLXcwExJtwbH1NfL+UoO74T9u7i8qycvMwUENeb/saP/rpN5Nzcki1ifFkbCphvC0fJaPCSRwTBr5aZHUbp3JLxLTsR12KlRfE6c49PYZsMQRaul86yE/jsHAEbasL+bM1V7/b06QNWksc7Z/SeiStygt20/u8z/kyJJY/vXl5sc/tT2e2CVHGP5KKUePHqX09RiCgGEL93P06Fqi+rfVQB1lKyeQWnoPiTsOe/bbOJ57/lxOVT30DU/jwzdTGAnwi7V8WPYhH5al8eQ97XXYzYmNsTyVkE3VD6eR+/aH7F8/jR+eyGJDy5rrZk6xa0E80z8MImnrft7aEsUQgC/2MefZGbxxx3Pkvv0hpbmJ/PDIMia83LTmu46yXz/FjO1u4rYe5uiRDylYEIIBAzEbDnP0aBLDrkE7dQczmPByGffMLuDwkaMc/X0u4+8pp7zKu/VXe389DpE1+SkyqoaTnFvK/g1xDPiskPmz8umoGZGeTGUeIjeRC5XlVAK892fsv7QSPCaNd8dcWd9WmYYpahVvBBaRtzuVX6Q4cTWu6B1Cyo5XCO3f8f5dUtF5mYf70wIS5mzD2dtCaMxCNq+wYjJeWd/HOoMNBRFU/GEnBaunknvRSHTWLqYPNVxFx25zdV/wty+Ax4II8mJzw6hk8madIn59KmMP7yJi8gu88PMQglqOVHvh1M5U8quDiNuaS2Kw5x72HbeYtX5fMnb5Ujb8LIS0MH9wH2Hf1ioMk/NIGuUZJe/7SAqvTN5H/NuHqBoX007fqzhe5IbJTxJ6r+f4/oMiSNrQWArij//dBu4AuOMu/O9utxDG46/5LN10in4Tc8h7cSQGgIExLH6zs1+zQJU7hJz1iYy8PPJfR/GaZZT/v4kUrIhjiB9AFIuXn+fIpA3s+2sEU+8HThfzRombkCWvEDXIABgY8otXSDkUxrKDFSSPCsFwDdqpOrEPN3E8+dgAz/HuDiJibg6NV6qz9W3x+v5edgb/iAJypw1puLaJJI/LJ357Oce/iOveEiKR60RhWuRmUe+geFcFgTGxWPcXYDs4keAxAV7saCBwVDQpo6I9f73kwuUGg9GIwecH/dqpmbYmsystgj4Nf20rnBseiGXD3mgMxg7CsdGENWYh1piFuF3ujreVBvnEj8hvvmj0YkrXRdH3m6+pA/jHO7w8loEhz+fxUfgRdm3MZvOaORSvMTDkmWRSZsYwzOtKj8YR8RSigpvfwwH/GkPM8nIKDx4hJSwU/wtn+OIbsAY1f0BwQJAVtp+h/UdbgxgebiB/92YKw9KIsXQSljvr8aF9VDGElGdH0tVP3ZBJUU0CLnD2fYpLIXRFTEPAbWAZSfid2Rz/63m4vy+cP8MJIM7U9ML25YdmwPEldUDTNb62E2SJwMAuNv8ugrRxQ/Bv8f//zta31oX722Td8JFDml3bAUFWoJyq/wMoTMstSGFa5CZRc2AbeaetJL86BUu/Sl7Ifo2S4DTC2/zVdwd6GTH2anuVZVop73a2/9AZvFs6o4uNNteVcKwg7a02ZvNonMnjzrs8f/7fb7t0RMO9I4n7TR5xL1ZRvjuD1I0ZxJeUs7hwLVHehJ7zVRz/Aggb0npU2fAAQ0YDH31KFaEMu+eHBN0Ju6rO0DQ6nqmqgNGhtD8Hhz+hC3NJ+mo2GZMeJbN/COPnJvBCmDdhsFWHqTpxBohjyKCu7gv33HlXs7+7HacoZwgpQ1oG/AEMeAi2NJ7r94IIAaqc5yG48dzP8zcHGMw/pOV3F1/b8Q9NIXful8xeGcuj6/sSMi6ZhMkRDGn4jUNn61vpyv1t5xAitwOFaZGbgKsyh0VZFVgStxDeDxg7m/iimWQuXEfA6tlYvRmgPpnDE0m2zrdrMbrcrno3Lpe7ayPc54pZFJtJhZebX2Fm1taNRA7s8o63kQ5m8/C/lx/eCxyrooqRXpV6NHN3ECHTcigNzuLZGflk7D5B1NxrHI/8hhE1axj5K5eS8VAuKY/05fxHGSzdDhGvPt4qUDbjP4y4DR8SVV1O8Zv5ZL8cS35uFKvXLya0iyOd317DGv26818Ap8h4ZgQZbW1gbviz/5PEjMtgzsqlFN6fRowZTu1eSsahIKbN6vw6e92Onz/DJufw4TNVlJfsIn9jKrHbNxP16loWhw3ofL2I+ERhWqQ71btwvJdLxupiGPMKKWNNnuV+ZmLXrsI9P5VF8XYiF6Uxq7NE7cWIcpdqpj/dxjNJTpIL0jwB3xv9Ilhe2nYFpqdtL4O8dNEQRv98ANkb8ymzxzDVi4cQ22IY+Tih5JPv+BvnGdZxwAXoG8Twe6Hc/jfOMKz56LL7U04dAsIfuBzuB/xoJEPu3MeR9KcYMc+Nof8wola8RUqYd6Ub/oNCiFkYQsykQub8PIOXd0Tw0YKulGv05YcWAxw6wqlqGObD6HRThl7+wBBS9hQQ0+GxDAQNC6FvaRW7Zj5KxlfgPyiUxO15xN1/Ldtp4B9EyLgUQp6Jo3DeWDKW5hPxaAojDV6ub9TF+ytyu1KYFulOfkaMft9imraG5GctGJuOABuDic/OJ/g9B4EPezE07fXItM+9bcWrshG5IYZEJhCyPZXsjfmEvhpHUNOa2/rzHNnzR/yfimLInW5ObFrK8VEpxD3YIsRWn+I4MGDYkM6DtKfVyyG+sPJJkprU1Z4pKWQfBiIeG9kwmn6Gfau3wKy3eOsXXYtfbjcYmga9gaMJHQnlp89Qx0j6dqHMZdij0xiwKZv8t44Q9WKTIF7vxo2hS88Z+I8MIZRidpWdIub5IR2cwBHy08t4/NXDpIzuelmT9+20uFB+Axj92Eg49AVnLsDIPp2sb1VS1pX7K3L70tR4It0s8GcLWRzTIkg38gsgeIyVQK//A996fuhWPxoZvjX1j2D1+qkMOZbFhKmp5Jec4sxX56k6XMiySU8xY80+Dn1eB9+c4ZSjnKzJYcS+nE9xZRXnvzrDqZItzHg+gxN3h5IQ2U5g63UXA4AvL5y5PA3jkIlpxA2qIn/WdLI/8hzrxO5lzFlSDo+kkBDaGLXqqDsPfztcxonTddR9deXH3VHpRXUh00c9y7LdJzjT8IrrusOF5B+BkLCfekK///0MfxDYm0+h/Tznq09Q1d5r0S1xpE0O4szO2UzfWE7V2TrOV5ezZXYYj7zclVeYA3dHkLQkhDPrZzB/+5X+uc+eonh7GVWN5/VtHXXfwJFD71N1tgvn3pV26qsonDaKZ5cUcuKLhg2+OkLhjiMwOpSf3tPJ+naezfD+/orcvjQyLSJyizAEJ1Lw+8cp3r6Z/O2zyX65Dv/7f8jwUa9QkBuB5/k1f2Je/ZDHJ+zjd28Vszk5i9SvDPS9fzjWyWt565kQgtrLR+ZQ4ka9QcaaeDLvP0zKKAPcOYykHfsZuTOLrCXPsuUrPOUbC/PIfWYYfS9/ERxC3KI4fpewiekfZ+Nu9rIRA0MmriPnxTZGOQfF8NpWA2/kZxC/5hTnvwH/QSOJWFJA4lON4+cDiPr1Yv72mywyJoWRcXcQcb/JI2l0m1eJYbPyKLh/M5tzU3l2Ux3c2ZdhTyWSOz3CyxH5KwZEruWdoEI2bVxK7Joq6vD0L+TnL1z5JZB/KAkLQxi7ZikTfufG3ewI/oQuymPFM0Edlqt02o5fEDEr8zD87g0ypmZy6qwb7g5iZNhiCmZF0dePjte317DX91fk9vUP33333XdtrTh+/DhGf33jlBvLVVenz10HOqw79rbMA7DO38Xyzqbd8/p4Vq/qqlUzfYWrro5Bg66yYLenOVvMnGc3EJT1FklNi3Pr3VTtmc+z6VUkvrnfMy/zLcb9STYTJv+VuN+3mCWlvo7y12OZs3MYqz9MQ4O8Ijev6upqhg8f3uY6jUyL9CCWSXvZU2/A2NbKazCl3XU9Xm8z5nuUFm5X5z8upvybUOJGtBh/9TMwoP89wNf4t3wN+i3iVHk+VSNTGNly5hE/fwYE+sOd/vh7O0W4iNx0VDMt0pP0MmLsofMyW2I2siEp5LYflb5d9TUPJ4hdZOce4UxjiYf7PFUfZTP95X0ETU4m6hadGjHI/DiGI/lsKTrF+cYaj288tcfzX/sbIQviWs+kISI9hso85KaiMg+5HdyWZR5A3V+L2ZybT/mxU54HBO/sy5AfP0lM3HNEBXe1WrlnOX84n8w3iqk44an75u4gRo6OIm5qFCGD9G+eyM2uozIPhWm5qShMy+3gdg3TIiI9VUdhWmUeIiIiIiI+UpgWEREREfGRwrSIiIiIiI8UpkVEREREfKQwLSIiIiLiI4VpEREREREfKUyLiIiIiPhIYVpERERExEcK0yIiIiIiPlKYFhERERHx0T92dwdEWnLV1XV3F0Suu+rq6u7ugoiIXAMK03LTMfr7d3cXRK4rV10dw4cP7+5uiIiIl44fP97uOpV5iIiIiIj4SGFaRERERMRHCtMiIiIiIj5SmBYRERER8ZHCtIiIiIiIjxSmRURERER8pDAtIiIiIuIjhWkRERERER8pTIuIiIiI+EhhWkRERETERwrTIiIiIiI+UpgWEREREfGRwrSIiIiIiI8UpkV6kksuXC53d/dCpLn6b/n6wtd8/W13d0Saabwv33R3R0Rubf/Y3R0QEe/ZdzzNvOpkdqVF0KfpipM5PJFk8+oY0VmlTB/awQaf2khY7yT2N8mEBHTSn8KZrD8zkbSkkOb9aYPb5cKNAaPR4FU/pQc5lslD4zfzL68eZkt0v+7ujQDffpxJ9JRs7N8ADCR5/wckWrq7VyK3Jo1Mi3SzCwdSeSIsrO2f1GIueH0kK8kFpbxb2s5PQTJWbw5Tfx7HZ+dx1TdfbC+cSUJWefP+XHTg+LLOi4PWUpb+NM+kv9+F8xGPcxQ+P5jBg9v5eb6Qc003/9pOUVYSk6LG8NDgwVhGjyUhowj71y0O+7WdoowExj7xEIMHWxg1dhJJWUXYr8kN+pZj68dieXAs2cdu0HB1TREJ/zyYh2YXNb8eV+Hc/gQeGvwQCfuv1RGvztcf55OZlc+xlveyFTubX8zG/r0XsH3yOZ/bD/DC/Teih21rr9832/UV8ZVGpkVuCtG8XjqDpgNH9k1hzCvMZHxYZvNNvUrE14HXwbkN9TU4PwFw8vd66ON3LTt2u4hjy8fJjGi52O8O7mr4n99+ks3E2EyO3fETkl/JYMnI74OjhC2vpjB250E2lGUxph/wzTHSo6PZzBgWzt7JhhB/6o5+QOHGVxi79W2yircQ+f0be3bSuW+rPyB7PXx/QhwP3dXBhjUnOfofwLRwHroT4A7uuDFdbJPX/RbpoRSmRW5m1uYlHfZNYcyrvhENV5AZG0Zmq+W+hfuaAzuxYcSIjYIDP2f5k4HXqJ+3kzvo3ecu2s0iFw6QEpvJsfuT2f9GIpY7G5YHxpH+k3CmVt+BuaEC4/TeNDZ/PpDkfRt44cGG7R6PY8m//JxJ1d9ivuogfQcPzdqPfdbVHqcLAiPZ8HHkNT1kv7EbODb2mh5SmtD1lVuFyjxEpA2tS0Zej8ET7lsu60i9C8f+pSRkVWJN3MiGRCuVWVNZtM/RqoxEro59ZzpF3wwk+ZUmQbqRXz/Mg6/E8C9PHwO+T7+Whe5+d2Ee3EnNc/05/rQ+gTH/PNhTHjJ+CYUnWtcdnLNNZfDgwaR/3GTZ4c0kjR+FZfBgBg9+iDF7q1TrAAAMrUlEQVQz0yn8uMWv+BvKTzzHH8xDTySQXd64TUPJy+IP+Prfi1jScKype88Bx0hvUfbi6cMSPvj6NB9kTGXUg4MZ/OAoohcf4HQ9UPMnNs+P5qHBgxn8z9Ek7bTTrCjl43QGDx7MVNuVPl455jn+tCmJ6NGWy9fhwH+0uAg1xyjMSGDsaIunJOefo1lic7TRxljyP/sa+/50Ep546PJ5b/6kcUvPuY361QfABywc3VDik3Gs7es+eiEfAGyKbrJd6+vT9NjNlnvVp6a3rIj0mZ6yIs99zeZPNV70u43r6zmJY+Qvjvbcr1afgeb9HvuGo3n7/zyGhE0t7qPIdaYwLXIzq8hkfJMa6nmFHW5MZmw7tddhYTwRm0nFjep3vZuak0WsT4ojYVMN4Wn5LB8TSOCYNPLTIqndOpNfJKZjO+xUqL4m7BzcfRoenMqYBzvf2hISxx38iQ2rizyh0lv1pymc+SiTsj5nRJKNDz4+wNZJd1GY1eEH0+OzzUyamM7XY7Zy+LPP+dxeRMaI/0PRiSYh6T+KSAgdS5LtayJfPcDhQwfIivyazcs2c6zpjBQfpjPuX7P5NnIjB8r2s/BfOvoCUEhSaCSv1Y1ha+kH7Hj++9h3JpD08kKi/3UFnz+UStGh/aQ/XkfR4mjSy72JYR+QHv0oSxwjSC04zAfbX+D79nwSnt+Mo3GTc0UkjJ5Ifs0Ipv32AMcOHSBrbB35v4ok5Q8tv3zY2TFrHNE77iBm47sc3pdOOAdIj13Cga8BHiL542NseQ7gJyzZf4xjHx/j2JyHWvWs39gsju1fwk8AntvS7nad66xPHqf3JvDo2CQKv4kk693DHH43i8hvNrMk7xjfdqHfl/1HIVNDo1ly+J9I3PaB57pF/B+yJz/K2KxjrUKyfUci48a/wR3R2bx7aD/pj8OBjGiWvNtpYbnINaMyD5GbmbdlHkNn8G7pjGaLPNu2MfPH/9/eHcdEfd5xHH83NN5iEIMZS7dwdgm3NDu13VlGoDXjp2t7auJZlys2BdIJ2M5iGmGu5bQxdKk7rBbdqjTVQ2MBU+klrZCo1057LN1o1HmlFRrbI2k9kpldIvEkZmdK2B+cAnrCccWC+nklxMD97vEbnify5fH7fJ/v48TYZR5XvjzACy/u49xMK4sKXHj+ksPs1KHX03Oep+7AEk4cbuLAtlJ2X0zFuf0gz81Vl4+kRUIEe4AnLFgSeNy0wIV3/Rmc2yowPnkHx/NrKXcaWMZYKJHDblzHohibPbifNg9+cVkl3owoWYWeUd8b/rydIAalS62kpQApZmyrt9M4NDq+bVX4eg3cbfUUxEpNjLWNBK4vF+kJkrnZPxTDqKJk/d5L01rrYN3wixsp3uvE4/2ayg+8lM8brCY2V5Ti87poaDtN9YK8McYMMcPROjTm/ZVsLPTg3OPndE/ZYJlMhoPtX9gxTR+qVna8UkOn14nnAz8bljoY/itA1FqO7w0H5hSAAiqf89H8cjOnu9zYc8GUnsZME4AJ06w00m42V6Y00mbFaqRNM0lLT75IeayY6PVRu8lHJN+Nf09B7DmD8v0Byq8OkmjcAERo2eLCj4F7r3toDVQ0UX/ZTtHOKjx238iuJFEr5Ue2X6vxL4jNY/PJTtxPjDWPIhNDybTIlOBl3eNxWttN1mHDm9VMJ5DcT/vlM9S972TaaC3wUmeTU+Aip8DFlb4roz8rMR6cWdclrPluPt1bQMbli0QAUn6U4FgmrGu8BJa107DjDXbVlNJSY8L6tIs/ryvGFnejN0L7MR9QTPGK65LYBH6SZFjnY6GW+rf95FUZmK8/ERdp52hrFAqLWT5mzXacGEbxcK516ABeSiZZvwbaHuaRecOCuO8XWAB/d4gweYzV4G/EmECmJQ/w030eiMU/PJEG4LsZZD4IHOukh5HJdNaCvFgyOijj5xbAT7AnDGNGc2uMFVOk/Sgtl6H42eUjnktapJ2PDxNnDZjIe7oU695q3mvrotw6LJvOyiNv+LPjnEeRiaBkWmSSpds386E9wYdnWrD8eMbQ5+EjvDJq+UacnWRgsCZ6M4vj/aSJs8s9XuNJjpVIJypON4+rnTymzxz8s/9/4xrRlJlH2TYvZRuD+JuqqdhejbPFj/vI0M7wkG46jwH5VuYk0xrCWo5nRw8vbCjFeCcN24py/riumLzM2GDdnfgA48E5CXSeMMV2O6e+8KlmGt5twedv57+zrJj+M9kRTZzusz7AwPrABE3GaGsgay6PAJ5AkDBWJckypSiZFplK+s5x4uNDHD36GZ99dY4+AKYxK2s2VusSFq/YSp15WM1ExhJe+2jJrYml/wp9fVeYlprKtER3ncZM7m/Gwtq9b+FIfLPxLjRKN48082BpwckgQfISKvUYId2CsbaRT7Pd2As9VDcGKKi6sa41+j1v0jMvc9O6tJLA+w28s7+WovxabOu9NK2xYuqP3lmHxvpDtKxzUHE2D9cmNy1bzJhSwjSX5OJqm+zgJkj0jpoxkaQpmRaZKsLHeaXUTZd1FVVVW6n62azBJLb/Cn0XztPle5Oakn38akM9mxaOvJqw17eRldsSS2Fz1h/kNfsYVxsCfLmP31Wcu/kOdjyjJPe3pIZbYqwsfMpM7fZ6fF8UY0ngEGI8ptzF2PHg+eprwtiu2/37MVm5wMluevohI9n/1k/JwOasxLaijIIaB0XbNtG81Evx/XMwAP/nnUSdxqT2RZ4IkcNuKg7Px91WF2eX/86Q+YAB+Ok6G4X7JmDGsuZgB1rOBrmhtKX7DP8CzDaLdqVlylE3D5EpIvj3fZxIW8Xrm58hxzxraDc4ZRqpGbPJKdrK68+m8kn90aGOATHp9s03v/nw2sdfcU5wzNbVH/GhkuMpweqsxJgeona7h+D1O8j9YdqbmmNXS0cJ7KzAE+8ave4z/Bswz58bJ2ExM3eBGS77OHpy5I5k5EICnRP6o0SHdw5JSSPvt3YgwGAJrsHypUBTA4eubzF3G+6Adnf6AAvmnw77Yn+YyIXkxzTNNANR+C6Zd8d+GeoOEx42D9FTRwfb6CUhw1iOHWjYf+iGrjDDpyzhuNPyWLgUeNdD84g1ECXwXiNdWHgqX3eiy9SjZFpE5E5wn4O6feVYT7pxrKzA09pFqDdM8JMGXE/mU1TTzMdnI3A5xJmzftzOXJat89ByKki4N0RX6y6KVlYTSLdT6YyfsFifraZ4egjP6kJqjwUJnw/i31lE/pqxWuNF8b9qw/ZMLf7uWOIdDdK8twEyy1g8DyANx8tujOl+XCUuGk6FiPSGCDS5WJbt+OGuJZ8gWXPsQAOe3QFCvRFCpxpwPVlIbff3GHOegYl26uv9hHpDdAVC4yiNMTPfsEDPLjb9rZ1Q7HvrWOW/dmBy3NIduLYYmNpclG1oIPBthMi3ARo2LsO2bBdXpyzxuGNrgGFr4HwQ//ZCCvcEsayuoUy5tExBSqZFpgjLY6vIiezjpY0HOBG6wJWrOz39V+gLn+NE4594aX8fC0oXj78mVu4KpuxKWv/RSs2jUQ7tLsGenU/RlmYuPlpD6z+9lNvSYLqF4jcDfHqwmoX3+tn1Bzu52XZKdreT8Xw9vuN1OG52QeV0g+rjjVQuuETDc3ZyHy9i5zcGdR+4MUaPDGN9C3WPhfCsyY9dYFJEQ0o5jQdd2K5WCGQWUP9RI64Hv2bXKgNbtkHJ/oss3uGhzHZ7FX6kLX2Vxoo8OuucGNm5PLX1NFkvf0jTC8kfDDDllVNfYXDRW4qRbadkh5/QON5vKfFQV2ilZ28RRraDzYEsqo+/R2UybahjzM562va7sH6zi8JFNmyLSmi8sJi6PWXX5nVccWcWUH/cS3VubA08aqfiyE8o3+2npcp225f/yJ3pnoGBgYF4L3R0dJA6Y0a8l0Rumb5Ll+7uddd3jhOHm/C2BQnGPYC4iJzhBxDHpQtv+ZucW7mZyt8kUDN95m2eqIjTru8Go3QGGf63q2b6mr5Ll3jooYcmOwwREUlQR0fHTf/d1gFEkankWv/lWzG4FeeutxJ/fAJa5I1wfVs/ERGRO4CSaRH5QVgL3qJusoMQERGZYKqZFhERERFJkpJpEREREZEkKZkWEREREUmSkmkRERERkSQpmRYRERERSZKSaRERERGRJCmZFhERERFJkpJpEREREZEkKZkWEREREUmSkmkRERERkSQpmRYRERERSZKSaRERERGRJN072ot9ly79UHGIXKN1J3eDjo6OyQ5BREQmwD0DAwMDkx2EiIiIiMjtSGUeIiIiIiJJUjItIiIiIpIkJdMiIiIiIklSMi0iIiIikiQl0yIiIiIiSfo/YSkbvNw48p0AAAAASUVORK5CYII=)\n",
        "\n",
        "- 결측 패턴과 변수의 특성에 따라 회귀분석을 이용한 추정(Regression), 성향 점수법(Propensity score), 로지스틱 회귀분석을 이용한 추정 등을 사용\n",
        "\n",
        "- 분포에 대한 가정 여부에 따라 정규분포를 가정하는 경우(MCMC)와 그렇지 않은 경우(FCS)로 구분\n",
        "\n",
        "- 결측의 패턴이 단조적이고 연속형 변수의 경우, 다변량 정규분포를 가정하는 모수 방법(parameter)과 성향점수법과 같은 비모수적인 방법(non-parametric)을 모두 사용할 수 있음\n",
        "\n",
        "  - 단조(Montonic) 패턴: 함수의 진행방향이 항상 일정한 함수 - 단조증가함수 또는 단조감소함수 등\n",
        "\n",
        "- 단조 패턴의 서열형 변수의 경우 로지스틱 회귀분석법을 명목형 변수에는 판별 함수법 사용\n",
        "\n",
        "- 일반적인 결측 패턴의 경우, 다변량 정규분포를 가정하는 MCMC 방법이나, 모든 변수의 결합 분포가 존재한다고 가정하는 FCS 방법을 활용할 수 있다.\n",
        "\n",
        "- 연속형 변수에 대한 대체는 분포에 대한 가정과 상관없이 MCMC, FCS를 모두 사용할 수 있다.\n",
        "\n",
        "- 일반적으로 MCMC가 다변량 정규분포 가정을 하고 있으나, 결측 된 정보가 크지 않은 경우, 다중 대체에 의한 추정이 강건한(robust) 결과를 보인다고 알려져 있다. 하지만 연속형 변수와 더불어 서열형이나 명목형 변수에 대한 대체를 하기 위해서는 MCMC보다 FCS가 권장된다."
      ],
      "metadata": {
        "id": "wxYtRM1NIzQj"
      }
    },
    {
      "cell_type": "markdown",
      "source": [],
      "metadata": {
        "id": "_YRmc32eKbjQ"
      }
    },
    {
      "cell_type": "code",
      "source": [
        "# from sklearn.experimental import enable_iterative_imputer\n",
        "# from sklearn.impute import IterativeImputer"
      ],
      "metadata": {
        "id": "4-TFrFkyZUm8"
      },
      "execution_count": 37,
      "outputs": []
    },
    {
      "cell_type": "code",
      "source": [
        "# imputer = IterativeImputer(max_iter = 10, random_state = 0)\n",
        "# pd.DataFrame(imputer.fit_transform(penguins_dum))"
      ],
      "metadata": {
        "id": "bKDttzKBW1Pw"
      },
      "execution_count": 38,
      "outputs": []
    },
    {
      "cell_type": "markdown",
      "source": [
        "# 3  Logistic regression"
      ],
      "metadata": {
        "id": "8cMSBnYcA8pn"
      }
    },
    {
      "cell_type": "code",
      "source": [
        "import statsmodels.api as sm"
      ],
      "metadata": {
        "id": "x_dQn7THPIuy"
      },
      "execution_count": 48,
      "outputs": []
    },
    {
      "cell_type": "code",
      "source": [
        "# imputed data로 x_data, y_data 분리\n",
        "x_data = penguins_dum.drop(['Male'], axis=1)\n",
        "y_data = penguins_dum['Male']"
      ],
      "metadata": {
        "id": "J1Eo_UulA-QC"
      },
      "execution_count": 62,
      "outputs": []
    },
    {
      "cell_type": "code",
      "source": [
        "# 데이터 전처리\n",
        "x_train, x_test, y_train, y_test = train_test_split(x_data, y_data, test_size=0.3, random_state=777, stratify=y_data)"
      ],
      "metadata": {
        "id": "XsMMMKXML2_6"
      },
      "execution_count": 66,
      "outputs": []
    },
    {
      "cell_type": "code",
      "source": [
        "logit_model=sm.MNLogit(y_train, sm.add_constant(x_train, prepend = False))"
      ],
      "metadata": {
        "colab": {
          "base_uri": "https://localhost:8080/"
        },
        "id": "apf9FHa8QRwJ",
        "outputId": "f83c6ef8-2675-4151-e8a9-6287889ed05a"
      },
      "execution_count": 67,
      "outputs": [
        {
          "output_type": "stream",
          "name": "stderr",
          "text": [
            "/usr/local/lib/python3.7/dist-packages/statsmodels/tsa/tsatools.py:142: FutureWarning: In a future version of pandas all arguments of concat except for the argument 'objs' will be keyword-only\n",
            "  x = pd.concat(x[::order], 1)\n"
          ]
        }
      ]
    },
    {
      "cell_type": "code",
      "source": [
        "logit_res = logit_model.fit_regularized(alpha=0)"
      ],
      "metadata": {
        "colab": {
          "base_uri": "https://localhost:8080/"
        },
        "id": "XKnWmEwhQR0q",
        "outputId": "e8d0c64e-1218-40c3-9077-33f04ee9123a"
      },
      "execution_count": 68,
      "outputs": [
        {
          "output_type": "stream",
          "name": "stdout",
          "text": [
            "Optimization terminated successfully    (Exit mode 0)\n",
            "            Current function value: 0.26559999110413557\n",
            "            Iterations: 61\n",
            "            Function evaluations: 71\n",
            "            Gradient evaluations: 61\n"
          ]
        },
        {
          "output_type": "stream",
          "name": "stderr",
          "text": [
            "/usr/local/lib/python3.7/dist-packages/statsmodels/discrete/discrete_model.py:2290: RuntimeWarning: overflow encountered in exp\n",
            "  eXB = np.column_stack((np.ones(len(X)), np.exp(X)))\n",
            "/usr/local/lib/python3.7/dist-packages/statsmodels/discrete/discrete_model.py:2291: RuntimeWarning: invalid value encountered in true_divide\n",
            "  return eXB/eXB.sum(1)[:,None]\n",
            "/usr/local/lib/python3.7/dist-packages/statsmodels/discrete/discrete_model.py:2322: RuntimeWarning: divide by zero encountered in log\n",
            "  logprob = np.log(self.cdf(np.dot(self.exog,params)))\n",
            "/usr/local/lib/python3.7/dist-packages/statsmodels/discrete/discrete_model.py:2323: RuntimeWarning: invalid value encountered in multiply\n",
            "  return np.sum(d * logprob)\n"
          ]
        }
      ]
    },
    {
      "cell_type": "code",
      "source": [
        "log_reg = LogisticRegression(solver='newton-cg', multi_class='multinomial')\n",
        "log_reg.fit(x_train, y_train)\n",
        "y_pred = log_reg.predict(x_test)"
      ],
      "metadata": {
        "colab": {
          "base_uri": "https://localhost:8080/"
        },
        "id": "H2QWEc4HS-Y-",
        "outputId": "443a71a3-7d7e-40e1-9a80-cae67d99b4b5"
      },
      "execution_count": 69,
      "outputs": [
        {
          "output_type": "stream",
          "name": "stderr",
          "text": [
            "/usr/local/lib/python3.7/dist-packages/scipy/optimize/linesearch.py:478: LineSearchWarning: The line search algorithm did not converge\n",
            "  warn('The line search algorithm did not converge', LineSearchWarning)\n",
            "/usr/local/lib/python3.7/dist-packages/scipy/optimize/linesearch.py:327: LineSearchWarning: The line search algorithm did not converge\n",
            "  warn('The line search algorithm did not converge', LineSearchWarning)\n"
          ]
        }
      ]
    },
    {
      "cell_type": "code",
      "source": [
        "confusion_matrix = confusion_matrix(y_test, y_pred)\n",
        "print(confusion_matrix)"
      ],
      "metadata": {
        "colab": {
          "base_uri": "https://localhost:8080/"
        },
        "id": "CicEZSj2RRQl",
        "outputId": "09799890-a811-4d97-bb6b-3d7263a7832e"
      },
      "execution_count": 70,
      "outputs": [
        {
          "output_type": "stream",
          "name": "stdout",
          "text": [
            "[[49  2]\n",
            " [ 8 44]]\n"
          ]
        }
      ]
    }
  ]
}